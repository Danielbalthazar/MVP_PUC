{
 "cells": [
  {
   "cell_type": "markdown",
   "metadata": {
    "application/vnd.databricks.v1+cell": {
     "cellMetadata": {},
     "inputWidgets": {},
     "nuid": "acd540a2-067a-47d6-9e93-7d803a3fe31d",
     "showTitle": false,
     "title": ""
    }
   },
   "source": [
    "# MVP Sprint 1: Engenharia de Dados\n",
    "\n",
    "# Nome: Daniel Balthazar"
   ]
  },
  {
   "cell_type": "markdown",
   "metadata": {
    "application/vnd.databricks.v1+cell": {
     "cellMetadata": {},
     "inputWidgets": {},
     "nuid": "4c39347c-b6ea-4d64-a4a9-e66202676067",
     "showTitle": false,
     "title": ""
    }
   },
   "source": [
    "## Neste notebook, disponibilizo todos os scripts utilizados, bem como as tabelas geradas. No README, incluo todas as evidências dos processos realizados, com capturas de tela e explicações."
   ]
  },
  {
   "cell_type": "markdown",
   "metadata": {
    "application/vnd.databricks.v1+cell": {
     "cellMetadata": {},
     "inputWidgets": {},
     "nuid": "fa4fcaef-31bb-4e1e-a88e-965e8316dd50",
     "showTitle": false,
     "title": ""
    }
   },
   "source": [
    "## Objetivo\n"
   ]
  },
  {
   "cell_type": "markdown",
   "metadata": {
    "application/vnd.databricks.v1+cell": {
     "cellMetadata": {},
     "inputWidgets": {},
     "nuid": "6c67635b-6f47-4835-83da-3d54e423241d",
     "showTitle": false,
     "title": ""
    }
   },
   "source": [
    "### Objetivo\n",
    "\n",
    "#### O objetivo deste trabalho é responder às seguintes perguntas de negócio com clareza e precisão, proporcionando insights valiosos para a tomada de decisões no setor de hortifrutigranjeiros:\n",
    "\n",
    "1. **Qual o preço médio dos últimos 6 meses dos produtos hortifruti nos principais estados do Brasil?**\n",
    "\n",
    "   **Objetivo Detalhado:** Identificar e analisar as médias de preços dos produtos hortifrutigranjeiros nos principais estados brasileiros ao longo dos últimos seis meses. Essa análise permitirá entender tendências regionais, avaliar a estabilidade dos preços e identificar possíveis flutuações significativas que possam afetar o mercado.\n",
    "\n",
    "2. **Qual o valor médio dos produtos hortifruti mês a mês no ano de 2024?**\n",
    "\n",
    "   **Objetivo Detalhado:** Monitorar e calcular o valor médio mensal dos produtos hortifrutigranjeiros ao longo do ano de 2024. Esta análise ajudará a detectar sazonalidades, identificar meses com variações anômalas e proporcionar uma visão geral do comportamento dos preços ao longo do ano.\n",
    "\n",
    "3. **Qual o estado com os maiores custos de produtos unitários de hortifruti do Brasil?**\n",
    "\n",
    "   **Objetivo Detalhado:** Determinar qual estado brasileiro apresenta os maiores custos unitários para produtos hortifrutigranjeiros. Esta informação ajuda a identificar estados com altos custos de produtos .\n",
    "\n",
    "4. **Qual a variação mês a mês dos produtos de hortifruti no ano de 2024?**\n",
    "\n",
    "   **Objetivo Detalhado:** Avaliar a variação mensal dos preços dos produtos hortifrutigranjeiros ao longo de 2024. Esta análise permitirá identificar meses de maior volatilidade.\n",
    "\n",
    "5. **Qual Ceasa com o maior preço médio dos últimos 6 meses da maçã no Brasil?**\n",
    "\n",
    "   **Objetivo Detalhado:** Identificar o Ceasa que apresentou o maior preço médio para a maçã nos últimos seis meses no Brasil. Essa análise ajudará a destacar mercados específicos onde a maçã é mais cara, possibilitando investigações mais detalhadas sobre as razões dessas diferenças de preços.\n",
    "\n",
    "6. **Qual o item com maior variação em junho de 2024?**\n",
    "\n",
    "   **Objetivo Detalhado:** Determinar qual produto hortifrutigranjeiro apresentou a maior variação de preço em junho de 2024. Este objetivo visa identificar eventos ou fatores específicos que tenham causado grandes variações em um curto período, permitindo uma análise de causa e efeito mais aprofundada.\n",
    "\n",
    "7. **Qual a correlação do dólar nos custos dos produtos de hortifruti?**\n",
    "\n",
    "   **Objetivo Detalhado:** Analisar a correlação entre a variação do dólar e os custos dos produtos hortifrutigranjeiros. Esta análise fornecerá insights sobre a influência da moeda estrangeira nos preços domésticos, ajudando a prever como flutuações cambiais podem impactar o setor.\n",
    "\n",
    "8. **Qual insumo foi mais impactado com as movimentações do dólar?**\n",
    "\n",
    "   **Objetivo Detalhado:** Identificar qual insumo utilizado na produção de produtos hortifrutigranjeiros foi mais afetado pelas flutuações do dólar. Essa análise é importante para entender a sensibilidade dos diferentes insumos às variações cambiais, permitindo estratégias de mitigação de risco mais eficazes."
   ]
  },
  {
   "cell_type": "markdown",
   "metadata": {
    "application/vnd.databricks.v1+cell": {
     "cellMetadata": {},
     "inputWidgets": {},
     "nuid": "98fc6725-e943-42d6-8b11-3dd74be0a475",
     "showTitle": false,
     "title": ""
    }
   },
   "source": [
    "## Coleta dos Dados"
   ]
  },
  {
   "cell_type": "markdown",
   "metadata": {
    "application/vnd.databricks.v1+cell": {
     "cellMetadata": {},
     "inputWidgets": {},
     "nuid": "ef43b3df-cc70-4073-a19b-32532c692b9a",
     "showTitle": false,
     "title": ""
    }
   },
   "source": [
    "Fiz algumas pesquisas para encontrar o melhor lugar para extrarir os dados que precisava.  \n",
    "1- ***Agro Link*** - Busquei no site Agro Link, me pareceu bem completo mas não dava a opção de exportar a base com as informações que consultava no site.  \n",
    "2- ***HF brasil*** - Verifiquei o Site do HF brasil (Hortifruti Brasil), eu tinha a opção de extração da Base, mas não tinham muitos tipos diferentes de Produtos e a extração era muito manual(Só conseguia extrair um Produto de cada vez).  \n",
    "3- ***CEPEA*** - Achei o Site CEPEA, onde encontrei uma área voltada para consulta ao banco de dados do site, mas não tinham muitas informações por estado e extração bem manual(Só conseguia extrair um indicador de cada produto e Região por extração)  \n",
    "4- ***CONAB*** - Na ultima pesquisa encontrei o site do CONAB(Companhia nacional de abastecimento), onde eles tem um projeto chamado PROHORT(Programa Brasileiro de Modernização do Mercado Hortigranjeiro) e entre suas principais ferramentas, eles possuem sistemas de informações, que trazem dados da comercialização de produtos hortigranjeiros nas principais Centrais de Abastecimento (Ceasas) do país. Eles possuem O B.I.(Plataforma saiku) do Mercado Atacadista de Hortigranjeiros é uma ferramenta de consulta às informações da média simples* das cotações diárias realizadas pelos mercados atacadistas, dentro do período selecionado pelo usuário. São disponibilizados os preços diários para 48 produtos, cujos lançamentos são efetuados pelas Centrais de Abastecimento. A coleta ocorre, geralmente, nos dias mais fortes de comercialização, enquanto os entrepostos de maior porte, atualizam as cotações diariamente.\n",
    "(* somatório dos preços lançados dividido pelo número de dias no período considerado)"
   ]
  },
  {
   "cell_type": "markdown",
   "metadata": {
    "application/vnd.databricks.v1+cell": {
     "cellMetadata": {},
     "inputWidgets": {},
     "nuid": "a1999796-24df-4187-84f8-1c4f70e90ca6",
     "showTitle": false,
     "title": ""
    }
   },
   "source": [
    "### Fontes Consultadas  \n",
    "  \n",
    " \n",
    "#####FONTE ESCOLHIDA - CONAB = https://www.conab.gov.br/info-agro/hortigranjeiros-prohort  \n",
    "##### Notícia sobre a CONAB no GOV = https://www.gov.br/agricultura/pt-br/assuntos/noticias/conab-lanca-aplicativo-com-precos-diarios-de-frutas-e-verduras-nas-ceasas-do-pais  \n",
    "\n",
    "Agro Link = https://www.agrolink.com.br/   \n",
    "HF BRASIL = https://www.hfbrasil.org.br/br/banco-de-dados-precos-medios-dos-hortifruticolas.aspx?produto=1&regiao%5B%5D=89&regiao%5B%5D=3&regiao%5B%5D=4&regiao%5B%5D=7&regiao%5B%5D=59&regiao%5B%5D=13&regiao%5B%5D=17&regiao%5B%5D=18&regiao%5B%5D=30&regiao%5B%5D=35&regiao%5B%5D=40&regiao%5B%5D=41&regiao%5B%5D=44&regiao%5B%5D=47&regiao%5B%5D=54&todos_regiao=1&periodicidade=diario&ano_inicial=2024&ano_final=2024#  \n",
    "CEPEA = https://www.cepea.esalq.usp.br/br/indicador/acucar.aspx  \n",
    "\n",
    "Base Dolar = https://br.investing.com/currencies/usd-brl-historical-data"
   ]
  },
  {
   "cell_type": "markdown",
   "metadata": {
    "application/vnd.databricks.v1+cell": {
     "cellMetadata": {},
     "inputWidgets": {},
     "nuid": "c46a8b6b-394f-4e37-8673-cf4855ecab0b",
     "showTitle": false,
     "title": ""
    }
   },
   "source": [
    "### Buscando os dados nas fontes:\n",
    "\n",
    "#### Todos o passo a passo deixo no README"
   ]
  },
  {
   "cell_type": "markdown",
   "metadata": {
    "application/vnd.databricks.v1+cell": {
     "cellMetadata": {},
     "inputWidgets": {},
     "nuid": "245f319f-a664-4b72-8834-79745ddba2d1",
     "showTitle": false,
     "title": ""
    }
   },
   "source": [
    "## Armazenamento na nuvem dos dados coletados"
   ]
  },
  {
   "cell_type": "markdown",
   "metadata": {
    "application/vnd.databricks.v1+cell": {
     "cellMetadata": {},
     "inputWidgets": {},
     "nuid": "76e365bb-b06d-4805-a5eb-c1b786bac438",
     "showTitle": false,
     "title": ""
    }
   },
   "source": [
    "### Dados armazenados na Azure, deixo prints com as evidências no README"
   ]
  },
  {
   "cell_type": "markdown",
   "metadata": {
    "application/vnd.databricks.v1+cell": {
     "cellMetadata": {},
     "inputWidgets": {},
     "nuid": "67d078f8-7cf1-486f-a881-16ee5cd001ae",
     "showTitle": false,
     "title": ""
    }
   },
   "source": [
    "## Modelagem\n"
   ]
  },
  {
   "cell_type": "markdown",
   "metadata": {
    "application/vnd.databricks.v1+cell": {
     "cellMetadata": {},
     "inputWidgets": {},
     "nuid": "a3349e5d-2f56-4492-8368-467ce25d6eb5",
     "showTitle": false,
     "title": ""
    }
   },
   "source": [
    "**Para a Modelagem utilizei o Databricks e para utilizar todos os recursos peguei a versão free de 14 dias. Assim criei um Workspace dentro da própria Azure como mostro abaixo:**\n",
    "\n",
    "**Criei um workspace databricks na azure**\n",
    "* Azure Databricks Service\n",
    "* Adicionei ao grupo de recurso\n",
    "* Criei um nome \n",
    "* Selecionionei a versão grátis\n",
    "\n",
    "Prints com as evidência deixei no README"
   ]
  },
  {
   "cell_type": "markdown",
   "metadata": {
    "application/vnd.databricks.v1+cell": {
     "cellMetadata": {},
     "inputWidgets": {},
     "nuid": "0ef65060-29d9-4403-af98-495f487475a2",
     "showTitle": false,
     "title": ""
    }
   },
   "source": [
    "### Para essa Modelagem utilizo a Arquitetura Medalhão separando em 3 Camadas de tratamento (Bronze, Silver e Gold)"
   ]
  },
  {
   "cell_type": "markdown",
   "metadata": {
    "application/vnd.databricks.v1+cell": {
     "cellMetadata": {},
     "inputWidgets": {},
     "nuid": "e19b8488-6896-48b2-a760-970cc7b78d8b",
     "showTitle": false,
     "title": ""
    }
   },
   "source": [
    "### CAMADA BRONZE"
   ]
  },
  {
   "cell_type": "markdown",
   "metadata": {
    "application/vnd.databricks.v1+cell": {
     "cellMetadata": {},
     "inputWidgets": {},
     "nuid": "399b0e4c-4ede-4d05-a5d0-79fb63061008",
     "showTitle": false,
     "title": ""
    }
   },
   "source": [
    "#### Criação da Camada Bronze \n"
   ]
  },
  {
   "cell_type": "code",
   "execution_count": 0,
   "metadata": {
    "application/vnd.databricks.v1+cell": {
     "cellMetadata": {
      "byteLimit": 2048000,
      "rowLimit": 10000
     },
     "inputWidgets": {},
     "nuid": "0a7c8bc4-2acf-4983-80db-13d743665c94",
     "showTitle": false,
     "title": ""
    }
   },
   "outputs": [
    {
     "output_type": "display_data",
     "data": {
      "text/plain": [
       "com.databricks.backend.common.rpc.CommandCancelledException\n",
       "\tat com.databricks.spark.chauffeur.ExecContextState.cancel(ExecContextState.scala:436)\n",
       "\tat com.databricks.spark.chauffeur.ChauffeurState.cancelExecution(ChauffeurState.scala:1266)\n",
       "\tat com.databricks.spark.chauffeur.ChauffeurState.$anonfun$process$1(ChauffeurState.scala:983)\n",
       "\tat com.databricks.logging.UsageLogging.$anonfun$recordOperation$1(UsageLogging.scala:573)\n",
       "\tat com.databricks.logging.UsageLogging.executeThunkAndCaptureResultTags$1(UsageLogging.scala:669)\n",
       "\tat com.databricks.logging.UsageLogging.$anonfun$recordOperationWithResultTags$4(UsageLogging.scala:687)\n",
       "\tat com.databricks.logging.UsageLogging.$anonfun$withAttributionContext$1(UsageLogging.scala:426)\n",
       "\tat scala.util.DynamicVariable.withValue(DynamicVariable.scala:62)\n",
       "\tat com.databricks.logging.AttributionContext$.withValue(AttributionContext.scala:216)\n",
       "\tat com.databricks.logging.UsageLogging.withAttributionContext(UsageLogging.scala:424)\n",
       "\tat com.databricks.logging.UsageLogging.withAttributionContext$(UsageLogging.scala:418)\n",
       "\tat com.databricks.spark.chauffeur.ChauffeurState.withAttributionContext(ChauffeurState.scala:68)\n",
       "\tat com.databricks.logging.UsageLogging.withAttributionTags(UsageLogging.scala:472)\n",
       "\tat com.databricks.logging.UsageLogging.withAttributionTags$(UsageLogging.scala:455)\n",
       "\tat com.databricks.spark.chauffeur.ChauffeurState.withAttributionTags(ChauffeurState.scala:68)\n",
       "\tat com.databricks.logging.UsageLogging.recordOperationWithResultTags(UsageLogging.scala:664)\n",
       "\tat com.databricks.logging.UsageLogging.recordOperationWithResultTags$(UsageLogging.scala:582)\n",
       "\tat com.databricks.spark.chauffeur.ChauffeurState.recordOperationWithResultTags(ChauffeurState.scala:68)\n",
       "\tat com.databricks.logging.UsageLogging.recordOperation(UsageLogging.scala:573)\n",
       "\tat com.databricks.logging.UsageLogging.recordOperation$(UsageLogging.scala:542)\n",
       "\tat com.databricks.spark.chauffeur.ChauffeurState.recordOperation(ChauffeurState.scala:68)\n",
       "\tat com.databricks.spark.chauffeur.ChauffeurState.process(ChauffeurState.scala:944)\n",
       "\tat com.databricks.spark.chauffeur.Chauffeur$$anon$1$$anonfun$receive$1.handleDriverRequest$1(Chauffeur.scala:682)\n",
       "\tat com.databricks.spark.chauffeur.Chauffeur$$anon$1$$anonfun$receive$1.$anonfun$applyOrElse$5(Chauffeur.scala:708)\n",
       "\tat com.databricks.logging.UsageLogging.executeThunkAndCaptureResultTags$1(UsageLogging.scala:669)\n",
       "\tat com.databricks.logging.UsageLogging.$anonfun$recordOperationWithResultTags$4(UsageLogging.scala:687)\n",
       "\tat com.databricks.logging.UsageLogging.$anonfun$withAttributionContext$1(UsageLogging.scala:426)\n",
       "\tat scala.util.DynamicVariable.withValue(DynamicVariable.scala:62)\n",
       "\tat com.databricks.logging.AttributionContext$.withValue(AttributionContext.scala:216)\n",
       "\tat com.databricks.logging.UsageLogging.withAttributionContext(UsageLogging.scala:424)\n",
       "\tat com.databricks.logging.UsageLogging.withAttributionContext$(UsageLogging.scala:418)\n",
       "\tat com.databricks.rpc.ServerBackend.withAttributionContext(ServerBackend.scala:22)\n",
       "\tat com.databricks.logging.UsageLogging.withAttributionTags(UsageLogging.scala:472)\n",
       "\tat com.databricks.logging.UsageLogging.withAttributionTags$(UsageLogging.scala:455)\n",
       "\tat com.databricks.rpc.ServerBackend.withAttributionTags(ServerBackend.scala:22)\n",
       "\tat com.databricks.logging.UsageLogging.recordOperationWithResultTags(UsageLogging.scala:664)\n",
       "\tat com.databricks.logging.UsageLogging.recordOperationWithResultTags$(UsageLogging.scala:582)\n",
       "\tat com.databricks.rpc.ServerBackend.recordOperationWithResultTags(ServerBackend.scala:22)\n",
       "\tat com.databricks.spark.chauffeur.Chauffeur$$anon$1$$anonfun$receive$1.handleDriverRequestWithUsageLogging$1(Chauffeur.scala:707)\n",
       "\tat com.databricks.spark.chauffeur.Chauffeur$$anon$1$$anonfun$receive$1.applyOrElse(Chauffeur.scala:762)\n",
       "\tat com.databricks.spark.chauffeur.Chauffeur$$anon$1$$anonfun$receive$1.applyOrElse(Chauffeur.scala:555)\n",
       "\tat com.databricks.rpc.ServerBackend.$anonfun$internalReceive0$2(ServerBackend.scala:174)\n",
       "\tat com.databricks.rpc.ServerBackend$$anonfun$commonReceive$1.applyOrElse(ServerBackend.scala:200)\n",
       "\tat com.databricks.rpc.ServerBackend$$anonfun$commonReceive$1.applyOrElse(ServerBackend.scala:200)\n",
       "\tat com.databricks.rpc.ServerBackend.internalReceive0(ServerBackend.scala:171)\n",
       "\tat com.databricks.rpc.ServerBackend.$anonfun$internalReceive$1(ServerBackend.scala:147)\n",
       "\tat com.databricks.logging.UsageLogging.$anonfun$recordOperation$1(UsageLogging.scala:573)\n",
       "\tat com.databricks.logging.UsageLogging.executeThunkAndCaptureResultTags$1(UsageLogging.scala:669)\n",
       "\tat com.databricks.logging.UsageLogging.$anonfun$recordOperationWithResultTags$4(UsageLogging.scala:687)\n",
       "\tat com.databricks.logging.UsageLogging.$anonfun$withAttributionContext$1(UsageLogging.scala:426)\n",
       "\tat scala.util.DynamicVariable.withValue(DynamicVariable.scala:62)\n",
       "\tat com.databricks.logging.AttributionContext$.withValue(AttributionContext.scala:216)\n",
       "\tat com.databricks.logging.UsageLogging.withAttributionContext(UsageLogging.scala:424)\n",
       "\tat com.databricks.logging.UsageLogging.withAttributionContext$(UsageLogging.scala:418)\n",
       "\tat com.databricks.rpc.ServerBackend.withAttributionContext(ServerBackend.scala:22)\n",
       "\tat com.databricks.logging.UsageLogging.withAttributionTags(UsageLogging.scala:472)\n",
       "\tat com.databricks.logging.UsageLogging.withAttributionTags$(UsageLogging.scala:455)\n",
       "\tat com.databricks.rpc.ServerBackend.withAttributionTags(ServerBackend.scala:22)\n",
       "\tat com.databricks.logging.UsageLogging.recordOperationWithResultTags(UsageLogging.scala:664)\n",
       "\tat com.databricks.logging.UsageLogging.recordOperationWithResultTags$(UsageLogging.scala:582)\n",
       "\tat com.databricks.rpc.ServerBackend.recordOperationWithResultTags(ServerBackend.scala:22)\n",
       "\tat com.databricks.logging.UsageLogging.recordOperation(UsageLogging.scala:573)\n",
       "\tat com.databricks.logging.UsageLogging.recordOperation$(UsageLogging.scala:542)\n",
       "\tat com.databricks.rpc.ServerBackend.recordOperation(ServerBackend.scala:22)\n",
       "\tat com.databricks.rpc.ServerBackend.internalReceive(ServerBackend.scala:147)\n",
       "\tat com.databricks.rpc.JettyServer$RequestManager.handleRPC(JettyServer.scala:1020)\n",
       "\tat com.databricks.rpc.JettyServer$RequestManager.handleRequestAndRespond(JettyServer.scala:941)\n",
       "\tat com.databricks.rpc.JettyServer$RequestManager.$anonfun$handleHttp$6(JettyServer.scala:545)\n",
       "\tat com.databricks.rpc.JettyServer$RequestManager.$anonfun$handleHttp$6$adapted(JettyServer.scala:514)\n",
       "\tat com.databricks.logging.activity.ActivityContextFactory$.$anonfun$withActivityInternal$4(ActivityContextFactory.scala:405)\n",
       "\tat com.databricks.logging.UsageLogging.$anonfun$withAttributionContext$1(UsageLogging.scala:426)\n",
       "\tat scala.util.DynamicVariable.withValue(DynamicVariable.scala:62)\n",
       "\tat com.databricks.logging.AttributionContext$.withValue(AttributionContext.scala:216)\n",
       "\tat com.databricks.logging.UsageLogging.withAttributionContext(UsageLogging.scala:424)\n",
       "\tat com.databricks.logging.UsageLogging.withAttributionContext$(UsageLogging.scala:418)\n",
       "\tat com.databricks.logging.activity.ActivityContextFactory$.withAttributionContext(ActivityContextFactory.scala:58)\n",
       "\tat com.databricks.logging.activity.ActivityContextFactory$.$anonfun$withActivityInternal$1(ActivityContextFactory.scala:405)\n",
       "\tat com.databricks.context.integrity.IntegrityCheckContext$ThreadLocalStorage$.withValue(IntegrityCheckContext.scala:44)\n",
       "\tat com.databricks.logging.activity.ActivityContextFactory$.withActivityInternal(ActivityContextFactory.scala:380)\n",
       "\tat com.databricks.logging.activity.ActivityContextFactory$.withServiceRequestActivity(ActivityContextFactory.scala:159)\n",
       "\tat com.databricks.rpc.JettyServer$RequestManager.handleHttp(JettyServer.scala:514)\n",
       "\tat com.databricks.rpc.JettyServer$RequestManager.doPost(JettyServer.scala:404)\n",
       "\tat javax.servlet.http.HttpServlet.service(HttpServlet.java:665)\n",
       "\tat com.databricks.rpc.HttpServletWithPatch.service(HttpServletWithPatch.scala:33)\n",
       "\tat javax.servlet.http.HttpServlet.service(HttpServlet.java:750)\n",
       "\tat org.eclipse.jetty.servlet.ServletHolder.handle(ServletHolder.java:799)\n",
       "\tat org.eclipse.jetty.servlet.ServletHandler.doHandle(ServletHandler.java:554)\n",
       "\tat org.eclipse.jetty.server.handler.ScopedHandler.nextScope(ScopedHandler.java:190)\n",
       "\tat org.eclipse.jetty.servlet.ServletHandler.doScope(ServletHandler.java:505)\n",
       "\tat org.eclipse.jetty.server.handler.ScopedHandler.handle(ScopedHandler.java:141)\n",
       "\tat org.eclipse.jetty.server.handler.HandlerWrapper.handle(HandlerWrapper.java:127)\n",
       "\tat org.eclipse.jetty.server.Server.handle(Server.java:516)\n",
       "\tat org.eclipse.jetty.server.HttpChannel.lambda$handle$1(HttpChannel.java:487)\n",
       "\tat org.eclipse.jetty.server.HttpChannel.dispatch(HttpChannel.java:732)\n",
       "\tat org.eclipse.jetty.server.HttpChannel.handle(HttpChannel.java:479)\n",
       "\tat org.eclipse.jetty.server.HttpConnection.onFillable(HttpConnection.java:277)\n",
       "\tat org.eclipse.jetty.io.AbstractConnection$ReadCallback.succeeded(AbstractConnection.java:311)\n",
       "\tat org.eclipse.jetty.io.FillInterest.fillable(FillInterest.java:105)\n",
       "\tat org.eclipse.jetty.io.ssl.SslConnection$DecryptedEndPoint.onFillable(SslConnection.java:555)\n",
       "\tat org.eclipse.jetty.io.ssl.SslConnection.onFillable(SslConnection.java:410)\n",
       "\tat org.eclipse.jetty.io.ssl.SslConnection$2.succeeded(SslConnection.java:164)\n",
       "\tat org.eclipse.jetty.io.FillInterest.fillable(FillInterest.java:105)\n",
       "\tat org.eclipse.jetty.io.ChannelEndPoint$1.run(ChannelEndPoint.java:104)\n",
       "\tat org.eclipse.jetty.util.thread.strategy.EatWhatYouKill.runTask(EatWhatYouKill.java:338)\n",
       "\tat org.eclipse.jetty.util.thread.strategy.EatWhatYouKill.doProduce(EatWhatYouKill.java:315)\n",
       "\tat org.eclipse.jetty.util.thread.strategy.EatWhatYouKill.tryProduce(EatWhatYouKill.java:173)\n",
       "\tat org.eclipse.jetty.util.thread.strategy.EatWhatYouKill.run(EatWhatYouKill.java:131)\n",
       "\tat org.eclipse.jetty.util.thread.ReservedThreadExecutor$ReservedThread.run(ReservedThreadExecutor.java:409)\n",
       "\tat com.databricks.rpc.InstrumentedQueuedThreadPool$$anon$1.$anonfun$run$4(InstrumentedQueuedThreadPool.scala:104)\n",
       "\tat scala.runtime.java8.JFunction0$mcV$sp.apply(JFunction0$mcV$sp.java:23)\n",
       "\tat com.databricks.logging.UsageLogging.$anonfun$withAttributionContext$1(UsageLogging.scala:426)\n",
       "\tat scala.util.DynamicVariable.withValue(DynamicVariable.scala:62)\n",
       "\tat com.databricks.logging.AttributionContext$.withValue(AttributionContext.scala:216)\n",
       "\tat com.databricks.logging.UsageLogging.withAttributionContext(UsageLogging.scala:424)\n",
       "\tat com.databricks.logging.UsageLogging.withAttributionContext$(UsageLogging.scala:418)\n",
       "\tat com.databricks.rpc.InstrumentedQueuedThreadPool.withAttributionContext(InstrumentedQueuedThreadPool.scala:47)\n",
       "\tat com.databricks.rpc.InstrumentedQueuedThreadPool$$anon$1.$anonfun$run$1(InstrumentedQueuedThreadPool.scala:104)\n",
       "\tat scala.runtime.java8.JFunction0$mcV$sp.apply(JFunction0$mcV$sp.java:23)\n",
       "\tat com.databricks.instrumentation.QueuedThreadPoolInstrumenter.trackActiveThreads(QueuedThreadPoolInstrumenter.scala:66)\n",
       "\tat com.databricks.instrumentation.QueuedThreadPoolInstrumenter.trackActiveThreads$(QueuedThreadPoolInstrumenter.scala:63)\n",
       "\tat com.databricks.rpc.InstrumentedQueuedThreadPool.trackActiveThreads(InstrumentedQueuedThreadPool.scala:47)\n",
       "\tat com.databricks.rpc.InstrumentedQueuedThreadPool$$anon$1.run(InstrumentedQueuedThreadPool.scala:86)\n",
       "\tat org.eclipse.jetty.util.thread.QueuedThreadPool.runJob(QueuedThreadPool.java:883)\n",
       "\tat org.eclipse.jetty.util.thread.QueuedThreadPool$Runner.run(QueuedThreadPool.java:1034)\n",
       "\tat java.lang.Thread.run(Thread.java:750)"
      ]
     },
     "metadata": {
      "application/vnd.databricks.v1+output": {
       "addedWidgets": {},
       "arguments": {},
       "datasetInfos": [],
       "jupyterProps": null,
       "metadata": {
        "errorSummary": "Cancelled"
       },
       "removedWidgets": [],
       "sqlProps": null,
       "stackFrames": [
        "com.databricks.backend.common.rpc.CommandCancelledException",
        "\tat com.databricks.spark.chauffeur.ExecContextState.cancel(ExecContextState.scala:436)",
        "\tat com.databricks.spark.chauffeur.ChauffeurState.cancelExecution(ChauffeurState.scala:1266)",
        "\tat com.databricks.spark.chauffeur.ChauffeurState.$anonfun$process$1(ChauffeurState.scala:983)",
        "\tat com.databricks.logging.UsageLogging.$anonfun$recordOperation$1(UsageLogging.scala:573)",
        "\tat com.databricks.logging.UsageLogging.executeThunkAndCaptureResultTags$1(UsageLogging.scala:669)",
        "\tat com.databricks.logging.UsageLogging.$anonfun$recordOperationWithResultTags$4(UsageLogging.scala:687)",
        "\tat com.databricks.logging.UsageLogging.$anonfun$withAttributionContext$1(UsageLogging.scala:426)",
        "\tat scala.util.DynamicVariable.withValue(DynamicVariable.scala:62)",
        "\tat com.databricks.logging.AttributionContext$.withValue(AttributionContext.scala:216)",
        "\tat com.databricks.logging.UsageLogging.withAttributionContext(UsageLogging.scala:424)",
        "\tat com.databricks.logging.UsageLogging.withAttributionContext$(UsageLogging.scala:418)",
        "\tat com.databricks.spark.chauffeur.ChauffeurState.withAttributionContext(ChauffeurState.scala:68)",
        "\tat com.databricks.logging.UsageLogging.withAttributionTags(UsageLogging.scala:472)",
        "\tat com.databricks.logging.UsageLogging.withAttributionTags$(UsageLogging.scala:455)",
        "\tat com.databricks.spark.chauffeur.ChauffeurState.withAttributionTags(ChauffeurState.scala:68)",
        "\tat com.databricks.logging.UsageLogging.recordOperationWithResultTags(UsageLogging.scala:664)",
        "\tat com.databricks.logging.UsageLogging.recordOperationWithResultTags$(UsageLogging.scala:582)",
        "\tat com.databricks.spark.chauffeur.ChauffeurState.recordOperationWithResultTags(ChauffeurState.scala:68)",
        "\tat com.databricks.logging.UsageLogging.recordOperation(UsageLogging.scala:573)",
        "\tat com.databricks.logging.UsageLogging.recordOperation$(UsageLogging.scala:542)",
        "\tat com.databricks.spark.chauffeur.ChauffeurState.recordOperation(ChauffeurState.scala:68)",
        "\tat com.databricks.spark.chauffeur.ChauffeurState.process(ChauffeurState.scala:944)",
        "\tat com.databricks.spark.chauffeur.Chauffeur$$anon$1$$anonfun$receive$1.handleDriverRequest$1(Chauffeur.scala:682)",
        "\tat com.databricks.spark.chauffeur.Chauffeur$$anon$1$$anonfun$receive$1.$anonfun$applyOrElse$5(Chauffeur.scala:708)",
        "\tat com.databricks.logging.UsageLogging.executeThunkAndCaptureResultTags$1(UsageLogging.scala:669)",
        "\tat com.databricks.logging.UsageLogging.$anonfun$recordOperationWithResultTags$4(UsageLogging.scala:687)",
        "\tat com.databricks.logging.UsageLogging.$anonfun$withAttributionContext$1(UsageLogging.scala:426)",
        "\tat scala.util.DynamicVariable.withValue(DynamicVariable.scala:62)",
        "\tat com.databricks.logging.AttributionContext$.withValue(AttributionContext.scala:216)",
        "\tat com.databricks.logging.UsageLogging.withAttributionContext(UsageLogging.scala:424)",
        "\tat com.databricks.logging.UsageLogging.withAttributionContext$(UsageLogging.scala:418)",
        "\tat com.databricks.rpc.ServerBackend.withAttributionContext(ServerBackend.scala:22)",
        "\tat com.databricks.logging.UsageLogging.withAttributionTags(UsageLogging.scala:472)",
        "\tat com.databricks.logging.UsageLogging.withAttributionTags$(UsageLogging.scala:455)",
        "\tat com.databricks.rpc.ServerBackend.withAttributionTags(ServerBackend.scala:22)",
        "\tat com.databricks.logging.UsageLogging.recordOperationWithResultTags(UsageLogging.scala:664)",
        "\tat com.databricks.logging.UsageLogging.recordOperationWithResultTags$(UsageLogging.scala:582)",
        "\tat com.databricks.rpc.ServerBackend.recordOperationWithResultTags(ServerBackend.scala:22)",
        "\tat com.databricks.spark.chauffeur.Chauffeur$$anon$1$$anonfun$receive$1.handleDriverRequestWithUsageLogging$1(Chauffeur.scala:707)",
        "\tat com.databricks.spark.chauffeur.Chauffeur$$anon$1$$anonfun$receive$1.applyOrElse(Chauffeur.scala:762)",
        "\tat com.databricks.spark.chauffeur.Chauffeur$$anon$1$$anonfun$receive$1.applyOrElse(Chauffeur.scala:555)",
        "\tat com.databricks.rpc.ServerBackend.$anonfun$internalReceive0$2(ServerBackend.scala:174)",
        "\tat com.databricks.rpc.ServerBackend$$anonfun$commonReceive$1.applyOrElse(ServerBackend.scala:200)",
        "\tat com.databricks.rpc.ServerBackend$$anonfun$commonReceive$1.applyOrElse(ServerBackend.scala:200)",
        "\tat com.databricks.rpc.ServerBackend.internalReceive0(ServerBackend.scala:171)",
        "\tat com.databricks.rpc.ServerBackend.$anonfun$internalReceive$1(ServerBackend.scala:147)",
        "\tat com.databricks.logging.UsageLogging.$anonfun$recordOperation$1(UsageLogging.scala:573)",
        "\tat com.databricks.logging.UsageLogging.executeThunkAndCaptureResultTags$1(UsageLogging.scala:669)",
        "\tat com.databricks.logging.UsageLogging.$anonfun$recordOperationWithResultTags$4(UsageLogging.scala:687)",
        "\tat com.databricks.logging.UsageLogging.$anonfun$withAttributionContext$1(UsageLogging.scala:426)",
        "\tat scala.util.DynamicVariable.withValue(DynamicVariable.scala:62)",
        "\tat com.databricks.logging.AttributionContext$.withValue(AttributionContext.scala:216)",
        "\tat com.databricks.logging.UsageLogging.withAttributionContext(UsageLogging.scala:424)",
        "\tat com.databricks.logging.UsageLogging.withAttributionContext$(UsageLogging.scala:418)",
        "\tat com.databricks.rpc.ServerBackend.withAttributionContext(ServerBackend.scala:22)",
        "\tat com.databricks.logging.UsageLogging.withAttributionTags(UsageLogging.scala:472)",
        "\tat com.databricks.logging.UsageLogging.withAttributionTags$(UsageLogging.scala:455)",
        "\tat com.databricks.rpc.ServerBackend.withAttributionTags(ServerBackend.scala:22)",
        "\tat com.databricks.logging.UsageLogging.recordOperationWithResultTags(UsageLogging.scala:664)",
        "\tat com.databricks.logging.UsageLogging.recordOperationWithResultTags$(UsageLogging.scala:582)",
        "\tat com.databricks.rpc.ServerBackend.recordOperationWithResultTags(ServerBackend.scala:22)",
        "\tat com.databricks.logging.UsageLogging.recordOperation(UsageLogging.scala:573)",
        "\tat com.databricks.logging.UsageLogging.recordOperation$(UsageLogging.scala:542)",
        "\tat com.databricks.rpc.ServerBackend.recordOperation(ServerBackend.scala:22)",
        "\tat com.databricks.rpc.ServerBackend.internalReceive(ServerBackend.scala:147)",
        "\tat com.databricks.rpc.JettyServer$RequestManager.handleRPC(JettyServer.scala:1020)",
        "\tat com.databricks.rpc.JettyServer$RequestManager.handleRequestAndRespond(JettyServer.scala:941)",
        "\tat com.databricks.rpc.JettyServer$RequestManager.$anonfun$handleHttp$6(JettyServer.scala:545)",
        "\tat com.databricks.rpc.JettyServer$RequestManager.$anonfun$handleHttp$6$adapted(JettyServer.scala:514)",
        "\tat com.databricks.logging.activity.ActivityContextFactory$.$anonfun$withActivityInternal$4(ActivityContextFactory.scala:405)",
        "\tat com.databricks.logging.UsageLogging.$anonfun$withAttributionContext$1(UsageLogging.scala:426)",
        "\tat scala.util.DynamicVariable.withValue(DynamicVariable.scala:62)",
        "\tat com.databricks.logging.AttributionContext$.withValue(AttributionContext.scala:216)",
        "\tat com.databricks.logging.UsageLogging.withAttributionContext(UsageLogging.scala:424)",
        "\tat com.databricks.logging.UsageLogging.withAttributionContext$(UsageLogging.scala:418)",
        "\tat com.databricks.logging.activity.ActivityContextFactory$.withAttributionContext(ActivityContextFactory.scala:58)",
        "\tat com.databricks.logging.activity.ActivityContextFactory$.$anonfun$withActivityInternal$1(ActivityContextFactory.scala:405)",
        "\tat com.databricks.context.integrity.IntegrityCheckContext$ThreadLocalStorage$.withValue(IntegrityCheckContext.scala:44)",
        "\tat com.databricks.logging.activity.ActivityContextFactory$.withActivityInternal(ActivityContextFactory.scala:380)",
        "\tat com.databricks.logging.activity.ActivityContextFactory$.withServiceRequestActivity(ActivityContextFactory.scala:159)",
        "\tat com.databricks.rpc.JettyServer$RequestManager.handleHttp(JettyServer.scala:514)",
        "\tat com.databricks.rpc.JettyServer$RequestManager.doPost(JettyServer.scala:404)",
        "\tat javax.servlet.http.HttpServlet.service(HttpServlet.java:665)",
        "\tat com.databricks.rpc.HttpServletWithPatch.service(HttpServletWithPatch.scala:33)",
        "\tat javax.servlet.http.HttpServlet.service(HttpServlet.java:750)",
        "\tat org.eclipse.jetty.servlet.ServletHolder.handle(ServletHolder.java:799)",
        "\tat org.eclipse.jetty.servlet.ServletHandler.doHandle(ServletHandler.java:554)",
        "\tat org.eclipse.jetty.server.handler.ScopedHandler.nextScope(ScopedHandler.java:190)",
        "\tat org.eclipse.jetty.servlet.ServletHandler.doScope(ServletHandler.java:505)",
        "\tat org.eclipse.jetty.server.handler.ScopedHandler.handle(ScopedHandler.java:141)",
        "\tat org.eclipse.jetty.server.handler.HandlerWrapper.handle(HandlerWrapper.java:127)",
        "\tat org.eclipse.jetty.server.Server.handle(Server.java:516)",
        "\tat org.eclipse.jetty.server.HttpChannel.lambda$handle$1(HttpChannel.java:487)",
        "\tat org.eclipse.jetty.server.HttpChannel.dispatch(HttpChannel.java:732)",
        "\tat org.eclipse.jetty.server.HttpChannel.handle(HttpChannel.java:479)",
        "\tat org.eclipse.jetty.server.HttpConnection.onFillable(HttpConnection.java:277)",
        "\tat org.eclipse.jetty.io.AbstractConnection$ReadCallback.succeeded(AbstractConnection.java:311)",
        "\tat org.eclipse.jetty.io.FillInterest.fillable(FillInterest.java:105)",
        "\tat org.eclipse.jetty.io.ssl.SslConnection$DecryptedEndPoint.onFillable(SslConnection.java:555)",
        "\tat org.eclipse.jetty.io.ssl.SslConnection.onFillable(SslConnection.java:410)",
        "\tat org.eclipse.jetty.io.ssl.SslConnection$2.succeeded(SslConnection.java:164)",
        "\tat org.eclipse.jetty.io.FillInterest.fillable(FillInterest.java:105)",
        "\tat org.eclipse.jetty.io.ChannelEndPoint$1.run(ChannelEndPoint.java:104)",
        "\tat org.eclipse.jetty.util.thread.strategy.EatWhatYouKill.runTask(EatWhatYouKill.java:338)",
        "\tat org.eclipse.jetty.util.thread.strategy.EatWhatYouKill.doProduce(EatWhatYouKill.java:315)",
        "\tat org.eclipse.jetty.util.thread.strategy.EatWhatYouKill.tryProduce(EatWhatYouKill.java:173)",
        "\tat org.eclipse.jetty.util.thread.strategy.EatWhatYouKill.run(EatWhatYouKill.java:131)",
        "\tat org.eclipse.jetty.util.thread.ReservedThreadExecutor$ReservedThread.run(ReservedThreadExecutor.java:409)",
        "\tat com.databricks.rpc.InstrumentedQueuedThreadPool$$anon$1.$anonfun$run$4(InstrumentedQueuedThreadPool.scala:104)",
        "\tat scala.runtime.java8.JFunction0$mcV$sp.apply(JFunction0$mcV$sp.java:23)",
        "\tat com.databricks.logging.UsageLogging.$anonfun$withAttributionContext$1(UsageLogging.scala:426)",
        "\tat scala.util.DynamicVariable.withValue(DynamicVariable.scala:62)",
        "\tat com.databricks.logging.AttributionContext$.withValue(AttributionContext.scala:216)",
        "\tat com.databricks.logging.UsageLogging.withAttributionContext(UsageLogging.scala:424)",
        "\tat com.databricks.logging.UsageLogging.withAttributionContext$(UsageLogging.scala:418)",
        "\tat com.databricks.rpc.InstrumentedQueuedThreadPool.withAttributionContext(InstrumentedQueuedThreadPool.scala:47)",
        "\tat com.databricks.rpc.InstrumentedQueuedThreadPool$$anon$1.$anonfun$run$1(InstrumentedQueuedThreadPool.scala:104)",
        "\tat scala.runtime.java8.JFunction0$mcV$sp.apply(JFunction0$mcV$sp.java:23)",
        "\tat com.databricks.instrumentation.QueuedThreadPoolInstrumenter.trackActiveThreads(QueuedThreadPoolInstrumenter.scala:66)",
        "\tat com.databricks.instrumentation.QueuedThreadPoolInstrumenter.trackActiveThreads$(QueuedThreadPoolInstrumenter.scala:63)",
        "\tat com.databricks.rpc.InstrumentedQueuedThreadPool.trackActiveThreads(InstrumentedQueuedThreadPool.scala:47)",
        "\tat com.databricks.rpc.InstrumentedQueuedThreadPool$$anon$1.run(InstrumentedQueuedThreadPool.scala:86)",
        "\tat org.eclipse.jetty.util.thread.QueuedThreadPool.runJob(QueuedThreadPool.java:883)",
        "\tat org.eclipse.jetty.util.thread.QueuedThreadPool$Runner.run(QueuedThreadPool.java:1034)",
        "\tat java.lang.Thread.run(Thread.java:750)"
       ],
       "type": "baseError"
      }
     },
     "output_type": "display_data"
    }
   ],
   "source": [
    "#criar catalog Bronze\n",
    "spark.sql(\"CREATE CATALOG IF NOT EXISTS Bronze\")"
   ]
  },
  {
   "cell_type": "code",
   "execution_count": 0,
   "metadata": {
    "application/vnd.databricks.v1+cell": {
     "cellMetadata": {},
     "inputWidgets": {},
     "nuid": "68de7372-a9d7-4f6b-93fd-31b7607c0be8",
     "showTitle": false,
     "title": ""
    }
   },
   "outputs": [],
   "source": [
    "#criar schema para inserir as tabelas \n",
    "spark.sql(\"CREATE SCHEMA IF NOT EXISTS Bronze.tables\")"
   ]
  },
  {
   "cell_type": "markdown",
   "metadata": {
    "application/vnd.databricks.v1+cell": {
     "cellMetadata": {},
     "inputWidgets": {},
     "nuid": "b09322ad-569e-4572-a2da-cd4a727ce963",
     "showTitle": false,
     "title": ""
    }
   },
   "source": [
    "#### Tratamento Base Bronze "
   ]
  },
  {
   "cell_type": "code",
   "execution_count": 0,
   "metadata": {
    "application/vnd.databricks.v1+cell": {
     "cellMetadata": {
      "byteLimit": 2048000,
      "rowLimit": 10000
     },
     "inputWidgets": {},
     "nuid": "4423c457-816c-44b9-9a96-d5a78ac89569",
     "showTitle": false,
     "title": ""
    }
   },
   "outputs": [
    {
     "output_type": "stream",
     "name": "stdout",
     "output_type": "stream",
     "text": [
      "\u001B[43mNote: you may need to restart the kernel using dbutils.library.restartPython() to use updated packages.\u001B[0m\nCollecting azure-storage-blob\n  Downloading azure_storage_blob-12.20.0-py3-none-any.whl (392 kB)\n     ━━━━━━━━━━━━━━━━━━━━━━━━━━━━━━━━━━━━━━ 392.2/392.2 kB 11.7 MB/s eta 0:00:00\nRequirement already satisfied: pandas in /databricks/python3/lib/python3.10/site-packages (1.5.3)\nCollecting openpyxl\n  Downloading openpyxl-3.1.5-py2.py3-none-any.whl (250 kB)\n     ━━━━━━━━━━━━━━━━━━━━━━━━━━━━━━━━━━━━━━ 250.9/250.9 kB 26.1 MB/s eta 0:00:00\nCollecting typing-extensions>=4.6.0\n  Downloading typing_extensions-4.12.2-py3-none-any.whl (37 kB)\nRequirement already satisfied: cryptography>=2.1.4 in /databricks/python3/lib/python3.10/site-packages (from azure-storage-blob) (39.0.1)\nCollecting isodate>=0.6.1\n  Downloading isodate-0.6.1-py2.py3-none-any.whl (41 kB)\n     ━━━━━━━━━━━━━━━━━━━━━━━━━━━━━━━━━━━━━━━━ 41.7/41.7 kB 5.0 MB/s eta 0:00:00\nCollecting azure-core>=1.28.0\n  Downloading azure_core-1.30.2-py3-none-any.whl (194 kB)\n     ━━━━━━━━━━━━━━━━━━━━━━━━━━━━━━━━━━━━━━ 194.3/194.3 kB 20.9 MB/s eta 0:00:00\nRequirement already satisfied: numpy>=1.21.0 in /databricks/python3/lib/python3.10/site-packages (from pandas) (1.23.5)\nRequirement already satisfied: python-dateutil>=2.8.1 in /databricks/python3/lib/python3.10/site-packages (from pandas) (2.8.2)\nRequirement already satisfied: pytz>=2020.1 in /databricks/python3/lib/python3.10/site-packages (from pandas) (2022.7)\nCollecting et-xmlfile\n  Downloading et_xmlfile-1.1.0-py3-none-any.whl (4.7 kB)\nRequirement already satisfied: six>=1.11.0 in /usr/lib/python3/dist-packages (from azure-core>=1.28.0->azure-storage-blob) (1.16.0)\nRequirement already satisfied: requests>=2.21.0 in /databricks/python3/lib/python3.10/site-packages (from azure-core>=1.28.0->azure-storage-blob) (2.28.1)\nRequirement already satisfied: cffi>=1.12 in /databricks/python3/lib/python3.10/site-packages (from cryptography>=2.1.4->azure-storage-blob) (1.15.1)\nRequirement already satisfied: pycparser in /databricks/python3/lib/python3.10/site-packages (from cffi>=1.12->cryptography>=2.1.4->azure-storage-blob) (2.21)\nRequirement already satisfied: urllib3<1.27,>=1.21.1 in /databricks/python3/lib/python3.10/site-packages (from requests>=2.21.0->azure-core>=1.28.0->azure-storage-blob) (1.26.14)\nRequirement already satisfied: idna<4,>=2.5 in /databricks/python3/lib/python3.10/site-packages (from requests>=2.21.0->azure-core>=1.28.0->azure-storage-blob) (3.4)\nRequirement already satisfied: certifi>=2017.4.17 in /databricks/python3/lib/python3.10/site-packages (from requests>=2.21.0->azure-core>=1.28.0->azure-storage-blob) (2022.12.7)\nRequirement already satisfied: charset-normalizer<3,>=2 in /databricks/python3/lib/python3.10/site-packages (from requests>=2.21.0->azure-core>=1.28.0->azure-storage-blob) (2.0.4)\nInstalling collected packages: typing-extensions, isodate, et-xmlfile, openpyxl, azure-core, azure-storage-blob\n  Attempting uninstall: typing-extensions\n    Found existing installation: typing_extensions 4.4.0\n    Not uninstalling typing-extensions at /databricks/python3/lib/python3.10/site-packages, outside environment /local_disk0/.ephemeral_nfs/envs/pythonEnv-1ea3ecef-fead-4119-8b75-61453d25648d\n    Can't uninstall 'typing_extensions'. No files were found to uninstall.\nSuccessfully installed azure-core-1.30.2 azure-storage-blob-12.20.0 et-xmlfile-1.1.0 isodate-0.6.1 openpyxl-3.1.5 typing-extensions-4.12.2\n\u001B[43mNote: you may need to restart the kernel using dbutils.library.restartPython() to use updated packages.\u001B[0m\n\u001B[43mNote: you may need to restart the kernel using dbutils.library.restartPython() to use updated packages.\u001B[0m\nCollecting python-dotenv\n  Downloading python_dotenv-1.0.1-py3-none-any.whl (19 kB)\nInstalling collected packages: python-dotenv\nSuccessfully installed python-dotenv-1.0.1\n\u001B[43mNote: you may need to restart the kernel using dbutils.library.restartPython() to use updated packages.\u001B[0m\n"
     ]
    }
   ],
   "source": [
    "#instalando biblioteca necessária:\n",
    "%pip install azure-storage-blob pandas openpyxl\n",
    "%pip install python-dotenv"
   ]
  },
  {
   "cell_type": "code",
   "execution_count": 0,
   "metadata": {
    "application/vnd.databricks.v1+cell": {
     "cellMetadata": {
      "byteLimit": 2048000,
      "rowLimit": 10000
     },
     "inputWidgets": {},
     "nuid": "226474d4-33d7-47fa-b9ce-8277ba1a8f87",
     "showTitle": false,
     "title": ""
    }
   },
   "outputs": [],
   "source": [
    "# Restart na biblioteca para usar os pacotes atualizados \n",
    "dbutils.library.restartPython()"
   ]
  },
  {
   "cell_type": "markdown",
   "metadata": {
    "application/vnd.databricks.v1+cell": {
     "cellMetadata": {},
     "inputWidgets": {},
     "nuid": "93da3c12-10ca-460e-9212-6538233d1568",
     "showTitle": false,
     "title": ""
    }
   },
   "source": [
    "##### Carregamento dos arquivos armazenados no Datalake na pasta bronze para modelagem"
   ]
  },
  {
   "cell_type": "code",
   "execution_count": 0,
   "metadata": {
    "application/vnd.databricks.v1+cell": {
     "cellMetadata": {
      "byteLimit": 2048000,
      "rowLimit": 10000
     },
     "inputWidgets": {},
     "nuid": "0c6e3cbf-8e61-44f2-82d7-60156d6aaad7",
     "showTitle": false,
     "title": ""
    }
   },
   "outputs": [],
   "source": [
    "#importando as Bibliotecas\n",
    "from dotenv import load_dotenv\n",
    "import os\n",
    "from azure.storage.blob import BlobServiceClient\n",
    "import pandas as pd\n",
    "from io import BytesIO"
   ]
  },
  {
   "cell_type": "code",
   "execution_count": 0,
   "metadata": {
    "application/vnd.databricks.v1+cell": {
     "cellMetadata": {
      "byteLimit": 2048000,
      "rowLimit": 10000
     },
     "inputWidgets": {},
     "nuid": "f05c587b-53ef-4858-9d00-0cff749d1c0b",
     "showTitle": false,
     "title": ""
    }
   },
   "outputs": [
    {
     "output_type": "execute_result",
     "data": {
      "text/plain": [
       "True"
      ]
     },
     "execution_count": 2,
     "metadata": {},
     "output_type": "execute_result"
    }
   ],
   "source": [
    "# Definir o caminho do arquivo .env \n",
    "env_path = '/Azure.env'\n",
    "\n",
    "# Carregar as variáveis de ambiente do arquivo .env\n",
    "load_dotenv(env_path)\n"
   ]
  },
  {
   "cell_type": "code",
   "execution_count": 0,
   "metadata": {
    "application/vnd.databricks.v1+cell": {
     "cellMetadata": {
      "byteLimit": 2048000,
      "rowLimit": 10000
     },
     "inputWidgets": {},
     "nuid": "1cf49f12-40e5-4fff-bf21-c12a49ea7833",
     "showTitle": false,
     "title": ""
    }
   },
   "outputs": [
    {
     "output_type": "execute_result",
     "data": {
      "text/html": [
       "<div>\n",
       "<style scoped>\n",
       "    .dataframe tbody tr th:only-of-type {\n",
       "        vertical-align: middle;\n",
       "    }\n",
       "\n",
       "    .dataframe tbody tr th {\n",
       "        vertical-align: top;\n",
       "    }\n",
       "\n",
       "    .dataframe thead th {\n",
       "        text-align: right;\n",
       "    }\n",
       "</style>\n",
       "<table border=\"1\" class=\"dataframe\">\n",
       "  <thead>\n",
       "    <tr style=\"text-align: right;\">\n",
       "      <th></th>\n",
       "      <th>Produto</th>\n",
       "      <th>Unidade</th>\n",
       "    </tr>\n",
       "  </thead>\n",
       "  <tbody>\n",
       "    <tr>\n",
       "      <th>0</th>\n",
       "      <td>ABACATE</td>\n",
       "      <td>KG</td>\n",
       "    </tr>\n",
       "    <tr>\n",
       "      <th>1</th>\n",
       "      <td>ABACAXI</td>\n",
       "      <td>UN</td>\n",
       "    </tr>\n",
       "    <tr>\n",
       "      <th>2</th>\n",
       "      <td>ABOBORA</td>\n",
       "      <td>KG</td>\n",
       "    </tr>\n",
       "    <tr>\n",
       "      <th>3</th>\n",
       "      <td>ABOBRINHA</td>\n",
       "      <td>KG</td>\n",
       "    </tr>\n",
       "    <tr>\n",
       "      <th>4</th>\n",
       "      <td>ALFACE</td>\n",
       "      <td>DZ</td>\n",
       "    </tr>\n",
       "    <tr>\n",
       "      <th>5</th>\n",
       "      <td>ALHO</td>\n",
       "      <td>KG</td>\n",
       "    </tr>\n",
       "    <tr>\n",
       "      <th>6</th>\n",
       "      <td>BANANA NANICA</td>\n",
       "      <td>KG</td>\n",
       "    </tr>\n",
       "    <tr>\n",
       "      <th>7</th>\n",
       "      <td>BANANA PRATA</td>\n",
       "      <td>KG</td>\n",
       "    </tr>\n",
       "    <tr>\n",
       "      <th>8</th>\n",
       "      <td>BATATA</td>\n",
       "      <td>KG</td>\n",
       "    </tr>\n",
       "    <tr>\n",
       "      <th>9</th>\n",
       "      <td>BATATA DOCE</td>\n",
       "      <td>KG</td>\n",
       "    </tr>\n",
       "    <tr>\n",
       "      <th>10</th>\n",
       "      <td>BERINJELA</td>\n",
       "      <td>KG</td>\n",
       "    </tr>\n",
       "    <tr>\n",
       "      <th>11</th>\n",
       "      <td>BETERRABA</td>\n",
       "      <td>KG</td>\n",
       "    </tr>\n",
       "    <tr>\n",
       "      <th>12</th>\n",
       "      <td>BROCOLO</td>\n",
       "      <td>KG</td>\n",
       "    </tr>\n",
       "    <tr>\n",
       "      <th>13</th>\n",
       "      <td>CARA</td>\n",
       "      <td>KG</td>\n",
       "    </tr>\n",
       "    <tr>\n",
       "      <th>14</th>\n",
       "      <td>CEBOLA</td>\n",
       "      <td>KG</td>\n",
       "    </tr>\n",
       "    <tr>\n",
       "      <th>15</th>\n",
       "      <td>CENOURA</td>\n",
       "      <td>KG</td>\n",
       "    </tr>\n",
       "    <tr>\n",
       "      <th>16</th>\n",
       "      <td>CHUCHU</td>\n",
       "      <td>KG</td>\n",
       "    </tr>\n",
       "    <tr>\n",
       "      <th>17</th>\n",
       "      <td>COCO VERDE</td>\n",
       "      <td>UN</td>\n",
       "    </tr>\n",
       "    <tr>\n",
       "      <th>18</th>\n",
       "      <td>COUVE</td>\n",
       "      <td>KG</td>\n",
       "    </tr>\n",
       "    <tr>\n",
       "      <th>19</th>\n",
       "      <td>COUVE-FLOR</td>\n",
       "      <td>UN</td>\n",
       "    </tr>\n",
       "  </tbody>\n",
       "</table>\n",
       "</div>"
      ],
      "text/plain": [
       "          Produto Unidade\n",
       "0         ABACATE      KG\n",
       "1         ABACAXI      UN\n",
       "2         ABOBORA      KG\n",
       "3       ABOBRINHA      KG\n",
       "4          ALFACE      DZ\n",
       "5            ALHO      KG\n",
       "6   BANANA NANICA      KG\n",
       "7    BANANA PRATA      KG\n",
       "8          BATATA      KG\n",
       "9     BATATA DOCE      KG\n",
       "10      BERINJELA      KG\n",
       "11      BETERRABA      KG\n",
       "12        BROCOLO      KG\n",
       "13           CARA      KG\n",
       "14         CEBOLA      KG\n",
       "15        CENOURA      KG\n",
       "16         CHUCHU      KG\n",
       "17     COCO VERDE      UN\n",
       "18          COUVE      KG\n",
       "19     COUVE-FLOR      UN"
      ]
     },
     "execution_count": 63,
     "metadata": {},
     "output_type": "execute_result"
    }
   ],
   "source": [
    "# Configurar a conexão com o Azure Data Lake\n",
    "account_name = os.getenv('AZURE_ACCOUNT_NAME')  # Definindo o nome da conta do Azure Data Lake.\n",
    "account_key = os.getenv('AZURE_ACCOUNT_KEY')  # Definindo a chave de acesso da conta do Azure Data Lake.\n",
    "container_name = 'brickmvpcontainer'  # Definindo o nome do contêiner no Azure Data Lake.\n",
    "\n",
    "# Criar um cliente BlobServiceClient\n",
    "blob_service_client = BlobServiceClient(account_url=f\"https://{account_name}.blob.core.windows.net\", credential=account_key)  # Criando um cliente BlobServiceClient para interagir com o serviço de blobs do Azure usando o URL da conta e a chave de acesso.\n",
    "\n",
    "# Lendo a Base Dimensão Produto\n",
    "file_path_produto = 'bronze/DIMENSÃO PRODUTO.xlsx'  # Definindo o caminho do arquivo Excel no contêiner.\n",
    "blob_client = blob_service_client.get_blob_client(container=container_name, blob=file_path_produto)  # Criando um cliente BlobClient para acessar o blob específico (arquivo Excel) no contêiner.\n",
    "blob_data = blob_client.download_blob().readall()  # Fazendo o download do blob (arquivo Excel) e lendo todos os dados.\n",
    "df_Produto = pd.read_excel(BytesIO(blob_data))  # Lendo os dados do blob em um DataFrame do pandas usando o pd.read_excel e BytesIO para tratar os dados como um arquivo Excel.\n",
    "\n",
    "# Exibir os dados lidos\n",
    "df_Produto.head(20)"
   ]
  },
  {
   "cell_type": "code",
   "execution_count": 0,
   "metadata": {
    "application/vnd.databricks.v1+cell": {
     "cellMetadata": {
      "byteLimit": 2048000,
      "rowLimit": 10000
     },
     "inputWidgets": {},
     "nuid": "bc4767b8-941a-48c3-b3ee-a574e2955db3",
     "showTitle": false,
     "title": ""
    }
   },
   "outputs": [
    {
     "output_type": "stream",
     "name": "stderr",
     "output_type": "stream",
     "text": [
      "/local_disk0/.ephemeral_nfs/envs/pythonEnv-1ea3ecef-fead-4119-8b75-61453d25648d/lib/python3.10/site-packages/openpyxl/styles/stylesheet.py:237: UserWarning: Workbook contains no default style, apply openpyxl's default\n  warn(\"Workbook contains no default style, apply openpyxl's default\")\n/local_disk0/.ephemeral_nfs/envs/pythonEnv-1ea3ecef-fead-4119-8b75-61453d25648d/lib/python3.10/site-packages/openpyxl/styles/stylesheet.py:237: UserWarning: Workbook contains no default style, apply openpyxl's default\n  warn(\"Workbook contains no default style, apply openpyxl's default\")\n/local_disk0/.ephemeral_nfs/envs/pythonEnv-1ea3ecef-fead-4119-8b75-61453d25648d/lib/python3.10/site-packages/openpyxl/styles/stylesheet.py:237: UserWarning: Workbook contains no default style, apply openpyxl's default\n  warn(\"Workbook contains no default style, apply openpyxl's default\")\n/local_disk0/.ephemeral_nfs/envs/pythonEnv-1ea3ecef-fead-4119-8b75-61453d25648d/lib/python3.10/site-packages/openpyxl/styles/stylesheet.py:237: UserWarning: Workbook contains no default style, apply openpyxl's default\n  warn(\"Workbook contains no default style, apply openpyxl's default\")\n/local_disk0/.ephemeral_nfs/envs/pythonEnv-1ea3ecef-fead-4119-8b75-61453d25648d/lib/python3.10/site-packages/openpyxl/styles/stylesheet.py:237: UserWarning: Workbook contains no default style, apply openpyxl's default\n  warn(\"Workbook contains no default style, apply openpyxl's default\")\n/local_disk0/.ephemeral_nfs/envs/pythonEnv-1ea3ecef-fead-4119-8b75-61453d25648d/lib/python3.10/site-packages/openpyxl/styles/stylesheet.py:237: UserWarning: Workbook contains no default style, apply openpyxl's default\n  warn(\"Workbook contains no default style, apply openpyxl's default\")\n"
     ]
    }
   ],
   "source": [
    "\n",
    "#Lendo as Bases fato hortigrangeiros\n",
    "\n",
    "# Lista dos caminhos dos arquivos dentro do contêiner\n",
    "file_paths = [\n",
    "    'bronze/saiku-export Jan24.xlsx',\n",
    "    'bronze/saiku-export fev24.xlsx',\n",
    "    'bronze/saiku-export mar24.xlsx',\n",
    "    'bronze/saiku-export abr24.xlsx',\n",
    "    'bronze/saiku-export mai24.xlsx',\n",
    "    'bronze/saiku-export jun24.xlsx'\n",
    "]\n",
    "\n",
    "# Função para ler um arquivo Excel do Azure Data Lake\n",
    "def read_excel_from_datalake(blob_service_client, container_name, file_path):\n",
    "    blob_client = blob_service_client.get_blob_client(container=container_name, blob=file_path)\n",
    "    blob_data = blob_client.download_blob().readall()\n",
    "    df = pd.read_excel(BytesIO(blob_data))\n",
    "    return df\n",
    "# Ler todos os arquivos e armazenar em um dicionário de DataFrames\n",
    "dfs = {}\n",
    "for file_path in file_paths:\n",
    "    # Extrair a parte relevante do nome do arquivo (por exemplo, 'Jan24')\n",
    "    file_name = file_path.split('/')[-1].split('.')[0]  # 'saiku-export Jan24' -> 'Jan24'\n",
    "    df_name = file_name.split()[-1]  # Extrai 'Jan24', 'fev24', etc.\n",
    "    \n",
    "    # Ler o arquivo e criar um DataFrame\n",
    "    df = read_excel_from_datalake(blob_service_client, container_name, file_path)\n",
    "    \n",
    "    # Armazenar o DataFrame no dicionário com a chave sendo o nome desejado\n",
    "    dfs[df_name] = df\n",
    "\n"
   ]
  },
  {
   "cell_type": "markdown",
   "metadata": {
    "application/vnd.databricks.v1+cell": {
     "cellMetadata": {},
     "inputWidgets": {},
     "nuid": "b902d924-7636-4e31-b2f5-7bd971f1c983",
     "showTitle": false,
     "title": ""
    }
   },
   "source": [
    "##### Tratamento na Base para inserção na tabela bronze"
   ]
  },
  {
   "cell_type": "code",
   "execution_count": 0,
   "metadata": {
    "application/vnd.databricks.v1+cell": {
     "cellMetadata": {
      "byteLimit": 2048000,
      "rowLimit": 10000
     },
     "inputWidgets": {},
     "nuid": "e976584c-2eff-4aa2-a47b-eeb5c010694d",
     "showTitle": false,
     "title": ""
    }
   },
   "outputs": [],
   "source": [
    "# Acessar os DataFrames específicos do dicionário\n",
    "df_Jan24 = dfs['Jan24']\n",
    "df_fev24 = dfs['fev24']\n",
    "df_mar24 = dfs['mar24']\n",
    "df_abr24 = dfs['abr24']\n",
    "df_mai24 = dfs['mai24']\n",
    "df_jun24 = dfs['jun24']\n"
   ]
  },
  {
   "cell_type": "code",
   "execution_count": 0,
   "metadata": {
    "application/vnd.databricks.v1+cell": {
     "cellMetadata": {
      "byteLimit": 2048000,
      "rowLimit": 10000
     },
     "inputWidgets": {},
     "nuid": "a183bb28-5ead-4b62-ba27-a375a03f2fdf",
     "showTitle": false,
     "title": ""
    }
   },
   "outputs": [
    {
     "output_type": "execute_result",
     "data": {
      "text/html": [
       "<div>\n",
       "<style scoped>\n",
       "    .dataframe tbody tr th:only-of-type {\n",
       "        vertical-align: middle;\n",
       "    }\n",
       "\n",
       "    .dataframe tbody tr th {\n",
       "        vertical-align: top;\n",
       "    }\n",
       "\n",
       "    .dataframe thead th {\n",
       "        text-align: right;\n",
       "    }\n",
       "</style>\n",
       "<table border=\"1\" class=\"dataframe\">\n",
       "  <thead>\n",
       "    <tr style=\"text-align: right;\">\n",
       "      <th></th>\n",
       "      <th>Unnamed: 0</th>\n",
       "      <th>Unnamed: 1</th>\n",
       "      <th>Unnamed: 2</th>\n",
       "      <th>02-JAN-2024</th>\n",
       "      <th>03-JAN-2024</th>\n",
       "      <th>04-JAN-2024</th>\n",
       "      <th>05-JAN-2024</th>\n",
       "      <th>06-JAN-2024</th>\n",
       "      <th>08-JAN-2024</th>\n",
       "      <th>09-JAN-2024</th>\n",
       "      <th>10-JAN-2024</th>\n",
       "      <th>11-JAN-2024</th>\n",
       "      <th>12-JAN-2024</th>\n",
       "      <th>13-JAN-2024</th>\n",
       "      <th>15-JAN-2024</th>\n",
       "      <th>16-JAN-2024</th>\n",
       "      <th>17-JAN-2024</th>\n",
       "      <th>18-JAN-2024</th>\n",
       "      <th>19-JAN-2024</th>\n",
       "      <th>20-JAN-2024</th>\n",
       "      <th>22-JAN-2024</th>\n",
       "      <th>23-JAN-2024</th>\n",
       "      <th>24-JAN-2024</th>\n",
       "      <th>25-JAN-2024</th>\n",
       "      <th>26-JAN-2024</th>\n",
       "      <th>27-JAN-2024</th>\n",
       "      <th>29-JAN-2024</th>\n",
       "      <th>30-JAN-2024</th>\n",
       "      <th>31-JAN-2024</th>\n",
       "    </tr>\n",
       "  </thead>\n",
       "  <tbody>\n",
       "    <tr>\n",
       "      <th>0</th>\n",
       "      <td>Produto</td>\n",
       "      <td>CEASA</td>\n",
       "      <td>UF CEASA</td>\n",
       "      <td>Preco Medio (R$)</td>\n",
       "      <td>Preco Medio (R$)</td>\n",
       "      <td>Preco Medio (R$)</td>\n",
       "      <td>Preco Medio (R$)</td>\n",
       "      <td>Preco Medio (R$)</td>\n",
       "      <td>Preco Medio (R$)</td>\n",
       "      <td>Preco Medio (R$)</td>\n",
       "      <td>Preco Medio (R$)</td>\n",
       "      <td>Preco Medio (R$)</td>\n",
       "      <td>Preco Medio (R$)</td>\n",
       "      <td>Preco Medio (R$)</td>\n",
       "      <td>Preco Medio (R$)</td>\n",
       "      <td>Preco Medio (R$)</td>\n",
       "      <td>Preco Medio (R$)</td>\n",
       "      <td>Preco Medio (R$)</td>\n",
       "      <td>Preco Medio (R$)</td>\n",
       "      <td>Preco Medio (R$)</td>\n",
       "      <td>Preco Medio (R$)</td>\n",
       "      <td>Preco Medio (R$)</td>\n",
       "      <td>Preco Medio (R$)</td>\n",
       "      <td>Preco Medio (R$)</td>\n",
       "      <td>Preco Medio (R$)</td>\n",
       "      <td>Preco Medio (R$)</td>\n",
       "      <td>Preco Medio (R$)</td>\n",
       "      <td>Preco Medio (R$)</td>\n",
       "      <td>Preco Medio (R$)</td>\n",
       "    </tr>\n",
       "    <tr>\n",
       "      <th>1</th>\n",
       "      <td>ABACATE</td>\n",
       "      <td>AMA/BA - JUAZEIRO</td>\n",
       "      <td>BA</td>\n",
       "      <td>5.4</td>\n",
       "      <td>5.5</td>\n",
       "      <td>5.5</td>\n",
       "      <td>5.75</td>\n",
       "      <td>NaN</td>\n",
       "      <td>4.75</td>\n",
       "      <td>5</td>\n",
       "      <td>5.15</td>\n",
       "      <td>5.15</td>\n",
       "      <td>4.9</td>\n",
       "      <td>NaN</td>\n",
       "      <td>4.5</td>\n",
       "      <td>4.75</td>\n",
       "      <td>4.75</td>\n",
       "      <td>4.75</td>\n",
       "      <td>4.25</td>\n",
       "      <td>NaN</td>\n",
       "      <td>4.25</td>\n",
       "      <td>NaN</td>\n",
       "      <td>4.75</td>\n",
       "      <td>4.5</td>\n",
       "      <td>4.5</td>\n",
       "      <td>NaN</td>\n",
       "      <td>NaN</td>\n",
       "      <td>4.5</td>\n",
       "      <td>4.5</td>\n",
       "    </tr>\n",
       "    <tr>\n",
       "      <th>2</th>\n",
       "      <td>ABACATE</td>\n",
       "      <td>CEAGESP - ARACATUBA</td>\n",
       "      <td>SP</td>\n",
       "      <td>NaN</td>\n",
       "      <td>3.54</td>\n",
       "      <td>NaN</td>\n",
       "      <td>5.67</td>\n",
       "      <td>NaN</td>\n",
       "      <td>5.67</td>\n",
       "      <td>NaN</td>\n",
       "      <td>5.67</td>\n",
       "      <td>NaN</td>\n",
       "      <td>5.37</td>\n",
       "      <td>NaN</td>\n",
       "      <td>5.42</td>\n",
       "      <td>NaN</td>\n",
       "      <td>5.13</td>\n",
       "      <td>NaN</td>\n",
       "      <td>5.03</td>\n",
       "      <td>NaN</td>\n",
       "      <td>5.08</td>\n",
       "      <td>NaN</td>\n",
       "      <td>4.98</td>\n",
       "      <td>NaN</td>\n",
       "      <td>NaN</td>\n",
       "      <td>NaN</td>\n",
       "      <td>5.03</td>\n",
       "      <td>NaN</td>\n",
       "      <td>4.9</td>\n",
       "    </tr>\n",
       "    <tr>\n",
       "      <th>3</th>\n",
       "      <td>ABACATE</td>\n",
       "      <td>CEAGESP - ARARAQUARA</td>\n",
       "      <td>SP</td>\n",
       "      <td>NaN</td>\n",
       "      <td>4.09</td>\n",
       "      <td>NaN</td>\n",
       "      <td>4.09</td>\n",
       "      <td>NaN</td>\n",
       "      <td>3.75</td>\n",
       "      <td>NaN</td>\n",
       "      <td>3.75</td>\n",
       "      <td>NaN</td>\n",
       "      <td>3.3</td>\n",
       "      <td>NaN</td>\n",
       "      <td>3.3</td>\n",
       "      <td>NaN</td>\n",
       "      <td>2.73</td>\n",
       "      <td>NaN</td>\n",
       "      <td>2.73</td>\n",
       "      <td>NaN</td>\n",
       "      <td>2.84</td>\n",
       "      <td>NaN</td>\n",
       "      <td>2.27</td>\n",
       "      <td>NaN</td>\n",
       "      <td>2.05</td>\n",
       "      <td>NaN</td>\n",
       "      <td>2.39</td>\n",
       "      <td>NaN</td>\n",
       "      <td>2.27</td>\n",
       "    </tr>\n",
       "    <tr>\n",
       "      <th>4</th>\n",
       "      <td>ABACATE</td>\n",
       "      <td>CEAGESP - BAURU</td>\n",
       "      <td>SP</td>\n",
       "      <td>NaN</td>\n",
       "      <td>NaN</td>\n",
       "      <td>NaN</td>\n",
       "      <td>NaN</td>\n",
       "      <td>NaN</td>\n",
       "      <td>NaN</td>\n",
       "      <td>NaN</td>\n",
       "      <td>NaN</td>\n",
       "      <td>NaN</td>\n",
       "      <td>NaN</td>\n",
       "      <td>NaN</td>\n",
       "      <td>NaN</td>\n",
       "      <td>3.86</td>\n",
       "      <td>NaN</td>\n",
       "      <td>NaN</td>\n",
       "      <td>2.95</td>\n",
       "      <td>NaN</td>\n",
       "      <td>NaN</td>\n",
       "      <td>NaN</td>\n",
       "      <td>NaN</td>\n",
       "      <td>NaN</td>\n",
       "      <td>2.95</td>\n",
       "      <td>NaN</td>\n",
       "      <td>NaN</td>\n",
       "      <td>3.41</td>\n",
       "      <td>NaN</td>\n",
       "    </tr>\n",
       "    <tr>\n",
       "      <th>5</th>\n",
       "      <td>ABACATE</td>\n",
       "      <td>CEAGESP - FRANCA</td>\n",
       "      <td>SP</td>\n",
       "      <td>NaN</td>\n",
       "      <td>NaN</td>\n",
       "      <td>NaN</td>\n",
       "      <td>NaN</td>\n",
       "      <td>NaN</td>\n",
       "      <td>NaN</td>\n",
       "      <td>6</td>\n",
       "      <td>NaN</td>\n",
       "      <td>7</td>\n",
       "      <td>NaN</td>\n",
       "      <td>NaN</td>\n",
       "      <td>6</td>\n",
       "      <td>NaN</td>\n",
       "      <td>NaN</td>\n",
       "      <td>6</td>\n",
       "      <td>NaN</td>\n",
       "      <td>NaN</td>\n",
       "      <td>6</td>\n",
       "      <td>NaN</td>\n",
       "      <td>NaN</td>\n",
       "      <td>6</td>\n",
       "      <td>NaN</td>\n",
       "      <td>NaN</td>\n",
       "      <td>6</td>\n",
       "      <td>NaN</td>\n",
       "      <td>NaN</td>\n",
       "    </tr>\n",
       "    <tr>\n",
       "      <th>6</th>\n",
       "      <td>ABACATE</td>\n",
       "      <td>CEAGESP - PIRACICABA</td>\n",
       "      <td>SP</td>\n",
       "      <td>NaN</td>\n",
       "      <td>3.5</td>\n",
       "      <td>NaN</td>\n",
       "      <td>3.5</td>\n",
       "      <td>NaN</td>\n",
       "      <td>3.5</td>\n",
       "      <td>NaN</td>\n",
       "      <td>3.5</td>\n",
       "      <td>NaN</td>\n",
       "      <td>3.5</td>\n",
       "      <td>NaN</td>\n",
       "      <td>3.5</td>\n",
       "      <td>NaN</td>\n",
       "      <td>3.5</td>\n",
       "      <td>NaN</td>\n",
       "      <td>3.5</td>\n",
       "      <td>NaN</td>\n",
       "      <td>3.5</td>\n",
       "      <td>NaN</td>\n",
       "      <td>3.5</td>\n",
       "      <td>NaN</td>\n",
       "      <td>3.5</td>\n",
       "      <td>NaN</td>\n",
       "      <td>3.5</td>\n",
       "      <td>NaN</td>\n",
       "      <td>3.5</td>\n",
       "    </tr>\n",
       "    <tr>\n",
       "      <th>7</th>\n",
       "      <td>ABACATE</td>\n",
       "      <td>CEAGESP - PRES. PRUDENTE</td>\n",
       "      <td>SP</td>\n",
       "      <td>NaN</td>\n",
       "      <td>NaN</td>\n",
       "      <td>NaN</td>\n",
       "      <td>NaN</td>\n",
       "      <td>NaN</td>\n",
       "      <td>NaN</td>\n",
       "      <td>NaN</td>\n",
       "      <td>NaN</td>\n",
       "      <td>NaN</td>\n",
       "      <td>3.63</td>\n",
       "      <td>NaN</td>\n",
       "      <td>NaN</td>\n",
       "      <td>NaN</td>\n",
       "      <td>NaN</td>\n",
       "      <td>NaN</td>\n",
       "      <td>3.86</td>\n",
       "      <td>NaN</td>\n",
       "      <td>NaN</td>\n",
       "      <td>NaN</td>\n",
       "      <td>NaN</td>\n",
       "      <td>NaN</td>\n",
       "      <td>2.725</td>\n",
       "      <td>NaN</td>\n",
       "      <td>NaN</td>\n",
       "      <td>NaN</td>\n",
       "      <td>NaN</td>\n",
       "    </tr>\n",
       "    <tr>\n",
       "      <th>8</th>\n",
       "      <td>ABACATE</td>\n",
       "      <td>CEAGESP - S J DOS CAMPOS</td>\n",
       "      <td>SP</td>\n",
       "      <td>NaN</td>\n",
       "      <td>4.75</td>\n",
       "      <td>NaN</td>\n",
       "      <td>4.8</td>\n",
       "      <td>NaN</td>\n",
       "      <td>4.85</td>\n",
       "      <td>NaN</td>\n",
       "      <td>4.9</td>\n",
       "      <td>NaN</td>\n",
       "      <td>4.8</td>\n",
       "      <td>NaN</td>\n",
       "      <td>4.9</td>\n",
       "      <td>NaN</td>\n",
       "      <td>4.8</td>\n",
       "      <td>NaN</td>\n",
       "      <td>5</td>\n",
       "      <td>NaN</td>\n",
       "      <td>5.1</td>\n",
       "      <td>NaN</td>\n",
       "      <td>5</td>\n",
       "      <td>NaN</td>\n",
       "      <td>4.8</td>\n",
       "      <td>NaN</td>\n",
       "      <td>4.8</td>\n",
       "      <td>NaN</td>\n",
       "      <td>4.7</td>\n",
       "    </tr>\n",
       "    <tr>\n",
       "      <th>9</th>\n",
       "      <td>ABACATE</td>\n",
       "      <td>CEAGESP - SAO JOSE RIO PRETO</td>\n",
       "      <td>SP</td>\n",
       "      <td>NaN</td>\n",
       "      <td>NaN</td>\n",
       "      <td>NaN</td>\n",
       "      <td>NaN</td>\n",
       "      <td>NaN</td>\n",
       "      <td>3.41</td>\n",
       "      <td>NaN</td>\n",
       "      <td>3.18</td>\n",
       "      <td>NaN</td>\n",
       "      <td>NaN</td>\n",
       "      <td>NaN</td>\n",
       "      <td>3.86</td>\n",
       "      <td>NaN</td>\n",
       "      <td>2.95</td>\n",
       "      <td>NaN</td>\n",
       "      <td>4.09</td>\n",
       "      <td>NaN</td>\n",
       "      <td>3.64</td>\n",
       "      <td>NaN</td>\n",
       "      <td>2.27</td>\n",
       "      <td>NaN</td>\n",
       "      <td>2.27</td>\n",
       "      <td>NaN</td>\n",
       "      <td>3.41</td>\n",
       "      <td>NaN</td>\n",
       "      <td>2.73</td>\n",
       "    </tr>\n",
       "    <tr>\n",
       "      <th>10</th>\n",
       "      <td>ABACATE</td>\n",
       "      <td>CEAGESP - SAO PAULO</td>\n",
       "      <td>SP</td>\n",
       "      <td>NaN</td>\n",
       "      <td>4.02</td>\n",
       "      <td>NaN</td>\n",
       "      <td>4.01</td>\n",
       "      <td>NaN</td>\n",
       "      <td>3.64</td>\n",
       "      <td>NaN</td>\n",
       "      <td>3.6</td>\n",
       "      <td>NaN</td>\n",
       "      <td>3.61</td>\n",
       "      <td>NaN</td>\n",
       "      <td>3.85</td>\n",
       "      <td>NaN</td>\n",
       "      <td>3.9</td>\n",
       "      <td>NaN</td>\n",
       "      <td>3.8</td>\n",
       "      <td>NaN</td>\n",
       "      <td>3.89</td>\n",
       "      <td>NaN</td>\n",
       "      <td>3.21</td>\n",
       "      <td>NaN</td>\n",
       "      <td>NaN</td>\n",
       "      <td>NaN</td>\n",
       "      <td>2.13</td>\n",
       "      <td>NaN</td>\n",
       "      <td>2.17</td>\n",
       "    </tr>\n",
       "    <tr>\n",
       "      <th>11</th>\n",
       "      <td>ABACATE</td>\n",
       "      <td>CEAGESP - SOROCABA</td>\n",
       "      <td>SP</td>\n",
       "      <td>NaN</td>\n",
       "      <td>NaN</td>\n",
       "      <td>NaN</td>\n",
       "      <td>NaN</td>\n",
       "      <td>NaN</td>\n",
       "      <td>3.64</td>\n",
       "      <td>NaN</td>\n",
       "      <td>3.64</td>\n",
       "      <td>NaN</td>\n",
       "      <td>NaN</td>\n",
       "      <td>NaN</td>\n",
       "      <td>2.73</td>\n",
       "      <td>NaN</td>\n",
       "      <td>2.73</td>\n",
       "      <td>NaN</td>\n",
       "      <td>2.84</td>\n",
       "      <td>NaN</td>\n",
       "      <td>2.5</td>\n",
       "      <td>NaN</td>\n",
       "      <td>2.5</td>\n",
       "      <td>NaN</td>\n",
       "      <td>NaN</td>\n",
       "      <td>NaN</td>\n",
       "      <td>2.16</td>\n",
       "      <td>NaN</td>\n",
       "      <td>2.16</td>\n",
       "    </tr>\n",
       "    <tr>\n",
       "      <th>12</th>\n",
       "      <td>ABACATE</td>\n",
       "      <td>CEASA/AL - MACEIO</td>\n",
       "      <td>AL</td>\n",
       "      <td>NaN</td>\n",
       "      <td>5</td>\n",
       "      <td>5</td>\n",
       "      <td>5</td>\n",
       "      <td>NaN</td>\n",
       "      <td>6</td>\n",
       "      <td>6</td>\n",
       "      <td>6</td>\n",
       "      <td>6</td>\n",
       "      <td>6.5</td>\n",
       "      <td>NaN</td>\n",
       "      <td>6.5</td>\n",
       "      <td>NaN</td>\n",
       "      <td>6.5</td>\n",
       "      <td>NaN</td>\n",
       "      <td>NaN</td>\n",
       "      <td>NaN</td>\n",
       "      <td>6.5</td>\n",
       "      <td>5.5</td>\n",
       "      <td>5</td>\n",
       "      <td>5</td>\n",
       "      <td>5</td>\n",
       "      <td>NaN</td>\n",
       "      <td>5</td>\n",
       "      <td>5</td>\n",
       "      <td>5</td>\n",
       "    </tr>\n",
       "    <tr>\n",
       "      <th>13</th>\n",
       "      <td>ABACATE</td>\n",
       "      <td>CEASA/BA - SALVADOR</td>\n",
       "      <td>BA</td>\n",
       "      <td>NaN</td>\n",
       "      <td>NaN</td>\n",
       "      <td>NaN</td>\n",
       "      <td>7</td>\n",
       "      <td>NaN</td>\n",
       "      <td>8</td>\n",
       "      <td>NaN</td>\n",
       "      <td>8</td>\n",
       "      <td>NaN</td>\n",
       "      <td>NaN</td>\n",
       "      <td>NaN</td>\n",
       "      <td>8</td>\n",
       "      <td>NaN</td>\n",
       "      <td>NaN</td>\n",
       "      <td>NaN</td>\n",
       "      <td>NaN</td>\n",
       "      <td>NaN</td>\n",
       "      <td>7</td>\n",
       "      <td>NaN</td>\n",
       "      <td>NaN</td>\n",
       "      <td>NaN</td>\n",
       "      <td>NaN</td>\n",
       "      <td>NaN</td>\n",
       "      <td>6.5</td>\n",
       "      <td>NaN</td>\n",
       "      <td>NaN</td>\n",
       "    </tr>\n",
       "    <tr>\n",
       "      <th>14</th>\n",
       "      <td>ABACATE</td>\n",
       "      <td>CEASA/CE - FORTALEZA</td>\n",
       "      <td>CE</td>\n",
       "      <td>5.25</td>\n",
       "      <td>4</td>\n",
       "      <td>4</td>\n",
       "      <td>5.5</td>\n",
       "      <td>NaN</td>\n",
       "      <td>4.6</td>\n",
       "      <td>4.4</td>\n",
       "      <td>4.5</td>\n",
       "      <td>4.5</td>\n",
       "      <td>4.5</td>\n",
       "      <td>NaN</td>\n",
       "      <td>4.75</td>\n",
       "      <td>4.75</td>\n",
       "      <td>NaN</td>\n",
       "      <td>4.5</td>\n",
       "      <td>4.25</td>\n",
       "      <td>NaN</td>\n",
       "      <td>4.5</td>\n",
       "      <td>4.5</td>\n",
       "      <td>4.5</td>\n",
       "      <td>NaN</td>\n",
       "      <td>4.75</td>\n",
       "      <td>NaN</td>\n",
       "      <td>4.75</td>\n",
       "      <td>4.5</td>\n",
       "      <td>4.5</td>\n",
       "    </tr>\n",
       "    <tr>\n",
       "      <th>15</th>\n",
       "      <td>ABACATE</td>\n",
       "      <td>CEASA/CE - TIANGUA</td>\n",
       "      <td>CE</td>\n",
       "      <td>NaN</td>\n",
       "      <td>NaN</td>\n",
       "      <td>NaN</td>\n",
       "      <td>NaN</td>\n",
       "      <td>NaN</td>\n",
       "      <td>NaN</td>\n",
       "      <td>NaN</td>\n",
       "      <td>NaN</td>\n",
       "      <td>NaN</td>\n",
       "      <td>NaN</td>\n",
       "      <td>NaN</td>\n",
       "      <td>NaN</td>\n",
       "      <td>NaN</td>\n",
       "      <td>NaN</td>\n",
       "      <td>NaN</td>\n",
       "      <td>NaN</td>\n",
       "      <td>NaN</td>\n",
       "      <td>NaN</td>\n",
       "      <td>2.6</td>\n",
       "      <td>NaN</td>\n",
       "      <td>NaN</td>\n",
       "      <td>NaN</td>\n",
       "      <td>NaN</td>\n",
       "      <td>NaN</td>\n",
       "      <td>NaN</td>\n",
       "      <td>NaN</td>\n",
       "    </tr>\n",
       "    <tr>\n",
       "      <th>16</th>\n",
       "      <td>ABACATE</td>\n",
       "      <td>CEASA/DF - BRASILIA</td>\n",
       "      <td>DF</td>\n",
       "      <td>3.42</td>\n",
       "      <td>3.42</td>\n",
       "      <td>3.25</td>\n",
       "      <td>3.25</td>\n",
       "      <td>NaN</td>\n",
       "      <td>4</td>\n",
       "      <td>4</td>\n",
       "      <td>4</td>\n",
       "      <td>6.5</td>\n",
       "      <td>6.5</td>\n",
       "      <td>NaN</td>\n",
       "      <td>6.5</td>\n",
       "      <td>6.5</td>\n",
       "      <td>6.5</td>\n",
       "      <td>6.5</td>\n",
       "      <td>7.36</td>\n",
       "      <td>NaN</td>\n",
       "      <td>7.36</td>\n",
       "      <td>7.36</td>\n",
       "      <td>7.36</td>\n",
       "      <td>7.36</td>\n",
       "      <td>7.36</td>\n",
       "      <td>NaN</td>\n",
       "      <td>7.36</td>\n",
       "      <td>7.36</td>\n",
       "      <td>7.36</td>\n",
       "    </tr>\n",
       "    <tr>\n",
       "      <th>17</th>\n",
       "      <td>ABACATE</td>\n",
       "      <td>CEASA/ES - VITORIA</td>\n",
       "      <td>ES</td>\n",
       "      <td>NaN</td>\n",
       "      <td>4.8</td>\n",
       "      <td>4.5</td>\n",
       "      <td>4.88</td>\n",
       "      <td>NaN</td>\n",
       "      <td>4.92</td>\n",
       "      <td>4.19</td>\n",
       "      <td>3.8</td>\n",
       "      <td>3.59</td>\n",
       "      <td>3.39</td>\n",
       "      <td>NaN</td>\n",
       "      <td>3.84</td>\n",
       "      <td>3.5</td>\n",
       "      <td>3.34</td>\n",
       "      <td>3.25</td>\n",
       "      <td>2.77</td>\n",
       "      <td>NaN</td>\n",
       "      <td>2.72</td>\n",
       "      <td>NaN</td>\n",
       "      <td>2.61</td>\n",
       "      <td>2.75</td>\n",
       "      <td>2.49</td>\n",
       "      <td>NaN</td>\n",
       "      <td>2.67</td>\n",
       "      <td>2.46</td>\n",
       "      <td>NaN</td>\n",
       "    </tr>\n",
       "    <tr>\n",
       "      <th>18</th>\n",
       "      <td>ABACATE</td>\n",
       "      <td>CEASA/GO - GOIANIA</td>\n",
       "      <td>GO</td>\n",
       "      <td>NaN</td>\n",
       "      <td>NaN</td>\n",
       "      <td>NaN</td>\n",
       "      <td>NaN</td>\n",
       "      <td>NaN</td>\n",
       "      <td>NaN</td>\n",
       "      <td>NaN</td>\n",
       "      <td>NaN</td>\n",
       "      <td>NaN</td>\n",
       "      <td>NaN</td>\n",
       "      <td>NaN</td>\n",
       "      <td>NaN</td>\n",
       "      <td>NaN</td>\n",
       "      <td>NaN</td>\n",
       "      <td>3</td>\n",
       "      <td>NaN</td>\n",
       "      <td>NaN</td>\n",
       "      <td>3</td>\n",
       "      <td>NaN</td>\n",
       "      <td>NaN</td>\n",
       "      <td>NaN</td>\n",
       "      <td>NaN</td>\n",
       "      <td>NaN</td>\n",
       "      <td>NaN</td>\n",
       "      <td>NaN</td>\n",
       "      <td>NaN</td>\n",
       "    </tr>\n",
       "    <tr>\n",
       "      <th>19</th>\n",
       "      <td>ABACATE</td>\n",
       "      <td>CEASA/MA - SAO LUIZ</td>\n",
       "      <td>MA</td>\n",
       "      <td>NaN</td>\n",
       "      <td>7.27</td>\n",
       "      <td>7.25</td>\n",
       "      <td>7.25</td>\n",
       "      <td>7.25</td>\n",
       "      <td>7.49</td>\n",
       "      <td>7.49</td>\n",
       "      <td>7.49</td>\n",
       "      <td>7.49</td>\n",
       "      <td>7.49</td>\n",
       "      <td>NaN</td>\n",
       "      <td>NaN</td>\n",
       "      <td>5.72</td>\n",
       "      <td>5.72</td>\n",
       "      <td>5.72</td>\n",
       "      <td>5.72</td>\n",
       "      <td>NaN</td>\n",
       "      <td>7.24</td>\n",
       "      <td>NaN</td>\n",
       "      <td>NaN</td>\n",
       "      <td>8.99</td>\n",
       "      <td>8.4</td>\n",
       "      <td>6</td>\n",
       "      <td>5.49</td>\n",
       "      <td>8</td>\n",
       "      <td>6.99</td>\n",
       "    </tr>\n",
       "  </tbody>\n",
       "</table>\n",
       "</div>"
      ],
      "text/plain": [
       "   Unnamed: 0                    Unnamed: 1  ...       30-JAN-2024       31-JAN-2024\n",
       "0     Produto                         CEASA  ...  Preco Medio (R$)  Preco Medio (R$)\n",
       "1     ABACATE             AMA/BA - JUAZEIRO  ...               4.5               4.5\n",
       "2     ABACATE           CEAGESP - ARACATUBA  ...               NaN               4.9\n",
       "3     ABACATE          CEAGESP - ARARAQUARA  ...               NaN              2.27\n",
       "4     ABACATE               CEAGESP - BAURU  ...              3.41               NaN\n",
       "5     ABACATE              CEAGESP - FRANCA  ...               NaN               NaN\n",
       "6     ABACATE          CEAGESP - PIRACICABA  ...               NaN               3.5\n",
       "7     ABACATE      CEAGESP - PRES. PRUDENTE  ...               NaN               NaN\n",
       "8     ABACATE      CEAGESP - S J DOS CAMPOS  ...               NaN               4.7\n",
       "9     ABACATE  CEAGESP - SAO JOSE RIO PRETO  ...               NaN              2.73\n",
       "10    ABACATE           CEAGESP - SAO PAULO  ...               NaN              2.17\n",
       "11    ABACATE            CEAGESP - SOROCABA  ...               NaN              2.16\n",
       "12    ABACATE             CEASA/AL - MACEIO  ...                 5                 5\n",
       "13    ABACATE           CEASA/BA - SALVADOR  ...               NaN               NaN\n",
       "14    ABACATE          CEASA/CE - FORTALEZA  ...               4.5               4.5\n",
       "15    ABACATE            CEASA/CE - TIANGUA  ...               NaN               NaN\n",
       "16    ABACATE           CEASA/DF - BRASILIA  ...              7.36              7.36\n",
       "17    ABACATE            CEASA/ES - VITORIA  ...              2.46               NaN\n",
       "18    ABACATE            CEASA/GO - GOIANIA  ...               NaN               NaN\n",
       "19    ABACATE           CEASA/MA - SAO LUIZ  ...                 8              6.99\n",
       "\n",
       "[20 rows x 29 columns]"
      ]
     },
     "execution_count": 66,
     "metadata": {},
     "output_type": "execute_result"
    }
   ],
   "source": [
    "# Exibindo um dos DataFrames extraídos\n",
    "df_Jan24.head(20)"
   ]
  },
  {
   "cell_type": "code",
   "execution_count": 0,
   "metadata": {
    "application/vnd.databricks.v1+cell": {
     "cellMetadata": {
      "byteLimit": 2048000,
      "rowLimit": 10000
     },
     "inputWidgets": {},
     "nuid": "3ecb3e84-480a-4f5e-b7ff-b9412cff9087",
     "showTitle": false,
     "title": ""
    }
   },
   "outputs": [],
   "source": [
    "# Renomear as colunas para facilitar a manipulação\n",
    "df_Jan24.columns = ['Produto', 'Fornecedor', 'UF'] + df_Jan24.columns[3:].tolist()\n",
    "df_fev24.columns = ['Produto', 'Fornecedor', 'UF'] + df_fev24.columns[3:].tolist()\n",
    "df_mar24.columns = ['Produto', 'Fornecedor', 'UF'] + df_mar24.columns[3:].tolist()\n",
    "df_abr24.columns = ['Produto', 'Fornecedor', 'UF'] + df_abr24.columns[3:].tolist()\n",
    "df_mai24.columns = ['Produto', 'Fornecedor', 'UF'] + df_mai24.columns[3:].tolist()\n",
    "df_jun24.columns = ['Produto', 'Fornecedor', 'UF'] + df_jun24.columns[3:].tolist()"
   ]
  },
  {
   "cell_type": "code",
   "execution_count": 0,
   "metadata": {
    "application/vnd.databricks.v1+cell": {
     "cellMetadata": {
      "byteLimit": 2048000,
      "rowLimit": 10000
     },
     "inputWidgets": {},
     "nuid": "2e01bcab-156b-4857-9c76-ad931536d533",
     "showTitle": false,
     "title": ""
    }
   },
   "outputs": [
    {
     "output_type": "execute_result",
     "data": {
      "text/html": [
       "<div>\n",
       "<style scoped>\n",
       "    .dataframe tbody tr th:only-of-type {\n",
       "        vertical-align: middle;\n",
       "    }\n",
       "\n",
       "    .dataframe tbody tr th {\n",
       "        vertical-align: top;\n",
       "    }\n",
       "\n",
       "    .dataframe thead th {\n",
       "        text-align: right;\n",
       "    }\n",
       "</style>\n",
       "<table border=\"1\" class=\"dataframe\">\n",
       "  <thead>\n",
       "    <tr style=\"text-align: right;\">\n",
       "      <th></th>\n",
       "      <th>Produto</th>\n",
       "      <th>Fornecedor</th>\n",
       "      <th>UF</th>\n",
       "      <th>02-JAN-2024</th>\n",
       "      <th>03-JAN-2024</th>\n",
       "      <th>04-JAN-2024</th>\n",
       "      <th>05-JAN-2024</th>\n",
       "      <th>06-JAN-2024</th>\n",
       "      <th>08-JAN-2024</th>\n",
       "      <th>09-JAN-2024</th>\n",
       "      <th>10-JAN-2024</th>\n",
       "      <th>11-JAN-2024</th>\n",
       "      <th>12-JAN-2024</th>\n",
       "      <th>13-JAN-2024</th>\n",
       "      <th>15-JAN-2024</th>\n",
       "      <th>16-JAN-2024</th>\n",
       "      <th>17-JAN-2024</th>\n",
       "      <th>18-JAN-2024</th>\n",
       "      <th>19-JAN-2024</th>\n",
       "      <th>20-JAN-2024</th>\n",
       "      <th>22-JAN-2024</th>\n",
       "      <th>23-JAN-2024</th>\n",
       "      <th>24-JAN-2024</th>\n",
       "      <th>25-JAN-2024</th>\n",
       "      <th>26-JAN-2024</th>\n",
       "      <th>27-JAN-2024</th>\n",
       "      <th>29-JAN-2024</th>\n",
       "      <th>30-JAN-2024</th>\n",
       "      <th>31-JAN-2024</th>\n",
       "    </tr>\n",
       "  </thead>\n",
       "  <tbody>\n",
       "    <tr>\n",
       "      <th>0</th>\n",
       "      <td>Produto</td>\n",
       "      <td>CEASA</td>\n",
       "      <td>UF CEASA</td>\n",
       "      <td>Preco Medio (R$)</td>\n",
       "      <td>Preco Medio (R$)</td>\n",
       "      <td>Preco Medio (R$)</td>\n",
       "      <td>Preco Medio (R$)</td>\n",
       "      <td>Preco Medio (R$)</td>\n",
       "      <td>Preco Medio (R$)</td>\n",
       "      <td>Preco Medio (R$)</td>\n",
       "      <td>Preco Medio (R$)</td>\n",
       "      <td>Preco Medio (R$)</td>\n",
       "      <td>Preco Medio (R$)</td>\n",
       "      <td>Preco Medio (R$)</td>\n",
       "      <td>Preco Medio (R$)</td>\n",
       "      <td>Preco Medio (R$)</td>\n",
       "      <td>Preco Medio (R$)</td>\n",
       "      <td>Preco Medio (R$)</td>\n",
       "      <td>Preco Medio (R$)</td>\n",
       "      <td>Preco Medio (R$)</td>\n",
       "      <td>Preco Medio (R$)</td>\n",
       "      <td>Preco Medio (R$)</td>\n",
       "      <td>Preco Medio (R$)</td>\n",
       "      <td>Preco Medio (R$)</td>\n",
       "      <td>Preco Medio (R$)</td>\n",
       "      <td>Preco Medio (R$)</td>\n",
       "      <td>Preco Medio (R$)</td>\n",
       "      <td>Preco Medio (R$)</td>\n",
       "      <td>Preco Medio (R$)</td>\n",
       "    </tr>\n",
       "    <tr>\n",
       "      <th>1</th>\n",
       "      <td>ABACATE</td>\n",
       "      <td>AMA/BA - JUAZEIRO</td>\n",
       "      <td>BA</td>\n",
       "      <td>5.4</td>\n",
       "      <td>5.5</td>\n",
       "      <td>5.5</td>\n",
       "      <td>5.75</td>\n",
       "      <td>NaN</td>\n",
       "      <td>4.75</td>\n",
       "      <td>5</td>\n",
       "      <td>5.15</td>\n",
       "      <td>5.15</td>\n",
       "      <td>4.9</td>\n",
       "      <td>NaN</td>\n",
       "      <td>4.5</td>\n",
       "      <td>4.75</td>\n",
       "      <td>4.75</td>\n",
       "      <td>4.75</td>\n",
       "      <td>4.25</td>\n",
       "      <td>NaN</td>\n",
       "      <td>4.25</td>\n",
       "      <td>NaN</td>\n",
       "      <td>4.75</td>\n",
       "      <td>4.5</td>\n",
       "      <td>4.5</td>\n",
       "      <td>NaN</td>\n",
       "      <td>NaN</td>\n",
       "      <td>4.5</td>\n",
       "      <td>4.5</td>\n",
       "    </tr>\n",
       "    <tr>\n",
       "      <th>2</th>\n",
       "      <td>ABACATE</td>\n",
       "      <td>CEAGESP - ARACATUBA</td>\n",
       "      <td>SP</td>\n",
       "      <td>NaN</td>\n",
       "      <td>3.54</td>\n",
       "      <td>NaN</td>\n",
       "      <td>5.67</td>\n",
       "      <td>NaN</td>\n",
       "      <td>5.67</td>\n",
       "      <td>NaN</td>\n",
       "      <td>5.67</td>\n",
       "      <td>NaN</td>\n",
       "      <td>5.37</td>\n",
       "      <td>NaN</td>\n",
       "      <td>5.42</td>\n",
       "      <td>NaN</td>\n",
       "      <td>5.13</td>\n",
       "      <td>NaN</td>\n",
       "      <td>5.03</td>\n",
       "      <td>NaN</td>\n",
       "      <td>5.08</td>\n",
       "      <td>NaN</td>\n",
       "      <td>4.98</td>\n",
       "      <td>NaN</td>\n",
       "      <td>NaN</td>\n",
       "      <td>NaN</td>\n",
       "      <td>5.03</td>\n",
       "      <td>NaN</td>\n",
       "      <td>4.9</td>\n",
       "    </tr>\n",
       "    <tr>\n",
       "      <th>3</th>\n",
       "      <td>ABACATE</td>\n",
       "      <td>CEAGESP - ARARAQUARA</td>\n",
       "      <td>SP</td>\n",
       "      <td>NaN</td>\n",
       "      <td>4.09</td>\n",
       "      <td>NaN</td>\n",
       "      <td>4.09</td>\n",
       "      <td>NaN</td>\n",
       "      <td>3.75</td>\n",
       "      <td>NaN</td>\n",
       "      <td>3.75</td>\n",
       "      <td>NaN</td>\n",
       "      <td>3.3</td>\n",
       "      <td>NaN</td>\n",
       "      <td>3.3</td>\n",
       "      <td>NaN</td>\n",
       "      <td>2.73</td>\n",
       "      <td>NaN</td>\n",
       "      <td>2.73</td>\n",
       "      <td>NaN</td>\n",
       "      <td>2.84</td>\n",
       "      <td>NaN</td>\n",
       "      <td>2.27</td>\n",
       "      <td>NaN</td>\n",
       "      <td>2.05</td>\n",
       "      <td>NaN</td>\n",
       "      <td>2.39</td>\n",
       "      <td>NaN</td>\n",
       "      <td>2.27</td>\n",
       "    </tr>\n",
       "    <tr>\n",
       "      <th>4</th>\n",
       "      <td>ABACATE</td>\n",
       "      <td>CEAGESP - BAURU</td>\n",
       "      <td>SP</td>\n",
       "      <td>NaN</td>\n",
       "      <td>NaN</td>\n",
       "      <td>NaN</td>\n",
       "      <td>NaN</td>\n",
       "      <td>NaN</td>\n",
       "      <td>NaN</td>\n",
       "      <td>NaN</td>\n",
       "      <td>NaN</td>\n",
       "      <td>NaN</td>\n",
       "      <td>NaN</td>\n",
       "      <td>NaN</td>\n",
       "      <td>NaN</td>\n",
       "      <td>3.86</td>\n",
       "      <td>NaN</td>\n",
       "      <td>NaN</td>\n",
       "      <td>2.95</td>\n",
       "      <td>NaN</td>\n",
       "      <td>NaN</td>\n",
       "      <td>NaN</td>\n",
       "      <td>NaN</td>\n",
       "      <td>NaN</td>\n",
       "      <td>2.95</td>\n",
       "      <td>NaN</td>\n",
       "      <td>NaN</td>\n",
       "      <td>3.41</td>\n",
       "      <td>NaN</td>\n",
       "    </tr>\n",
       "    <tr>\n",
       "      <th>5</th>\n",
       "      <td>ABACATE</td>\n",
       "      <td>CEAGESP - FRANCA</td>\n",
       "      <td>SP</td>\n",
       "      <td>NaN</td>\n",
       "      <td>NaN</td>\n",
       "      <td>NaN</td>\n",
       "      <td>NaN</td>\n",
       "      <td>NaN</td>\n",
       "      <td>NaN</td>\n",
       "      <td>6</td>\n",
       "      <td>NaN</td>\n",
       "      <td>7</td>\n",
       "      <td>NaN</td>\n",
       "      <td>NaN</td>\n",
       "      <td>6</td>\n",
       "      <td>NaN</td>\n",
       "      <td>NaN</td>\n",
       "      <td>6</td>\n",
       "      <td>NaN</td>\n",
       "      <td>NaN</td>\n",
       "      <td>6</td>\n",
       "      <td>NaN</td>\n",
       "      <td>NaN</td>\n",
       "      <td>6</td>\n",
       "      <td>NaN</td>\n",
       "      <td>NaN</td>\n",
       "      <td>6</td>\n",
       "      <td>NaN</td>\n",
       "      <td>NaN</td>\n",
       "    </tr>\n",
       "    <tr>\n",
       "      <th>6</th>\n",
       "      <td>ABACATE</td>\n",
       "      <td>CEAGESP - PIRACICABA</td>\n",
       "      <td>SP</td>\n",
       "      <td>NaN</td>\n",
       "      <td>3.5</td>\n",
       "      <td>NaN</td>\n",
       "      <td>3.5</td>\n",
       "      <td>NaN</td>\n",
       "      <td>3.5</td>\n",
       "      <td>NaN</td>\n",
       "      <td>3.5</td>\n",
       "      <td>NaN</td>\n",
       "      <td>3.5</td>\n",
       "      <td>NaN</td>\n",
       "      <td>3.5</td>\n",
       "      <td>NaN</td>\n",
       "      <td>3.5</td>\n",
       "      <td>NaN</td>\n",
       "      <td>3.5</td>\n",
       "      <td>NaN</td>\n",
       "      <td>3.5</td>\n",
       "      <td>NaN</td>\n",
       "      <td>3.5</td>\n",
       "      <td>NaN</td>\n",
       "      <td>3.5</td>\n",
       "      <td>NaN</td>\n",
       "      <td>3.5</td>\n",
       "      <td>NaN</td>\n",
       "      <td>3.5</td>\n",
       "    </tr>\n",
       "    <tr>\n",
       "      <th>7</th>\n",
       "      <td>ABACATE</td>\n",
       "      <td>CEAGESP - PRES. PRUDENTE</td>\n",
       "      <td>SP</td>\n",
       "      <td>NaN</td>\n",
       "      <td>NaN</td>\n",
       "      <td>NaN</td>\n",
       "      <td>NaN</td>\n",
       "      <td>NaN</td>\n",
       "      <td>NaN</td>\n",
       "      <td>NaN</td>\n",
       "      <td>NaN</td>\n",
       "      <td>NaN</td>\n",
       "      <td>3.63</td>\n",
       "      <td>NaN</td>\n",
       "      <td>NaN</td>\n",
       "      <td>NaN</td>\n",
       "      <td>NaN</td>\n",
       "      <td>NaN</td>\n",
       "      <td>3.86</td>\n",
       "      <td>NaN</td>\n",
       "      <td>NaN</td>\n",
       "      <td>NaN</td>\n",
       "      <td>NaN</td>\n",
       "      <td>NaN</td>\n",
       "      <td>2.725</td>\n",
       "      <td>NaN</td>\n",
       "      <td>NaN</td>\n",
       "      <td>NaN</td>\n",
       "      <td>NaN</td>\n",
       "    </tr>\n",
       "    <tr>\n",
       "      <th>8</th>\n",
       "      <td>ABACATE</td>\n",
       "      <td>CEAGESP - S J DOS CAMPOS</td>\n",
       "      <td>SP</td>\n",
       "      <td>NaN</td>\n",
       "      <td>4.75</td>\n",
       "      <td>NaN</td>\n",
       "      <td>4.8</td>\n",
       "      <td>NaN</td>\n",
       "      <td>4.85</td>\n",
       "      <td>NaN</td>\n",
       "      <td>4.9</td>\n",
       "      <td>NaN</td>\n",
       "      <td>4.8</td>\n",
       "      <td>NaN</td>\n",
       "      <td>4.9</td>\n",
       "      <td>NaN</td>\n",
       "      <td>4.8</td>\n",
       "      <td>NaN</td>\n",
       "      <td>5</td>\n",
       "      <td>NaN</td>\n",
       "      <td>5.1</td>\n",
       "      <td>NaN</td>\n",
       "      <td>5</td>\n",
       "      <td>NaN</td>\n",
       "      <td>4.8</td>\n",
       "      <td>NaN</td>\n",
       "      <td>4.8</td>\n",
       "      <td>NaN</td>\n",
       "      <td>4.7</td>\n",
       "    </tr>\n",
       "    <tr>\n",
       "      <th>9</th>\n",
       "      <td>ABACATE</td>\n",
       "      <td>CEAGESP - SAO JOSE RIO PRETO</td>\n",
       "      <td>SP</td>\n",
       "      <td>NaN</td>\n",
       "      <td>NaN</td>\n",
       "      <td>NaN</td>\n",
       "      <td>NaN</td>\n",
       "      <td>NaN</td>\n",
       "      <td>3.41</td>\n",
       "      <td>NaN</td>\n",
       "      <td>3.18</td>\n",
       "      <td>NaN</td>\n",
       "      <td>NaN</td>\n",
       "      <td>NaN</td>\n",
       "      <td>3.86</td>\n",
       "      <td>NaN</td>\n",
       "      <td>2.95</td>\n",
       "      <td>NaN</td>\n",
       "      <td>4.09</td>\n",
       "      <td>NaN</td>\n",
       "      <td>3.64</td>\n",
       "      <td>NaN</td>\n",
       "      <td>2.27</td>\n",
       "      <td>NaN</td>\n",
       "      <td>2.27</td>\n",
       "      <td>NaN</td>\n",
       "      <td>3.41</td>\n",
       "      <td>NaN</td>\n",
       "      <td>2.73</td>\n",
       "    </tr>\n",
       "    <tr>\n",
       "      <th>10</th>\n",
       "      <td>ABACATE</td>\n",
       "      <td>CEAGESP - SAO PAULO</td>\n",
       "      <td>SP</td>\n",
       "      <td>NaN</td>\n",
       "      <td>4.02</td>\n",
       "      <td>NaN</td>\n",
       "      <td>4.01</td>\n",
       "      <td>NaN</td>\n",
       "      <td>3.64</td>\n",
       "      <td>NaN</td>\n",
       "      <td>3.6</td>\n",
       "      <td>NaN</td>\n",
       "      <td>3.61</td>\n",
       "      <td>NaN</td>\n",
       "      <td>3.85</td>\n",
       "      <td>NaN</td>\n",
       "      <td>3.9</td>\n",
       "      <td>NaN</td>\n",
       "      <td>3.8</td>\n",
       "      <td>NaN</td>\n",
       "      <td>3.89</td>\n",
       "      <td>NaN</td>\n",
       "      <td>3.21</td>\n",
       "      <td>NaN</td>\n",
       "      <td>NaN</td>\n",
       "      <td>NaN</td>\n",
       "      <td>2.13</td>\n",
       "      <td>NaN</td>\n",
       "      <td>2.17</td>\n",
       "    </tr>\n",
       "    <tr>\n",
       "      <th>11</th>\n",
       "      <td>ABACATE</td>\n",
       "      <td>CEAGESP - SOROCABA</td>\n",
       "      <td>SP</td>\n",
       "      <td>NaN</td>\n",
       "      <td>NaN</td>\n",
       "      <td>NaN</td>\n",
       "      <td>NaN</td>\n",
       "      <td>NaN</td>\n",
       "      <td>3.64</td>\n",
       "      <td>NaN</td>\n",
       "      <td>3.64</td>\n",
       "      <td>NaN</td>\n",
       "      <td>NaN</td>\n",
       "      <td>NaN</td>\n",
       "      <td>2.73</td>\n",
       "      <td>NaN</td>\n",
       "      <td>2.73</td>\n",
       "      <td>NaN</td>\n",
       "      <td>2.84</td>\n",
       "      <td>NaN</td>\n",
       "      <td>2.5</td>\n",
       "      <td>NaN</td>\n",
       "      <td>2.5</td>\n",
       "      <td>NaN</td>\n",
       "      <td>NaN</td>\n",
       "      <td>NaN</td>\n",
       "      <td>2.16</td>\n",
       "      <td>NaN</td>\n",
       "      <td>2.16</td>\n",
       "    </tr>\n",
       "    <tr>\n",
       "      <th>12</th>\n",
       "      <td>ABACATE</td>\n",
       "      <td>CEASA/AL - MACEIO</td>\n",
       "      <td>AL</td>\n",
       "      <td>NaN</td>\n",
       "      <td>5</td>\n",
       "      <td>5</td>\n",
       "      <td>5</td>\n",
       "      <td>NaN</td>\n",
       "      <td>6</td>\n",
       "      <td>6</td>\n",
       "      <td>6</td>\n",
       "      <td>6</td>\n",
       "      <td>6.5</td>\n",
       "      <td>NaN</td>\n",
       "      <td>6.5</td>\n",
       "      <td>NaN</td>\n",
       "      <td>6.5</td>\n",
       "      <td>NaN</td>\n",
       "      <td>NaN</td>\n",
       "      <td>NaN</td>\n",
       "      <td>6.5</td>\n",
       "      <td>5.5</td>\n",
       "      <td>5</td>\n",
       "      <td>5</td>\n",
       "      <td>5</td>\n",
       "      <td>NaN</td>\n",
       "      <td>5</td>\n",
       "      <td>5</td>\n",
       "      <td>5</td>\n",
       "    </tr>\n",
       "    <tr>\n",
       "      <th>13</th>\n",
       "      <td>ABACATE</td>\n",
       "      <td>CEASA/BA - SALVADOR</td>\n",
       "      <td>BA</td>\n",
       "      <td>NaN</td>\n",
       "      <td>NaN</td>\n",
       "      <td>NaN</td>\n",
       "      <td>7</td>\n",
       "      <td>NaN</td>\n",
       "      <td>8</td>\n",
       "      <td>NaN</td>\n",
       "      <td>8</td>\n",
       "      <td>NaN</td>\n",
       "      <td>NaN</td>\n",
       "      <td>NaN</td>\n",
       "      <td>8</td>\n",
       "      <td>NaN</td>\n",
       "      <td>NaN</td>\n",
       "      <td>NaN</td>\n",
       "      <td>NaN</td>\n",
       "      <td>NaN</td>\n",
       "      <td>7</td>\n",
       "      <td>NaN</td>\n",
       "      <td>NaN</td>\n",
       "      <td>NaN</td>\n",
       "      <td>NaN</td>\n",
       "      <td>NaN</td>\n",
       "      <td>6.5</td>\n",
       "      <td>NaN</td>\n",
       "      <td>NaN</td>\n",
       "    </tr>\n",
       "    <tr>\n",
       "      <th>14</th>\n",
       "      <td>ABACATE</td>\n",
       "      <td>CEASA/CE - FORTALEZA</td>\n",
       "      <td>CE</td>\n",
       "      <td>5.25</td>\n",
       "      <td>4</td>\n",
       "      <td>4</td>\n",
       "      <td>5.5</td>\n",
       "      <td>NaN</td>\n",
       "      <td>4.6</td>\n",
       "      <td>4.4</td>\n",
       "      <td>4.5</td>\n",
       "      <td>4.5</td>\n",
       "      <td>4.5</td>\n",
       "      <td>NaN</td>\n",
       "      <td>4.75</td>\n",
       "      <td>4.75</td>\n",
       "      <td>NaN</td>\n",
       "      <td>4.5</td>\n",
       "      <td>4.25</td>\n",
       "      <td>NaN</td>\n",
       "      <td>4.5</td>\n",
       "      <td>4.5</td>\n",
       "      <td>4.5</td>\n",
       "      <td>NaN</td>\n",
       "      <td>4.75</td>\n",
       "      <td>NaN</td>\n",
       "      <td>4.75</td>\n",
       "      <td>4.5</td>\n",
       "      <td>4.5</td>\n",
       "    </tr>\n",
       "    <tr>\n",
       "      <th>15</th>\n",
       "      <td>ABACATE</td>\n",
       "      <td>CEASA/CE - TIANGUA</td>\n",
       "      <td>CE</td>\n",
       "      <td>NaN</td>\n",
       "      <td>NaN</td>\n",
       "      <td>NaN</td>\n",
       "      <td>NaN</td>\n",
       "      <td>NaN</td>\n",
       "      <td>NaN</td>\n",
       "      <td>NaN</td>\n",
       "      <td>NaN</td>\n",
       "      <td>NaN</td>\n",
       "      <td>NaN</td>\n",
       "      <td>NaN</td>\n",
       "      <td>NaN</td>\n",
       "      <td>NaN</td>\n",
       "      <td>NaN</td>\n",
       "      <td>NaN</td>\n",
       "      <td>NaN</td>\n",
       "      <td>NaN</td>\n",
       "      <td>NaN</td>\n",
       "      <td>2.6</td>\n",
       "      <td>NaN</td>\n",
       "      <td>NaN</td>\n",
       "      <td>NaN</td>\n",
       "      <td>NaN</td>\n",
       "      <td>NaN</td>\n",
       "      <td>NaN</td>\n",
       "      <td>NaN</td>\n",
       "    </tr>\n",
       "    <tr>\n",
       "      <th>16</th>\n",
       "      <td>ABACATE</td>\n",
       "      <td>CEASA/DF - BRASILIA</td>\n",
       "      <td>DF</td>\n",
       "      <td>3.42</td>\n",
       "      <td>3.42</td>\n",
       "      <td>3.25</td>\n",
       "      <td>3.25</td>\n",
       "      <td>NaN</td>\n",
       "      <td>4</td>\n",
       "      <td>4</td>\n",
       "      <td>4</td>\n",
       "      <td>6.5</td>\n",
       "      <td>6.5</td>\n",
       "      <td>NaN</td>\n",
       "      <td>6.5</td>\n",
       "      <td>6.5</td>\n",
       "      <td>6.5</td>\n",
       "      <td>6.5</td>\n",
       "      <td>7.36</td>\n",
       "      <td>NaN</td>\n",
       "      <td>7.36</td>\n",
       "      <td>7.36</td>\n",
       "      <td>7.36</td>\n",
       "      <td>7.36</td>\n",
       "      <td>7.36</td>\n",
       "      <td>NaN</td>\n",
       "      <td>7.36</td>\n",
       "      <td>7.36</td>\n",
       "      <td>7.36</td>\n",
       "    </tr>\n",
       "    <tr>\n",
       "      <th>17</th>\n",
       "      <td>ABACATE</td>\n",
       "      <td>CEASA/ES - VITORIA</td>\n",
       "      <td>ES</td>\n",
       "      <td>NaN</td>\n",
       "      <td>4.8</td>\n",
       "      <td>4.5</td>\n",
       "      <td>4.88</td>\n",
       "      <td>NaN</td>\n",
       "      <td>4.92</td>\n",
       "      <td>4.19</td>\n",
       "      <td>3.8</td>\n",
       "      <td>3.59</td>\n",
       "      <td>3.39</td>\n",
       "      <td>NaN</td>\n",
       "      <td>3.84</td>\n",
       "      <td>3.5</td>\n",
       "      <td>3.34</td>\n",
       "      <td>3.25</td>\n",
       "      <td>2.77</td>\n",
       "      <td>NaN</td>\n",
       "      <td>2.72</td>\n",
       "      <td>NaN</td>\n",
       "      <td>2.61</td>\n",
       "      <td>2.75</td>\n",
       "      <td>2.49</td>\n",
       "      <td>NaN</td>\n",
       "      <td>2.67</td>\n",
       "      <td>2.46</td>\n",
       "      <td>NaN</td>\n",
       "    </tr>\n",
       "    <tr>\n",
       "      <th>18</th>\n",
       "      <td>ABACATE</td>\n",
       "      <td>CEASA/GO - GOIANIA</td>\n",
       "      <td>GO</td>\n",
       "      <td>NaN</td>\n",
       "      <td>NaN</td>\n",
       "      <td>NaN</td>\n",
       "      <td>NaN</td>\n",
       "      <td>NaN</td>\n",
       "      <td>NaN</td>\n",
       "      <td>NaN</td>\n",
       "      <td>NaN</td>\n",
       "      <td>NaN</td>\n",
       "      <td>NaN</td>\n",
       "      <td>NaN</td>\n",
       "      <td>NaN</td>\n",
       "      <td>NaN</td>\n",
       "      <td>NaN</td>\n",
       "      <td>3</td>\n",
       "      <td>NaN</td>\n",
       "      <td>NaN</td>\n",
       "      <td>3</td>\n",
       "      <td>NaN</td>\n",
       "      <td>NaN</td>\n",
       "      <td>NaN</td>\n",
       "      <td>NaN</td>\n",
       "      <td>NaN</td>\n",
       "      <td>NaN</td>\n",
       "      <td>NaN</td>\n",
       "      <td>NaN</td>\n",
       "    </tr>\n",
       "    <tr>\n",
       "      <th>19</th>\n",
       "      <td>ABACATE</td>\n",
       "      <td>CEASA/MA - SAO LUIZ</td>\n",
       "      <td>MA</td>\n",
       "      <td>NaN</td>\n",
       "      <td>7.27</td>\n",
       "      <td>7.25</td>\n",
       "      <td>7.25</td>\n",
       "      <td>7.25</td>\n",
       "      <td>7.49</td>\n",
       "      <td>7.49</td>\n",
       "      <td>7.49</td>\n",
       "      <td>7.49</td>\n",
       "      <td>7.49</td>\n",
       "      <td>NaN</td>\n",
       "      <td>NaN</td>\n",
       "      <td>5.72</td>\n",
       "      <td>5.72</td>\n",
       "      <td>5.72</td>\n",
       "      <td>5.72</td>\n",
       "      <td>NaN</td>\n",
       "      <td>7.24</td>\n",
       "      <td>NaN</td>\n",
       "      <td>NaN</td>\n",
       "      <td>8.99</td>\n",
       "      <td>8.4</td>\n",
       "      <td>6</td>\n",
       "      <td>5.49</td>\n",
       "      <td>8</td>\n",
       "      <td>6.99</td>\n",
       "    </tr>\n",
       "  </tbody>\n",
       "</table>\n",
       "</div>"
      ],
      "text/plain": [
       "    Produto                    Fornecedor  ...       30-JAN-2024       31-JAN-2024\n",
       "0   Produto                         CEASA  ...  Preco Medio (R$)  Preco Medio (R$)\n",
       "1   ABACATE             AMA/BA - JUAZEIRO  ...               4.5               4.5\n",
       "2   ABACATE           CEAGESP - ARACATUBA  ...               NaN               4.9\n",
       "3   ABACATE          CEAGESP - ARARAQUARA  ...               NaN              2.27\n",
       "4   ABACATE               CEAGESP - BAURU  ...              3.41               NaN\n",
       "5   ABACATE              CEAGESP - FRANCA  ...               NaN               NaN\n",
       "6   ABACATE          CEAGESP - PIRACICABA  ...               NaN               3.5\n",
       "7   ABACATE      CEAGESP - PRES. PRUDENTE  ...               NaN               NaN\n",
       "8   ABACATE      CEAGESP - S J DOS CAMPOS  ...               NaN               4.7\n",
       "9   ABACATE  CEAGESP - SAO JOSE RIO PRETO  ...               NaN              2.73\n",
       "10  ABACATE           CEAGESP - SAO PAULO  ...               NaN              2.17\n",
       "11  ABACATE            CEAGESP - SOROCABA  ...               NaN              2.16\n",
       "12  ABACATE             CEASA/AL - MACEIO  ...                 5                 5\n",
       "13  ABACATE           CEASA/BA - SALVADOR  ...               NaN               NaN\n",
       "14  ABACATE          CEASA/CE - FORTALEZA  ...               4.5               4.5\n",
       "15  ABACATE            CEASA/CE - TIANGUA  ...               NaN               NaN\n",
       "16  ABACATE           CEASA/DF - BRASILIA  ...              7.36              7.36\n",
       "17  ABACATE            CEASA/ES - VITORIA  ...              2.46               NaN\n",
       "18  ABACATE            CEASA/GO - GOIANIA  ...               NaN               NaN\n",
       "19  ABACATE           CEASA/MA - SAO LUIZ  ...                 8              6.99\n",
       "\n",
       "[20 rows x 29 columns]"
      ]
     },
     "execution_count": 68,
     "metadata": {},
     "output_type": "execute_result"
    }
   ],
   "source": [
    "# Exibindo um dos DataFrames extraídos após renomear colunas\n",
    "df_Jan24.head(20)"
   ]
  },
  {
   "cell_type": "code",
   "execution_count": 0,
   "metadata": {
    "application/vnd.databricks.v1+cell": {
     "cellMetadata": {
      "byteLimit": 2048000,
      "rowLimit": 10000
     },
     "inputWidgets": {},
     "nuid": "5b8f8dce-3626-44ea-a95c-bc2c561442aa",
     "showTitle": false,
     "title": ""
    }
   },
   "outputs": [],
   "source": [
    "# Remover a primeira linha de cabeçalho adicional\n",
    "df_Jan24 = df_Jan24[1:]\n",
    "df_fev24 = df_fev24[1:]\n",
    "df_mar24 = df_mar24[1:]\n",
    "df_abr24 = df_abr24[1:]\n",
    "df_mai24 = df_mai24[1:]\n",
    "df_jun24 = df_jun24[1:]"
   ]
  },
  {
   "cell_type": "code",
   "execution_count": 0,
   "metadata": {
    "application/vnd.databricks.v1+cell": {
     "cellMetadata": {
      "byteLimit": 2048000,
      "rowLimit": 10000
     },
     "inputWidgets": {},
     "nuid": "a8ddfa92-fac2-421d-b64e-029decac2131",
     "showTitle": false,
     "title": ""
    }
   },
   "outputs": [
    {
     "output_type": "execute_result",
     "data": {
      "text/html": [
       "<div>\n",
       "<style scoped>\n",
       "    .dataframe tbody tr th:only-of-type {\n",
       "        vertical-align: middle;\n",
       "    }\n",
       "\n",
       "    .dataframe tbody tr th {\n",
       "        vertical-align: top;\n",
       "    }\n",
       "\n",
       "    .dataframe thead th {\n",
       "        text-align: right;\n",
       "    }\n",
       "</style>\n",
       "<table border=\"1\" class=\"dataframe\">\n",
       "  <thead>\n",
       "    <tr style=\"text-align: right;\">\n",
       "      <th></th>\n",
       "      <th>Produto</th>\n",
       "      <th>Fornecedor</th>\n",
       "      <th>UF</th>\n",
       "      <th>02-JAN-2024</th>\n",
       "      <th>03-JAN-2024</th>\n",
       "      <th>04-JAN-2024</th>\n",
       "      <th>05-JAN-2024</th>\n",
       "      <th>06-JAN-2024</th>\n",
       "      <th>08-JAN-2024</th>\n",
       "      <th>09-JAN-2024</th>\n",
       "      <th>10-JAN-2024</th>\n",
       "      <th>11-JAN-2024</th>\n",
       "      <th>12-JAN-2024</th>\n",
       "      <th>13-JAN-2024</th>\n",
       "      <th>15-JAN-2024</th>\n",
       "      <th>16-JAN-2024</th>\n",
       "      <th>17-JAN-2024</th>\n",
       "      <th>18-JAN-2024</th>\n",
       "      <th>19-JAN-2024</th>\n",
       "      <th>20-JAN-2024</th>\n",
       "      <th>22-JAN-2024</th>\n",
       "      <th>23-JAN-2024</th>\n",
       "      <th>24-JAN-2024</th>\n",
       "      <th>25-JAN-2024</th>\n",
       "      <th>26-JAN-2024</th>\n",
       "      <th>27-JAN-2024</th>\n",
       "      <th>29-JAN-2024</th>\n",
       "      <th>30-JAN-2024</th>\n",
       "      <th>31-JAN-2024</th>\n",
       "    </tr>\n",
       "  </thead>\n",
       "  <tbody>\n",
       "    <tr>\n",
       "      <th>1</th>\n",
       "      <td>ABACATE</td>\n",
       "      <td>AMA/BA - JUAZEIRO</td>\n",
       "      <td>BA</td>\n",
       "      <td>5.4</td>\n",
       "      <td>5.5</td>\n",
       "      <td>5.5</td>\n",
       "      <td>5.75</td>\n",
       "      <td>NaN</td>\n",
       "      <td>4.75</td>\n",
       "      <td>5</td>\n",
       "      <td>5.15</td>\n",
       "      <td>5.15</td>\n",
       "      <td>4.9</td>\n",
       "      <td>NaN</td>\n",
       "      <td>4.5</td>\n",
       "      <td>4.75</td>\n",
       "      <td>4.75</td>\n",
       "      <td>4.75</td>\n",
       "      <td>4.25</td>\n",
       "      <td>NaN</td>\n",
       "      <td>4.25</td>\n",
       "      <td>NaN</td>\n",
       "      <td>4.75</td>\n",
       "      <td>4.5</td>\n",
       "      <td>4.5</td>\n",
       "      <td>NaN</td>\n",
       "      <td>NaN</td>\n",
       "      <td>4.5</td>\n",
       "      <td>4.5</td>\n",
       "    </tr>\n",
       "    <tr>\n",
       "      <th>2</th>\n",
       "      <td>ABACATE</td>\n",
       "      <td>CEAGESP - ARACATUBA</td>\n",
       "      <td>SP</td>\n",
       "      <td>NaN</td>\n",
       "      <td>3.54</td>\n",
       "      <td>NaN</td>\n",
       "      <td>5.67</td>\n",
       "      <td>NaN</td>\n",
       "      <td>5.67</td>\n",
       "      <td>NaN</td>\n",
       "      <td>5.67</td>\n",
       "      <td>NaN</td>\n",
       "      <td>5.37</td>\n",
       "      <td>NaN</td>\n",
       "      <td>5.42</td>\n",
       "      <td>NaN</td>\n",
       "      <td>5.13</td>\n",
       "      <td>NaN</td>\n",
       "      <td>5.03</td>\n",
       "      <td>NaN</td>\n",
       "      <td>5.08</td>\n",
       "      <td>NaN</td>\n",
       "      <td>4.98</td>\n",
       "      <td>NaN</td>\n",
       "      <td>NaN</td>\n",
       "      <td>NaN</td>\n",
       "      <td>5.03</td>\n",
       "      <td>NaN</td>\n",
       "      <td>4.9</td>\n",
       "    </tr>\n",
       "    <tr>\n",
       "      <th>3</th>\n",
       "      <td>ABACATE</td>\n",
       "      <td>CEAGESP - ARARAQUARA</td>\n",
       "      <td>SP</td>\n",
       "      <td>NaN</td>\n",
       "      <td>4.09</td>\n",
       "      <td>NaN</td>\n",
       "      <td>4.09</td>\n",
       "      <td>NaN</td>\n",
       "      <td>3.75</td>\n",
       "      <td>NaN</td>\n",
       "      <td>3.75</td>\n",
       "      <td>NaN</td>\n",
       "      <td>3.3</td>\n",
       "      <td>NaN</td>\n",
       "      <td>3.3</td>\n",
       "      <td>NaN</td>\n",
       "      <td>2.73</td>\n",
       "      <td>NaN</td>\n",
       "      <td>2.73</td>\n",
       "      <td>NaN</td>\n",
       "      <td>2.84</td>\n",
       "      <td>NaN</td>\n",
       "      <td>2.27</td>\n",
       "      <td>NaN</td>\n",
       "      <td>2.05</td>\n",
       "      <td>NaN</td>\n",
       "      <td>2.39</td>\n",
       "      <td>NaN</td>\n",
       "      <td>2.27</td>\n",
       "    </tr>\n",
       "    <tr>\n",
       "      <th>4</th>\n",
       "      <td>ABACATE</td>\n",
       "      <td>CEAGESP - BAURU</td>\n",
       "      <td>SP</td>\n",
       "      <td>NaN</td>\n",
       "      <td>NaN</td>\n",
       "      <td>NaN</td>\n",
       "      <td>NaN</td>\n",
       "      <td>NaN</td>\n",
       "      <td>NaN</td>\n",
       "      <td>NaN</td>\n",
       "      <td>NaN</td>\n",
       "      <td>NaN</td>\n",
       "      <td>NaN</td>\n",
       "      <td>NaN</td>\n",
       "      <td>NaN</td>\n",
       "      <td>3.86</td>\n",
       "      <td>NaN</td>\n",
       "      <td>NaN</td>\n",
       "      <td>2.95</td>\n",
       "      <td>NaN</td>\n",
       "      <td>NaN</td>\n",
       "      <td>NaN</td>\n",
       "      <td>NaN</td>\n",
       "      <td>NaN</td>\n",
       "      <td>2.95</td>\n",
       "      <td>NaN</td>\n",
       "      <td>NaN</td>\n",
       "      <td>3.41</td>\n",
       "      <td>NaN</td>\n",
       "    </tr>\n",
       "    <tr>\n",
       "      <th>5</th>\n",
       "      <td>ABACATE</td>\n",
       "      <td>CEAGESP - FRANCA</td>\n",
       "      <td>SP</td>\n",
       "      <td>NaN</td>\n",
       "      <td>NaN</td>\n",
       "      <td>NaN</td>\n",
       "      <td>NaN</td>\n",
       "      <td>NaN</td>\n",
       "      <td>NaN</td>\n",
       "      <td>6</td>\n",
       "      <td>NaN</td>\n",
       "      <td>7</td>\n",
       "      <td>NaN</td>\n",
       "      <td>NaN</td>\n",
       "      <td>6</td>\n",
       "      <td>NaN</td>\n",
       "      <td>NaN</td>\n",
       "      <td>6</td>\n",
       "      <td>NaN</td>\n",
       "      <td>NaN</td>\n",
       "      <td>6</td>\n",
       "      <td>NaN</td>\n",
       "      <td>NaN</td>\n",
       "      <td>6</td>\n",
       "      <td>NaN</td>\n",
       "      <td>NaN</td>\n",
       "      <td>6</td>\n",
       "      <td>NaN</td>\n",
       "      <td>NaN</td>\n",
       "    </tr>\n",
       "    <tr>\n",
       "      <th>6</th>\n",
       "      <td>ABACATE</td>\n",
       "      <td>CEAGESP - PIRACICABA</td>\n",
       "      <td>SP</td>\n",
       "      <td>NaN</td>\n",
       "      <td>3.5</td>\n",
       "      <td>NaN</td>\n",
       "      <td>3.5</td>\n",
       "      <td>NaN</td>\n",
       "      <td>3.5</td>\n",
       "      <td>NaN</td>\n",
       "      <td>3.5</td>\n",
       "      <td>NaN</td>\n",
       "      <td>3.5</td>\n",
       "      <td>NaN</td>\n",
       "      <td>3.5</td>\n",
       "      <td>NaN</td>\n",
       "      <td>3.5</td>\n",
       "      <td>NaN</td>\n",
       "      <td>3.5</td>\n",
       "      <td>NaN</td>\n",
       "      <td>3.5</td>\n",
       "      <td>NaN</td>\n",
       "      <td>3.5</td>\n",
       "      <td>NaN</td>\n",
       "      <td>3.5</td>\n",
       "      <td>NaN</td>\n",
       "      <td>3.5</td>\n",
       "      <td>NaN</td>\n",
       "      <td>3.5</td>\n",
       "    </tr>\n",
       "    <tr>\n",
       "      <th>7</th>\n",
       "      <td>ABACATE</td>\n",
       "      <td>CEAGESP - PRES. PRUDENTE</td>\n",
       "      <td>SP</td>\n",
       "      <td>NaN</td>\n",
       "      <td>NaN</td>\n",
       "      <td>NaN</td>\n",
       "      <td>NaN</td>\n",
       "      <td>NaN</td>\n",
       "      <td>NaN</td>\n",
       "      <td>NaN</td>\n",
       "      <td>NaN</td>\n",
       "      <td>NaN</td>\n",
       "      <td>3.63</td>\n",
       "      <td>NaN</td>\n",
       "      <td>NaN</td>\n",
       "      <td>NaN</td>\n",
       "      <td>NaN</td>\n",
       "      <td>NaN</td>\n",
       "      <td>3.86</td>\n",
       "      <td>NaN</td>\n",
       "      <td>NaN</td>\n",
       "      <td>NaN</td>\n",
       "      <td>NaN</td>\n",
       "      <td>NaN</td>\n",
       "      <td>2.725</td>\n",
       "      <td>NaN</td>\n",
       "      <td>NaN</td>\n",
       "      <td>NaN</td>\n",
       "      <td>NaN</td>\n",
       "    </tr>\n",
       "    <tr>\n",
       "      <th>8</th>\n",
       "      <td>ABACATE</td>\n",
       "      <td>CEAGESP - S J DOS CAMPOS</td>\n",
       "      <td>SP</td>\n",
       "      <td>NaN</td>\n",
       "      <td>4.75</td>\n",
       "      <td>NaN</td>\n",
       "      <td>4.8</td>\n",
       "      <td>NaN</td>\n",
       "      <td>4.85</td>\n",
       "      <td>NaN</td>\n",
       "      <td>4.9</td>\n",
       "      <td>NaN</td>\n",
       "      <td>4.8</td>\n",
       "      <td>NaN</td>\n",
       "      <td>4.9</td>\n",
       "      <td>NaN</td>\n",
       "      <td>4.8</td>\n",
       "      <td>NaN</td>\n",
       "      <td>5</td>\n",
       "      <td>NaN</td>\n",
       "      <td>5.1</td>\n",
       "      <td>NaN</td>\n",
       "      <td>5</td>\n",
       "      <td>NaN</td>\n",
       "      <td>4.8</td>\n",
       "      <td>NaN</td>\n",
       "      <td>4.8</td>\n",
       "      <td>NaN</td>\n",
       "      <td>4.7</td>\n",
       "    </tr>\n",
       "    <tr>\n",
       "      <th>9</th>\n",
       "      <td>ABACATE</td>\n",
       "      <td>CEAGESP - SAO JOSE RIO PRETO</td>\n",
       "      <td>SP</td>\n",
       "      <td>NaN</td>\n",
       "      <td>NaN</td>\n",
       "      <td>NaN</td>\n",
       "      <td>NaN</td>\n",
       "      <td>NaN</td>\n",
       "      <td>3.41</td>\n",
       "      <td>NaN</td>\n",
       "      <td>3.18</td>\n",
       "      <td>NaN</td>\n",
       "      <td>NaN</td>\n",
       "      <td>NaN</td>\n",
       "      <td>3.86</td>\n",
       "      <td>NaN</td>\n",
       "      <td>2.95</td>\n",
       "      <td>NaN</td>\n",
       "      <td>4.09</td>\n",
       "      <td>NaN</td>\n",
       "      <td>3.64</td>\n",
       "      <td>NaN</td>\n",
       "      <td>2.27</td>\n",
       "      <td>NaN</td>\n",
       "      <td>2.27</td>\n",
       "      <td>NaN</td>\n",
       "      <td>3.41</td>\n",
       "      <td>NaN</td>\n",
       "      <td>2.73</td>\n",
       "    </tr>\n",
       "    <tr>\n",
       "      <th>10</th>\n",
       "      <td>ABACATE</td>\n",
       "      <td>CEAGESP - SAO PAULO</td>\n",
       "      <td>SP</td>\n",
       "      <td>NaN</td>\n",
       "      <td>4.02</td>\n",
       "      <td>NaN</td>\n",
       "      <td>4.01</td>\n",
       "      <td>NaN</td>\n",
       "      <td>3.64</td>\n",
       "      <td>NaN</td>\n",
       "      <td>3.6</td>\n",
       "      <td>NaN</td>\n",
       "      <td>3.61</td>\n",
       "      <td>NaN</td>\n",
       "      <td>3.85</td>\n",
       "      <td>NaN</td>\n",
       "      <td>3.9</td>\n",
       "      <td>NaN</td>\n",
       "      <td>3.8</td>\n",
       "      <td>NaN</td>\n",
       "      <td>3.89</td>\n",
       "      <td>NaN</td>\n",
       "      <td>3.21</td>\n",
       "      <td>NaN</td>\n",
       "      <td>NaN</td>\n",
       "      <td>NaN</td>\n",
       "      <td>2.13</td>\n",
       "      <td>NaN</td>\n",
       "      <td>2.17</td>\n",
       "    </tr>\n",
       "    <tr>\n",
       "      <th>11</th>\n",
       "      <td>ABACATE</td>\n",
       "      <td>CEAGESP - SOROCABA</td>\n",
       "      <td>SP</td>\n",
       "      <td>NaN</td>\n",
       "      <td>NaN</td>\n",
       "      <td>NaN</td>\n",
       "      <td>NaN</td>\n",
       "      <td>NaN</td>\n",
       "      <td>3.64</td>\n",
       "      <td>NaN</td>\n",
       "      <td>3.64</td>\n",
       "      <td>NaN</td>\n",
       "      <td>NaN</td>\n",
       "      <td>NaN</td>\n",
       "      <td>2.73</td>\n",
       "      <td>NaN</td>\n",
       "      <td>2.73</td>\n",
       "      <td>NaN</td>\n",
       "      <td>2.84</td>\n",
       "      <td>NaN</td>\n",
       "      <td>2.5</td>\n",
       "      <td>NaN</td>\n",
       "      <td>2.5</td>\n",
       "      <td>NaN</td>\n",
       "      <td>NaN</td>\n",
       "      <td>NaN</td>\n",
       "      <td>2.16</td>\n",
       "      <td>NaN</td>\n",
       "      <td>2.16</td>\n",
       "    </tr>\n",
       "    <tr>\n",
       "      <th>12</th>\n",
       "      <td>ABACATE</td>\n",
       "      <td>CEASA/AL - MACEIO</td>\n",
       "      <td>AL</td>\n",
       "      <td>NaN</td>\n",
       "      <td>5</td>\n",
       "      <td>5</td>\n",
       "      <td>5</td>\n",
       "      <td>NaN</td>\n",
       "      <td>6</td>\n",
       "      <td>6</td>\n",
       "      <td>6</td>\n",
       "      <td>6</td>\n",
       "      <td>6.5</td>\n",
       "      <td>NaN</td>\n",
       "      <td>6.5</td>\n",
       "      <td>NaN</td>\n",
       "      <td>6.5</td>\n",
       "      <td>NaN</td>\n",
       "      <td>NaN</td>\n",
       "      <td>NaN</td>\n",
       "      <td>6.5</td>\n",
       "      <td>5.5</td>\n",
       "      <td>5</td>\n",
       "      <td>5</td>\n",
       "      <td>5</td>\n",
       "      <td>NaN</td>\n",
       "      <td>5</td>\n",
       "      <td>5</td>\n",
       "      <td>5</td>\n",
       "    </tr>\n",
       "    <tr>\n",
       "      <th>13</th>\n",
       "      <td>ABACATE</td>\n",
       "      <td>CEASA/BA - SALVADOR</td>\n",
       "      <td>BA</td>\n",
       "      <td>NaN</td>\n",
       "      <td>NaN</td>\n",
       "      <td>NaN</td>\n",
       "      <td>7</td>\n",
       "      <td>NaN</td>\n",
       "      <td>8</td>\n",
       "      <td>NaN</td>\n",
       "      <td>8</td>\n",
       "      <td>NaN</td>\n",
       "      <td>NaN</td>\n",
       "      <td>NaN</td>\n",
       "      <td>8</td>\n",
       "      <td>NaN</td>\n",
       "      <td>NaN</td>\n",
       "      <td>NaN</td>\n",
       "      <td>NaN</td>\n",
       "      <td>NaN</td>\n",
       "      <td>7</td>\n",
       "      <td>NaN</td>\n",
       "      <td>NaN</td>\n",
       "      <td>NaN</td>\n",
       "      <td>NaN</td>\n",
       "      <td>NaN</td>\n",
       "      <td>6.5</td>\n",
       "      <td>NaN</td>\n",
       "      <td>NaN</td>\n",
       "    </tr>\n",
       "    <tr>\n",
       "      <th>14</th>\n",
       "      <td>ABACATE</td>\n",
       "      <td>CEASA/CE - FORTALEZA</td>\n",
       "      <td>CE</td>\n",
       "      <td>5.25</td>\n",
       "      <td>4</td>\n",
       "      <td>4</td>\n",
       "      <td>5.5</td>\n",
       "      <td>NaN</td>\n",
       "      <td>4.6</td>\n",
       "      <td>4.4</td>\n",
       "      <td>4.5</td>\n",
       "      <td>4.5</td>\n",
       "      <td>4.5</td>\n",
       "      <td>NaN</td>\n",
       "      <td>4.75</td>\n",
       "      <td>4.75</td>\n",
       "      <td>NaN</td>\n",
       "      <td>4.5</td>\n",
       "      <td>4.25</td>\n",
       "      <td>NaN</td>\n",
       "      <td>4.5</td>\n",
       "      <td>4.5</td>\n",
       "      <td>4.5</td>\n",
       "      <td>NaN</td>\n",
       "      <td>4.75</td>\n",
       "      <td>NaN</td>\n",
       "      <td>4.75</td>\n",
       "      <td>4.5</td>\n",
       "      <td>4.5</td>\n",
       "    </tr>\n",
       "    <tr>\n",
       "      <th>15</th>\n",
       "      <td>ABACATE</td>\n",
       "      <td>CEASA/CE - TIANGUA</td>\n",
       "      <td>CE</td>\n",
       "      <td>NaN</td>\n",
       "      <td>NaN</td>\n",
       "      <td>NaN</td>\n",
       "      <td>NaN</td>\n",
       "      <td>NaN</td>\n",
       "      <td>NaN</td>\n",
       "      <td>NaN</td>\n",
       "      <td>NaN</td>\n",
       "      <td>NaN</td>\n",
       "      <td>NaN</td>\n",
       "      <td>NaN</td>\n",
       "      <td>NaN</td>\n",
       "      <td>NaN</td>\n",
       "      <td>NaN</td>\n",
       "      <td>NaN</td>\n",
       "      <td>NaN</td>\n",
       "      <td>NaN</td>\n",
       "      <td>NaN</td>\n",
       "      <td>2.6</td>\n",
       "      <td>NaN</td>\n",
       "      <td>NaN</td>\n",
       "      <td>NaN</td>\n",
       "      <td>NaN</td>\n",
       "      <td>NaN</td>\n",
       "      <td>NaN</td>\n",
       "      <td>NaN</td>\n",
       "    </tr>\n",
       "    <tr>\n",
       "      <th>16</th>\n",
       "      <td>ABACATE</td>\n",
       "      <td>CEASA/DF - BRASILIA</td>\n",
       "      <td>DF</td>\n",
       "      <td>3.42</td>\n",
       "      <td>3.42</td>\n",
       "      <td>3.25</td>\n",
       "      <td>3.25</td>\n",
       "      <td>NaN</td>\n",
       "      <td>4</td>\n",
       "      <td>4</td>\n",
       "      <td>4</td>\n",
       "      <td>6.5</td>\n",
       "      <td>6.5</td>\n",
       "      <td>NaN</td>\n",
       "      <td>6.5</td>\n",
       "      <td>6.5</td>\n",
       "      <td>6.5</td>\n",
       "      <td>6.5</td>\n",
       "      <td>7.36</td>\n",
       "      <td>NaN</td>\n",
       "      <td>7.36</td>\n",
       "      <td>7.36</td>\n",
       "      <td>7.36</td>\n",
       "      <td>7.36</td>\n",
       "      <td>7.36</td>\n",
       "      <td>NaN</td>\n",
       "      <td>7.36</td>\n",
       "      <td>7.36</td>\n",
       "      <td>7.36</td>\n",
       "    </tr>\n",
       "    <tr>\n",
       "      <th>17</th>\n",
       "      <td>ABACATE</td>\n",
       "      <td>CEASA/ES - VITORIA</td>\n",
       "      <td>ES</td>\n",
       "      <td>NaN</td>\n",
       "      <td>4.8</td>\n",
       "      <td>4.5</td>\n",
       "      <td>4.88</td>\n",
       "      <td>NaN</td>\n",
       "      <td>4.92</td>\n",
       "      <td>4.19</td>\n",
       "      <td>3.8</td>\n",
       "      <td>3.59</td>\n",
       "      <td>3.39</td>\n",
       "      <td>NaN</td>\n",
       "      <td>3.84</td>\n",
       "      <td>3.5</td>\n",
       "      <td>3.34</td>\n",
       "      <td>3.25</td>\n",
       "      <td>2.77</td>\n",
       "      <td>NaN</td>\n",
       "      <td>2.72</td>\n",
       "      <td>NaN</td>\n",
       "      <td>2.61</td>\n",
       "      <td>2.75</td>\n",
       "      <td>2.49</td>\n",
       "      <td>NaN</td>\n",
       "      <td>2.67</td>\n",
       "      <td>2.46</td>\n",
       "      <td>NaN</td>\n",
       "    </tr>\n",
       "    <tr>\n",
       "      <th>18</th>\n",
       "      <td>ABACATE</td>\n",
       "      <td>CEASA/GO - GOIANIA</td>\n",
       "      <td>GO</td>\n",
       "      <td>NaN</td>\n",
       "      <td>NaN</td>\n",
       "      <td>NaN</td>\n",
       "      <td>NaN</td>\n",
       "      <td>NaN</td>\n",
       "      <td>NaN</td>\n",
       "      <td>NaN</td>\n",
       "      <td>NaN</td>\n",
       "      <td>NaN</td>\n",
       "      <td>NaN</td>\n",
       "      <td>NaN</td>\n",
       "      <td>NaN</td>\n",
       "      <td>NaN</td>\n",
       "      <td>NaN</td>\n",
       "      <td>3</td>\n",
       "      <td>NaN</td>\n",
       "      <td>NaN</td>\n",
       "      <td>3</td>\n",
       "      <td>NaN</td>\n",
       "      <td>NaN</td>\n",
       "      <td>NaN</td>\n",
       "      <td>NaN</td>\n",
       "      <td>NaN</td>\n",
       "      <td>NaN</td>\n",
       "      <td>NaN</td>\n",
       "      <td>NaN</td>\n",
       "    </tr>\n",
       "    <tr>\n",
       "      <th>19</th>\n",
       "      <td>ABACATE</td>\n",
       "      <td>CEASA/MA - SAO LUIZ</td>\n",
       "      <td>MA</td>\n",
       "      <td>NaN</td>\n",
       "      <td>7.27</td>\n",
       "      <td>7.25</td>\n",
       "      <td>7.25</td>\n",
       "      <td>7.25</td>\n",
       "      <td>7.49</td>\n",
       "      <td>7.49</td>\n",
       "      <td>7.49</td>\n",
       "      <td>7.49</td>\n",
       "      <td>7.49</td>\n",
       "      <td>NaN</td>\n",
       "      <td>NaN</td>\n",
       "      <td>5.72</td>\n",
       "      <td>5.72</td>\n",
       "      <td>5.72</td>\n",
       "      <td>5.72</td>\n",
       "      <td>NaN</td>\n",
       "      <td>7.24</td>\n",
       "      <td>NaN</td>\n",
       "      <td>NaN</td>\n",
       "      <td>8.99</td>\n",
       "      <td>8.4</td>\n",
       "      <td>6</td>\n",
       "      <td>5.49</td>\n",
       "      <td>8</td>\n",
       "      <td>6.99</td>\n",
       "    </tr>\n",
       "    <tr>\n",
       "      <th>20</th>\n",
       "      <td>ABACATE</td>\n",
       "      <td>CEASA/MS - CAMPO GRANDE</td>\n",
       "      <td>MS</td>\n",
       "      <td>NaN</td>\n",
       "      <td>NaN</td>\n",
       "      <td>NaN</td>\n",
       "      <td>NaN</td>\n",
       "      <td>NaN</td>\n",
       "      <td>NaN</td>\n",
       "      <td>NaN</td>\n",
       "      <td>NaN</td>\n",
       "      <td>NaN</td>\n",
       "      <td>NaN</td>\n",
       "      <td>NaN</td>\n",
       "      <td>NaN</td>\n",
       "      <td>NaN</td>\n",
       "      <td>NaN</td>\n",
       "      <td>NaN</td>\n",
       "      <td>NaN</td>\n",
       "      <td>NaN</td>\n",
       "      <td>NaN</td>\n",
       "      <td>4</td>\n",
       "      <td>NaN</td>\n",
       "      <td>NaN</td>\n",
       "      <td>NaN</td>\n",
       "      <td>NaN</td>\n",
       "      <td>NaN</td>\n",
       "      <td>NaN</td>\n",
       "      <td>NaN</td>\n",
       "    </tr>\n",
       "  </tbody>\n",
       "</table>\n",
       "</div>"
      ],
      "text/plain": [
       "    Produto                    Fornecedor  ... 30-JAN-2024 31-JAN-2024\n",
       "1   ABACATE             AMA/BA - JUAZEIRO  ...         4.5         4.5\n",
       "2   ABACATE           CEAGESP - ARACATUBA  ...         NaN         4.9\n",
       "3   ABACATE          CEAGESP - ARARAQUARA  ...         NaN        2.27\n",
       "4   ABACATE               CEAGESP - BAURU  ...        3.41         NaN\n",
       "5   ABACATE              CEAGESP - FRANCA  ...         NaN         NaN\n",
       "6   ABACATE          CEAGESP - PIRACICABA  ...         NaN         3.5\n",
       "7   ABACATE      CEAGESP - PRES. PRUDENTE  ...         NaN         NaN\n",
       "8   ABACATE      CEAGESP - S J DOS CAMPOS  ...         NaN         4.7\n",
       "9   ABACATE  CEAGESP - SAO JOSE RIO PRETO  ...         NaN        2.73\n",
       "10  ABACATE           CEAGESP - SAO PAULO  ...         NaN        2.17\n",
       "11  ABACATE            CEAGESP - SOROCABA  ...         NaN        2.16\n",
       "12  ABACATE             CEASA/AL - MACEIO  ...           5           5\n",
       "13  ABACATE           CEASA/BA - SALVADOR  ...         NaN         NaN\n",
       "14  ABACATE          CEASA/CE - FORTALEZA  ...         4.5         4.5\n",
       "15  ABACATE            CEASA/CE - TIANGUA  ...         NaN         NaN\n",
       "16  ABACATE           CEASA/DF - BRASILIA  ...        7.36        7.36\n",
       "17  ABACATE            CEASA/ES - VITORIA  ...        2.46         NaN\n",
       "18  ABACATE            CEASA/GO - GOIANIA  ...         NaN         NaN\n",
       "19  ABACATE           CEASA/MA - SAO LUIZ  ...           8        6.99\n",
       "20  ABACATE       CEASA/MS - CAMPO GRANDE  ...         NaN         NaN\n",
       "\n",
       "[20 rows x 29 columns]"
      ]
     },
     "execution_count": 70,
     "metadata": {},
     "output_type": "execute_result"
    }
   ],
   "source": [
    "# Exibindo um dos DataFrames extraídos após remover primeira linha do cabeçaçho adicional\n",
    "df_Jan24.head(20)"
   ]
  },
  {
   "cell_type": "code",
   "execution_count": 0,
   "metadata": {
    "application/vnd.databricks.v1+cell": {
     "cellMetadata": {
      "byteLimit": 2048000,
      "rowLimit": 10000
     },
     "inputWidgets": {},
     "nuid": "379eb930-38ed-4411-8584-506db1585f02",
     "showTitle": false,
     "title": ""
    }
   },
   "outputs": [],
   "source": [
    "# Criando uma função que usa a função melt para transformar os dados em cada df(Derreter as colunas para a Tabela ficar em um formato longo e estreito)\n",
    "def reshape_dataframe(df):\n",
    "    df_melted = df.melt(id_vars=['Produto', 'Fornecedor', 'UF'], var_name='Data', value_name='Preco_Medio')\n",
    "    return df_melted"
   ]
  },
  {
   "cell_type": "code",
   "execution_count": 0,
   "metadata": {
    "application/vnd.databricks.v1+cell": {
     "cellMetadata": {
      "byteLimit": 2048000,
      "rowLimit": 10000
     },
     "inputWidgets": {},
     "nuid": "0a38663f-bb77-44a0-ae0d-af5d094116e2",
     "showTitle": false,
     "title": ""
    }
   },
   "outputs": [],
   "source": [
    "# Usando a funcão criada \n",
    "df_Jan24_melted = reshape_dataframe(df_Jan24)\n",
    "df_fev24_melted = reshape_dataframe(df_fev24)\n",
    "df_mar24_melted = reshape_dataframe(df_mar24)\n",
    "df_abr24_melted = reshape_dataframe(df_abr24)\n",
    "df_mai24_melted = reshape_dataframe(df_mai24)\n",
    "df_jun24_melted = reshape_dataframe(df_jun24)"
   ]
  },
  {
   "cell_type": "code",
   "execution_count": 0,
   "metadata": {
    "application/vnd.databricks.v1+cell": {
     "cellMetadata": {
      "byteLimit": 2048000,
      "rowLimit": 10000
     },
     "inputWidgets": {},
     "nuid": "6fb345f3-3003-48cf-bc2c-71b1572fd60d",
     "showTitle": false,
     "title": ""
    }
   },
   "outputs": [
    {
     "output_type": "execute_result",
     "data": {
      "text/html": [
       "<div>\n",
       "<style scoped>\n",
       "    .dataframe tbody tr th:only-of-type {\n",
       "        vertical-align: middle;\n",
       "    }\n",
       "\n",
       "    .dataframe tbody tr th {\n",
       "        vertical-align: top;\n",
       "    }\n",
       "\n",
       "    .dataframe thead th {\n",
       "        text-align: right;\n",
       "    }\n",
       "</style>\n",
       "<table border=\"1\" class=\"dataframe\">\n",
       "  <thead>\n",
       "    <tr style=\"text-align: right;\">\n",
       "      <th></th>\n",
       "      <th>Produto</th>\n",
       "      <th>Fornecedor</th>\n",
       "      <th>UF</th>\n",
       "      <th>Data</th>\n",
       "      <th>Preco_Medio</th>\n",
       "    </tr>\n",
       "  </thead>\n",
       "  <tbody>\n",
       "    <tr>\n",
       "      <th>0</th>\n",
       "      <td>ABACATE</td>\n",
       "      <td>AMA/BA - JUAZEIRO</td>\n",
       "      <td>BA</td>\n",
       "      <td>02-JAN-2024</td>\n",
       "      <td>5.4</td>\n",
       "    </tr>\n",
       "    <tr>\n",
       "      <th>1</th>\n",
       "      <td>ABACATE</td>\n",
       "      <td>CEAGESP - ARACATUBA</td>\n",
       "      <td>SP</td>\n",
       "      <td>02-JAN-2024</td>\n",
       "      <td>NaN</td>\n",
       "    </tr>\n",
       "    <tr>\n",
       "      <th>2</th>\n",
       "      <td>ABACATE</td>\n",
       "      <td>CEAGESP - ARARAQUARA</td>\n",
       "      <td>SP</td>\n",
       "      <td>02-JAN-2024</td>\n",
       "      <td>NaN</td>\n",
       "    </tr>\n",
       "    <tr>\n",
       "      <th>3</th>\n",
       "      <td>ABACATE</td>\n",
       "      <td>CEAGESP - BAURU</td>\n",
       "      <td>SP</td>\n",
       "      <td>02-JAN-2024</td>\n",
       "      <td>NaN</td>\n",
       "    </tr>\n",
       "    <tr>\n",
       "      <th>4</th>\n",
       "      <td>ABACATE</td>\n",
       "      <td>CEAGESP - FRANCA</td>\n",
       "      <td>SP</td>\n",
       "      <td>02-JAN-2024</td>\n",
       "      <td>NaN</td>\n",
       "    </tr>\n",
       "    <tr>\n",
       "      <th>5</th>\n",
       "      <td>ABACATE</td>\n",
       "      <td>CEAGESP - PIRACICABA</td>\n",
       "      <td>SP</td>\n",
       "      <td>02-JAN-2024</td>\n",
       "      <td>NaN</td>\n",
       "    </tr>\n",
       "    <tr>\n",
       "      <th>6</th>\n",
       "      <td>ABACATE</td>\n",
       "      <td>CEAGESP - PRES. PRUDENTE</td>\n",
       "      <td>SP</td>\n",
       "      <td>02-JAN-2024</td>\n",
       "      <td>NaN</td>\n",
       "    </tr>\n",
       "    <tr>\n",
       "      <th>7</th>\n",
       "      <td>ABACATE</td>\n",
       "      <td>CEAGESP - S J DOS CAMPOS</td>\n",
       "      <td>SP</td>\n",
       "      <td>02-JAN-2024</td>\n",
       "      <td>NaN</td>\n",
       "    </tr>\n",
       "    <tr>\n",
       "      <th>8</th>\n",
       "      <td>ABACATE</td>\n",
       "      <td>CEAGESP - SAO JOSE RIO PRETO</td>\n",
       "      <td>SP</td>\n",
       "      <td>02-JAN-2024</td>\n",
       "      <td>NaN</td>\n",
       "    </tr>\n",
       "    <tr>\n",
       "      <th>9</th>\n",
       "      <td>ABACATE</td>\n",
       "      <td>CEAGESP - SAO PAULO</td>\n",
       "      <td>SP</td>\n",
       "      <td>02-JAN-2024</td>\n",
       "      <td>NaN</td>\n",
       "    </tr>\n",
       "    <tr>\n",
       "      <th>10</th>\n",
       "      <td>ABACATE</td>\n",
       "      <td>CEAGESP - SOROCABA</td>\n",
       "      <td>SP</td>\n",
       "      <td>02-JAN-2024</td>\n",
       "      <td>NaN</td>\n",
       "    </tr>\n",
       "    <tr>\n",
       "      <th>11</th>\n",
       "      <td>ABACATE</td>\n",
       "      <td>CEASA/AL - MACEIO</td>\n",
       "      <td>AL</td>\n",
       "      <td>02-JAN-2024</td>\n",
       "      <td>NaN</td>\n",
       "    </tr>\n",
       "    <tr>\n",
       "      <th>12</th>\n",
       "      <td>ABACATE</td>\n",
       "      <td>CEASA/BA - SALVADOR</td>\n",
       "      <td>BA</td>\n",
       "      <td>02-JAN-2024</td>\n",
       "      <td>NaN</td>\n",
       "    </tr>\n",
       "    <tr>\n",
       "      <th>13</th>\n",
       "      <td>ABACATE</td>\n",
       "      <td>CEASA/CE - FORTALEZA</td>\n",
       "      <td>CE</td>\n",
       "      <td>02-JAN-2024</td>\n",
       "      <td>5.25</td>\n",
       "    </tr>\n",
       "    <tr>\n",
       "      <th>14</th>\n",
       "      <td>ABACATE</td>\n",
       "      <td>CEASA/CE - TIANGUA</td>\n",
       "      <td>CE</td>\n",
       "      <td>02-JAN-2024</td>\n",
       "      <td>NaN</td>\n",
       "    </tr>\n",
       "    <tr>\n",
       "      <th>15</th>\n",
       "      <td>ABACATE</td>\n",
       "      <td>CEASA/DF - BRASILIA</td>\n",
       "      <td>DF</td>\n",
       "      <td>02-JAN-2024</td>\n",
       "      <td>3.42</td>\n",
       "    </tr>\n",
       "    <tr>\n",
       "      <th>16</th>\n",
       "      <td>ABACATE</td>\n",
       "      <td>CEASA/ES - VITORIA</td>\n",
       "      <td>ES</td>\n",
       "      <td>02-JAN-2024</td>\n",
       "      <td>NaN</td>\n",
       "    </tr>\n",
       "    <tr>\n",
       "      <th>17</th>\n",
       "      <td>ABACATE</td>\n",
       "      <td>CEASA/GO - GOIANIA</td>\n",
       "      <td>GO</td>\n",
       "      <td>02-JAN-2024</td>\n",
       "      <td>NaN</td>\n",
       "    </tr>\n",
       "    <tr>\n",
       "      <th>18</th>\n",
       "      <td>ABACATE</td>\n",
       "      <td>CEASA/MA - SAO LUIZ</td>\n",
       "      <td>MA</td>\n",
       "      <td>02-JAN-2024</td>\n",
       "      <td>NaN</td>\n",
       "    </tr>\n",
       "    <tr>\n",
       "      <th>19</th>\n",
       "      <td>ABACATE</td>\n",
       "      <td>CEASA/MS - CAMPO GRANDE</td>\n",
       "      <td>MS</td>\n",
       "      <td>02-JAN-2024</td>\n",
       "      <td>NaN</td>\n",
       "    </tr>\n",
       "  </tbody>\n",
       "</table>\n",
       "</div>"
      ],
      "text/plain": [
       "    Produto                    Fornecedor  UF         Data Preco_Medio\n",
       "0   ABACATE             AMA/BA - JUAZEIRO  BA  02-JAN-2024         5.4\n",
       "1   ABACATE           CEAGESP - ARACATUBA  SP  02-JAN-2024         NaN\n",
       "2   ABACATE          CEAGESP - ARARAQUARA  SP  02-JAN-2024         NaN\n",
       "3   ABACATE               CEAGESP - BAURU  SP  02-JAN-2024         NaN\n",
       "4   ABACATE              CEAGESP - FRANCA  SP  02-JAN-2024         NaN\n",
       "5   ABACATE          CEAGESP - PIRACICABA  SP  02-JAN-2024         NaN\n",
       "6   ABACATE      CEAGESP - PRES. PRUDENTE  SP  02-JAN-2024         NaN\n",
       "7   ABACATE      CEAGESP - S J DOS CAMPOS  SP  02-JAN-2024         NaN\n",
       "8   ABACATE  CEAGESP - SAO JOSE RIO PRETO  SP  02-JAN-2024         NaN\n",
       "9   ABACATE           CEAGESP - SAO PAULO  SP  02-JAN-2024         NaN\n",
       "10  ABACATE            CEAGESP - SOROCABA  SP  02-JAN-2024         NaN\n",
       "11  ABACATE             CEASA/AL - MACEIO  AL  02-JAN-2024         NaN\n",
       "12  ABACATE           CEASA/BA - SALVADOR  BA  02-JAN-2024         NaN\n",
       "13  ABACATE          CEASA/CE - FORTALEZA  CE  02-JAN-2024        5.25\n",
       "14  ABACATE            CEASA/CE - TIANGUA  CE  02-JAN-2024         NaN\n",
       "15  ABACATE           CEASA/DF - BRASILIA  DF  02-JAN-2024        3.42\n",
       "16  ABACATE            CEASA/ES - VITORIA  ES  02-JAN-2024         NaN\n",
       "17  ABACATE            CEASA/GO - GOIANIA  GO  02-JAN-2024         NaN\n",
       "18  ABACATE           CEASA/MA - SAO LUIZ  MA  02-JAN-2024         NaN\n",
       "19  ABACATE       CEASA/MS - CAMPO GRANDE  MS  02-JAN-2024         NaN"
      ]
     },
     "execution_count": 73,
     "metadata": {},
     "output_type": "execute_result"
    }
   ],
   "source": [
    "df_Jan24_melted.head(20)"
   ]
  },
  {
   "cell_type": "code",
   "execution_count": 0,
   "metadata": {
    "application/vnd.databricks.v1+cell": {
     "cellMetadata": {
      "byteLimit": 2048000,
      "rowLimit": 10000
     },
     "inputWidgets": {},
     "nuid": "b6233512-fb0a-4dc2-8633-ade2f3d50dba",
     "showTitle": false,
     "title": ""
    }
   },
   "outputs": [
    {
     "output_type": "execute_result",
     "data": {
      "text/plain": [
       "Produto        object\n",
       "Fornecedor     object\n",
       "UF             object\n",
       "Data           object\n",
       "Preco_Medio    object\n",
       "dtype: object"
      ]
     },
     "execution_count": 74,
     "metadata": {},
     "output_type": "execute_result"
    }
   ],
   "source": [
    "df_fev24_melted.dtypes"
   ]
  },
  {
   "cell_type": "code",
   "execution_count": 0,
   "metadata": {
    "application/vnd.databricks.v1+cell": {
     "cellMetadata": {
      "byteLimit": 2048000,
      "rowLimit": 10000
     },
     "inputWidgets": {},
     "nuid": "c8a84f5b-1682-4f18-8dec-11b72996c50e",
     "showTitle": false,
     "title": ""
    }
   },
   "outputs": [],
   "source": [
    "# Combinar os DataFrames\n",
    "df = pd.concat([df_Jan24_melted, df_fev24_melted, df_mar24_melted, df_abr24_melted, df_mai24_melted, df_jun24_melted])"
   ]
  },
  {
   "cell_type": "code",
   "execution_count": 0,
   "metadata": {
    "application/vnd.databricks.v1+cell": {
     "cellMetadata": {
      "byteLimit": 2048000,
      "rowLimit": 10000
     },
     "inputWidgets": {},
     "nuid": "40bea2e9-d970-40e2-b171-8fe5832fe24f",
     "showTitle": false,
     "title": ""
    }
   },
   "outputs": [
    {
     "output_type": "execute_result",
     "data": {
      "text/html": [
       "<div>\n",
       "<style scoped>\n",
       "    .dataframe tbody tr th:only-of-type {\n",
       "        vertical-align: middle;\n",
       "    }\n",
       "\n",
       "    .dataframe tbody tr th {\n",
       "        vertical-align: top;\n",
       "    }\n",
       "\n",
       "    .dataframe thead th {\n",
       "        text-align: right;\n",
       "    }\n",
       "</style>\n",
       "<table border=\"1\" class=\"dataframe\">\n",
       "  <thead>\n",
       "    <tr style=\"text-align: right;\">\n",
       "      <th></th>\n",
       "      <th>Produto</th>\n",
       "      <th>Fornecedor</th>\n",
       "      <th>UF</th>\n",
       "      <th>Data</th>\n",
       "      <th>Preco_Medio</th>\n",
       "    </tr>\n",
       "  </thead>\n",
       "  <tbody>\n",
       "    <tr>\n",
       "      <th>0</th>\n",
       "      <td>ABACATE</td>\n",
       "      <td>AMA/BA - JUAZEIRO</td>\n",
       "      <td>BA</td>\n",
       "      <td>02-JAN-2024</td>\n",
       "      <td>5.4</td>\n",
       "    </tr>\n",
       "    <tr>\n",
       "      <th>1</th>\n",
       "      <td>ABACATE</td>\n",
       "      <td>CEAGESP - ARACATUBA</td>\n",
       "      <td>SP</td>\n",
       "      <td>02-JAN-2024</td>\n",
       "      <td>NaN</td>\n",
       "    </tr>\n",
       "    <tr>\n",
       "      <th>2</th>\n",
       "      <td>ABACATE</td>\n",
       "      <td>CEAGESP - ARARAQUARA</td>\n",
       "      <td>SP</td>\n",
       "      <td>02-JAN-2024</td>\n",
       "      <td>NaN</td>\n",
       "    </tr>\n",
       "    <tr>\n",
       "      <th>3</th>\n",
       "      <td>ABACATE</td>\n",
       "      <td>CEAGESP - BAURU</td>\n",
       "      <td>SP</td>\n",
       "      <td>02-JAN-2024</td>\n",
       "      <td>NaN</td>\n",
       "    </tr>\n",
       "    <tr>\n",
       "      <th>4</th>\n",
       "      <td>ABACATE</td>\n",
       "      <td>CEAGESP - FRANCA</td>\n",
       "      <td>SP</td>\n",
       "      <td>02-JAN-2024</td>\n",
       "      <td>NaN</td>\n",
       "    </tr>\n",
       "    <tr>\n",
       "      <th>5</th>\n",
       "      <td>ABACATE</td>\n",
       "      <td>CEAGESP - PIRACICABA</td>\n",
       "      <td>SP</td>\n",
       "      <td>02-JAN-2024</td>\n",
       "      <td>NaN</td>\n",
       "    </tr>\n",
       "    <tr>\n",
       "      <th>6</th>\n",
       "      <td>ABACATE</td>\n",
       "      <td>CEAGESP - PRES. PRUDENTE</td>\n",
       "      <td>SP</td>\n",
       "      <td>02-JAN-2024</td>\n",
       "      <td>NaN</td>\n",
       "    </tr>\n",
       "    <tr>\n",
       "      <th>7</th>\n",
       "      <td>ABACATE</td>\n",
       "      <td>CEAGESP - S J DOS CAMPOS</td>\n",
       "      <td>SP</td>\n",
       "      <td>02-JAN-2024</td>\n",
       "      <td>NaN</td>\n",
       "    </tr>\n",
       "    <tr>\n",
       "      <th>8</th>\n",
       "      <td>ABACATE</td>\n",
       "      <td>CEAGESP - SAO JOSE RIO PRETO</td>\n",
       "      <td>SP</td>\n",
       "      <td>02-JAN-2024</td>\n",
       "      <td>NaN</td>\n",
       "    </tr>\n",
       "    <tr>\n",
       "      <th>9</th>\n",
       "      <td>ABACATE</td>\n",
       "      <td>CEAGESP - SAO PAULO</td>\n",
       "      <td>SP</td>\n",
       "      <td>02-JAN-2024</td>\n",
       "      <td>NaN</td>\n",
       "    </tr>\n",
       "    <tr>\n",
       "      <th>10</th>\n",
       "      <td>ABACATE</td>\n",
       "      <td>CEAGESP - SOROCABA</td>\n",
       "      <td>SP</td>\n",
       "      <td>02-JAN-2024</td>\n",
       "      <td>NaN</td>\n",
       "    </tr>\n",
       "    <tr>\n",
       "      <th>11</th>\n",
       "      <td>ABACATE</td>\n",
       "      <td>CEASA/AL - MACEIO</td>\n",
       "      <td>AL</td>\n",
       "      <td>02-JAN-2024</td>\n",
       "      <td>NaN</td>\n",
       "    </tr>\n",
       "    <tr>\n",
       "      <th>12</th>\n",
       "      <td>ABACATE</td>\n",
       "      <td>CEASA/BA - SALVADOR</td>\n",
       "      <td>BA</td>\n",
       "      <td>02-JAN-2024</td>\n",
       "      <td>NaN</td>\n",
       "    </tr>\n",
       "    <tr>\n",
       "      <th>13</th>\n",
       "      <td>ABACATE</td>\n",
       "      <td>CEASA/CE - FORTALEZA</td>\n",
       "      <td>CE</td>\n",
       "      <td>02-JAN-2024</td>\n",
       "      <td>5.25</td>\n",
       "    </tr>\n",
       "    <tr>\n",
       "      <th>14</th>\n",
       "      <td>ABACATE</td>\n",
       "      <td>CEASA/CE - TIANGUA</td>\n",
       "      <td>CE</td>\n",
       "      <td>02-JAN-2024</td>\n",
       "      <td>NaN</td>\n",
       "    </tr>\n",
       "    <tr>\n",
       "      <th>15</th>\n",
       "      <td>ABACATE</td>\n",
       "      <td>CEASA/DF - BRASILIA</td>\n",
       "      <td>DF</td>\n",
       "      <td>02-JAN-2024</td>\n",
       "      <td>3.42</td>\n",
       "    </tr>\n",
       "    <tr>\n",
       "      <th>16</th>\n",
       "      <td>ABACATE</td>\n",
       "      <td>CEASA/ES - VITORIA</td>\n",
       "      <td>ES</td>\n",
       "      <td>02-JAN-2024</td>\n",
       "      <td>NaN</td>\n",
       "    </tr>\n",
       "    <tr>\n",
       "      <th>17</th>\n",
       "      <td>ABACATE</td>\n",
       "      <td>CEASA/GO - GOIANIA</td>\n",
       "      <td>GO</td>\n",
       "      <td>02-JAN-2024</td>\n",
       "      <td>NaN</td>\n",
       "    </tr>\n",
       "    <tr>\n",
       "      <th>18</th>\n",
       "      <td>ABACATE</td>\n",
       "      <td>CEASA/MA - SAO LUIZ</td>\n",
       "      <td>MA</td>\n",
       "      <td>02-JAN-2024</td>\n",
       "      <td>NaN</td>\n",
       "    </tr>\n",
       "    <tr>\n",
       "      <th>19</th>\n",
       "      <td>ABACATE</td>\n",
       "      <td>CEASA/MS - CAMPO GRANDE</td>\n",
       "      <td>MS</td>\n",
       "      <td>02-JAN-2024</td>\n",
       "      <td>NaN</td>\n",
       "    </tr>\n",
       "  </tbody>\n",
       "</table>\n",
       "</div>"
      ],
      "text/plain": [
       "    Produto                    Fornecedor  UF         Data Preco_Medio\n",
       "0   ABACATE             AMA/BA - JUAZEIRO  BA  02-JAN-2024         5.4\n",
       "1   ABACATE           CEAGESP - ARACATUBA  SP  02-JAN-2024         NaN\n",
       "2   ABACATE          CEAGESP - ARARAQUARA  SP  02-JAN-2024         NaN\n",
       "3   ABACATE               CEAGESP - BAURU  SP  02-JAN-2024         NaN\n",
       "4   ABACATE              CEAGESP - FRANCA  SP  02-JAN-2024         NaN\n",
       "5   ABACATE          CEAGESP - PIRACICABA  SP  02-JAN-2024         NaN\n",
       "6   ABACATE      CEAGESP - PRES. PRUDENTE  SP  02-JAN-2024         NaN\n",
       "7   ABACATE      CEAGESP - S J DOS CAMPOS  SP  02-JAN-2024         NaN\n",
       "8   ABACATE  CEAGESP - SAO JOSE RIO PRETO  SP  02-JAN-2024         NaN\n",
       "9   ABACATE           CEAGESP - SAO PAULO  SP  02-JAN-2024         NaN\n",
       "10  ABACATE            CEAGESP - SOROCABA  SP  02-JAN-2024         NaN\n",
       "11  ABACATE             CEASA/AL - MACEIO  AL  02-JAN-2024         NaN\n",
       "12  ABACATE           CEASA/BA - SALVADOR  BA  02-JAN-2024         NaN\n",
       "13  ABACATE          CEASA/CE - FORTALEZA  CE  02-JAN-2024        5.25\n",
       "14  ABACATE            CEASA/CE - TIANGUA  CE  02-JAN-2024         NaN\n",
       "15  ABACATE           CEASA/DF - BRASILIA  DF  02-JAN-2024        3.42\n",
       "16  ABACATE            CEASA/ES - VITORIA  ES  02-JAN-2024         NaN\n",
       "17  ABACATE            CEASA/GO - GOIANIA  GO  02-JAN-2024         NaN\n",
       "18  ABACATE           CEASA/MA - SAO LUIZ  MA  02-JAN-2024         NaN\n",
       "19  ABACATE       CEASA/MS - CAMPO GRANDE  MS  02-JAN-2024         NaN"
      ]
     },
     "execution_count": 76,
     "metadata": {},
     "output_type": "execute_result"
    }
   ],
   "source": [
    "df.head(20)"
   ]
  },
  {
   "cell_type": "markdown",
   "metadata": {
    "application/vnd.databricks.v1+cell": {
     "cellMetadata": {},
     "inputWidgets": {},
     "nuid": "e45bcd24-8570-4a1e-8f00-b5a1ae0b0d5b",
     "showTitle": false,
     "title": ""
    }
   },
   "source": [
    "#### Salvando arquivo Bronze no Data Lake"
   ]
  },
  {
   "cell_type": "markdown",
   "metadata": {
    "application/vnd.databricks.v1+cell": {
     "cellMetadata": {},
     "inputWidgets": {},
     "nuid": "2824b275-37ad-41bc-a9a1-3d765b600313",
     "showTitle": false,
     "title": ""
    }
   },
   "source": [
    "##### Para salvar um arquivo no Azure Data Lake como um Delta Table usando Spark, é necessário converter o DataFrame pandas em um DataFrame Spark.  \n",
    "##### Isso ocorre porque as operações de leitura e escrita no Azure Data Lake são realizadas utilizando a API do Spark."
   ]
  },
  {
   "cell_type": "code",
   "execution_count": 0,
   "metadata": {
    "application/vnd.databricks.v1+cell": {
     "cellMetadata": {
      "byteLimit": 2048000,
      "rowLimit": 10000
     },
     "inputWidgets": {},
     "nuid": "444e9086-0919-4955-ab14-c875c169c878",
     "showTitle": false,
     "title": ""
    }
   },
   "outputs": [],
   "source": [
    "# Importando SparkSession\n",
    "from pyspark.sql import SparkSession"
   ]
  },
  {
   "cell_type": "code",
   "execution_count": 0,
   "metadata": {
    "application/vnd.databricks.v1+cell": {
     "cellMetadata": {
      "byteLimit": 2048000,
      "rowLimit": 10000
     },
     "inputWidgets": {},
     "nuid": "ac3b875e-ff5c-44af-b3cf-e1b0548add51",
     "showTitle": false,
     "title": ""
    }
   },
   "outputs": [],
   "source": [
    "spark = SparkSession.builder.appName(\"Salvar_Bonze_parquet\").getOrCreate()"
   ]
  },
  {
   "cell_type": "code",
   "execution_count": 0,
   "metadata": {
    "application/vnd.databricks.v1+cell": {
     "cellMetadata": {
      "byteLimit": 2048000,
      "rowLimit": 10000
     },
     "inputWidgets": {},
     "nuid": "1d1fb199-79cc-46a5-80ea-62738ee3dd21",
     "showTitle": false,
     "title": ""
    }
   },
   "outputs": [],
   "source": [
    "# Converter o DataFrame pandas (Fato_hortigrangeiros) para um DataFrame Spark:\n",
    "df_spark = spark.createDataFrame(df.astype(str))"
   ]
  },
  {
   "cell_type": "code",
   "execution_count": 0,
   "metadata": {
    "application/vnd.databricks.v1+cell": {
     "cellMetadata": {
      "byteLimit": 2048000,
      "rowLimit": 10000
     },
     "inputWidgets": {},
     "nuid": "51db2f4b-19ff-4d11-b550-74121f18b739",
     "showTitle": false,
     "title": ""
    }
   },
   "outputs": [],
   "source": [
    "# Converter o DataFrame pandas (Dimensão_Produto) para um DataFrame Spark:\n",
    "df_spark_produto = spark.createDataFrame(df_Produto.astype(str))"
   ]
  },
  {
   "cell_type": "code",
   "execution_count": 0,
   "metadata": {
    "application/vnd.databricks.v1+cell": {
     "cellMetadata": {
      "byteLimit": 2048000,
      "rowLimit": 10000
     },
     "inputWidgets": {},
     "nuid": "5e309dcb-3c64-48bb-be58-a645edec23b8",
     "showTitle": false,
     "title": ""
    }
   },
   "outputs": [
    {
     "output_type": "stream",
     "name": "stdout",
     "output_type": "stream",
     "text": [
      "+-------------+-------+\n|      Produto|Unidade|\n+-------------+-------+\n|      ABACATE|     KG|\n|      ABACAXI|     UN|\n|      ABOBORA|     KG|\n|    ABOBRINHA|     KG|\n|       ALFACE|     DZ|\n|         ALHO|     KG|\n|BANANA NANICA|     KG|\n| BANANA PRATA|     KG|\n|       BATATA|     KG|\n|  BATATA DOCE|     KG|\n|    BERINJELA|     KG|\n|    BETERRABA|     KG|\n|      BROCOLO|     KG|\n|         CARA|     KG|\n|       CEBOLA|     KG|\n|      CENOURA|     KG|\n|       CHUCHU|     KG|\n|   COCO VERDE|     UN|\n|        COUVE|     KG|\n|   COUVE-FLOR|     UN|\n+-------------+-------+\nonly showing top 20 rows\n\n"
     ]
    }
   ],
   "source": [
    "# Confirmando se df_spark_produto está funcionando\n",
    "df_spark_produto.show()"
   ]
  },
  {
   "cell_type": "code",
   "execution_count": 0,
   "metadata": {
    "application/vnd.databricks.v1+cell": {
     "cellMetadata": {
      "byteLimit": 2048000,
      "rowLimit": 10000
     },
     "inputWidgets": {},
     "nuid": "00d222d8-baac-449e-81a4-de3627dbf761",
     "showTitle": false,
     "title": ""
    }
   },
   "outputs": [
    {
     "output_type": "stream",
     "name": "stdout",
     "output_type": "stream",
     "text": [
      "+-------+--------------------+---+-----------+-----------+\n|Produto|          Fornecedor| UF|       Data|Preco_Medio|\n+-------+--------------------+---+-----------+-----------+\n|ABACATE|   AMA/BA - JUAZEIRO| BA|02-JAN-2024|        5.4|\n|ABACATE| CEAGESP - ARACATUBA| SP|02-JAN-2024|        nan|\n|ABACATE|CEAGESP - ARARAQUARA| SP|02-JAN-2024|        nan|\n|ABACATE|     CEAGESP - BAURU| SP|02-JAN-2024|        nan|\n|ABACATE|    CEAGESP - FRANCA| SP|02-JAN-2024|        nan|\n|ABACATE|CEAGESP - PIRACICABA| SP|02-JAN-2024|        nan|\n|ABACATE|CEAGESP - PRES. P...| SP|02-JAN-2024|        nan|\n|ABACATE|CEAGESP - S J DOS...| SP|02-JAN-2024|        nan|\n|ABACATE|CEAGESP - SAO JOS...| SP|02-JAN-2024|        nan|\n|ABACATE| CEAGESP - SAO PAULO| SP|02-JAN-2024|        nan|\n|ABACATE|  CEAGESP - SOROCABA| SP|02-JAN-2024|        nan|\n|ABACATE|   CEASA/AL - MACEIO| AL|02-JAN-2024|        nan|\n|ABACATE| CEASA/BA - SALVADOR| BA|02-JAN-2024|        nan|\n|ABACATE|CEASA/CE - FORTALEZA| CE|02-JAN-2024|       5.25|\n|ABACATE|  CEASA/CE - TIANGUA| CE|02-JAN-2024|        nan|\n|ABACATE| CEASA/DF - BRASILIA| DF|02-JAN-2024|       3.42|\n|ABACATE|  CEASA/ES - VITORIA| ES|02-JAN-2024|        nan|\n|ABACATE|  CEASA/GO - GOIANIA| GO|02-JAN-2024|        nan|\n|ABACATE| CEASA/MA - SAO LUIZ| MA|02-JAN-2024|        nan|\n|ABACATE|CEASA/MS - CAMPO ...| MS|02-JAN-2024|        nan|\n+-------+--------------------+---+-----------+-----------+\nonly showing top 20 rows\n\n"
     ]
    }
   ],
   "source": [
    "# Confirmando se df_spark está funcionando\n",
    "df_spark.show()"
   ]
  },
  {
   "cell_type": "code",
   "execution_count": 0,
   "metadata": {
    "application/vnd.databricks.v1+cell": {
     "cellMetadata": {
      "byteLimit": 2048000,
      "rowLimit": 10000
     },
     "inputWidgets": {},
     "nuid": "6ffb9c5a-4baa-4eb0-b42c-4445cf4aa23c",
     "showTitle": false,
     "title": ""
    }
   },
   "outputs": [],
   "source": [
    "# Configurar a chave de acesso à conta do Azure Data Lake Storage\n",
    "spark.conf.set(\n",
    "    f\"fs.azure.account.key.{account_name}.dfs.core.windows.net\",\n",
    "    account_key\n",
    ")"
   ]
  },
  {
   "cell_type": "code",
   "execution_count": 0,
   "metadata": {
    "application/vnd.databricks.v1+cell": {
     "cellMetadata": {
      "byteLimit": 2048000,
      "rowLimit": 10000
     },
     "inputWidgets": {},
     "nuid": "bf242b8a-7b0d-4b5b-82a4-b1d4e1f9ff16",
     "showTitle": false,
     "title": ""
    }
   },
   "outputs": [],
   "source": [
    "#Salvando Fato_hortigrangeiros na Azure Data Lake Storage\n",
    "output_path = f\"abfss://brickmvpcontainer@{account_name}.dfs.core.windows.net/bronze/output_hortigrangeiros_delta\"\n",
    "\n",
    "df_spark.write\\\n",
    "    .format('delta')\\\n",
    "    .option('header', True)\\\n",
    "    .mode('overwrite')\\\n",
    "    .save(output_path)"
   ]
  },
  {
   "cell_type": "code",
   "execution_count": 0,
   "metadata": {
    "application/vnd.databricks.v1+cell": {
     "cellMetadata": {
      "byteLimit": 2048000,
      "rowLimit": 10000
     },
     "inputWidgets": {},
     "nuid": "c56ea2ea-82ee-48d5-a817-a7899f8cc7fd",
     "showTitle": false,
     "title": ""
    }
   },
   "outputs": [],
   "source": [
    "\n",
    "# Salvando dimensao produto na Azure Data Lake Storage\n",
    "output_path = f\"abfss://brickmvpcontainer@{account_name}.dfs.core.windows.net/bronze/output_produto_delta\"\n",
    "\n",
    "# Salvando os dados em formato Delta\n",
    "df_spark_produto.write\\\n",
    "    .format('delta')\\\n",
    "    .option('header', True)\\\n",
    "    .mode('overwrite')\\\n",
    "    .save(output_path)"
   ]
  },
  {
   "cell_type": "markdown",
   "metadata": {
    "application/vnd.databricks.v1+cell": {
     "cellMetadata": {},
     "inputWidgets": {},
     "nuid": "c8743082-abca-4802-a275-81121a4c5f3a",
     "showTitle": false,
     "title": ""
    }
   },
   "source": [
    "#### Criação da tabela bronze"
   ]
  },
  {
   "cell_type": "code",
   "execution_count": 0,
   "metadata": {
    "application/vnd.databricks.v1+cell": {
     "cellMetadata": {
      "byteLimit": 2048000,
      "implicitDf": true,
      "rowLimit": 10000
     },
     "inputWidgets": {},
     "nuid": "bed93c52-bacb-44fd-942b-e9832184ade2",
     "showTitle": false,
     "title": ""
    }
   },
   "outputs": [
    {
     "output_type": "display_data",
     "data": {
      "text/html": [
       "<style scoped>\n",
       "  .table-result-container {\n",
       "    max-height: 300px;\n",
       "    overflow: auto;\n",
       "  }\n",
       "  table, th, td {\n",
       "    border: 1px solid black;\n",
       "    border-collapse: collapse;\n",
       "  }\n",
       "  th, td {\n",
       "    padding: 5px;\n",
       "  }\n",
       "  th {\n",
       "    text-align: left;\n",
       "  }\n",
       "</style><div class='table-result-container'><table class='table-result'><thead style='background-color: white'><tr></tr></thead><tbody></tbody></table></div>"
      ]
     },
     "metadata": {
      "application/vnd.databricks.v1+output": {
       "addedWidgets": {},
       "aggData": [],
       "aggError": "",
       "aggOverflow": false,
       "aggSchema": [],
       "aggSeriesLimitReached": false,
       "aggType": "",
       "arguments": {},
       "columnCustomDisplayInfos": {},
       "data": [],
       "datasetInfos": [],
       "dbfsResultPath": null,
       "isJsonSchema": true,
       "metadata": {
        "dataframeName": null
       },
       "overflow": false,
       "plotOptions": {
        "customPlotOptions": {},
        "displayType": "table",
        "pivotAggregation": null,
        "pivotColumns": null,
        "xColumns": null,
        "yColumns": null
       },
       "removedWidgets": [],
       "schema": [],
       "type": "table"
      }
     },
     "output_type": "display_data"
    }
   ],
   "source": [
    "%sql\n",
    "-- Criar a tabela dimensao_produto com a chave primária\n",
    "CREATE TABLE IF NOT EXISTS Bronze.tables.dimensao_produto (\t\t\t\t\n",
    "  Produto STRING PRIMARY KEY,\n",
    "  Unidade STRING\n",
    ");"
   ]
  },
  {
   "cell_type": "code",
   "execution_count": 0,
   "metadata": {
    "application/vnd.databricks.v1+cell": {
     "cellMetadata": {
      "byteLimit": 2048000,
      "implicitDf": true,
      "rowLimit": 10000
     },
     "inputWidgets": {},
     "nuid": "2d1b3538-5130-4f38-966d-c38ae432781b",
     "showTitle": false,
     "title": ""
    }
   },
   "outputs": [
    {
     "output_type": "display_data",
     "data": {
      "text/html": [
       "<style scoped>\n",
       "  .table-result-container {\n",
       "    max-height: 300px;\n",
       "    overflow: auto;\n",
       "  }\n",
       "  table, th, td {\n",
       "    border: 1px solid black;\n",
       "    border-collapse: collapse;\n",
       "  }\n",
       "  th, td {\n",
       "    padding: 5px;\n",
       "  }\n",
       "  th {\n",
       "    text-align: left;\n",
       "  }\n",
       "</style><div class='table-result-container'><table class='table-result'><thead style='background-color: white'><tr></tr></thead><tbody></tbody></table></div>"
      ]
     },
     "metadata": {
      "application/vnd.databricks.v1+output": {
       "addedWidgets": {},
       "aggData": [],
       "aggError": "",
       "aggOverflow": false,
       "aggSchema": [],
       "aggSeriesLimitReached": false,
       "aggType": "",
       "arguments": {},
       "columnCustomDisplayInfos": {},
       "data": [],
       "datasetInfos": [],
       "dbfsResultPath": null,
       "isJsonSchema": true,
       "metadata": {
        "dataframeName": null
       },
       "overflow": false,
       "plotOptions": {
        "customPlotOptions": {},
        "displayType": "table",
        "pivotAggregation": null,
        "pivotColumns": null,
        "xColumns": null,
        "yColumns": null
       },
       "removedWidgets": [],
       "schema": [],
       "type": "table"
      }
     },
     "output_type": "display_data"
    }
   ],
   "source": [
    "%sql\n",
    "-- Criando a tabela Fato_hortigrangeiros_Bronze com algumas restrições de integridade como a chave estrangeira referenciando a chave primária de dimensao_produto\n",
    "CREATE TABLE IF NOT EXISTS Bronze.tables.Fato_hortigrangeiros (\t\t\t\t\n",
    "  Produto STRING,\n",
    "  Fornecedor STRING,\n",
    "  UF STRING,\n",
    "  Data STRING,\n",
    "  Preco_Medio STRING,\n",
    "  FOREIGN KEY (Produto) REFERENCES Bronze.tables.dimensao_produto(Produto)\n",
    ");"
   ]
  },
  {
   "cell_type": "markdown",
   "metadata": {
    "application/vnd.databricks.v1+cell": {
     "cellMetadata": {},
     "inputWidgets": {},
     "nuid": "8f992481-dc38-4b3e-ab12-ce0da6f18582",
     "showTitle": false,
     "title": ""
    }
   },
   "source": [
    "#### Inserindo dados na tabela bronze"
   ]
  },
  {
   "cell_type": "code",
   "execution_count": 0,
   "metadata": {
    "application/vnd.databricks.v1+cell": {
     "cellMetadata": {
      "byteLimit": 2048000,
      "rowLimit": 10000
     },
     "inputWidgets": {},
     "nuid": "659c6672-e573-4c2d-b442-655d4294e294",
     "showTitle": false,
     "title": ""
    }
   },
   "outputs": [
    {
     "output_type": "stream",
     "name": "stdout",
     "output_type": "stream",
     "text": [
      "+-------+--------------------+---+-----------+-----------+\n|Produto|          Fornecedor| UF|       Data|Preco_Medio|\n+-------+--------------------+---+-----------+-----------+\n|ABACATE|   AMA/BA - JUAZEIRO| BA|02-JAN-2024|        5.4|\n|ABACATE| CEAGESP - ARACATUBA| SP|02-JAN-2024|        nan|\n|ABACATE|CEAGESP - ARARAQUARA| SP|02-JAN-2024|        nan|\n|ABACATE|     CEAGESP - BAURU| SP|02-JAN-2024|        nan|\n|ABACATE|    CEAGESP - FRANCA| SP|02-JAN-2024|        nan|\n|ABACATE|CEAGESP - PIRACICABA| SP|02-JAN-2024|        nan|\n|ABACATE|CEAGESP - PRES. P...| SP|02-JAN-2024|        nan|\n|ABACATE|CEAGESP - S J DOS...| SP|02-JAN-2024|        nan|\n|ABACATE|CEAGESP - SAO JOS...| SP|02-JAN-2024|        nan|\n|ABACATE| CEAGESP - SAO PAULO| SP|02-JAN-2024|        nan|\n|ABACATE|  CEAGESP - SOROCABA| SP|02-JAN-2024|        nan|\n|ABACATE|   CEASA/AL - MACEIO| AL|02-JAN-2024|        nan|\n|ABACATE| CEASA/BA - SALVADOR| BA|02-JAN-2024|        nan|\n|ABACATE|CEASA/CE - FORTALEZA| CE|02-JAN-2024|       5.25|\n|ABACATE|  CEASA/CE - TIANGUA| CE|02-JAN-2024|        nan|\n|ABACATE| CEASA/DF - BRASILIA| DF|02-JAN-2024|       3.42|\n|ABACATE|  CEASA/ES - VITORIA| ES|02-JAN-2024|        nan|\n|ABACATE|  CEASA/GO - GOIANIA| GO|02-JAN-2024|        nan|\n|ABACATE| CEASA/MA - SAO LUIZ| MA|02-JAN-2024|        nan|\n|ABACATE|CEASA/MS - CAMPO ...| MS|02-JAN-2024|        nan|\n+-------+--------------------+---+-----------+-----------+\nonly showing top 20 rows\n\n"
     ]
    }
   ],
   "source": [
    "#Lendo a tabela Fato_hortigrangeiros salva anteriomente no Datalake\n",
    "\n",
    "spark.conf.set(\n",
    "    f\"fs.azure.account.key.{account_name}.dfs.core.windows.net\",\n",
    "    account_key\n",
    ")\n",
    "\n",
    "df_bronze_hortigrangeiros = spark.read.format('delta').option(\"header\",True).option('inferschema',True).load(f\"abfss://brickmvpcontainer@{account_name}.dfs.core.windows.net/bronze/output_hortigrangeiros_delta\")\n",
    "\n",
    "df_bronze_hortigrangeiros.show()"
   ]
  },
  {
   "cell_type": "code",
   "execution_count": 0,
   "metadata": {
    "application/vnd.databricks.v1+cell": {
     "cellMetadata": {
      "byteLimit": 2048000,
      "rowLimit": 10000
     },
     "inputWidgets": {},
     "nuid": "befd576d-072c-46aa-a78e-f3f2cf7d02e9",
     "showTitle": false,
     "title": ""
    }
   },
   "outputs": [],
   "source": [
    "# Salvando arquivo na tabela Fato_hortigrangeiros\n",
    "df_bronze_hortigrangeiros.write.mode(\"overwrite\").format(\"delta\").saveAsTable(\"Bronze.tables.Fato_hortigrangeiros\")"
   ]
  },
  {
   "cell_type": "code",
   "execution_count": 0,
   "metadata": {
    "application/vnd.databricks.v1+cell": {
     "cellMetadata": {
      "byteLimit": 2048000,
      "rowLimit": 10000
     },
     "inputWidgets": {},
     "nuid": "c7579e2b-6a2e-4980-bc23-c79d2c91e5ce",
     "showTitle": false,
     "title": ""
    }
   },
   "outputs": [
    {
     "output_type": "stream",
     "name": "stdout",
     "output_type": "stream",
     "text": [
      "+-------------+-------+\n|      Produto|Unidade|\n+-------------+-------+\n|      ABACATE|     KG|\n|      ABACAXI|     UN|\n|      ABOBORA|     KG|\n|    ABOBRINHA|     KG|\n|       ALFACE|     DZ|\n|         ALHO|     KG|\n|BANANA NANICA|     KG|\n| BANANA PRATA|     KG|\n|       BATATA|     KG|\n|  BATATA DOCE|     KG|\n|    BERINJELA|     KG|\n|    BETERRABA|     KG|\n|      BROCOLO|     KG|\n|         CARA|     KG|\n|       CEBOLA|     KG|\n|      CENOURA|     KG|\n|       CHUCHU|     KG|\n|   COCO VERDE|     UN|\n|        COUVE|     KG|\n|   COUVE-FLOR|     UN|\n+-------------+-------+\nonly showing top 20 rows\n\n"
     ]
    }
   ],
   "source": [
    "#Lendo a tabela dimensão produto salva anteriomente no Datalake\n",
    "\n",
    "# Configurando a conta do Azure Data Lake Storage\n",
    "spark.conf.set(\n",
    "    f\"fs.azure.account.key.{account_name}.dfs.core.windows.net\",\n",
    "    account_key\n",
    ")\n",
    "\n",
    "\n",
    "df_bronze_hortigrangeiros_produto = spark.read.format('delta').load(f\"abfss://brickmvpcontainer@{account_name}.dfs.core.windows.net/bronze/output_produto_delta\")\n",
    "df_bronze_hortigrangeiros_produto.show()"
   ]
  },
  {
   "cell_type": "code",
   "execution_count": 0,
   "metadata": {
    "application/vnd.databricks.v1+cell": {
     "cellMetadata": {
      "byteLimit": 2048000,
      "rowLimit": 10000
     },
     "inputWidgets": {},
     "nuid": "9c75efd2-0870-49de-ad65-da633c0afaa2",
     "showTitle": false,
     "title": ""
    }
   },
   "outputs": [],
   "source": [
    "# Salvando arquivo na tabela dimensao_produto\n",
    "df_bronze_hortigrangeiros_produto.write.mode(\"overwrite\").format(\"delta\").saveAsTable(\"Bronze.tables.dimensao_produto\")"
   ]
  },
  {
   "cell_type": "markdown",
   "metadata": {
    "application/vnd.databricks.v1+cell": {
     "cellMetadata": {},
     "inputWidgets": {},
     "nuid": "92dd5e02-80c9-40e9-967b-fd5e27bbef4b",
     "showTitle": false,
     "title": ""
    }
   },
   "source": [
    "##### Algumas consultas de teste das tabelas"
   ]
  },
  {
   "cell_type": "code",
   "execution_count": 0,
   "metadata": {
    "application/vnd.databricks.v1+cell": {
     "cellMetadata": {
      "byteLimit": 2048000,
      "implicitDf": true,
      "rowLimit": 10000
     },
     "inputWidgets": {},
     "nuid": "1378b8e3-5010-47bc-9b11-dc656843caf8",
     "showTitle": false,
     "title": ""
    }
   },
   "outputs": [
    {
     "output_type": "stream",
     "name": "stdout",
     "output_type": "stream",
     "text": [
      "+-------------+-------+\n|      Produto|Unidade|\n+-------------+-------+\n|      ABACATE|     KG|\n|      ABACAXI|     UN|\n|      ABOBORA|     KG|\n|    ABOBRINHA|     KG|\n|       ALFACE|     DZ|\n|         ALHO|     KG|\n|BANANA NANICA|     KG|\n| BANANA PRATA|     KG|\n|       BATATA|     KG|\n|  BATATA DOCE|     KG|\n|    BERINJELA|     KG|\n|    BETERRABA|     KG|\n|      BROCOLO|     KG|\n|         CARA|     KG|\n|       CEBOLA|     KG|\n|      CENOURA|     KG|\n|       CHUCHU|     KG|\n|   COCO VERDE|     UN|\n|        COUVE|     KG|\n|   COUVE-FLOR|     UN|\n+-------------+-------+\nonly showing top 20 rows\n\n"
     ]
    }
   ],
   "source": [
    "spark.sql(\"\"\"\n",
    "SELECT *\n",
    "FROM Bronze.tables.dimensao_produto\n",
    "\"\"\").show()"
   ]
  },
  {
   "cell_type": "code",
   "execution_count": 0,
   "metadata": {
    "application/vnd.databricks.v1+cell": {
     "cellMetadata": {
      "byteLimit": 2048000,
      "implicitDf": true,
      "rowLimit": 10000
     },
     "inputWidgets": {},
     "nuid": "1e9c42b8-744d-4491-bbcb-0e3d0bd2cf8e",
     "showTitle": false,
     "title": ""
    }
   },
   "outputs": [
    {
     "output_type": "stream",
     "name": "stdout",
     "output_type": "stream",
     "text": [
      "+-------+--------------------+---+-----------+-----------+\n|Produto|          Fornecedor| UF|       Data|Preco_Medio|\n+-------+--------------------+---+-----------+-----------+\n|ABACATE|   AMA/BA - JUAZEIRO| BA|02-JAN-2024|        5.4|\n|ABACATE| CEAGESP - ARACATUBA| SP|02-JAN-2024|        nan|\n|ABACATE|CEAGESP - ARARAQUARA| SP|02-JAN-2024|        nan|\n|ABACATE|     CEAGESP - BAURU| SP|02-JAN-2024|        nan|\n|ABACATE|    CEAGESP - FRANCA| SP|02-JAN-2024|        nan|\n|ABACATE|CEAGESP - PIRACICABA| SP|02-JAN-2024|        nan|\n|ABACATE|CEAGESP - PRES. P...| SP|02-JAN-2024|        nan|\n|ABACATE|CEAGESP - S J DOS...| SP|02-JAN-2024|        nan|\n|ABACATE|CEAGESP - SAO JOS...| SP|02-JAN-2024|        nan|\n|ABACATE| CEAGESP - SAO PAULO| SP|02-JAN-2024|        nan|\n|ABACATE|  CEAGESP - SOROCABA| SP|02-JAN-2024|        nan|\n|ABACATE|   CEASA/AL - MACEIO| AL|02-JAN-2024|        nan|\n|ABACATE| CEASA/BA - SALVADOR| BA|02-JAN-2024|        nan|\n|ABACATE|CEASA/CE - FORTALEZA| CE|02-JAN-2024|       5.25|\n|ABACATE|  CEASA/CE - TIANGUA| CE|02-JAN-2024|        nan|\n|ABACATE| CEASA/DF - BRASILIA| DF|02-JAN-2024|       3.42|\n|ABACATE|  CEASA/ES - VITORIA| ES|02-JAN-2024|        nan|\n|ABACATE|  CEASA/GO - GOIANIA| GO|02-JAN-2024|        nan|\n|ABACATE| CEASA/MA - SAO LUIZ| MA|02-JAN-2024|        nan|\n|ABACATE|CEASA/MS - CAMPO ...| MS|02-JAN-2024|        nan|\n+-------+--------------------+---+-----------+-----------+\nonly showing top 20 rows\n\n"
     ]
    }
   ],
   "source": [
    "spark.sql(\"\"\"\n",
    "SELECT *\n",
    "FROM Bronze.tables.Fato_hortigrangeiros\n",
    "\"\"\").show()"
   ]
  },
  {
   "cell_type": "code",
   "execution_count": 0,
   "metadata": {
    "application/vnd.databricks.v1+cell": {
     "cellMetadata": {
      "byteLimit": 2048000,
      "implicitDf": true,
      "rowLimit": 10000
     },
     "inputWidgets": {},
     "nuid": "bda45e5b-2a89-4504-b228-b5927b7361b6",
     "showTitle": false,
     "title": ""
    }
   },
   "outputs": [
    {
     "output_type": "stream",
     "name": "stdout",
     "output_type": "stream",
     "text": [
      "+-------+--------------------+---+-----------+-----------+-------+\n|Produto|          Fornecedor| UF|       Data|Preco_Medio|Unidade|\n+-------+--------------------+---+-----------+-----------+-------+\n|ABACATE|   AMA/BA - JUAZEIRO| BA|02-JAN-2024|        5.4|     KG|\n|ABACATE| CEAGESP - ARACATUBA| SP|02-JAN-2024|        nan|     KG|\n|ABACATE|CEAGESP - ARARAQUARA| SP|02-JAN-2024|        nan|     KG|\n|ABACATE|     CEAGESP - BAURU| SP|02-JAN-2024|        nan|     KG|\n|ABACATE|    CEAGESP - FRANCA| SP|02-JAN-2024|        nan|     KG|\n|ABACATE|CEAGESP - PIRACICABA| SP|02-JAN-2024|        nan|     KG|\n|ABACATE|CEAGESP - PRES. P...| SP|02-JAN-2024|        nan|     KG|\n|ABACATE|CEAGESP - S J DOS...| SP|02-JAN-2024|        nan|     KG|\n|ABACATE|CEAGESP - SAO JOS...| SP|02-JAN-2024|        nan|     KG|\n|ABACATE| CEAGESP - SAO PAULO| SP|02-JAN-2024|        nan|     KG|\n|ABACATE|  CEAGESP - SOROCABA| SP|02-JAN-2024|        nan|     KG|\n|ABACATE|   CEASA/AL - MACEIO| AL|02-JAN-2024|        nan|     KG|\n|ABACATE| CEASA/BA - SALVADOR| BA|02-JAN-2024|        nan|     KG|\n|ABACATE|CEASA/CE - FORTALEZA| CE|02-JAN-2024|       5.25|     KG|\n|ABACATE|  CEASA/CE - TIANGUA| CE|02-JAN-2024|        nan|     KG|\n|ABACATE| CEASA/DF - BRASILIA| DF|02-JAN-2024|       3.42|     KG|\n|ABACATE|  CEASA/ES - VITORIA| ES|02-JAN-2024|        nan|     KG|\n|ABACATE|  CEASA/GO - GOIANIA| GO|02-JAN-2024|        nan|     KG|\n|ABACATE| CEASA/MA - SAO LUIZ| MA|02-JAN-2024|        nan|     KG|\n|ABACATE|CEASA/MS - CAMPO ...| MS|02-JAN-2024|        nan|     KG|\n+-------+--------------------+---+-----------+-----------+-------+\nonly showing top 20 rows\n\n"
     ]
    }
   ],
   "source": [
    "spark.sql(\"\"\"\n",
    "SELECT f.*,\n",
    "    D.Unidade \n",
    "FROM Bronze.tables.Fato_hortigrangeiros as F \n",
    "LEFT JOIN Bronze.tables.dimensao_produto as D ON F.Produto = D.Produto\n",
    "\"\"\").show()"
   ]
  },
  {
   "cell_type": "markdown",
   "metadata": {
    "application/vnd.databricks.v1+cell": {
     "cellMetadata": {},
     "inputWidgets": {},
     "nuid": "24b6d068-2353-44f0-89a5-25eadd0892b9",
     "showTitle": false,
     "title": ""
    }
   },
   "source": [
    "####Catálogo de Dados (CAMADA BRONZE)\n",
    "\n",
    "##### Tabela Bronze: Fato_hortigrangeiros\n",
    "\n",
    "| Coluna        | Descrição                                 | Tipo   |linhas   |Valores Nulos| Comentário                                      |\n",
    "| ------------- | ----------------------------------------- | ------ |---------|-------------|----------------------------------------------- |\n",
    "| Produto       | Nome do produto (FK para dimensao_produto)| string | 279.283 | 0           |Nome do Produto de Hortifruti Chave estrangeira referenciando dimensao_produto pelo nome |\n",
    "| Fornecedor    | Nome do fornecedor                        | string | 279.283 | 0           |Nome do Ceasa que pratica aquele preço                     |\n",
    "| UF            | Unidade Federativa do fornecedor          | string | 279.283 | 0           |Estado (UF) do fornecedor (ex: SP, RJ)                     |\n",
    "| Data          | Data do Preço Preço do produto            | string | 279.283 | 0           |Data no formato string / Data do preço praticado no dia |\n",
    "| Preco_Medio   | Preço médio do produto                    | string | 279.283 |163.699      |Preço médio em reais (R$), com duas casas decimais/ Preço do Produto praticado pelo Ceasa no Dia / Contém valores Nulos, pois nem todos os dias os Ceasas enviam seus Preços práticados|\n",
    "\n",
    "##### Tabela Bronze: dimensao_produto\n",
    "\n",
    "| Coluna        | Descrição         | Tipo   |linhas   |Valores Nulos| Comentário                                      |\n",
    "| ------------- | ----------------- | ------ |---------|-------------| ----------------------------------------------- |\n",
    "| Nome_Produto  | Nome do produto (PK para Fato_hortigrangeiros)   | string | 48 | 0           | Chave Primária referenciando dimensao_produto pelo nome        |\n",
    "| Unidade       | Unidade de Medida | string | 48 | 0           | Unidade de Medida do Produto (Untilizado para identificar na tabela Fato qual unidade de medida o Preço está se referenciando)    |\n",
    "\n",
    "\n",
    "#### Exemplo de Dados\n",
    "\n",
    "##### Tabela Bronze: Fato_hortigrangeiros\n",
    "\n",
    "| Produto     | Fornecedor  | UF  | Data       | Preco_Medio |\n",
    "| ----------- | ----------- | --- | ---------- | ----------- |\n",
    "| Produto A   | Fornecedor A | SP  | 2024-07-01 | 10.00       |\n",
    "| Produto B   | Fornecedor B | RJ  | 2024-07-02 | 20.00       |\n",
    "| Produto C   | Fornecedor C | MG  | 2024-07-03 | 30.00       |\n",
    "| Produto D   | Fornecedor D | ES  | 2024-07-04 | 40.00       |\n",
    "\n",
    "##### Tabela Bronze: dimensao_produto\n",
    "\n",
    "| Produto | Unidade |\n",
    "| ------------ | --------- |\n",
    "| Produto A    | KG\n",
    "| Produto B    | DZ\n",
    "| Produto C    | UND\n",
    "| Produto D    | KG"
   ]
  },
  {
   "cell_type": "markdown",
   "metadata": {
    "application/vnd.databricks.v1+cell": {
     "cellMetadata": {},
     "inputWidgets": {},
     "nuid": "908e783f-f416-403f-9a92-3c8a862db7cd",
     "showTitle": false,
     "title": ""
    }
   },
   "source": [
    "### CAMADA SILVER"
   ]
  },
  {
   "cell_type": "markdown",
   "metadata": {
    "application/vnd.databricks.v1+cell": {
     "cellMetadata": {},
     "inputWidgets": {},
     "nuid": "2ad58070-9455-492a-9764-0b8181d57cd4",
     "showTitle": false,
     "title": ""
    }
   },
   "source": [
    "#### Criação da camada Silver"
   ]
  },
  {
   "cell_type": "code",
   "execution_count": 0,
   "metadata": {
    "application/vnd.databricks.v1+cell": {
     "cellMetadata": {
      "byteLimit": 2048000,
      "rowLimit": 10000
     },
     "inputWidgets": {},
     "nuid": "63b6a560-3de6-4f34-850a-f0a21b50c116",
     "showTitle": false,
     "title": ""
    }
   },
   "outputs": [
    {
     "output_type": "execute_result",
     "data": {
      "text/plain": [
       "DataFrame[]"
      ]
     },
     "execution_count": 42,
     "metadata": {},
     "output_type": "execute_result"
    }
   ],
   "source": [
    "#criar catalog Silver\n",
    "spark.sql(\"CREATE CATALOG IF NOT EXISTS Silver\")"
   ]
  },
  {
   "cell_type": "code",
   "execution_count": 0,
   "metadata": {
    "application/vnd.databricks.v1+cell": {
     "cellMetadata": {
      "byteLimit": 2048000,
      "rowLimit": 10000
     },
     "inputWidgets": {},
     "nuid": "dce14efb-54c7-4ea2-8674-dca998a167be",
     "showTitle": false,
     "title": ""
    }
   },
   "outputs": [
    {
     "output_type": "execute_result",
     "data": {
      "text/plain": [
       "DataFrame[]"
      ]
     },
     "execution_count": 43,
     "metadata": {},
     "output_type": "execute_result"
    }
   ],
   "source": [
    "#criar schema para inserir as tabelas \n",
    "spark.sql(\"CREATE SCHEMA IF NOT EXISTS Silver.tables\")"
   ]
  },
  {
   "cell_type": "markdown",
   "metadata": {
    "application/vnd.databricks.v1+cell": {
     "cellMetadata": {},
     "inputWidgets": {},
     "nuid": "3a19946b-2b06-4249-9454-3a4e2e116d41",
     "showTitle": false,
     "title": ""
    }
   },
   "source": [
    "#### Tratamento Base Silver"
   ]
  },
  {
   "cell_type": "code",
   "execution_count": 0,
   "metadata": {
    "application/vnd.databricks.v1+cell": {
     "cellMetadata": {
      "byteLimit": 2048000,
      "rowLimit": 10000
     },
     "inputWidgets": {},
     "nuid": "bb7ee88c-ca4b-4116-82db-c532e630b8d2",
     "showTitle": false,
     "title": ""
    }
   },
   "outputs": [],
   "source": [
    "# Importando bibliotecas\n",
    "from pyspark.sql import SparkSession\n",
    "from pyspark.sql.types import DateType\n",
    "from pyspark.sql.functions import col, isnan\n",
    "from pyspark.sql.functions import to_date, date_format\n",
    "from pyspark.sql.functions import udf\n",
    "from pyspark.sql.types import StringType"
   ]
  },
  {
   "cell_type": "code",
   "execution_count": 0,
   "metadata": {
    "application/vnd.databricks.v1+cell": {
     "cellMetadata": {
      "byteLimit": 2048000,
      "rowLimit": 10000
     },
     "inputWidgets": {},
     "nuid": "c9bc0314-639c-4731-8de2-900376e18d5f",
     "showTitle": false,
     "title": ""
    }
   },
   "outputs": [],
   "source": [
    "# Criando df_silver_hortigrangeiros a partir do bronze\n",
    "df_silver_hortigrangeiros = df_bronze_hortigrangeiros"
   ]
  },
  {
   "cell_type": "code",
   "execution_count": 0,
   "metadata": {
    "application/vnd.databricks.v1+cell": {
     "cellMetadata": {
      "byteLimit": 2048000,
      "rowLimit": 10000
     },
     "inputWidgets": {},
     "nuid": "9172aa93-b736-4d91-b713-a0f52f0a87a4",
     "showTitle": false,
     "title": ""
    }
   },
   "outputs": [],
   "source": [
    "# Criando df_silver_produto a partir do bronze\n",
    "df_silver_hortigrangeiros_produto = df_bronze_hortigrangeiros_produto"
   ]
  },
  {
   "cell_type": "code",
   "execution_count": 0,
   "metadata": {
    "application/vnd.databricks.v1+cell": {
     "cellMetadata": {
      "byteLimit": 2048000,
      "rowLimit": 10000
     },
     "inputWidgets": {},
     "nuid": "182001d4-c4cc-46f3-9109-22f3171fa074",
     "showTitle": false,
     "title": ""
    }
   },
   "outputs": [
    {
     "output_type": "stream",
     "name": "stdout",
     "output_type": "stream",
     "text": [
      "+-------+--------------------+---+-----------+-----------+\n|Produto|          Fornecedor| UF|       Data|Preco_Medio|\n+-------+--------------------+---+-----------+-----------+\n|ABACATE|   AMA/BA - JUAZEIRO| BA|02-JAN-2024|        5.4|\n|ABACATE| CEAGESP - ARACATUBA| SP|02-JAN-2024|        nan|\n|ABACATE|CEAGESP - ARARAQUARA| SP|02-JAN-2024|        nan|\n|ABACATE|     CEAGESP - BAURU| SP|02-JAN-2024|        nan|\n|ABACATE|    CEAGESP - FRANCA| SP|02-JAN-2024|        nan|\n|ABACATE|CEAGESP - PIRACICABA| SP|02-JAN-2024|        nan|\n|ABACATE|CEAGESP - PRES. P...| SP|02-JAN-2024|        nan|\n|ABACATE|CEAGESP - S J DOS...| SP|02-JAN-2024|        nan|\n|ABACATE|CEAGESP - SAO JOS...| SP|02-JAN-2024|        nan|\n|ABACATE| CEAGESP - SAO PAULO| SP|02-JAN-2024|        nan|\n|ABACATE|  CEAGESP - SOROCABA| SP|02-JAN-2024|        nan|\n|ABACATE|   CEASA/AL - MACEIO| AL|02-JAN-2024|        nan|\n|ABACATE| CEASA/BA - SALVADOR| BA|02-JAN-2024|        nan|\n|ABACATE|CEASA/CE - FORTALEZA| CE|02-JAN-2024|       5.25|\n|ABACATE|  CEASA/CE - TIANGUA| CE|02-JAN-2024|        nan|\n|ABACATE| CEASA/DF - BRASILIA| DF|02-JAN-2024|       3.42|\n|ABACATE|  CEASA/ES - VITORIA| ES|02-JAN-2024|        nan|\n|ABACATE|  CEASA/GO - GOIANIA| GO|02-JAN-2024|        nan|\n|ABACATE| CEASA/MA - SAO LUIZ| MA|02-JAN-2024|        nan|\n|ABACATE|CEASA/MS - CAMPO ...| MS|02-JAN-2024|        nan|\n+-------+--------------------+---+-----------+-----------+\nonly showing top 20 rows\n\n"
     ]
    }
   ],
   "source": [
    "df_silver_hortigrangeiros.show()"
   ]
  },
  {
   "cell_type": "code",
   "execution_count": 0,
   "metadata": {
    "application/vnd.databricks.v1+cell": {
     "cellMetadata": {
      "byteLimit": 2048000,
      "rowLimit": 10000
     },
     "inputWidgets": {},
     "nuid": "e31c75d6-9c18-4578-8043-d78a407982c1",
     "showTitle": false,
     "title": ""
    }
   },
   "outputs": [],
   "source": [
    "## Como as datas na base estão em formato texto em português, tenho que ajustar os nomes que não são iguais ao inglês para  converter a coluna em formato data sem perder dados\n",
    "\n",
    "# Ciarção de Função de mapeamento para converter as abreviações dos meses\n",
    "def ajustar_mes(data):\n",
    "    if data is None:\n",
    "        return None\n",
    "    mes_map = {\n",
    "        'FEV': 'FEB',\n",
    "        'ABR': 'APR',\n",
    "        'MAI': 'MAY'\n",
    "    }\n",
    "    for pt_mes, en_mes in mes_map.items():\n",
    "        data = data.replace(pt_mes, en_mes)\n",
    "    return data\n",
    "\n",
    "# Registrando a função UDF\n",
    "ajustar_mes_udf = udf(ajustar_mes, StringType())\n",
    "\n",
    "# Aplicando a UDF na coluna 'Data'\n",
    "df_silver_hortigrangeiros = df_silver_hortigrangeiros.withColumn('Data', ajustar_mes_udf(col('Data')))"
   ]
  },
  {
   "cell_type": "code",
   "execution_count": 0,
   "metadata": {
    "application/vnd.databricks.v1+cell": {
     "cellMetadata": {
      "byteLimit": 2048000,
      "rowLimit": 10000
     },
     "inputWidgets": {},
     "nuid": "88294da7-4357-47c4-902f-c7859ddc323b",
     "showTitle": false,
     "title": ""
    }
   },
   "outputs": [],
   "source": [
    "# Conversão da coluna de data para o formato 'dd-MMM-yyyy'\n",
    "df_silver_hortigrangeiros = df_silver_hortigrangeiros.withColumn('Data', to_date(col('Data'), 'dd-MMM-yyyy'))"
   ]
  },
  {
   "cell_type": "code",
   "execution_count": 0,
   "metadata": {
    "application/vnd.databricks.v1+cell": {
     "cellMetadata": {
      "byteLimit": 2048000,
      "rowLimit": 10000
     },
     "inputWidgets": {},
     "nuid": "4a952a03-8516-43d5-aa74-289c3ca5167e",
     "showTitle": false,
     "title": ""
    }
   },
   "outputs": [],
   "source": [
    "# Conversão da coluna de Preco_Medio para o formato Double\n",
    "df_silver_hortigrangeiros = df_silver_hortigrangeiros.withColumn('Preco_Medio', col('Preco_Medio').cast('double'))"
   ]
  },
  {
   "cell_type": "code",
   "execution_count": 0,
   "metadata": {
    "application/vnd.databricks.v1+cell": {
     "cellMetadata": {
      "byteLimit": 2048000,
      "rowLimit": 10000
     },
     "inputWidgets": {},
     "nuid": "ca4cc55e-4127-4e0a-b7ca-4f46fdf9a9c7",
     "showTitle": false,
     "title": ""
    }
   },
   "outputs": [],
   "source": [
    "# Excluindo as linhas onde 'Preco_Medio' é NaN\n",
    "df_silver_hortigrangeiros = df_silver_hortigrangeiros.filter(~isnan(col('Preco_Medio')))"
   ]
  },
  {
   "cell_type": "code",
   "execution_count": 0,
   "metadata": {
    "application/vnd.databricks.v1+cell": {
     "cellMetadata": {
      "byteLimit": 2048000,
      "rowLimit": 10000
     },
     "inputWidgets": {},
     "nuid": "513ef96f-875e-4323-becd-ed51dc23e1a6",
     "showTitle": false,
     "title": ""
    }
   },
   "outputs": [
    {
     "output_type": "execute_result",
     "data": {
      "text/plain": [
       "0"
      ]
     },
     "execution_count": 101,
     "metadata": {},
     "output_type": "execute_result"
    }
   ],
   "source": [
    "# Verificando se existem colunas de datas vazias\n",
    "df_silver_hortigrangeiros.filter(col('Data').isNull()).count()"
   ]
  },
  {
   "cell_type": "code",
   "execution_count": 0,
   "metadata": {
    "application/vnd.databricks.v1+cell": {
     "cellMetadata": {
      "byteLimit": 2048000,
      "rowLimit": 10000
     },
     "inputWidgets": {},
     "nuid": "64c17456-9314-42a2-8d6e-8966033a02ca",
     "showTitle": false,
     "title": ""
    }
   },
   "outputs": [
    {
     "output_type": "stream",
     "name": "stdout",
     "output_type": "stream",
     "text": [
      "+---------+--------------------+---+----------+-----------+\n|  Produto|          Fornecedor| UF|      Data|Preco_Medio|\n+---------+--------------------+---+----------+-----------+\n|   QUIABO| CEASA/SP - CAMPINAS| SP|2024-03-29|       3.21|\n|  REPOLHO| CEAGESP - ARACATUBA| SP|2024-03-29|       3.11|\n|  REPOLHO|CEAGESP - ARARAQUARA| SP|2024-03-29|        2.5|\n|  REPOLHO|CEAGESP - PIRACICABA| SP|2024-03-29|       2.25|\n|  REPOLHO|CEAGESP - SAO JOS...| SP|2024-03-29|        2.6|\n|  REPOLHO| CEASA/DF - BRASILIA| DF|2024-03-29|       5.23|\n|  REPOLHO|   CEASA/MT - CUIABA| MT|2024-03-29|       3.11|\n|  REPOLHO| CEASA/SP - CAMPINAS| SP|2024-03-29|       2.25|\n|TANGERINA| CEAGESP - ARACATUBA| SP|2024-03-29|       3.94|\n|TANGERINA|CEAGESP - ARARAQUARA| SP|2024-03-29|       3.89|\n|TANGERINA|CEAGESP - PIRACICABA| SP|2024-03-29|        6.0|\n|TANGERINA|CEAGESP - SAO JOS...| SP|2024-03-29|       4.62|\n|TANGERINA| CEASA/DF - BRASILIA| DF|2024-03-29|        3.5|\n|TANGERINA|   CEASA/MT - CUIABA| MT|2024-03-29|        4.5|\n|TANGERINA| CEASA/SP - CAMPINAS| SP|2024-03-29|       6.76|\n|   TOMATE| CEAGESP - ARACATUBA| SP|2024-03-29|       6.79|\n|   TOMATE|CEAGESP - ARARAQUARA| SP|2024-03-29|       7.38|\n|   TOMATE|CEAGESP - PIRACICABA| SP|2024-03-29|        5.5|\n|   TOMATE|CEAGESP - SAO JOS...| SP|2024-03-29|       6.14|\n|   TOMATE| CEASA/DF - BRASILIA| DF|2024-03-29|       8.75|\n+---------+--------------------+---+----------+-----------+\nonly showing top 20 rows\n\n"
     ]
    }
   ],
   "source": [
    "# Mostrar o resultado\n",
    "df_silver_hortigrangeiros.show()"
   ]
  },
  {
   "cell_type": "code",
   "execution_count": 0,
   "metadata": {
    "application/vnd.databricks.v1+cell": {
     "cellMetadata": {
      "byteLimit": 2048000,
      "rowLimit": 10000
     },
     "inputWidgets": {},
     "nuid": "8e40f77c-bf06-419e-803b-b50dc15ce084",
     "showTitle": false,
     "title": ""
    }
   },
   "outputs": [],
   "source": [
    "# Ordenar os dados por Produto, Fornecedor, e Data\n",
    "df_silver_hortigrangeiros = df_silver_hortigrangeiros.orderBy(['Produto', 'Fornecedor', 'Data'])"
   ]
  },
  {
   "cell_type": "code",
   "execution_count": 0,
   "metadata": {
    "application/vnd.databricks.v1+cell": {
     "cellMetadata": {
      "byteLimit": 2048000,
      "rowLimit": 10000
     },
     "inputWidgets": {},
     "nuid": "b8b90746-e957-4e0e-a3fc-e8a8260f69bf",
     "showTitle": false,
     "title": ""
    }
   },
   "outputs": [
    {
     "output_type": "stream",
     "name": "stdout",
     "output_type": "stream",
     "text": [
      "+-------+-----------------+---+----------+-----------+\n|Produto|       Fornecedor| UF|      Data|Preco_Medio|\n+-------+-----------------+---+----------+-----------+\n|ABACATE|AMA/BA - JUAZEIRO| BA|2024-01-02|        5.4|\n|ABACATE|AMA/BA - JUAZEIRO| BA|2024-01-03|        5.5|\n|ABACATE|AMA/BA - JUAZEIRO| BA|2024-01-04|        5.5|\n|ABACATE|AMA/BA - JUAZEIRO| BA|2024-01-05|       5.75|\n|ABACATE|AMA/BA - JUAZEIRO| BA|2024-01-08|       4.75|\n|ABACATE|AMA/BA - JUAZEIRO| BA|2024-01-09|        5.0|\n|ABACATE|AMA/BA - JUAZEIRO| BA|2024-01-10|       5.15|\n|ABACATE|AMA/BA - JUAZEIRO| BA|2024-01-11|       5.15|\n|ABACATE|AMA/BA - JUAZEIRO| BA|2024-01-12|        4.9|\n|ABACATE|AMA/BA - JUAZEIRO| BA|2024-01-15|        4.5|\n+-------+-----------------+---+----------+-----------+\nonly showing top 10 rows\n\n"
     ]
    }
   ],
   "source": [
    "# Mostrar o resultado\n",
    "df_silver_hortigrangeiros.show(10)"
   ]
  },
  {
   "cell_type": "code",
   "execution_count": 0,
   "metadata": {
    "application/vnd.databricks.v1+cell": {
     "cellMetadata": {
      "byteLimit": 2048000,
      "rowLimit": 10000
     },
     "inputWidgets": {},
     "nuid": "628869c7-2078-4003-a12b-cdade481ba36",
     "showTitle": false,
     "title": ""
    }
   },
   "outputs": [
    {
     "output_type": "stream",
     "name": "stdout",
     "output_type": "stream",
     "text": [
      "+-------------+-------+\n|      Produto|Unidade|\n+-------------+-------+\n|      ABACATE|     KG|\n|      ABACAXI|     UN|\n|      ABOBORA|     KG|\n|    ABOBRINHA|     KG|\n|       ALFACE|     DZ|\n|         ALHO|     KG|\n|BANANA NANICA|     KG|\n| BANANA PRATA|     KG|\n|       BATATA|     KG|\n|  BATATA DOCE|     KG|\n|    BERINJELA|     KG|\n|    BETERRABA|     KG|\n|      BROCOLO|     KG|\n|         CARA|     KG|\n|       CEBOLA|     KG|\n|      CENOURA|     KG|\n|       CHUCHU|     KG|\n|   COCO VERDE|     UN|\n|        COUVE|     KG|\n|   COUVE-FLOR|     UN|\n+-------------+-------+\nonly showing top 20 rows\n\n"
     ]
    }
   ],
   "source": [
    "df_silver_hortigrangeiros_produto.show()"
   ]
  },
  {
   "cell_type": "markdown",
   "metadata": {
    "application/vnd.databricks.v1+cell": {
     "cellMetadata": {},
     "inputWidgets": {},
     "nuid": "cc532753-b003-4aaa-a19e-97d7b9e74771",
     "showTitle": false,
     "title": ""
    }
   },
   "source": [
    "#### Criação da tabela Silver"
   ]
  },
  {
   "cell_type": "code",
   "execution_count": 0,
   "metadata": {
    "application/vnd.databricks.v1+cell": {
     "cellMetadata": {
      "byteLimit": 2048000,
      "implicitDf": true,
      "rowLimit": 10000
     },
     "inputWidgets": {},
     "nuid": "95ba0f6f-d8f6-48aa-bd71-af9cf7286c39",
     "showTitle": false,
     "title": ""
    }
   },
   "outputs": [
    {
     "output_type": "display_data",
     "data": {
      "text/html": [
       "<style scoped>\n",
       "  .table-result-container {\n",
       "    max-height: 300px;\n",
       "    overflow: auto;\n",
       "  }\n",
       "  table, th, td {\n",
       "    border: 1px solid black;\n",
       "    border-collapse: collapse;\n",
       "  }\n",
       "  th, td {\n",
       "    padding: 5px;\n",
       "  }\n",
       "  th {\n",
       "    text-align: left;\n",
       "  }\n",
       "</style><div class='table-result-container'><table class='table-result'><thead style='background-color: white'><tr></tr></thead><tbody></tbody></table></div>"
      ]
     },
     "metadata": {
      "application/vnd.databricks.v1+output": {
       "addedWidgets": {},
       "aggData": [],
       "aggError": "",
       "aggOverflow": false,
       "aggSchema": [],
       "aggSeriesLimitReached": false,
       "aggType": "",
       "arguments": {},
       "columnCustomDisplayInfos": {},
       "data": [],
       "datasetInfos": [],
       "dbfsResultPath": null,
       "isJsonSchema": true,
       "metadata": {
        "dataframeName": null
       },
       "overflow": false,
       "plotOptions": {
        "customPlotOptions": {},
        "displayType": "table",
        "pivotAggregation": null,
        "pivotColumns": null,
        "xColumns": null,
        "yColumns": null
       },
       "removedWidgets": [],
       "schema": [],
       "type": "table"
      }
     },
     "output_type": "display_data"
    }
   ],
   "source": [
    "%sql\n",
    "-- Criar a tabela dimensao_produto com a chave primária Produto\n",
    "CREATE TABLE IF NOT EXISTS silver.tables.dimensao_produto (\t\t\t\t\n",
    "  Produto STRING PRIMARY KEY,\n",
    "  Unidade STRING\n",
    ");"
   ]
  },
  {
   "cell_type": "code",
   "execution_count": 0,
   "metadata": {
    "application/vnd.databricks.v1+cell": {
     "cellMetadata": {
      "byteLimit": 2048000,
      "implicitDf": true,
      "rowLimit": 10000
     },
     "inputWidgets": {},
     "nuid": "aac0748e-5503-41be-92b1-33f6267d6958",
     "showTitle": false,
     "title": ""
    }
   },
   "outputs": [
    {
     "output_type": "display_data",
     "data": {
      "text/html": [
       "<style scoped>\n",
       "  .table-result-container {\n",
       "    max-height: 300px;\n",
       "    overflow: auto;\n",
       "  }\n",
       "  table, th, td {\n",
       "    border: 1px solid black;\n",
       "    border-collapse: collapse;\n",
       "  }\n",
       "  th, td {\n",
       "    padding: 5px;\n",
       "  }\n",
       "  th {\n",
       "    text-align: left;\n",
       "  }\n",
       "</style><div class='table-result-container'><table class='table-result'><thead style='background-color: white'><tr></tr></thead><tbody></tbody></table></div>"
      ]
     },
     "metadata": {
      "application/vnd.databricks.v1+output": {
       "addedWidgets": {},
       "aggData": [],
       "aggError": "",
       "aggOverflow": false,
       "aggSchema": [],
       "aggSeriesLimitReached": false,
       "aggType": "",
       "arguments": {},
       "columnCustomDisplayInfos": {},
       "data": [],
       "datasetInfos": [],
       "dbfsResultPath": null,
       "isJsonSchema": true,
       "metadata": {
        "dataframeName": null
       },
       "overflow": false,
       "plotOptions": {
        "customPlotOptions": {},
        "displayType": "table",
        "pivotAggregation": null,
        "pivotColumns": null,
        "xColumns": null,
        "yColumns": null
       },
       "removedWidgets": [],
       "schema": [],
       "type": "table"
      }
     },
     "output_type": "display_data"
    }
   ],
   "source": [
    "%sql\n",
    "-- Criando a tabela Fato_hortigrangeiros_Silver com algumas restrições de integridade como a chave estrangeira referenciando a chave primária de dimensao_produto e as restriçõe de Tipo \n",
    "CREATE TABLE IF NOT EXISTS silver.tables.Fato_hortigrangeiros (\t\t\t\t\n",
    "  Produto STRING,\n",
    "  Fornecedor STRING,\n",
    "  UF STRING,\n",
    "  Data DATE,\n",
    "  Preco_Medio DOUBLE,\n",
    "  FOREIGN KEY (Produto) REFERENCES silver.tables.dimensao_produto(Produto)\n",
    ");"
   ]
  },
  {
   "cell_type": "markdown",
   "metadata": {
    "application/vnd.databricks.v1+cell": {
     "cellMetadata": {},
     "inputWidgets": {},
     "nuid": "4aba56fe-8d72-4f2b-9b64-209de44cf41a",
     "showTitle": false,
     "title": ""
    }
   },
   "source": [
    "#### Salvando Base no Directory Silver da Azure Datalake"
   ]
  },
  {
   "cell_type": "code",
   "execution_count": 0,
   "metadata": {
    "application/vnd.databricks.v1+cell": {
     "cellMetadata": {
      "byteLimit": 2048000,
      "rowLimit": 10000
     },
     "inputWidgets": {},
     "nuid": "ad34f156-421c-404e-81ee-0ced74f32da4",
     "showTitle": false,
     "title": ""
    }
   },
   "outputs": [],
   "source": [
    "#Salvando Fato_hortigrangeiros_Silver na Azure Data Lake Storage\n",
    "output_path = f\"abfss://brickmvpcontainer@{account_name}.dfs.core.windows.net/Silver/output_hortigrangeiros_delta\"\n",
    "\n",
    "df_silver_hortigrangeiros.write\\\n",
    "    .format('delta')\\\n",
    "    .option('header', True)\\\n",
    "    .mode('overwrite')\\\n",
    "    .save(output_path)"
   ]
  },
  {
   "cell_type": "code",
   "execution_count": 0,
   "metadata": {
    "application/vnd.databricks.v1+cell": {
     "cellMetadata": {
      "byteLimit": 2048000,
      "rowLimit": 10000
     },
     "inputWidgets": {},
     "nuid": "bb7a2290-91e4-4ebd-bb18-89c120835750",
     "showTitle": false,
     "title": ""
    }
   },
   "outputs": [],
   "source": [
    "# Salvando dimensao produto na Azure Data Lake Storage\n",
    "output_path = f\"abfss://brickmvpcontainer@{account_name}.dfs.core.windows.net/Silver/output_produto_delta\"\n",
    "\n",
    "# Salvando os dados em formato Delta\n",
    "df_silver_hortigrangeiros_produto.write\\\n",
    "    .format('delta')\\\n",
    "    .option('header', True)\\\n",
    "    .mode('overwrite')\\\n",
    "    .save(output_path)"
   ]
  },
  {
   "cell_type": "markdown",
   "metadata": {
    "application/vnd.databricks.v1+cell": {
     "cellMetadata": {},
     "inputWidgets": {},
     "nuid": "201a826f-e762-45da-8216-6acaf368abfe",
     "showTitle": false,
     "title": ""
    }
   },
   "source": [
    "#### Inserindo dados na tabela Silver"
   ]
  },
  {
   "cell_type": "code",
   "execution_count": 0,
   "metadata": {
    "application/vnd.databricks.v1+cell": {
     "cellMetadata": {
      "byteLimit": 2048000,
      "rowLimit": 10000
     },
     "inputWidgets": {},
     "nuid": "0f886534-88b4-46cc-9c3c-fa12f6bf9323",
     "showTitle": false,
     "title": ""
    }
   },
   "outputs": [],
   "source": [
    "# Salvando arquivo na tabela dimensao_produto\n",
    "df_silver_hortigrangeiros_produto.write.mode(\"overwrite\").format(\"delta\").saveAsTable(\"Silver.tables.dimensao_produto\")\n"
   ]
  },
  {
   "cell_type": "code",
   "execution_count": 0,
   "metadata": {
    "application/vnd.databricks.v1+cell": {
     "cellMetadata": {
      "byteLimit": 2048000,
      "rowLimit": 10000
     },
     "inputWidgets": {},
     "nuid": "7108d87d-6f64-4959-9715-aa1f2628ee3d",
     "showTitle": false,
     "title": ""
    }
   },
   "outputs": [],
   "source": [
    "# Salvando arquivo na tabela Fato_hortigrangeiros\n",
    "df_silver_hortigrangeiros.write.mode(\"overwrite\").format(\"delta\").saveAsTable(\"Silver.tables.Fato_hortigrangeiros\")"
   ]
  },
  {
   "cell_type": "markdown",
   "metadata": {
    "application/vnd.databricks.v1+cell": {
     "cellMetadata": {},
     "inputWidgets": {},
     "nuid": "0aa78028-c561-4bd0-95c2-a10f689f8fef",
     "showTitle": false,
     "title": ""
    }
   },
   "source": [
    "##### Algumas consultas de teste das tabelas"
   ]
  },
  {
   "cell_type": "code",
   "execution_count": 0,
   "metadata": {
    "application/vnd.databricks.v1+cell": {
     "cellMetadata": {
      "byteLimit": 2048000,
      "implicitDf": true,
      "rowLimit": 10000
     },
     "inputWidgets": {},
     "nuid": "66820145-034c-4d58-ac79-0e4cdc48e4e6",
     "showTitle": false,
     "title": ""
    }
   },
   "outputs": [
    {
     "output_type": "stream",
     "name": "stdout",
     "output_type": "stream",
     "text": [
      "+------------+-------+---+------------------+\n|     Produto|Unidade| UF|       Preco_Medio|\n+------------+-------+---+------------------+\n|     MORANGO|     KG| PA| 54.51560975609757|\n|     MORANGO|     KG| RN|44.541935483870965|\n|     MORANGO|     KG| CE| 42.17142857142857|\n|     MORANGO|     KG| PE| 40.72477064220183|\n|     MORANGO|     KG| BA| 39.42646666666666|\n|     MORANGO|     KG| MA|38.661023622047246|\n|     MORANGO|     KG| MT| 37.80761538461538|\n|     MORANGO|     KG| AL|37.542857142857144|\n|     MORANGO|     KG| PB|  37.4241129032258|\n|        ALHO|     KG| MA| 34.46287401574801|\n|      ALFACE|     DZ| PR| 33.80017910447755|\n|      ALFACE|     DZ| MG|30.891472868217054|\n|MANDIOQUINHA|     KG| MA|30.798818897637798|\n|     MORANGO|     KG| DF|28.947499999999984|\n|      ALFACE|     DZ| CE|28.517619047619046|\n|      ALFACE|     DZ| SP|27.549902534113077|\n|     MORANGO|     KG| MS|27.388333333333332|\n|        ALHO|     KG| MS|27.333333333333332|\n|     BROCOLO|     KG| RN| 26.57936507936508|\n|        ALHO|     KG| PA|  26.1009756097561|\n+------------+-------+---+------------------+\nonly showing top 20 rows\n\n"
     ]
    }
   ],
   "source": [
    "spark.sql(\"\"\"\n",
    "SELECT F.Produto,\n",
    "  D.Unidade,\n",
    "  F.UF,\n",
    "  mean(F.Preco_Medio) as Preco_Medio \n",
    "FROM silver.tables.Fato_hortigrangeiros as F\n",
    "LEFT JOIN silver.tables.dimensao_produto as D ON F.Produto = D.Produto\n",
    "GROUP BY\n",
    "  F.Produto,\n",
    "  D.Unidade,\n",
    "  F.UF\n",
    "ORDER BY\n",
    "Preco_Medio DESC\n",
    "\"\"\").show()"
   ]
  },
  {
   "cell_type": "markdown",
   "metadata": {
    "application/vnd.databricks.v1+cell": {
     "cellMetadata": {},
     "inputWidgets": {},
     "nuid": "484f992a-5733-4511-965d-559348b7435f",
     "showTitle": false,
     "title": ""
    }
   },
   "source": [
    "#### Catálogo de Dados (CAMADA SILVER)\n",
    "\n",
    "##### Tabela Silver: Fato_hortigrangeiros\n",
    "\n",
    "| Coluna        | Descrição                                 | Tipo   |linhas   |Valores Nulos| Comentário                                      |\n",
    "| ------------- | ----------------------------------------- | ------ |---------|-------------|----------------------------------------------- |\n",
    "| Produto       | Nome do produto (FK para dimensao_produto)| string | 115.584 | 0           |Nome do Produto de Hortifruti Chave estrangeira referenciando dimensao_produto pelo nome |\n",
    "| Fornecedor    | Nome do fornecedor                        | string | 115.584 | 0           |Nome do Ceasa que pratica aquele preço                     |\n",
    "| UF            | Unidade Federativa do fornecedor          | string | 115.584 | 0           |Estado (UF) do fornecedor (ex: SP, RJ)                     |\n",
    "| Data          | Data do Preço Preço do produto            | Date   | 115.584 | 0           |Data no formato YYYY-MM-DD / Data do preço praticado no dia/ Dados do dia 2024-01-02 a 2024-06-26|\n",
    "| Preco_Medio   | Preço médio do produto                    | Double | 115.584 | 0           |Preço médio em reais (R$), com duas casas decimais/ Preço do Produto praticado pelo Ceasa no Dia /Valores Nulos Retirados /Min = 0,5 e Max = 364 |\n",
    "\n",
    "##### Tabela Silver: dimensao_produto\n",
    "\n",
    "| Coluna        | Descrição         | Tipo   |linhas   |Valores Nulos| Comentário                                      |\n",
    "| ------------- | ----------------- | ------ |---------|-------------| ----------------------------------------------- |\n",
    "| Nome_Produto  | Nome do produto (PK para Fato_hortigrangeiros)   | string | 48 | 0           | Chave Primária referenciando dimensao_produto pelo nome        |\n",
    "| Unidade       | Unidade de Medida | string | 48 | 0           | Unidade de Medida do Produto (Untilizado para identificar na tabela Fato qual unidade de medida o Preço está se referenciando)    |\n",
    "\n",
    "\n",
    "#### Exemplo de Dados\n",
    "\n",
    "##### Tabela Silver: Fato_hortigrangeiros\n",
    "\n",
    "| Produto     | Fornecedor  | UF  | Data       | Preco_Medio |\n",
    "| ----------- | ----------- | --- | ---------- | ----------- |\n",
    "| Produto A   | Fornecedor A | SP  | 2024-07-01 | 10.00       |\n",
    "| Produto B   | Fornecedor B | RJ  | 2024-07-02 | 20.00       |\n",
    "| Produto C   | Fornecedor C | MG  | 2024-07-03 | 30.00       |\n",
    "| Produto D   | Fornecedor D | ES  | 2024-07-04 | 40.00       |\n",
    "\n",
    "##### Tabela Silver: dimensao_produto\n",
    "\n",
    "| Produto | Unidade |\n",
    "| ------------ | --------- |\n",
    "| Produto A    | KG\n",
    "| Produto B    | DZ\n",
    "| Produto C    | UND\n",
    "| Produto D    | KG"
   ]
  },
  {
   "cell_type": "markdown",
   "metadata": {
    "application/vnd.databricks.v1+cell": {
     "cellMetadata": {},
     "inputWidgets": {},
     "nuid": "3d1e2823-d2e8-4e5f-802a-e7ec5b38e9fe",
     "showTitle": false,
     "title": ""
    }
   },
   "source": [
    "### CAMADA GOLD"
   ]
  },
  {
   "cell_type": "markdown",
   "metadata": {
    "application/vnd.databricks.v1+cell": {
     "cellMetadata": {},
     "inputWidgets": {},
     "nuid": "b238b554-2c2d-4da0-87b2-15518c68d1ac",
     "showTitle": false,
     "title": ""
    }
   },
   "source": [
    "#### Criação da camada GOLD"
   ]
  },
  {
   "cell_type": "code",
   "execution_count": 0,
   "metadata": {
    "application/vnd.databricks.v1+cell": {
     "cellMetadata": {
      "byteLimit": 2048000,
      "rowLimit": 10000
     },
     "inputWidgets": {},
     "nuid": "4853e175-af9a-4cb4-b1ba-65e33f8d697c",
     "showTitle": false,
     "title": ""
    }
   },
   "outputs": [
    {
     "output_type": "execute_result",
     "data": {
      "text/plain": [
       "DataFrame[]"
      ]
     },
     "execution_count": 15,
     "metadata": {},
     "output_type": "execute_result"
    }
   ],
   "source": [
    "#criar catalog Gold\n",
    "spark.sql(\"CREATE CATALOG IF NOT EXISTS Gold\")"
   ]
  },
  {
   "cell_type": "code",
   "execution_count": 0,
   "metadata": {
    "application/vnd.databricks.v1+cell": {
     "cellMetadata": {
      "byteLimit": 2048000,
      "rowLimit": 10000
     },
     "inputWidgets": {},
     "nuid": "1004471f-d92b-4b32-ac11-6b4b79e4a3d3",
     "showTitle": false,
     "title": ""
    }
   },
   "outputs": [
    {
     "output_type": "execute_result",
     "data": {
      "text/plain": [
       "DataFrame[]"
      ]
     },
     "execution_count": 16,
     "metadata": {},
     "output_type": "execute_result"
    }
   ],
   "source": [
    "#criar schema para inserir as tabelas \n",
    "spark.sql(\"CREATE SCHEMA IF NOT EXISTS Gold.tables\")"
   ]
  },
  {
   "cell_type": "markdown",
   "metadata": {
    "application/vnd.databricks.v1+cell": {
     "cellMetadata": {},
     "inputWidgets": {},
     "nuid": "7529ea92-033b-49e6-b965-9dcfcf1df94c",
     "showTitle": false,
     "title": ""
    }
   },
   "source": [
    "#### Tratamento Base Gold\n"
   ]
  },
  {
   "cell_type": "code",
   "execution_count": 0,
   "metadata": {
    "application/vnd.databricks.v1+cell": {
     "cellMetadata": {
      "byteLimit": 2048000,
      "rowLimit": 10000
     },
     "inputWidgets": {},
     "nuid": "f27a5827-0627-409f-9b17-b5a67f0bee71",
     "showTitle": false,
     "title": ""
    }
   },
   "outputs": [],
   "source": [
    "# Criando df_gold_hortigrangeiros a partir do Silver\n",
    "df_gold_hortigrangeiros = df_silver_hortigrangeiros"
   ]
  },
  {
   "cell_type": "code",
   "execution_count": 0,
   "metadata": {
    "application/vnd.databricks.v1+cell": {
     "cellMetadata": {
      "byteLimit": 2048000,
      "rowLimit": 10000
     },
     "inputWidgets": {},
     "nuid": "195c46c4-ed79-46af-8bb0-8d3457924f29",
     "showTitle": false,
     "title": ""
    }
   },
   "outputs": [],
   "source": [
    "# Criando df_gold_produto a partir do silver\n",
    "df_gold_hortigrangeiros_produto = df_silver_hortigrangeiros_produto"
   ]
  },
  {
   "cell_type": "code",
   "execution_count": 0,
   "metadata": {
    "application/vnd.databricks.v1+cell": {
     "cellMetadata": {
      "byteLimit": 2048000,
      "rowLimit": 10000
     },
     "inputWidgets": {},
     "nuid": "fb05ac01-bc51-40e8-b3aa-6730626266b6",
     "showTitle": false,
     "title": ""
    }
   },
   "outputs": [
    {
     "output_type": "stream",
     "name": "stdout",
     "output_type": "stream",
     "text": [
      "+-------+-----------------+---+----------+-----------+-------+\n|Produto|       Fornecedor| UF|      Data|Preco_Medio|Ano_Mes|\n+-------+-----------------+---+----------+-----------+-------+\n|ABACATE|AMA/BA - JUAZEIRO| BA|2024-01-02|        5.4|2024-01|\n|ABACATE|AMA/BA - JUAZEIRO| BA|2024-01-03|        5.5|2024-01|\n|ABACATE|AMA/BA - JUAZEIRO| BA|2024-01-04|        5.5|2024-01|\n|ABACATE|AMA/BA - JUAZEIRO| BA|2024-01-05|       5.75|2024-01|\n|ABACATE|AMA/BA - JUAZEIRO| BA|2024-01-08|       4.75|2024-01|\n|ABACATE|AMA/BA - JUAZEIRO| BA|2024-01-09|        5.0|2024-01|\n|ABACATE|AMA/BA - JUAZEIRO| BA|2024-01-10|       5.15|2024-01|\n|ABACATE|AMA/BA - JUAZEIRO| BA|2024-01-11|       5.15|2024-01|\n|ABACATE|AMA/BA - JUAZEIRO| BA|2024-01-12|        4.9|2024-01|\n|ABACATE|AMA/BA - JUAZEIRO| BA|2024-01-15|        4.5|2024-01|\n|ABACATE|AMA/BA - JUAZEIRO| BA|2024-01-16|       4.75|2024-01|\n|ABACATE|AMA/BA - JUAZEIRO| BA|2024-01-17|       4.75|2024-01|\n|ABACATE|AMA/BA - JUAZEIRO| BA|2024-01-18|       4.75|2024-01|\n|ABACATE|AMA/BA - JUAZEIRO| BA|2024-01-19|       4.25|2024-01|\n|ABACATE|AMA/BA - JUAZEIRO| BA|2024-01-22|       4.25|2024-01|\n|ABACATE|AMA/BA - JUAZEIRO| BA|2024-01-24|       4.75|2024-01|\n|ABACATE|AMA/BA - JUAZEIRO| BA|2024-01-25|        4.5|2024-01|\n|ABACATE|AMA/BA - JUAZEIRO| BA|2024-01-26|        4.5|2024-01|\n|ABACATE|AMA/BA - JUAZEIRO| BA|2024-01-30|        4.5|2024-01|\n|ABACATE|AMA/BA - JUAZEIRO| BA|2024-01-31|        4.5|2024-01|\n+-------+-----------------+---+----------+-----------+-------+\nonly showing top 20 rows\n\n"
     ]
    }
   ],
   "source": [
    "# Inclusão da Coluna Ano_Mes no df_gold_hortigrangeiros\n",
    "\n",
    "from pyspark.sql.functions import date_format\n",
    "\n",
    "df_gold_hortigrangeiros = df_gold_hortigrangeiros.withColumn(\"Ano_Mes\", date_format(\"Data\", \"yyyy-MM\"))\n",
    "df_gold_hortigrangeiros.show()"
   ]
  },
  {
   "cell_type": "code",
   "execution_count": 0,
   "metadata": {
    "application/vnd.databricks.v1+cell": {
     "cellMetadata": {
      "byteLimit": 2048000,
      "rowLimit": 10000
     },
     "inputWidgets": {},
     "nuid": "95ff4123-38ea-43ca-b3d1-1709a5ffca02",
     "showTitle": false,
     "title": ""
    }
   },
   "outputs": [],
   "source": [
    "from pyspark.sql.functions import round\n",
    "\n",
    "# Criando tabela totalizadora com a média dos Preços dos produtos\n",
    "df_gold_hortigrangeiros_media_geral = (\n",
    "    df_gold_hortigrangeiros\n",
    "    .groupBy(\"Produto\", \"Ano_Mes\")\n",
    "    .agg({\"Preco_Medio\": \"avg\"})\n",
    "    .withColumnRenamed(\"avg(Preco_Medio)\", \"Preco_Medio_Geral\")\n",
    "    .withColumn(\"Preco_Medio_Geral\", round(\"Preco_Medio_Geral\", 2))\n",
    ")"
   ]
  },
  {
   "cell_type": "code",
   "execution_count": 0,
   "metadata": {
    "application/vnd.databricks.v1+cell": {
     "cellMetadata": {
      "byteLimit": 2048000,
      "rowLimit": 10000
     },
     "inputWidgets": {},
     "nuid": "af7d298e-c3a6-4b50-958f-90165184bc2e",
     "showTitle": false,
     "title": ""
    }
   },
   "outputs": [
    {
     "output_type": "stream",
     "name": "stdout",
     "output_type": "stream",
     "text": [
      "+---------+-------+-----------------+---------------------+\n|  Produto|Ano_Mes|Preco_Medio_Geral|Variacao_Mes_Anterior|\n+---------+-------+-----------------+---------------------+\n|  ABACATE|2024-01|             4.93|                 NULL|\n|  ABACATE|2024-02|             4.12|              -0.1643|\n|  ABACATE|2024-03|             3.96|              -0.0388|\n|  ABACATE|2024-04|             3.76|              -0.0505|\n|  ABACATE|2024-05|             3.82|                0.016|\n|  ABACATE|2024-06|             4.23|               0.1073|\n|  ABACAXI|2024-01|             6.75|                 NULL|\n|  ABACAXI|2024-02|              7.0|                0.037|\n|  ABACAXI|2024-03|             6.76|              -0.0343|\n|  ABACAXI|2024-04|             6.49|              -0.0399|\n|  ABACAXI|2024-05|             6.92|               0.0663|\n|  ABACAXI|2024-06|             7.32|               0.0578|\n|  ABOBORA|2024-01|              3.3|                 NULL|\n|  ABOBORA|2024-02|             3.99|               0.2091|\n|  ABOBORA|2024-03|             4.42|               0.1078|\n|  ABOBORA|2024-04|             3.89|              -0.1199|\n|  ABOBORA|2024-05|             3.31|              -0.1491|\n|  ABOBORA|2024-06|             3.05|              -0.0785|\n|ABOBRINHA|2024-01|             3.36|                 NULL|\n|ABOBRINHA|2024-02|             3.48|               0.0357|\n+---------+-------+-----------------+---------------------+\nonly showing top 20 rows\n\n"
     ]
    }
   ],
   "source": [
    "from pyspark.sql import SparkSession\n",
    "from pyspark.sql.functions import to_date, col, round, lag\n",
    "from pyspark.sql.window import Window\n",
    "\n",
    "# Garantir que a coluna 'Ano_Mes' seja tratada como data\n",
    "#df_gold_hortigrangeiros_media_geral = df_gold_hortigrangeiros_media_geral.withColumn(\"Ano_Mes\", to_date(col(\"Ano_Mes\"), \"yyyy-MM-dd\"))\n",
    "\n",
    "# Converter Preco_Medio_Geral para numérico\n",
    "df_gold_hortigrangeiros_media_geral = df_gold_hortigrangeiros_media_geral.withColumn(\"Preco_Medio_Geral\", col(\"Preco_Medio_Geral\").cast(\"float\"))\n",
    "\n",
    "# Ordenar os dados por Produto e Ano_Mes\n",
    "windowSpec = Window.partitionBy(\"Produto\").orderBy(\"Ano_Mes\")\n",
    "\n",
    "# Calcular a variação mês a mês\n",
    "df_gold_hortigrangeiros_media_geral = df_gold_hortigrangeiros_media_geral.withColumn(\"Preco_Anterior\", lag(\"Preco_Medio_Geral\").over(windowSpec))\n",
    "df_gold_hortigrangeiros_media_geral = df_gold_hortigrangeiros_media_geral.withColumn(\"Variacao_Mes_Anterior\", (col(\"Preco_Medio_Geral\") - col(\"Preco_Anterior\")) / col(\"Preco_Anterior\"))\n",
    "\n",
    "# Remover a coluna Preco_Anterior já que não é mais necessária\n",
    "df_gold_hortigrangeiros_media_geral = df_gold_hortigrangeiros_media_geral.drop(\"Preco_Anterior\")\n",
    "\n",
    "# Arredondar as colunas de preço\n",
    "df_gold_hortigrangeiros_media_geral = df_gold_hortigrangeiros_media_geral.withColumn(\"Preco_Medio_Geral\", round(col(\"Preco_Medio_Geral\"), 2))\n",
    "df_gold_hortigrangeiros_media_geral = df_gold_hortigrangeiros_media_geral.withColumn(\"Variacao_Mes_Anterior\", round(col(\"Variacao_Mes_Anterior\"), 4))\n",
    "\n",
    "df_gold_hortigrangeiros_media_geral.show()"
   ]
  },
  {
   "cell_type": "markdown",
   "metadata": {
    "application/vnd.databricks.v1+cell": {
     "cellMetadata": {},
     "inputWidgets": {},
     "nuid": "1d593acb-b510-4cee-82ce-2a9de95594c4",
     "showTitle": false,
     "title": ""
    }
   },
   "source": [
    "#### Criação da tabela Gold"
   ]
  },
  {
   "cell_type": "code",
   "execution_count": 0,
   "metadata": {
    "application/vnd.databricks.v1+cell": {
     "cellMetadata": {
      "byteLimit": 2048000,
      "implicitDf": true,
      "rowLimit": 10000
     },
     "inputWidgets": {},
     "nuid": "f916216d-c26a-4b20-beea-a2b561b6317f",
     "showTitle": false,
     "title": ""
    }
   },
   "outputs": [
    {
     "output_type": "display_data",
     "data": {
      "text/html": [
       "<style scoped>\n",
       "  .table-result-container {\n",
       "    max-height: 300px;\n",
       "    overflow: auto;\n",
       "  }\n",
       "  table, th, td {\n",
       "    border: 1px solid black;\n",
       "    border-collapse: collapse;\n",
       "  }\n",
       "  th, td {\n",
       "    padding: 5px;\n",
       "  }\n",
       "  th {\n",
       "    text-align: left;\n",
       "  }\n",
       "</style><div class='table-result-container'><table class='table-result'><thead style='background-color: white'><tr></tr></thead><tbody></tbody></table></div>"
      ]
     },
     "metadata": {
      "application/vnd.databricks.v1+output": {
       "addedWidgets": {},
       "aggData": [],
       "aggError": "",
       "aggOverflow": false,
       "aggSchema": [],
       "aggSeriesLimitReached": false,
       "aggType": "",
       "arguments": {},
       "columnCustomDisplayInfos": {},
       "data": [],
       "datasetInfos": [],
       "dbfsResultPath": null,
       "isJsonSchema": true,
       "metadata": {
        "dataframeName": null
       },
       "overflow": false,
       "plotOptions": {
        "customPlotOptions": {},
        "displayType": "table",
        "pivotAggregation": null,
        "pivotColumns": null,
        "xColumns": null,
        "yColumns": null
       },
       "removedWidgets": [],
       "schema": [],
       "type": "table"
      }
     },
     "output_type": "display_data"
    }
   ],
   "source": [
    "%sql\n",
    "-- Criar a tabela dimensao_produto com a chave primária Produto\n",
    "CREATE TABLE IF NOT EXISTS Gold.tables.dimensao_produto (\t\t\t\t\n",
    "  Produto STRING PRIMARY KEY,\n",
    "  Unidade STRING\n",
    ");"
   ]
  },
  {
   "cell_type": "code",
   "execution_count": 0,
   "metadata": {
    "application/vnd.databricks.v1+cell": {
     "cellMetadata": {
      "byteLimit": 2048000,
      "implicitDf": true,
      "rowLimit": 10000
     },
     "inputWidgets": {},
     "nuid": "21ce90af-51a1-48e9-9d47-6a8f9aeddc48",
     "showTitle": false,
     "title": ""
    }
   },
   "outputs": [
    {
     "output_type": "display_data",
     "data": {
      "text/html": [
       "<style scoped>\n",
       "  .table-result-container {\n",
       "    max-height: 300px;\n",
       "    overflow: auto;\n",
       "  }\n",
       "  table, th, td {\n",
       "    border: 1px solid black;\n",
       "    border-collapse: collapse;\n",
       "  }\n",
       "  th, td {\n",
       "    padding: 5px;\n",
       "  }\n",
       "  th {\n",
       "    text-align: left;\n",
       "  }\n",
       "</style><div class='table-result-container'><table class='table-result'><thead style='background-color: white'><tr></tr></thead><tbody></tbody></table></div>"
      ]
     },
     "metadata": {
      "application/vnd.databricks.v1+output": {
       "addedWidgets": {},
       "aggData": [],
       "aggError": "",
       "aggOverflow": false,
       "aggSchema": [],
       "aggSeriesLimitReached": false,
       "aggType": "",
       "arguments": {},
       "columnCustomDisplayInfos": {},
       "data": [],
       "datasetInfos": [],
       "dbfsResultPath": null,
       "isJsonSchema": true,
       "metadata": {
        "dataframeName": null
       },
       "overflow": false,
       "plotOptions": {
        "customPlotOptions": {},
        "displayType": "table",
        "pivotAggregation": null,
        "pivotColumns": null,
        "xColumns": null,
        "yColumns": null
       },
       "removedWidgets": [],
       "schema": [],
       "type": "table"
      }
     },
     "output_type": "display_data"
    }
   ],
   "source": [
    "%sql\n",
    "-- Criando a tabela Fato_hortigrangeiros_Gold com algumas restrições de integridade como a chave estrangeira referenciando a chave primária de dimensao_produto e as restriçõe de Tipo \n",
    "CREATE TABLE IF NOT EXISTS Gold.tables.Fato_hortigrangeiros (\t\t\t\t\n",
    "  Produto STRING,\n",
    "  Fornecedor STRING,\n",
    "  UF STRING,\n",
    "  Data DATE,\n",
    "  Preco_Medio DOUBLE,\n",
    "  Ano_Mes STRING,\n",
    "  FOREIGN KEY (Produto) REFERENCES Gold.tables.dimensao_produto(Produto)\n",
    ");"
   ]
  },
  {
   "cell_type": "code",
   "execution_count": 0,
   "metadata": {
    "application/vnd.databricks.v1+cell": {
     "cellMetadata": {
      "byteLimit": 2048000,
      "implicitDf": true,
      "rowLimit": 10000
     },
     "inputWidgets": {},
     "nuid": "85e33a26-0cd5-4a93-a00d-743628c2f32e",
     "showTitle": false,
     "title": ""
    }
   },
   "outputs": [
    {
     "output_type": "display_data",
     "data": {
      "text/html": [
       "<style scoped>\n",
       "  .table-result-container {\n",
       "    max-height: 300px;\n",
       "    overflow: auto;\n",
       "  }\n",
       "  table, th, td {\n",
       "    border: 1px solid black;\n",
       "    border-collapse: collapse;\n",
       "  }\n",
       "  th, td {\n",
       "    padding: 5px;\n",
       "  }\n",
       "  th {\n",
       "    text-align: left;\n",
       "  }\n",
       "</style><div class='table-result-container'><table class='table-result'><thead style='background-color: white'><tr></tr></thead><tbody></tbody></table></div>"
      ]
     },
     "metadata": {
      "application/vnd.databricks.v1+output": {
       "addedWidgets": {},
       "aggData": [],
       "aggError": "",
       "aggOverflow": false,
       "aggSchema": [],
       "aggSeriesLimitReached": false,
       "aggType": "",
       "arguments": {},
       "columnCustomDisplayInfos": {},
       "data": [],
       "datasetInfos": [],
       "dbfsResultPath": null,
       "isJsonSchema": true,
       "metadata": {
        "dataframeName": null
       },
       "overflow": false,
       "plotOptions": {
        "customPlotOptions": {},
        "displayType": "table",
        "pivotAggregation": null,
        "pivotColumns": null,
        "xColumns": null,
        "yColumns": null
       },
       "removedWidgets": [],
       "schema": [],
       "type": "table"
      }
     },
     "output_type": "display_data"
    }
   ],
   "source": [
    "%sql\n",
    "-- Criando a tabela Fato_hortigrangeiros_Gold com algumas restrições de integridade como a chave estrangeira referenciando a chave primária de dimensao_produto e as restriçõe de Tipo \n",
    "CREATE TABLE IF NOT EXISTS Gold.tables.totalizadora_hortigrangeiros (\t\t\t\t\n",
    "  Produto STRING,\n",
    "  Ano_Mes STRING,\n",
    "  Preco_Medio_Geral FLOAT,\n",
    "  Variacao_Mes_Anterior DOUBLE,\n",
    "  FOREIGN KEY (Produto) REFERENCES Gold.tables.dimensao_produto(Produto)\n",
    ");"
   ]
  },
  {
   "cell_type": "markdown",
   "metadata": {
    "application/vnd.databricks.v1+cell": {
     "cellMetadata": {},
     "inputWidgets": {},
     "nuid": "ee7ac4fa-6e86-4a97-b1de-21b79812f711",
     "showTitle": false,
     "title": ""
    }
   },
   "source": [
    "#### Salvando Base no Directory Gold da Azure Datalake"
   ]
  },
  {
   "cell_type": "code",
   "execution_count": 0,
   "metadata": {
    "application/vnd.databricks.v1+cell": {
     "cellMetadata": {
      "byteLimit": 2048000,
      "rowLimit": 10000
     },
     "inputWidgets": {},
     "nuid": "7008adf8-3d52-459a-85ea-37f6d16ad8fb",
     "showTitle": false,
     "title": ""
    }
   },
   "outputs": [],
   "source": [
    "#Salvando Fato_hortigrangeiros_gold na Azure Data Lake Storage\n",
    "output_path = f\"abfss://brickmvpcontainer@{account_name}.dfs.core.windows.net/Gold/output_hortigrangeiros_delta\"\n",
    "\n",
    "df_gold_hortigrangeiros.write\\\n",
    "    .format('delta')\\\n",
    "    .option('header', True)\\\n",
    "    .mode('overwrite')\\\n",
    "    .save(output_path)"
   ]
  },
  {
   "cell_type": "code",
   "execution_count": 0,
   "metadata": {
    "application/vnd.databricks.v1+cell": {
     "cellMetadata": {
      "byteLimit": 2048000,
      "rowLimit": 10000
     },
     "inputWidgets": {},
     "nuid": "e2b3a834-9d3d-4b29-bc4a-d82049d13170",
     "showTitle": false,
     "title": ""
    }
   },
   "outputs": [],
   "source": [
    "# Salvando dimensao produto na Azure Data Lake Storage\n",
    "output_path = f\"abfss://brickmvpcontainer@{account_name}.dfs.core.windows.net/Gold/output_produto_delta\"\n",
    "\n",
    "# Salvando os dados em formato Delta\n",
    "df_gold_hortigrangeiros_produto.write\\\n",
    "    .format('delta')\\\n",
    "    .option('header', True)\\\n",
    "    .mode('overwrite')\\\n",
    "    .save(output_path)"
   ]
  },
  {
   "cell_type": "code",
   "execution_count": 0,
   "metadata": {
    "application/vnd.databricks.v1+cell": {
     "cellMetadata": {
      "byteLimit": 2048000,
      "rowLimit": 10000
     },
     "inputWidgets": {},
     "nuid": "c864da08-5b5c-4f31-8255-646b2b5d8b2b",
     "showTitle": false,
     "title": ""
    }
   },
   "outputs": [],
   "source": [
    "#Salvando tabela totalizadora na Azure Data Lake Storage\n",
    "output_path = f\"abfss://brickmvpcontainer@{account_name}.dfs.core.windows.net/Gold/output_hortigrangeiros_total_delta\"\n",
    "\n",
    "df_gold_hortigrangeiros_media_geral.write\\\n",
    "    .format('delta')\\\n",
    "    .option('header', True)\\\n",
    "    .mode('overwrite')\\\n",
    "    .save(output_path)"
   ]
  },
  {
   "cell_type": "markdown",
   "metadata": {
    "application/vnd.databricks.v1+cell": {
     "cellMetadata": {},
     "inputWidgets": {},
     "nuid": "d70e0df3-45ca-4cb4-a48a-c656580b502f",
     "showTitle": false,
     "title": ""
    }
   },
   "source": [
    "#### Inserindo dados na tabela Gold"
   ]
  },
  {
   "cell_type": "code",
   "execution_count": 0,
   "metadata": {
    "application/vnd.databricks.v1+cell": {
     "cellMetadata": {
      "byteLimit": 2048000,
      "rowLimit": 10000
     },
     "inputWidgets": {},
     "nuid": "d903d2eb-7861-4e6d-b9d6-7236e97ec303",
     "showTitle": false,
     "title": ""
    }
   },
   "outputs": [],
   "source": [
    "# Salvando arquivo na tabela dimensao_produto\n",
    "df_gold_hortigrangeiros_produto.write.mode(\"overwrite\").format(\"delta\").saveAsTable(\"Gold.tables.dimensao_produto\")"
   ]
  },
  {
   "cell_type": "code",
   "execution_count": 0,
   "metadata": {
    "application/vnd.databricks.v1+cell": {
     "cellMetadata": {
      "byteLimit": 2048000,
      "rowLimit": 10000
     },
     "inputWidgets": {},
     "nuid": "5ad44b0a-0a70-43c8-90cb-7fb7824341b4",
     "showTitle": false,
     "title": ""
    }
   },
   "outputs": [],
   "source": [
    "# Salvando arquivo na tabela Fato_hortigrangeiros\n",
    "df_gold_hortigrangeiros.write.mode(\"overwrite\").format(\"delta\").saveAsTable(\"Gold.tables.Fato_hortigrangeiros\")"
   ]
  },
  {
   "cell_type": "code",
   "execution_count": 0,
   "metadata": {
    "application/vnd.databricks.v1+cell": {
     "cellMetadata": {
      "byteLimit": 2048000,
      "rowLimit": 10000
     },
     "inputWidgets": {},
     "nuid": "8c5b17b4-299a-4dcf-9ecc-d8d3e0987c7d",
     "showTitle": false,
     "title": ""
    }
   },
   "outputs": [],
   "source": [
    "# Salvando arquivo na tabela totalizadora_hortigrangeiros\n",
    "df_gold_hortigrangeiros_media_geral.write.mode(\"overwrite\").format(\"delta\").saveAsTable(\"Gold.tables.totalizadora_hortigrangeiros\")"
   ]
  },
  {
   "cell_type": "markdown",
   "metadata": {
    "application/vnd.databricks.v1+cell": {
     "cellMetadata": {},
     "inputWidgets": {},
     "nuid": "5a51179e-2f5a-4ad3-baa6-76d54d07a9e4",
     "showTitle": false,
     "title": ""
    }
   },
   "source": [
    "##### Algumas consultas de teste das tabelas"
   ]
  },
  {
   "cell_type": "code",
   "execution_count": 0,
   "metadata": {
    "application/vnd.databricks.v1+cell": {
     "cellMetadata": {
      "byteLimit": 2048000,
      "implicitDf": true,
      "rowLimit": 10000
     },
     "inputWidgets": {},
     "nuid": "04287b68-8a00-49e0-9fd4-e015430f90e1",
     "showTitle": false,
     "title": ""
    }
   },
   "outputs": [
    {
     "output_type": "stream",
     "name": "stdout",
     "output_type": "stream",
     "text": [
      "+--------------+------------------+\n|       Produto|             Total|\n+--------------+------------------+\n|       MORANGO| 170.5199966430664|\n|          ALHO|147.29000091552734|\n|        ALFACE|143.35000038146973|\n|      UVA RUBI|  75.8799991607666|\n|  MANDIOQUINHA| 75.19000053405762|\n|    UVA ITALIA| 71.08999919891357|\n|   UVA NIAGARA| 69.45000076293945|\n|       BROCOLO| 68.22000026702881|\n|PERA IMPORTADA| 66.03999996185303|\n|         VAGEM| 63.97000026702881|\n|          MACA| 55.32999897003174|\n|MARACUJA AZEDO| 53.21999979019165|\n|         COUVE| 46.91999959945679|\n|        INHAME| 45.85000038146973|\n|          CARA| 45.61999988555908|\n|   MAMAO HAWAY| 45.18999910354614|\n|        QUIABO| 44.22000074386597|\n|          OVOS| 42.52999973297119|\n|    COUVE-FLOR|42.230000019073486|\n|       ABACAXI| 41.24000024795532|\n+--------------+------------------+\nonly showing top 20 rows\n\n"
     ]
    }
   ],
   "source": [
    "spark.sql(\"\"\"\n",
    "SELECT Produto,\n",
    "    SUM(Preco_Medio_Geral) AS Total\n",
    "FROM gold.tables.totalizadora_hortigrangeiros\n",
    "GROUP BY\n",
    "Produto\n",
    "ORDER BY\n",
    "Total DESC\n",
    "\"\"\").show()"
   ]
  },
  {
   "cell_type": "code",
   "execution_count": 0,
   "metadata": {
    "application/vnd.databricks.v1+cell": {
     "cellMetadata": {
      "byteLimit": 2048000,
      "implicitDf": true,
      "rowLimit": 10000
     },
     "inputWidgets": {},
     "nuid": "e5825eac-ef8f-4cde-b69d-145fdd5a083c",
     "showTitle": false,
     "title": ""
    }
   },
   "outputs": [
    {
     "output_type": "stream",
     "name": "stdout",
     "output_type": "stream",
     "text": [
      "+--------------+-------+\n|       Produto|Ano_Mes|\n+--------------+-------+\n|    COUVE-FLOR|2024-01|\n|PIMENTAO VERDE|2024-01|\n|        GOIABA|2024-01|\n|         COUVE|2024-01|\n|        INHAME|2024-01|\n|       ABOBORA|2024-01|\n|          JILO|2024-01|\n|       ABACATE|2024-01|\n|  LARANJA PERA|2024-01|\n| BANANA NANICA|2024-01|\n|  LIMAO TAHITI|2024-01|\n|        ALFACE|2024-01|\n|          MACA|2024-01|\n|     BERINJELA|2024-01|\n| MAMAO FORMOSA|2024-01|\n|       BROCOLO|2024-01|\n|   MAMAO HAWAY|2024-01|\n|        CEBOLA|2024-01|\n|      MANDIOCA|2024-01|\n|        CHUCHU|2024-01|\n+--------------+-------+\nonly showing top 20 rows\n\n"
     ]
    }
   ],
   "source": [
    "spark.sql(\"\"\"\n",
    "SELECT Produto,\n",
    "    Ano_Mes\n",
    "FROM gold.tables.totalizadora_hortigrangeiros\n",
    "Order by\n",
    "Ano_Mes\n",
    "\"\"\").show()"
   ]
  },
  {
   "cell_type": "markdown",
   "metadata": {
    "application/vnd.databricks.v1+cell": {
     "cellMetadata": {},
     "inputWidgets": {},
     "nuid": "542d68c6-190a-458d-9874-51e4460bb4bb",
     "showTitle": false,
     "title": ""
    }
   },
   "source": [
    "#### Catálogo de Dados (CAMADA GOLD)\n",
    "\n",
    "##### Tabela Gold: Fato_hortigrangeiros\n",
    "\n",
    "| Coluna        | Descrição                                 | Tipo   |linhas   |Valores Nulos| Comentário                                      |\n",
    "| ------------- | ----------------------------------------- | ------ |---------|-------------|----------------------------------------------- |\n",
    "| Produto       | Nome do produto (FK para dimensao_produto)| string | 115.584 | 0           |Nome do Produto de Hortifruti Chave estrangeira referenciando dimensao_produto pelo nome |\n",
    "| Fornecedor    | Nome do fornecedor                        | string | 115.584 | 0           |Nome do Ceasa que pratica aquele preço                     |\n",
    "| UF            | Unidade Federativa do fornecedor          | string | 115.584 | 0           |Estado (UF) do fornecedor (ex: SP, RJ)                     |\n",
    "| Data          | Data do Preço Preço do produto            | Date   | 115.584 | 0           |Data no formato YYYY-MM-DD / Data do preço praticado no dia/ Dados do dia 2024-01-02 a 2024-06-26|\n",
    "| Preco_Medio   | Preço médio do produto                    | Double | 115.584 | 0           |Preço médio em reais (R$), com duas casas decimais/ Preço do Produto praticado pelo Ceasa no Dia /Valores Nulos Retirados /Min = 0,5 e Max = 364 |\n",
    "| Ano_Mes       | Ano e Mês agrupados                       | string | 115.584 | 0           |Agrupamento das datas em Ano e mês/ Dados de Jan a Jun (Jun até dia 26)               |\n",
    "\n",
    "##### Tabela Gold: dimensao_produto\n",
    "\n",
    "| Coluna        | Descrição         | Tipo   |linhas   |Valores Nulos| Comentário                                      |\n",
    "| ------------- | ----------------- | ------ |---------|-------------| ----------------------------------------------- |\n",
    "| Nome_Produto  | Nome do produto (PK para Fato_hortigrangeiros)   | string | 48 | 0           | Chave Primária referenciando dimensao_produto pelo nome        |\n",
    "| Unidade       | Unidade de Medida | string | 48 | 0           | Unidade de Medida do Produto (Untilizado para identificar na tabela Fato qual unidade de medida o Preço está se referenciando)    |\n",
    "\n",
    "##### Tabela Gold: totalizadora_hortigrangeiros\n",
    "\n",
    "| Coluna           | Descrição                                 | Tipo   |linhas   |Valores Nulos| Comentário                                      |\n",
    "| ---------------- | ----------------------------------------- | ------ |---------|-------------|----------------------------------------------- |\n",
    "| Produto          | Nome do produto (FK para dimensao_produto)| string | 288     | 0           |Nome do Produto de Hortifruti Chave estrangeira referenciando dimensao_produto pelo nome |\n",
    "| Ano_Mes          | Ano e Mês agrupados                       | string | 288     | 0           |Agrupamento das datas em Ano e mês/ Dados de Jan a Jun (Jun até dia 26)               |\n",
    "| Preco_Medio_Geral| Preço Médio agrupado por Ano e Mês        | Float  | 288     | 0           |É a Média de Preço de cada Produto agrupando todos os Ceasas de todo o Brasil|\n",
    "| Variacao_Mes_Anterior| Variação Mês-1                        | Double | 240     | 48          |Variação da coluna Preco_Medio_Geral Mês a Mês/ Variação dos meses de Jan estão Nulas, pois não existia dado antes desse mês /Min = 2,3 e Max = 32,92 |\n",
    "\n",
    "\n",
    "#### Exemplo de Dados\n",
    "\n",
    "##### Tabela Gold: Fato_hortigrangeiros\n",
    "\n",
    "| Produto     | Fornecedor  | UF  | Data       | Preco_Medio | Ano_Mes    |\n",
    "| ----------- | ----------- | --- | ---------- | ----------- | -----------|\n",
    "| Produto A   | Fornecedor A | SP  | 2024-07-01 | 10.00      | 2024-01    |\n",
    "| Produto B   | Fornecedor B | RJ  | 2024-07-02 | 20.00      | 2024-02    |\n",
    "| Produto C   | Fornecedor C | MG  | 2024-07-03 | 30.00      | 2024-06    |\n",
    "| Produto D   | Fornecedor D | ES  | 2024-07-04 | 40.00      | 2024-05    |\n",
    "\n",
    "##### Tabela Gold: dimensao_produto\n",
    "\n",
    "| Produto | Unidade |\n",
    "| ------------ | --------- |\n",
    "| Produto A    | KG\n",
    "| Produto B    | DZ\n",
    "| Produto C    | UND\n",
    "| Produto D    | KG\n",
    "\n",
    "##### Tabela Gold: totalizadora_hortigrangeiros\n",
    "\n",
    "| Produto           | Ano_Mes   | Preco_Medio_Geral | Variacao_Mes_Anterior |\n",
    "| ----------------- | --------- | ----------------- | --------------------- |\n",
    "| Produto A         | 2024-01   | 15.00             | NULL                  |\n",
    "| Produto A         | 2024-02   | 16.50             | 10                    |\n",
    "| Produto A         | 2024-03   | 18.00             | 9.09                  |\n",
    "| Produto B         | 2024-01   | 25.00             | NULL                  |\n",
    "| Produto B         | 2024-02   | 24.00             | -4.00                 |\n",
    "| Produto B         | 2024-03   | 26.50             | 10.42                 |"
   ]
  },
  {
   "cell_type": "markdown",
   "metadata": {
    "application/vnd.databricks.v1+cell": {
     "cellMetadata": {},
     "inputWidgets": {},
     "nuid": "e09058b6-9e1f-4ffa-b298-a3c85ce0735a",
     "showTitle": false,
     "title": ""
    }
   },
   "source": [
    "## Analise"
   ]
  },
  {
   "cell_type": "markdown",
   "metadata": {
    "application/vnd.databricks.v1+cell": {
     "cellMetadata": {},
     "inputWidgets": {},
     "nuid": "17a8c11d-6d8b-4c12-b3c1-2325b335f3c0",
     "showTitle": false,
     "title": ""
    }
   },
   "source": [
    "### Qualidade de dados"
   ]
  },
  {
   "cell_type": "markdown",
   "metadata": {
    "application/vnd.databricks.v1+cell": {
     "cellMetadata": {},
     "inputWidgets": {},
     "nuid": "a84d6ab1-4c3a-46e6-959d-ef0c70921145",
     "showTitle": false,
     "title": ""
    }
   },
   "source": [
    "\n",
    "Todos os dados de todas as tabelas foram tratados para garantir a qualidade, porém durante uma análise detalhada identifiquei 4 valores discrepantes para alguns produtos:\n",
    "\n",
    "- BERINJELA/ CEASA/MT - CUIABA/MT / 2024-01-17 / Preço do KG = 364\n",
    "- VAGEM CEAGESP - FRANCA/SP / 2024-01-29 / Preço do KG = 110\n",
    "- VAGEM CEAGESP - FRANCA/SP / 2024-02-01 / Preço do KG = 110\n",
    "- PIMENTAO VERDE CEASA/MT - CUIABA/MT / 2024-02-05 / Preço do KG = 72\n",
    "\n",
    "Decidi não remover esses dados, pois representam apenas 4 dias no ano de 2024 e têm pouca influência nos resultados que estou procurando. No entanto, é importante estar atento caso seja necessário um dado em uma granularidade menor, pois pode afetar a média de preços.\n",
    "\n",
    "Observando campo a campo da tabela, único que devemos ter uma atenção é para o campo data e Preço Médio. Nem todos os Ceasas colocam seus preços diariamente, com isso pode-se não encontrar algum preço médio em um dia específico para um Ceasa específio. Além disso alguns Estados não tem preço médio de alguns produto dentro do Período da base, são eles, 'BA', 'CE', 'ES', 'MT', 'PA', 'PE', 'RN', 'TO'. As evidências eu deixo abaixo, onde coloco uma tabela com os produtos e nomes das UF sem custo desses produto. \n",
    "\n",
    "último ponto é com relação ao Brócolis, que na base está escrito \"BROCOLO\".\n",
    "\n",
    "O restante dos campos das tabelas silver para frente estão todos tratados e sem problemas. "
   ]
  },
  {
   "cell_type": "markdown",
   "metadata": {
    "application/vnd.databricks.v1+cell": {
     "cellMetadata": {},
     "inputWidgets": {},
     "nuid": "aafe5017-b507-4e27-8f80-e443b50aa729",
     "showTitle": false,
     "title": ""
    }
   },
   "source": [
    "#### Consultas pra evidência dos Estados sem custos de alguns produtos para etapa de qualidade dos dados"
   ]
  },
  {
   "cell_type": "code",
   "execution_count": 0,
   "metadata": {
    "application/vnd.databricks.v1+cell": {
     "cellMetadata": {
      "byteLimit": 2048000,
      "rowLimit": 10000
     },
     "inputWidgets": {},
     "nuid": "528644c6-172e-44c4-b986-f2852b3de0e8",
     "showTitle": false,
     "title": ""
    }
   },
   "outputs": [],
   "source": [
    "#Consultando Tabela Fato_horigrangeiros e salvando na variavel qualidade_dados via spark Sql\n",
    "\n",
    "qualidade_dados = spark.sql(\"\"\"SELECT F.UF,\n",
    "    F.Produto,\n",
    "    D.Unidade,\n",
    "    round(mean(F.Preco_Medio),2) AS Total\n",
    "FROM gold.tables.Fato_hortigrangeiros as F\n",
    "LEFT JOIN gold.tables.dimensao_produto as D ON F.Produto = D.Produto\n",
    "GROUP BY\n",
    "F.UF,\n",
    "F.Produto,\n",
    "D.Unidade\n",
    "ORDER BY\n",
    "Total DESC\"\"\")"
   ]
  },
  {
   "cell_type": "code",
   "execution_count": 0,
   "metadata": {
    "application/vnd.databricks.v1+cell": {
     "cellMetadata": {
      "byteLimit": 2048000,
      "rowLimit": 10000
     },
     "inputWidgets": {},
     "nuid": "c7d157a8-a9da-4365-982f-cb8540afc427",
     "showTitle": false,
     "title": ""
    }
   },
   "outputs": [],
   "source": [
    "from pyspark.sql import SparkSession\n",
    "import pandas as pd\n",
    "import matplotlib.pyplot as plt\n",
    "\n",
    "# Criar uma sessão Spark\n",
    "spark = SparkSession.builder.appName(\"StackedBarChart\").getOrCreate()\n",
    "\n",
    "# Converter o resultado para um Pandas DataFrame\n",
    "qualidade_dados_pandas = qualidade_dados.toPandas()"
   ]
  },
  {
   "cell_type": "code",
   "execution_count": 0,
   "metadata": {
    "application/vnd.databricks.v1+cell": {
     "cellMetadata": {
      "byteLimit": 2048000,
      "rowLimit": 10000
     },
     "inputWidgets": {},
     "nuid": "21cb229c-bd09-43a4-a98a-18279172b995",
     "showTitle": false,
     "title": ""
    }
   },
   "outputs": [
    {
     "output_type": "execute_result",
     "data": {
      "text/html": [
       "<div>\n",
       "<style scoped>\n",
       "    .dataframe tbody tr th:only-of-type {\n",
       "        vertical-align: middle;\n",
       "    }\n",
       "\n",
       "    .dataframe tbody tr th {\n",
       "        vertical-align: top;\n",
       "    }\n",
       "\n",
       "    .dataframe thead th {\n",
       "        text-align: right;\n",
       "    }\n",
       "</style>\n",
       "<table border=\"1\" class=\"dataframe\">\n",
       "  <thead>\n",
       "    <tr style=\"text-align: right;\">\n",
       "      <th></th>\n",
       "      <th>UF</th>\n",
       "      <th>Produto</th>\n",
       "      <th>Unidade</th>\n",
       "      <th>Total</th>\n",
       "    </tr>\n",
       "  </thead>\n",
       "  <tbody>\n",
       "    <tr>\n",
       "      <th>0</th>\n",
       "      <td>PA</td>\n",
       "      <td>MORANGO</td>\n",
       "      <td>KG</td>\n",
       "      <td>54.52</td>\n",
       "    </tr>\n",
       "    <tr>\n",
       "      <th>1</th>\n",
       "      <td>RN</td>\n",
       "      <td>MORANGO</td>\n",
       "      <td>KG</td>\n",
       "      <td>44.54</td>\n",
       "    </tr>\n",
       "    <tr>\n",
       "      <th>2</th>\n",
       "      <td>CE</td>\n",
       "      <td>MORANGO</td>\n",
       "      <td>KG</td>\n",
       "      <td>42.17</td>\n",
       "    </tr>\n",
       "    <tr>\n",
       "      <th>3</th>\n",
       "      <td>PE</td>\n",
       "      <td>MORANGO</td>\n",
       "      <td>KG</td>\n",
       "      <td>40.72</td>\n",
       "    </tr>\n",
       "    <tr>\n",
       "      <th>4</th>\n",
       "      <td>BA</td>\n",
       "      <td>MORANGO</td>\n",
       "      <td>KG</td>\n",
       "      <td>39.43</td>\n",
       "    </tr>\n",
       "    <tr>\n",
       "      <th>5</th>\n",
       "      <td>MA</td>\n",
       "      <td>MORANGO</td>\n",
       "      <td>KG</td>\n",
       "      <td>38.66</td>\n",
       "    </tr>\n",
       "    <tr>\n",
       "      <th>6</th>\n",
       "      <td>MT</td>\n",
       "      <td>MORANGO</td>\n",
       "      <td>KG</td>\n",
       "      <td>37.81</td>\n",
       "    </tr>\n",
       "    <tr>\n",
       "      <th>7</th>\n",
       "      <td>AL</td>\n",
       "      <td>MORANGO</td>\n",
       "      <td>KG</td>\n",
       "      <td>37.54</td>\n",
       "    </tr>\n",
       "    <tr>\n",
       "      <th>8</th>\n",
       "      <td>PB</td>\n",
       "      <td>MORANGO</td>\n",
       "      <td>KG</td>\n",
       "      <td>37.42</td>\n",
       "    </tr>\n",
       "    <tr>\n",
       "      <th>9</th>\n",
       "      <td>MA</td>\n",
       "      <td>ALHO</td>\n",
       "      <td>KG</td>\n",
       "      <td>34.46</td>\n",
       "    </tr>\n",
       "    <tr>\n",
       "      <th>10</th>\n",
       "      <td>PR</td>\n",
       "      <td>ALFACE</td>\n",
       "      <td>DZ</td>\n",
       "      <td>33.80</td>\n",
       "    </tr>\n",
       "    <tr>\n",
       "      <th>11</th>\n",
       "      <td>MG</td>\n",
       "      <td>ALFACE</td>\n",
       "      <td>DZ</td>\n",
       "      <td>30.89</td>\n",
       "    </tr>\n",
       "    <tr>\n",
       "      <th>12</th>\n",
       "      <td>MA</td>\n",
       "      <td>MANDIOQUINHA</td>\n",
       "      <td>KG</td>\n",
       "      <td>30.80</td>\n",
       "    </tr>\n",
       "    <tr>\n",
       "      <th>13</th>\n",
       "      <td>DF</td>\n",
       "      <td>MORANGO</td>\n",
       "      <td>KG</td>\n",
       "      <td>28.95</td>\n",
       "    </tr>\n",
       "    <tr>\n",
       "      <th>14</th>\n",
       "      <td>CE</td>\n",
       "      <td>ALFACE</td>\n",
       "      <td>DZ</td>\n",
       "      <td>28.52</td>\n",
       "    </tr>\n",
       "    <tr>\n",
       "      <th>15</th>\n",
       "      <td>SP</td>\n",
       "      <td>ALFACE</td>\n",
       "      <td>DZ</td>\n",
       "      <td>27.55</td>\n",
       "    </tr>\n",
       "    <tr>\n",
       "      <th>16</th>\n",
       "      <td>MS</td>\n",
       "      <td>MORANGO</td>\n",
       "      <td>KG</td>\n",
       "      <td>27.39</td>\n",
       "    </tr>\n",
       "    <tr>\n",
       "      <th>17</th>\n",
       "      <td>MS</td>\n",
       "      <td>ALHO</td>\n",
       "      <td>KG</td>\n",
       "      <td>27.33</td>\n",
       "    </tr>\n",
       "    <tr>\n",
       "      <th>18</th>\n",
       "      <td>RN</td>\n",
       "      <td>BROCOLO</td>\n",
       "      <td>KG</td>\n",
       "      <td>26.58</td>\n",
       "    </tr>\n",
       "    <tr>\n",
       "      <th>19</th>\n",
       "      <td>PA</td>\n",
       "      <td>ALHO</td>\n",
       "      <td>KG</td>\n",
       "      <td>26.10</td>\n",
       "    </tr>\n",
       "  </tbody>\n",
       "</table>\n",
       "</div>"
      ],
      "text/plain": [
       "    UF       Produto Unidade  Total\n",
       "0   PA       MORANGO      KG  54.52\n",
       "1   RN       MORANGO      KG  44.54\n",
       "2   CE       MORANGO      KG  42.17\n",
       "3   PE       MORANGO      KG  40.72\n",
       "4   BA       MORANGO      KG  39.43\n",
       "5   MA       MORANGO      KG  38.66\n",
       "6   MT       MORANGO      KG  37.81\n",
       "7   AL       MORANGO      KG  37.54\n",
       "8   PB       MORANGO      KG  37.42\n",
       "9   MA          ALHO      KG  34.46\n",
       "10  PR        ALFACE      DZ  33.80\n",
       "11  MG        ALFACE      DZ  30.89\n",
       "12  MA  MANDIOQUINHA      KG  30.80\n",
       "13  DF       MORANGO      KG  28.95\n",
       "14  CE        ALFACE      DZ  28.52\n",
       "15  SP        ALFACE      DZ  27.55\n",
       "16  MS       MORANGO      KG  27.39\n",
       "17  MS          ALHO      KG  27.33\n",
       "18  RN       BROCOLO      KG  26.58\n",
       "19  PA          ALHO      KG  26.10"
      ]
     },
     "execution_count": 146,
     "metadata": {},
     "output_type": "execute_result"
    }
   ],
   "source": [
    "# Validando se dataframe df_resposta_1 está funcionando corretamente\n",
    "qualidade_dados_pandas.head(20)"
   ]
  },
  {
   "cell_type": "code",
   "execution_count": 0,
   "metadata": {
    "application/vnd.databricks.v1+cell": {
     "cellMetadata": {
      "byteLimit": 2048000,
      "rowLimit": 10000
     },
     "inputWidgets": {},
     "nuid": "298d575c-ac82-40b6-b12b-289c38c49bd9",
     "showTitle": false,
     "title": ""
    }
   },
   "outputs": [
    {
     "output_type": "execute_result",
     "data": {
      "text/html": [
       "<div>\n",
       "<style scoped>\n",
       "    .dataframe tbody tr th:only-of-type {\n",
       "        vertical-align: middle;\n",
       "    }\n",
       "\n",
       "    .dataframe tbody tr th {\n",
       "        vertical-align: top;\n",
       "    }\n",
       "\n",
       "    .dataframe thead th {\n",
       "        text-align: right;\n",
       "    }\n",
       "</style>\n",
       "<table border=\"1\" class=\"dataframe\">\n",
       "  <thead>\n",
       "    <tr style=\"text-align: right;\">\n",
       "      <th>UF</th>\n",
       "      <th>AL</th>\n",
       "      <th>BA</th>\n",
       "      <th>CE</th>\n",
       "      <th>DF</th>\n",
       "      <th>ES</th>\n",
       "      <th>GO</th>\n",
       "      <th>MA</th>\n",
       "      <th>MG</th>\n",
       "      <th>MS</th>\n",
       "      <th>MT</th>\n",
       "      <th>PA</th>\n",
       "      <th>PB</th>\n",
       "      <th>PE</th>\n",
       "      <th>PR</th>\n",
       "      <th>RJ</th>\n",
       "      <th>RN</th>\n",
       "      <th>RS</th>\n",
       "      <th>SC</th>\n",
       "      <th>SP</th>\n",
       "      <th>TO</th>\n",
       "    </tr>\n",
       "    <tr>\n",
       "      <th>Produto</th>\n",
       "      <th></th>\n",
       "      <th></th>\n",
       "      <th></th>\n",
       "      <th></th>\n",
       "      <th></th>\n",
       "      <th></th>\n",
       "      <th></th>\n",
       "      <th></th>\n",
       "      <th></th>\n",
       "      <th></th>\n",
       "      <th></th>\n",
       "      <th></th>\n",
       "      <th></th>\n",
       "      <th></th>\n",
       "      <th></th>\n",
       "      <th></th>\n",
       "      <th></th>\n",
       "      <th></th>\n",
       "      <th></th>\n",
       "      <th></th>\n",
       "    </tr>\n",
       "  </thead>\n",
       "  <tbody>\n",
       "    <tr>\n",
       "      <th>ABACATE</th>\n",
       "      <td>4.84</td>\n",
       "      <td>4.32</td>\n",
       "      <td>4.53</td>\n",
       "      <td>5.12</td>\n",
       "      <td>2.39</td>\n",
       "      <td>3.00</td>\n",
       "      <td>7.15</td>\n",
       "      <td>3.35</td>\n",
       "      <td>4.00</td>\n",
       "      <td>4.63</td>\n",
       "      <td>5.34</td>\n",
       "      <td>4.83</td>\n",
       "      <td>4.60</td>\n",
       "      <td>4.04</td>\n",
       "      <td>3.91</td>\n",
       "      <td>4.65</td>\n",
       "      <td>4.17</td>\n",
       "      <td>4.21</td>\n",
       "      <td>3.22</td>\n",
       "      <td>4.58</td>\n",
       "    </tr>\n",
       "    <tr>\n",
       "      <th>ABACAXI</th>\n",
       "      <td>5.11</td>\n",
       "      <td>5.07</td>\n",
       "      <td>4.83</td>\n",
       "      <td>5.92</td>\n",
       "      <td>6.56</td>\n",
       "      <td>4.65</td>\n",
       "      <td>8.15</td>\n",
       "      <td>7.22</td>\n",
       "      <td>7.99</td>\n",
       "      <td>7.21</td>\n",
       "      <td>2.82</td>\n",
       "      <td>4.00</td>\n",
       "      <td>4.15</td>\n",
       "      <td>9.79</td>\n",
       "      <td>7.55</td>\n",
       "      <td>3.61</td>\n",
       "      <td>8.16</td>\n",
       "      <td>9.00</td>\n",
       "      <td>7.43</td>\n",
       "      <td>6.11</td>\n",
       "    </tr>\n",
       "    <tr>\n",
       "      <th>ABOBORA</th>\n",
       "      <td>4.47</td>\n",
       "      <td>3.83</td>\n",
       "      <td>4.44</td>\n",
       "      <td>3.43</td>\n",
       "      <td>3.91</td>\n",
       "      <td>3.60</td>\n",
       "      <td>6.62</td>\n",
       "      <td>2.61</td>\n",
       "      <td>7.00</td>\n",
       "      <td>3.66</td>\n",
       "      <td>3.61</td>\n",
       "      <td>4.21</td>\n",
       "      <td>4.51</td>\n",
       "      <td>2.98</td>\n",
       "      <td>3.75</td>\n",
       "      <td>3.45</td>\n",
       "      <td>3.34</td>\n",
       "      <td>1.95</td>\n",
       "      <td>3.24</td>\n",
       "      <td>3.87</td>\n",
       "    </tr>\n",
       "    <tr>\n",
       "      <th>ABOBRINHA</th>\n",
       "      <td>3.01</td>\n",
       "      <td>2.99</td>\n",
       "      <td>3.09</td>\n",
       "      <td>5.65</td>\n",
       "      <td>2.94</td>\n",
       "      <td>3.89</td>\n",
       "      <td>5.37</td>\n",
       "      <td>3.90</td>\n",
       "      <td>6.58</td>\n",
       "      <td>4.45</td>\n",
       "      <td>5.13</td>\n",
       "      <td>3.37</td>\n",
       "      <td>3.13</td>\n",
       "      <td>3.29</td>\n",
       "      <td>3.86</td>\n",
       "      <td>3.72</td>\n",
       "      <td>3.82</td>\n",
       "      <td>3.26</td>\n",
       "      <td>3.56</td>\n",
       "      <td>4.14</td>\n",
       "    </tr>\n",
       "    <tr>\n",
       "      <th>ALFACE</th>\n",
       "      <td>19.44</td>\n",
       "      <td>14.46</td>\n",
       "      <td>28.52</td>\n",
       "      <td>10.23</td>\n",
       "      <td>20.10</td>\n",
       "      <td>7.24</td>\n",
       "      <td>25.89</td>\n",
       "      <td>30.89</td>\n",
       "      <td>8.15</td>\n",
       "      <td>24.42</td>\n",
       "      <td>6.91</td>\n",
       "      <td>18.65</td>\n",
       "      <td>22.57</td>\n",
       "      <td>33.80</td>\n",
       "      <td>13.84</td>\n",
       "      <td>25.19</td>\n",
       "      <td>18.28</td>\n",
       "      <td>24.00</td>\n",
       "      <td>27.55</td>\n",
       "      <td>NaN</td>\n",
       "    </tr>\n",
       "    <tr>\n",
       "      <th>ALHO</th>\n",
       "      <td>24.06</td>\n",
       "      <td>23.81</td>\n",
       "      <td>24.11</td>\n",
       "      <td>23.65</td>\n",
       "      <td>22.04</td>\n",
       "      <td>21.85</td>\n",
       "      <td>34.46</td>\n",
       "      <td>22.51</td>\n",
       "      <td>27.33</td>\n",
       "      <td>24.67</td>\n",
       "      <td>26.10</td>\n",
       "      <td>24.05</td>\n",
       "      <td>22.73</td>\n",
       "      <td>24.34</td>\n",
       "      <td>21.46</td>\n",
       "      <td>25.87</td>\n",
       "      <td>24.91</td>\n",
       "      <td>21.13</td>\n",
       "      <td>24.75</td>\n",
       "      <td>20.47</td>\n",
       "    </tr>\n",
       "    <tr>\n",
       "      <th>BANANA NANICA</th>\n",
       "      <td>3.40</td>\n",
       "      <td>2.01</td>\n",
       "      <td>3.54</td>\n",
       "      <td>4.81</td>\n",
       "      <td>3.57</td>\n",
       "      <td>3.67</td>\n",
       "      <td>3.62</td>\n",
       "      <td>3.01</td>\n",
       "      <td>3.26</td>\n",
       "      <td>3.47</td>\n",
       "      <td>3.95</td>\n",
       "      <td>1.82</td>\n",
       "      <td>NaN</td>\n",
       "      <td>3.08</td>\n",
       "      <td>3.70</td>\n",
       "      <td>3.13</td>\n",
       "      <td>3.23</td>\n",
       "      <td>2.98</td>\n",
       "      <td>3.78</td>\n",
       "      <td>4.21</td>\n",
       "    </tr>\n",
       "    <tr>\n",
       "      <th>BANANA PRATA</th>\n",
       "      <td>2.41</td>\n",
       "      <td>3.90</td>\n",
       "      <td>4.37</td>\n",
       "      <td>7.75</td>\n",
       "      <td>6.16</td>\n",
       "      <td>5.13</td>\n",
       "      <td>7.07</td>\n",
       "      <td>5.79</td>\n",
       "      <td>7.67</td>\n",
       "      <td>6.10</td>\n",
       "      <td>3.73</td>\n",
       "      <td>1.78</td>\n",
       "      <td>2.02</td>\n",
       "      <td>6.12</td>\n",
       "      <td>5.27</td>\n",
       "      <td>3.18</td>\n",
       "      <td>4.75</td>\n",
       "      <td>4.17</td>\n",
       "      <td>6.15</td>\n",
       "      <td>6.36</td>\n",
       "    </tr>\n",
       "    <tr>\n",
       "      <th>BATATA</th>\n",
       "      <td>5.44</td>\n",
       "      <td>5.11</td>\n",
       "      <td>6.55</td>\n",
       "      <td>6.73</td>\n",
       "      <td>6.11</td>\n",
       "      <td>2.79</td>\n",
       "      <td>8.36</td>\n",
       "      <td>5.77</td>\n",
       "      <td>7.37</td>\n",
       "      <td>6.37</td>\n",
       "      <td>5.73</td>\n",
       "      <td>4.55</td>\n",
       "      <td>5.59</td>\n",
       "      <td>6.47</td>\n",
       "      <td>5.64</td>\n",
       "      <td>5.55</td>\n",
       "      <td>5.89</td>\n",
       "      <td>5.03</td>\n",
       "      <td>5.70</td>\n",
       "      <td>6.40</td>\n",
       "    </tr>\n",
       "    <tr>\n",
       "      <th>BATATA DOCE</th>\n",
       "      <td>2.41</td>\n",
       "      <td>3.66</td>\n",
       "      <td>2.71</td>\n",
       "      <td>4.17</td>\n",
       "      <td>2.62</td>\n",
       "      <td>2.58</td>\n",
       "      <td>5.77</td>\n",
       "      <td>3.38</td>\n",
       "      <td>2.37</td>\n",
       "      <td>3.74</td>\n",
       "      <td>3.92</td>\n",
       "      <td>2.83</td>\n",
       "      <td>3.84</td>\n",
       "      <td>2.96</td>\n",
       "      <td>3.09</td>\n",
       "      <td>3.36</td>\n",
       "      <td>3.35</td>\n",
       "      <td>2.66</td>\n",
       "      <td>3.24</td>\n",
       "      <td>4.00</td>\n",
       "    </tr>\n",
       "    <tr>\n",
       "      <th>BERINJELA</th>\n",
       "      <td>3.82</td>\n",
       "      <td>3.48</td>\n",
       "      <td>2.43</td>\n",
       "      <td>3.92</td>\n",
       "      <td>2.49</td>\n",
       "      <td>3.74</td>\n",
       "      <td>5.62</td>\n",
       "      <td>2.48</td>\n",
       "      <td>3.95</td>\n",
       "      <td>6.78</td>\n",
       "      <td>4.92</td>\n",
       "      <td>3.31</td>\n",
       "      <td>3.21</td>\n",
       "      <td>4.08</td>\n",
       "      <td>3.95</td>\n",
       "      <td>3.92</td>\n",
       "      <td>4.55</td>\n",
       "      <td>3.22</td>\n",
       "      <td>2.68</td>\n",
       "      <td>5.54</td>\n",
       "    </tr>\n",
       "    <tr>\n",
       "      <th>BETERRABA</th>\n",
       "      <td>4.91</td>\n",
       "      <td>4.82</td>\n",
       "      <td>5.90</td>\n",
       "      <td>7.84</td>\n",
       "      <td>6.19</td>\n",
       "      <td>5.68</td>\n",
       "      <td>8.80</td>\n",
       "      <td>5.46</td>\n",
       "      <td>5.60</td>\n",
       "      <td>6.11</td>\n",
       "      <td>7.08</td>\n",
       "      <td>3.81</td>\n",
       "      <td>5.11</td>\n",
       "      <td>5.84</td>\n",
       "      <td>5.21</td>\n",
       "      <td>5.85</td>\n",
       "      <td>5.38</td>\n",
       "      <td>4.87</td>\n",
       "      <td>5.04</td>\n",
       "      <td>6.74</td>\n",
       "    </tr>\n",
       "    <tr>\n",
       "      <th>BROCOLO</th>\n",
       "      <td>9.88</td>\n",
       "      <td>5.81</td>\n",
       "      <td>23.15</td>\n",
       "      <td>7.29</td>\n",
       "      <td>8.15</td>\n",
       "      <td>7.96</td>\n",
       "      <td>24.77</td>\n",
       "      <td>6.09</td>\n",
       "      <td>3.33</td>\n",
       "      <td>25.47</td>\n",
       "      <td>23.19</td>\n",
       "      <td>16.66</td>\n",
       "      <td>7.44</td>\n",
       "      <td>10.85</td>\n",
       "      <td>7.68</td>\n",
       "      <td>26.58</td>\n",
       "      <td>7.09</td>\n",
       "      <td>4.00</td>\n",
       "      <td>6.72</td>\n",
       "      <td>8.17</td>\n",
       "    </tr>\n",
       "    <tr>\n",
       "      <th>CARA</th>\n",
       "      <td>4.70</td>\n",
       "      <td>6.34</td>\n",
       "      <td>16.30</td>\n",
       "      <td>8.74</td>\n",
       "      <td>4.77</td>\n",
       "      <td>4.82</td>\n",
       "      <td>13.45</td>\n",
       "      <td>5.30</td>\n",
       "      <td>6.17</td>\n",
       "      <td>NaN</td>\n",
       "      <td>8.00</td>\n",
       "      <td>5.87</td>\n",
       "      <td>4.46</td>\n",
       "      <td>8.25</td>\n",
       "      <td>6.22</td>\n",
       "      <td>4.62</td>\n",
       "      <td>10.90</td>\n",
       "      <td>7.00</td>\n",
       "      <td>7.08</td>\n",
       "      <td>6.17</td>\n",
       "    </tr>\n",
       "    <tr>\n",
       "      <th>CEBOLA</th>\n",
       "      <td>5.57</td>\n",
       "      <td>5.74</td>\n",
       "      <td>8.76</td>\n",
       "      <td>6.45</td>\n",
       "      <td>5.85</td>\n",
       "      <td>6.30</td>\n",
       "      <td>9.41</td>\n",
       "      <td>5.30</td>\n",
       "      <td>5.29</td>\n",
       "      <td>6.62</td>\n",
       "      <td>5.76</td>\n",
       "      <td>4.85</td>\n",
       "      <td>5.85</td>\n",
       "      <td>5.64</td>\n",
       "      <td>5.39</td>\n",
       "      <td>6.61</td>\n",
       "      <td>5.06</td>\n",
       "      <td>5.08</td>\n",
       "      <td>5.72</td>\n",
       "      <td>6.00</td>\n",
       "    </tr>\n",
       "    <tr>\n",
       "      <th>CENOURA</th>\n",
       "      <td>6.16</td>\n",
       "      <td>5.17</td>\n",
       "      <td>7.39</td>\n",
       "      <td>6.76</td>\n",
       "      <td>7.55</td>\n",
       "      <td>6.04</td>\n",
       "      <td>10.51</td>\n",
       "      <td>5.81</td>\n",
       "      <td>4.93</td>\n",
       "      <td>7.03</td>\n",
       "      <td>7.90</td>\n",
       "      <td>5.36</td>\n",
       "      <td>6.89</td>\n",
       "      <td>5.45</td>\n",
       "      <td>7.08</td>\n",
       "      <td>6.89</td>\n",
       "      <td>5.85</td>\n",
       "      <td>5.52</td>\n",
       "      <td>5.84</td>\n",
       "      <td>7.11</td>\n",
       "    </tr>\n",
       "    <tr>\n",
       "      <th>CHUCHU</th>\n",
       "      <td>3.94</td>\n",
       "      <td>4.63</td>\n",
       "      <td>3.21</td>\n",
       "      <td>6.02</td>\n",
       "      <td>2.13</td>\n",
       "      <td>4.06</td>\n",
       "      <td>5.79</td>\n",
       "      <td>3.75</td>\n",
       "      <td>4.04</td>\n",
       "      <td>3.51</td>\n",
       "      <td>3.41</td>\n",
       "      <td>5.05</td>\n",
       "      <td>3.08</td>\n",
       "      <td>4.18</td>\n",
       "      <td>2.71</td>\n",
       "      <td>4.83</td>\n",
       "      <td>3.43</td>\n",
       "      <td>3.13</td>\n",
       "      <td>3.68</td>\n",
       "      <td>4.84</td>\n",
       "    </tr>\n",
       "    <tr>\n",
       "      <th>COCO VERDE</th>\n",
       "      <td>1.98</td>\n",
       "      <td>1.77</td>\n",
       "      <td>1.70</td>\n",
       "      <td>3.18</td>\n",
       "      <td>3.35</td>\n",
       "      <td>2.60</td>\n",
       "      <td>3.12</td>\n",
       "      <td>3.78</td>\n",
       "      <td>5.42</td>\n",
       "      <td>2.12</td>\n",
       "      <td>1.88</td>\n",
       "      <td>1.07</td>\n",
       "      <td>2.11</td>\n",
       "      <td>4.53</td>\n",
       "      <td>3.37</td>\n",
       "      <td>1.90</td>\n",
       "      <td>5.49</td>\n",
       "      <td>4.30</td>\n",
       "      <td>4.25</td>\n",
       "      <td>NaN</td>\n",
       "    </tr>\n",
       "    <tr>\n",
       "      <th>COUVE</th>\n",
       "      <td>7.84</td>\n",
       "      <td>3.59</td>\n",
       "      <td>2.05</td>\n",
       "      <td>8.03</td>\n",
       "      <td>6.40</td>\n",
       "      <td>8.83</td>\n",
       "      <td>10.58</td>\n",
       "      <td>18.44</td>\n",
       "      <td>2.00</td>\n",
       "      <td>11.64</td>\n",
       "      <td>10.61</td>\n",
       "      <td>9.51</td>\n",
       "      <td>8.16</td>\n",
       "      <td>7.55</td>\n",
       "      <td>3.90</td>\n",
       "      <td>14.81</td>\n",
       "      <td>12.04</td>\n",
       "      <td>5.95</td>\n",
       "      <td>4.58</td>\n",
       "      <td>NaN</td>\n",
       "    </tr>\n",
       "    <tr>\n",
       "      <th>COUVE-FLOR</th>\n",
       "      <td>8.09</td>\n",
       "      <td>6.36</td>\n",
       "      <td>2.78</td>\n",
       "      <td>8.08</td>\n",
       "      <td>4.56</td>\n",
       "      <td>5.72</td>\n",
       "      <td>12.97</td>\n",
       "      <td>6.51</td>\n",
       "      <td>6.33</td>\n",
       "      <td>9.81</td>\n",
       "      <td>11.10</td>\n",
       "      <td>5.21</td>\n",
       "      <td>7.50</td>\n",
       "      <td>7.01</td>\n",
       "      <td>2.98</td>\n",
       "      <td>11.70</td>\n",
       "      <td>5.16</td>\n",
       "      <td>5.50</td>\n",
       "      <td>6.96</td>\n",
       "      <td>9.00</td>\n",
       "    </tr>\n",
       "    <tr>\n",
       "      <th>GOIABA</th>\n",
       "      <td>3.45</td>\n",
       "      <td>3.96</td>\n",
       "      <td>4.73</td>\n",
       "      <td>5.80</td>\n",
       "      <td>4.03</td>\n",
       "      <td>4.00</td>\n",
       "      <td>9.82</td>\n",
       "      <td>6.40</td>\n",
       "      <td>6.00</td>\n",
       "      <td>NaN</td>\n",
       "      <td>4.84</td>\n",
       "      <td>2.89</td>\n",
       "      <td>2.45</td>\n",
       "      <td>5.25</td>\n",
       "      <td>9.70</td>\n",
       "      <td>3.91</td>\n",
       "      <td>7.02</td>\n",
       "      <td>5.73</td>\n",
       "      <td>5.62</td>\n",
       "      <td>8.34</td>\n",
       "    </tr>\n",
       "    <tr>\n",
       "      <th>INHAME</th>\n",
       "      <td>8.50</td>\n",
       "      <td>9.36</td>\n",
       "      <td>6.84</td>\n",
       "      <td>8.15</td>\n",
       "      <td>3.44</td>\n",
       "      <td>4.48</td>\n",
       "      <td>14.44</td>\n",
       "      <td>4.62</td>\n",
       "      <td>5.75</td>\n",
       "      <td>NaN</td>\n",
       "      <td>6.72</td>\n",
       "      <td>10.63</td>\n",
       "      <td>10.16</td>\n",
       "      <td>6.87</td>\n",
       "      <td>1.91</td>\n",
       "      <td>9.50</td>\n",
       "      <td>11.33</td>\n",
       "      <td>6.69</td>\n",
       "      <td>7.15</td>\n",
       "      <td>5.68</td>\n",
       "    </tr>\n",
       "    <tr>\n",
       "      <th>JILO</th>\n",
       "      <td>5.92</td>\n",
       "      <td>5.43</td>\n",
       "      <td>3.42</td>\n",
       "      <td>5.94</td>\n",
       "      <td>3.89</td>\n",
       "      <td>7.33</td>\n",
       "      <td>7.47</td>\n",
       "      <td>4.10</td>\n",
       "      <td>8.28</td>\n",
       "      <td>9.91</td>\n",
       "      <td>7.30</td>\n",
       "      <td>5.62</td>\n",
       "      <td>5.42</td>\n",
       "      <td>8.62</td>\n",
       "      <td>5.25</td>\n",
       "      <td>7.05</td>\n",
       "      <td>12.79</td>\n",
       "      <td>6.63</td>\n",
       "      <td>5.24</td>\n",
       "      <td>8.15</td>\n",
       "    </tr>\n",
       "    <tr>\n",
       "      <th>LARANJA PERA</th>\n",
       "      <td>2.59</td>\n",
       "      <td>2.82</td>\n",
       "      <td>3.37</td>\n",
       "      <td>3.55</td>\n",
       "      <td>3.04</td>\n",
       "      <td>3.04</td>\n",
       "      <td>5.04</td>\n",
       "      <td>3.43</td>\n",
       "      <td>2.90</td>\n",
       "      <td>3.39</td>\n",
       "      <td>3.68</td>\n",
       "      <td>2.94</td>\n",
       "      <td>3.11</td>\n",
       "      <td>3.61</td>\n",
       "      <td>3.71</td>\n",
       "      <td>3.51</td>\n",
       "      <td>3.56</td>\n",
       "      <td>3.89</td>\n",
       "      <td>3.46</td>\n",
       "      <td>3.77</td>\n",
       "    </tr>\n",
       "    <tr>\n",
       "      <th>LIMAO TAHITI</th>\n",
       "      <td>2.16</td>\n",
       "      <td>1.88</td>\n",
       "      <td>3.41</td>\n",
       "      <td>3.09</td>\n",
       "      <td>2.81</td>\n",
       "      <td>2.51</td>\n",
       "      <td>3.80</td>\n",
       "      <td>2.57</td>\n",
       "      <td>2.17</td>\n",
       "      <td>2.86</td>\n",
       "      <td>1.54</td>\n",
       "      <td>2.53</td>\n",
       "      <td>1.57</td>\n",
       "      <td>2.78</td>\n",
       "      <td>2.83</td>\n",
       "      <td>2.48</td>\n",
       "      <td>3.00</td>\n",
       "      <td>2.97</td>\n",
       "      <td>2.21</td>\n",
       "      <td>2.85</td>\n",
       "    </tr>\n",
       "    <tr>\n",
       "      <th>MACA</th>\n",
       "      <td>9.45</td>\n",
       "      <td>8.81</td>\n",
       "      <td>9.57</td>\n",
       "      <td>9.57</td>\n",
       "      <td>8.91</td>\n",
       "      <td>5.83</td>\n",
       "      <td>13.52</td>\n",
       "      <td>9.24</td>\n",
       "      <td>9.59</td>\n",
       "      <td>8.44</td>\n",
       "      <td>9.38</td>\n",
       "      <td>8.96</td>\n",
       "      <td>8.75</td>\n",
       "      <td>9.63</td>\n",
       "      <td>9.06</td>\n",
       "      <td>9.28</td>\n",
       "      <td>6.47</td>\n",
       "      <td>7.22</td>\n",
       "      <td>8.88</td>\n",
       "      <td>6.92</td>\n",
       "    </tr>\n",
       "    <tr>\n",
       "      <th>MAMAO FORMOSA</th>\n",
       "      <td>2.45</td>\n",
       "      <td>1.79</td>\n",
       "      <td>2.79</td>\n",
       "      <td>6.16</td>\n",
       "      <td>4.81</td>\n",
       "      <td>3.75</td>\n",
       "      <td>5.43</td>\n",
       "      <td>3.73</td>\n",
       "      <td>3.46</td>\n",
       "      <td>3.57</td>\n",
       "      <td>2.70</td>\n",
       "      <td>1.85</td>\n",
       "      <td>1.88</td>\n",
       "      <td>5.93</td>\n",
       "      <td>6.81</td>\n",
       "      <td>1.92</td>\n",
       "      <td>5.73</td>\n",
       "      <td>5.16</td>\n",
       "      <td>4.86</td>\n",
       "      <td>4.10</td>\n",
       "    </tr>\n",
       "    <tr>\n",
       "      <th>MAMAO HAWAY</th>\n",
       "      <td>3.94</td>\n",
       "      <td>3.38</td>\n",
       "      <td>5.96</td>\n",
       "      <td>7.34</td>\n",
       "      <td>5.88</td>\n",
       "      <td>13.50</td>\n",
       "      <td>8.15</td>\n",
       "      <td>6.96</td>\n",
       "      <td>12.08</td>\n",
       "      <td>12.15</td>\n",
       "      <td>4.38</td>\n",
       "      <td>3.32</td>\n",
       "      <td>3.73</td>\n",
       "      <td>11.28</td>\n",
       "      <td>7.19</td>\n",
       "      <td>3.88</td>\n",
       "      <td>10.73</td>\n",
       "      <td>9.41</td>\n",
       "      <td>8.42</td>\n",
       "      <td>NaN</td>\n",
       "    </tr>\n",
       "    <tr>\n",
       "      <th>MANDIOCA</th>\n",
       "      <td>2.23</td>\n",
       "      <td>2.70</td>\n",
       "      <td>2.15</td>\n",
       "      <td>2.98</td>\n",
       "      <td>2.02</td>\n",
       "      <td>1.71</td>\n",
       "      <td>5.14</td>\n",
       "      <td>2.40</td>\n",
       "      <td>2.00</td>\n",
       "      <td>3.84</td>\n",
       "      <td>1.61</td>\n",
       "      <td>2.25</td>\n",
       "      <td>1.66</td>\n",
       "      <td>3.65</td>\n",
       "      <td>2.18</td>\n",
       "      <td>2.13</td>\n",
       "      <td>2.74</td>\n",
       "      <td>2.69</td>\n",
       "      <td>2.32</td>\n",
       "      <td>3.92</td>\n",
       "    </tr>\n",
       "    <tr>\n",
       "      <th>MANDIOQUINHA</th>\n",
       "      <td>NaN</td>\n",
       "      <td>NaN</td>\n",
       "      <td>21.56</td>\n",
       "      <td>8.46</td>\n",
       "      <td>8.29</td>\n",
       "      <td>1.40</td>\n",
       "      <td>30.80</td>\n",
       "      <td>9.18</td>\n",
       "      <td>12.50</td>\n",
       "      <td>NaN</td>\n",
       "      <td>14.32</td>\n",
       "      <td>16.37</td>\n",
       "      <td>NaN</td>\n",
       "      <td>10.61</td>\n",
       "      <td>10.55</td>\n",
       "      <td>18.67</td>\n",
       "      <td>16.87</td>\n",
       "      <td>4.41</td>\n",
       "      <td>9.88</td>\n",
       "      <td>NaN</td>\n",
       "    </tr>\n",
       "    <tr>\n",
       "      <th>MANGA</th>\n",
       "      <td>3.78</td>\n",
       "      <td>3.54</td>\n",
       "      <td>3.95</td>\n",
       "      <td>5.44</td>\n",
       "      <td>6.27</td>\n",
       "      <td>14.28</td>\n",
       "      <td>7.30</td>\n",
       "      <td>6.02</td>\n",
       "      <td>10.15</td>\n",
       "      <td>7.10</td>\n",
       "      <td>5.04</td>\n",
       "      <td>2.84</td>\n",
       "      <td>3.62</td>\n",
       "      <td>6.90</td>\n",
       "      <td>5.84</td>\n",
       "      <td>3.24</td>\n",
       "      <td>6.81</td>\n",
       "      <td>6.53</td>\n",
       "      <td>6.57</td>\n",
       "      <td>5.34</td>\n",
       "    </tr>\n",
       "    <tr>\n",
       "      <th>MARACUJA AZEDO</th>\n",
       "      <td>7.17</td>\n",
       "      <td>6.07</td>\n",
       "      <td>7.04</td>\n",
       "      <td>10.48</td>\n",
       "      <td>8.40</td>\n",
       "      <td>7.29</td>\n",
       "      <td>11.29</td>\n",
       "      <td>6.80</td>\n",
       "      <td>7.73</td>\n",
       "      <td>10.13</td>\n",
       "      <td>5.71</td>\n",
       "      <td>4.55</td>\n",
       "      <td>5.32</td>\n",
       "      <td>11.94</td>\n",
       "      <td>9.77</td>\n",
       "      <td>6.64</td>\n",
       "      <td>10.04</td>\n",
       "      <td>9.25</td>\n",
       "      <td>9.61</td>\n",
       "      <td>7.24</td>\n",
       "    </tr>\n",
       "    <tr>\n",
       "      <th>MELANCIA</th>\n",
       "      <td>1.69</td>\n",
       "      <td>1.52</td>\n",
       "      <td>2.29</td>\n",
       "      <td>4.15</td>\n",
       "      <td>2.61</td>\n",
       "      <td>2.77</td>\n",
       "      <td>3.70</td>\n",
       "      <td>2.80</td>\n",
       "      <td>2.28</td>\n",
       "      <td>2.77</td>\n",
       "      <td>3.05</td>\n",
       "      <td>1.56</td>\n",
       "      <td>1.73</td>\n",
       "      <td>2.76</td>\n",
       "      <td>2.83</td>\n",
       "      <td>1.75</td>\n",
       "      <td>2.41</td>\n",
       "      <td>2.35</td>\n",
       "      <td>2.79</td>\n",
       "      <td>2.37</td>\n",
       "    </tr>\n",
       "    <tr>\n",
       "      <th>MELAO AMARELO</th>\n",
       "      <td>2.79</td>\n",
       "      <td>3.00</td>\n",
       "      <td>3.53</td>\n",
       "      <td>5.82</td>\n",
       "      <td>7.40</td>\n",
       "      <td>4.40</td>\n",
       "      <td>5.59</td>\n",
       "      <td>5.48</td>\n",
       "      <td>6.40</td>\n",
       "      <td>6.28</td>\n",
       "      <td>4.27</td>\n",
       "      <td>2.73</td>\n",
       "      <td>2.78</td>\n",
       "      <td>6.14</td>\n",
       "      <td>5.25</td>\n",
       "      <td>2.62</td>\n",
       "      <td>6.26</td>\n",
       "      <td>5.62</td>\n",
       "      <td>5.59</td>\n",
       "      <td>5.30</td>\n",
       "    </tr>\n",
       "    <tr>\n",
       "      <th>MILHO VERDE</th>\n",
       "      <td>2.95</td>\n",
       "      <td>2.25</td>\n",
       "      <td>2.79</td>\n",
       "      <td>5.77</td>\n",
       "      <td>2.46</td>\n",
       "      <td>2.50</td>\n",
       "      <td>5.99</td>\n",
       "      <td>2.07</td>\n",
       "      <td>3.33</td>\n",
       "      <td>3.03</td>\n",
       "      <td>2.34</td>\n",
       "      <td>2.28</td>\n",
       "      <td>2.64</td>\n",
       "      <td>5.33</td>\n",
       "      <td>2.05</td>\n",
       "      <td>3.50</td>\n",
       "      <td>3.69</td>\n",
       "      <td>2.00</td>\n",
       "      <td>3.94</td>\n",
       "      <td>NaN</td>\n",
       "    </tr>\n",
       "    <tr>\n",
       "      <th>MORANGO</th>\n",
       "      <td>37.54</td>\n",
       "      <td>39.43</td>\n",
       "      <td>42.17</td>\n",
       "      <td>28.95</td>\n",
       "      <td>16.04</td>\n",
       "      <td>18.16</td>\n",
       "      <td>38.66</td>\n",
       "      <td>21.32</td>\n",
       "      <td>27.39</td>\n",
       "      <td>37.81</td>\n",
       "      <td>54.52</td>\n",
       "      <td>37.42</td>\n",
       "      <td>40.72</td>\n",
       "      <td>22.84</td>\n",
       "      <td>21.02</td>\n",
       "      <td>44.54</td>\n",
       "      <td>17.68</td>\n",
       "      <td>20.75</td>\n",
       "      <td>21.11</td>\n",
       "      <td>11.33</td>\n",
       "    </tr>\n",
       "    <tr>\n",
       "      <th>OVOS</th>\n",
       "      <td>6.48</td>\n",
       "      <td>6.70</td>\n",
       "      <td>8.04</td>\n",
       "      <td>8.33</td>\n",
       "      <td>5.42</td>\n",
       "      <td>7.90</td>\n",
       "      <td>12.30</td>\n",
       "      <td>5.86</td>\n",
       "      <td>6.90</td>\n",
       "      <td>6.19</td>\n",
       "      <td>6.65</td>\n",
       "      <td>6.22</td>\n",
       "      <td>5.42</td>\n",
       "      <td>7.33</td>\n",
       "      <td>5.58</td>\n",
       "      <td>6.88</td>\n",
       "      <td>6.97</td>\n",
       "      <td>7.58</td>\n",
       "      <td>7.14</td>\n",
       "      <td>6.71</td>\n",
       "    </tr>\n",
       "    <tr>\n",
       "      <th>PEPINO</th>\n",
       "      <td>2.04</td>\n",
       "      <td>3.14</td>\n",
       "      <td>1.73</td>\n",
       "      <td>4.29</td>\n",
       "      <td>2.58</td>\n",
       "      <td>5.11</td>\n",
       "      <td>4.23</td>\n",
       "      <td>3.23</td>\n",
       "      <td>2.96</td>\n",
       "      <td>4.04</td>\n",
       "      <td>3.72</td>\n",
       "      <td>3.08</td>\n",
       "      <td>1.45</td>\n",
       "      <td>3.36</td>\n",
       "      <td>2.83</td>\n",
       "      <td>3.38</td>\n",
       "      <td>3.42</td>\n",
       "      <td>2.55</td>\n",
       "      <td>2.92</td>\n",
       "      <td>4.71</td>\n",
       "    </tr>\n",
       "    <tr>\n",
       "      <th>PERA IMPORTADA</th>\n",
       "      <td>11.42</td>\n",
       "      <td>11.10</td>\n",
       "      <td>15.28</td>\n",
       "      <td>9.48</td>\n",
       "      <td>10.72</td>\n",
       "      <td>3.75</td>\n",
       "      <td>15.66</td>\n",
       "      <td>8.52</td>\n",
       "      <td>7.83</td>\n",
       "      <td>NaN</td>\n",
       "      <td>15.23</td>\n",
       "      <td>8.98</td>\n",
       "      <td>10.19</td>\n",
       "      <td>9.02</td>\n",
       "      <td>14.84</td>\n",
       "      <td>12.06</td>\n",
       "      <td>8.91</td>\n",
       "      <td>12.44</td>\n",
       "      <td>11.21</td>\n",
       "      <td>11.40</td>\n",
       "    </tr>\n",
       "    <tr>\n",
       "      <th>PIMENTAO VERDE</th>\n",
       "      <td>4.67</td>\n",
       "      <td>4.90</td>\n",
       "      <td>5.64</td>\n",
       "      <td>8.34</td>\n",
       "      <td>6.26</td>\n",
       "      <td>7.45</td>\n",
       "      <td>11.44</td>\n",
       "      <td>6.16</td>\n",
       "      <td>5.94</td>\n",
       "      <td>9.59</td>\n",
       "      <td>7.65</td>\n",
       "      <td>3.10</td>\n",
       "      <td>4.34</td>\n",
       "      <td>6.21</td>\n",
       "      <td>6.70</td>\n",
       "      <td>3.82</td>\n",
       "      <td>6.06</td>\n",
       "      <td>4.81</td>\n",
       "      <td>5.86</td>\n",
       "      <td>8.51</td>\n",
       "    </tr>\n",
       "    <tr>\n",
       "      <th>QUIABO</th>\n",
       "      <td>6.41</td>\n",
       "      <td>4.58</td>\n",
       "      <td>8.22</td>\n",
       "      <td>8.84</td>\n",
       "      <td>4.92</td>\n",
       "      <td>7.21</td>\n",
       "      <td>14.47</td>\n",
       "      <td>5.19</td>\n",
       "      <td>9.45</td>\n",
       "      <td>7.69</td>\n",
       "      <td>4.19</td>\n",
       "      <td>6.21</td>\n",
       "      <td>6.70</td>\n",
       "      <td>7.26</td>\n",
       "      <td>6.55</td>\n",
       "      <td>8.11</td>\n",
       "      <td>15.75</td>\n",
       "      <td>6.81</td>\n",
       "      <td>6.46</td>\n",
       "      <td>9.21</td>\n",
       "    </tr>\n",
       "    <tr>\n",
       "      <th>REPOLHO</th>\n",
       "      <td>3.76</td>\n",
       "      <td>3.95</td>\n",
       "      <td>6.14</td>\n",
       "      <td>4.16</td>\n",
       "      <td>2.81</td>\n",
       "      <td>2.54</td>\n",
       "      <td>7.48</td>\n",
       "      <td>2.25</td>\n",
       "      <td>3.25</td>\n",
       "      <td>3.21</td>\n",
       "      <td>3.63</td>\n",
       "      <td>4.01</td>\n",
       "      <td>2.51</td>\n",
       "      <td>2.88</td>\n",
       "      <td>3.46</td>\n",
       "      <td>4.16</td>\n",
       "      <td>4.00</td>\n",
       "      <td>1.74</td>\n",
       "      <td>2.85</td>\n",
       "      <td>4.46</td>\n",
       "    </tr>\n",
       "    <tr>\n",
       "      <th>TANGERINA</th>\n",
       "      <td>4.81</td>\n",
       "      <td>6.29</td>\n",
       "      <td>8.78</td>\n",
       "      <td>3.96</td>\n",
       "      <td>5.64</td>\n",
       "      <td>3.56</td>\n",
       "      <td>10.52</td>\n",
       "      <td>5.33</td>\n",
       "      <td>2.90</td>\n",
       "      <td>4.50</td>\n",
       "      <td>7.83</td>\n",
       "      <td>9.89</td>\n",
       "      <td>3.01</td>\n",
       "      <td>4.19</td>\n",
       "      <td>7.26</td>\n",
       "      <td>6.80</td>\n",
       "      <td>3.20</td>\n",
       "      <td>3.92</td>\n",
       "      <td>4.38</td>\n",
       "      <td>5.01</td>\n",
       "    </tr>\n",
       "    <tr>\n",
       "      <th>TOMATE</th>\n",
       "      <td>4.63</td>\n",
       "      <td>3.89</td>\n",
       "      <td>5.59</td>\n",
       "      <td>8.64</td>\n",
       "      <td>6.02</td>\n",
       "      <td>6.68</td>\n",
       "      <td>9.55</td>\n",
       "      <td>5.50</td>\n",
       "      <td>6.43</td>\n",
       "      <td>7.91</td>\n",
       "      <td>6.26</td>\n",
       "      <td>3.95</td>\n",
       "      <td>4.12</td>\n",
       "      <td>6.60</td>\n",
       "      <td>7.29</td>\n",
       "      <td>5.20</td>\n",
       "      <td>6.44</td>\n",
       "      <td>6.00</td>\n",
       "      <td>5.62</td>\n",
       "      <td>7.20</td>\n",
       "    </tr>\n",
       "    <tr>\n",
       "      <th>UVA ITALIA</th>\n",
       "      <td>7.46</td>\n",
       "      <td>8.40</td>\n",
       "      <td>9.41</td>\n",
       "      <td>15.23</td>\n",
       "      <td>12.90</td>\n",
       "      <td>16.03</td>\n",
       "      <td>16.20</td>\n",
       "      <td>13.93</td>\n",
       "      <td>8.13</td>\n",
       "      <td>NaN</td>\n",
       "      <td>12.25</td>\n",
       "      <td>7.94</td>\n",
       "      <td>6.55</td>\n",
       "      <td>11.19</td>\n",
       "      <td>15.52</td>\n",
       "      <td>9.87</td>\n",
       "      <td>13.97</td>\n",
       "      <td>11.42</td>\n",
       "      <td>12.67</td>\n",
       "      <td>NaN</td>\n",
       "    </tr>\n",
       "    <tr>\n",
       "      <th>UVA NIAGARA</th>\n",
       "      <td>7.46</td>\n",
       "      <td>NaN</td>\n",
       "      <td>NaN</td>\n",
       "      <td>12.37</td>\n",
       "      <td>14.21</td>\n",
       "      <td>11.81</td>\n",
       "      <td>22.06</td>\n",
       "      <td>12.44</td>\n",
       "      <td>10.11</td>\n",
       "      <td>15.15</td>\n",
       "      <td>13.39</td>\n",
       "      <td>5.79</td>\n",
       "      <td>NaN</td>\n",
       "      <td>9.55</td>\n",
       "      <td>11.70</td>\n",
       "      <td>NaN</td>\n",
       "      <td>6.89</td>\n",
       "      <td>8.09</td>\n",
       "      <td>11.35</td>\n",
       "      <td>NaN</td>\n",
       "    </tr>\n",
       "    <tr>\n",
       "      <th>UVA RUBI</th>\n",
       "      <td>7.70</td>\n",
       "      <td>NaN</td>\n",
       "      <td>NaN</td>\n",
       "      <td>15.30</td>\n",
       "      <td>NaN</td>\n",
       "      <td>10.21</td>\n",
       "      <td>15.00</td>\n",
       "      <td>13.41</td>\n",
       "      <td>7.50</td>\n",
       "      <td>15.90</td>\n",
       "      <td>NaN</td>\n",
       "      <td>10.19</td>\n",
       "      <td>NaN</td>\n",
       "      <td>11.20</td>\n",
       "      <td>12.83</td>\n",
       "      <td>12.56</td>\n",
       "      <td>13.97</td>\n",
       "      <td>10.93</td>\n",
       "      <td>12.56</td>\n",
       "      <td>NaN</td>\n",
       "    </tr>\n",
       "    <tr>\n",
       "      <th>VAGEM</th>\n",
       "      <td>7.41</td>\n",
       "      <td>9.22</td>\n",
       "      <td>5.92</td>\n",
       "      <td>16.04</td>\n",
       "      <td>5.41</td>\n",
       "      <td>16.91</td>\n",
       "      <td>12.64</td>\n",
       "      <td>10.30</td>\n",
       "      <td>12.33</td>\n",
       "      <td>14.05</td>\n",
       "      <td>11.92</td>\n",
       "      <td>9.37</td>\n",
       "      <td>7.11</td>\n",
       "      <td>10.38</td>\n",
       "      <td>10.51</td>\n",
       "      <td>10.21</td>\n",
       "      <td>9.89</td>\n",
       "      <td>7.75</td>\n",
       "      <td>11.85</td>\n",
       "      <td>NaN</td>\n",
       "    </tr>\n",
       "  </tbody>\n",
       "</table>\n",
       "</div>"
      ],
      "text/plain": [
       "UF                 AL     BA     CE     DF  ...     RS     SC     SP     TO\n",
       "Produto                                     ...                            \n",
       "ABACATE          4.84   4.32   4.53   5.12  ...   4.17   4.21   3.22   4.58\n",
       "ABACAXI          5.11   5.07   4.83   5.92  ...   8.16   9.00   7.43   6.11\n",
       "ABOBORA          4.47   3.83   4.44   3.43  ...   3.34   1.95   3.24   3.87\n",
       "ABOBRINHA        3.01   2.99   3.09   5.65  ...   3.82   3.26   3.56   4.14\n",
       "ALFACE          19.44  14.46  28.52  10.23  ...  18.28  24.00  27.55    NaN\n",
       "ALHO            24.06  23.81  24.11  23.65  ...  24.91  21.13  24.75  20.47\n",
       "BANANA NANICA    3.40   2.01   3.54   4.81  ...   3.23   2.98   3.78   4.21\n",
       "BANANA PRATA     2.41   3.90   4.37   7.75  ...   4.75   4.17   6.15   6.36\n",
       "BATATA           5.44   5.11   6.55   6.73  ...   5.89   5.03   5.70   6.40\n",
       "BATATA DOCE      2.41   3.66   2.71   4.17  ...   3.35   2.66   3.24   4.00\n",
       "BERINJELA        3.82   3.48   2.43   3.92  ...   4.55   3.22   2.68   5.54\n",
       "BETERRABA        4.91   4.82   5.90   7.84  ...   5.38   4.87   5.04   6.74\n",
       "BROCOLO          9.88   5.81  23.15   7.29  ...   7.09   4.00   6.72   8.17\n",
       "CARA             4.70   6.34  16.30   8.74  ...  10.90   7.00   7.08   6.17\n",
       "CEBOLA           5.57   5.74   8.76   6.45  ...   5.06   5.08   5.72   6.00\n",
       "CENOURA          6.16   5.17   7.39   6.76  ...   5.85   5.52   5.84   7.11\n",
       "CHUCHU           3.94   4.63   3.21   6.02  ...   3.43   3.13   3.68   4.84\n",
       "COCO VERDE       1.98   1.77   1.70   3.18  ...   5.49   4.30   4.25    NaN\n",
       "COUVE            7.84   3.59   2.05   8.03  ...  12.04   5.95   4.58    NaN\n",
       "COUVE-FLOR       8.09   6.36   2.78   8.08  ...   5.16   5.50   6.96   9.00\n",
       "GOIABA           3.45   3.96   4.73   5.80  ...   7.02   5.73   5.62   8.34\n",
       "INHAME           8.50   9.36   6.84   8.15  ...  11.33   6.69   7.15   5.68\n",
       "JILO             5.92   5.43   3.42   5.94  ...  12.79   6.63   5.24   8.15\n",
       "LARANJA PERA     2.59   2.82   3.37   3.55  ...   3.56   3.89   3.46   3.77\n",
       "LIMAO TAHITI     2.16   1.88   3.41   3.09  ...   3.00   2.97   2.21   2.85\n",
       "MACA             9.45   8.81   9.57   9.57  ...   6.47   7.22   8.88   6.92\n",
       "MAMAO FORMOSA    2.45   1.79   2.79   6.16  ...   5.73   5.16   4.86   4.10\n",
       "MAMAO HAWAY      3.94   3.38   5.96   7.34  ...  10.73   9.41   8.42    NaN\n",
       "MANDIOCA         2.23   2.70   2.15   2.98  ...   2.74   2.69   2.32   3.92\n",
       "MANDIOQUINHA      NaN    NaN  21.56   8.46  ...  16.87   4.41   9.88    NaN\n",
       "MANGA            3.78   3.54   3.95   5.44  ...   6.81   6.53   6.57   5.34\n",
       "MARACUJA AZEDO   7.17   6.07   7.04  10.48  ...  10.04   9.25   9.61   7.24\n",
       "MELANCIA         1.69   1.52   2.29   4.15  ...   2.41   2.35   2.79   2.37\n",
       "MELAO AMARELO    2.79   3.00   3.53   5.82  ...   6.26   5.62   5.59   5.30\n",
       "MILHO VERDE      2.95   2.25   2.79   5.77  ...   3.69   2.00   3.94    NaN\n",
       "MORANGO         37.54  39.43  42.17  28.95  ...  17.68  20.75  21.11  11.33\n",
       "OVOS             6.48   6.70   8.04   8.33  ...   6.97   7.58   7.14   6.71\n",
       "PEPINO           2.04   3.14   1.73   4.29  ...   3.42   2.55   2.92   4.71\n",
       "PERA IMPORTADA  11.42  11.10  15.28   9.48  ...   8.91  12.44  11.21  11.40\n",
       "PIMENTAO VERDE   4.67   4.90   5.64   8.34  ...   6.06   4.81   5.86   8.51\n",
       "QUIABO           6.41   4.58   8.22   8.84  ...  15.75   6.81   6.46   9.21\n",
       "REPOLHO          3.76   3.95   6.14   4.16  ...   4.00   1.74   2.85   4.46\n",
       "TANGERINA        4.81   6.29   8.78   3.96  ...   3.20   3.92   4.38   5.01\n",
       "TOMATE           4.63   3.89   5.59   8.64  ...   6.44   6.00   5.62   7.20\n",
       "UVA ITALIA       7.46   8.40   9.41  15.23  ...  13.97  11.42  12.67    NaN\n",
       "UVA NIAGARA      7.46    NaN    NaN  12.37  ...   6.89   8.09  11.35    NaN\n",
       "UVA RUBI         7.70    NaN    NaN  15.30  ...  13.97  10.93  12.56    NaN\n",
       "VAGEM            7.41   9.22   5.92  16.04  ...   9.89   7.75  11.85    NaN\n",
       "\n",
       "[48 rows x 20 columns]"
      ]
     },
     "execution_count": 140,
     "metadata": {},
     "output_type": "execute_result"
    }
   ],
   "source": [
    "# Transponto indice UF para coluna (Apenas para verificação dos Estados que não tem Preço preenchido)\n",
    "df_transpo = qualidade_dados_pandas.groupby(['Produto', 'UF'])['Total'].sum().unstack()\n",
    "df_transpo\n"
   ]
  },
  {
   "cell_type": "code",
   "execution_count": 0,
   "metadata": {
    "application/vnd.databricks.v1+cell": {
     "cellMetadata": {
      "byteLimit": 2048000,
      "rowLimit": 10000
     },
     "inputWidgets": {},
     "nuid": "5c69864c-a151-4f1e-a33f-ffcf29cbf595",
     "showTitle": false,
     "title": ""
    }
   },
   "outputs": [
    {
     "output_type": "stream",
     "name": "stderr",
     "output_type": "stream",
     "text": [
      "/root/.ipykernel/2786/command-4181952302857080-2369423744:8: SettingWithCopyWarning: \nA value is trying to be set on a copy of a slice from a DataFrame.\nTry using .loc[row_indexer,col_indexer] = value instead\n\nSee the caveats in the documentation: https://pandas.pydata.org/pandas-docs/stable/user_guide/indexing.html#returning-a-view-versus-a-copy\n  null_rows['UF'] = col  # Adicionar nome da coluna como UF\n/root/.ipykernel/2786/command-4181952302857080-2369423744:10: SettingWithCopyWarning: \nA value is trying to be set on a copy of a slice from a DataFrame.\nTry using .loc[row_indexer,col_indexer] = value instead\n\nSee the caveats in the documentation: https://pandas.pydata.org/pandas-docs/stable/user_guide/indexing.html#returning-a-view-versus-a-copy\n  null_rows['Produto'] = null_rows.index  # Definir o índice como 'Produto'\n/root/.ipykernel/2786/command-4181952302857080-2369423744:8: SettingWithCopyWarning: \nA value is trying to be set on a copy of a slice from a DataFrame.\nTry using .loc[row_indexer,col_indexer] = value instead\n\nSee the caveats in the documentation: https://pandas.pydata.org/pandas-docs/stable/user_guide/indexing.html#returning-a-view-versus-a-copy\n  null_rows['UF'] = col  # Adicionar nome da coluna como UF\n/root/.ipykernel/2786/command-4181952302857080-2369423744:10: SettingWithCopyWarning: \nA value is trying to be set on a copy of a slice from a DataFrame.\nTry using .loc[row_indexer,col_indexer] = value instead\n\nSee the caveats in the documentation: https://pandas.pydata.org/pandas-docs/stable/user_guide/indexing.html#returning-a-view-versus-a-copy\n  null_rows['Produto'] = null_rows.index  # Definir o índice como 'Produto'\n/root/.ipykernel/2786/command-4181952302857080-2369423744:8: SettingWithCopyWarning: \nA value is trying to be set on a copy of a slice from a DataFrame.\nTry using .loc[row_indexer,col_indexer] = value instead\n\nSee the caveats in the documentation: https://pandas.pydata.org/pandas-docs/stable/user_guide/indexing.html#returning-a-view-versus-a-copy\n  null_rows['UF'] = col  # Adicionar nome da coluna como UF\n/root/.ipykernel/2786/command-4181952302857080-2369423744:10: SettingWithCopyWarning: \nA value is trying to be set on a copy of a slice from a DataFrame.\nTry using .loc[row_indexer,col_indexer] = value instead\n\nSee the caveats in the documentation: https://pandas.pydata.org/pandas-docs/stable/user_guide/indexing.html#returning-a-view-versus-a-copy\n  null_rows['Produto'] = null_rows.index  # Definir o índice como 'Produto'\n/root/.ipykernel/2786/command-4181952302857080-2369423744:8: SettingWithCopyWarning: \nA value is trying to be set on a copy of a slice from a DataFrame.\nTry using .loc[row_indexer,col_indexer] = value instead\n\nSee the caveats in the documentation: https://pandas.pydata.org/pandas-docs/stable/user_guide/indexing.html#returning-a-view-versus-a-copy\n  null_rows['UF'] = col  # Adicionar nome da coluna como UF\n/root/.ipykernel/2786/command-4181952302857080-2369423744:10: SettingWithCopyWarning: \nA value is trying to be set on a copy of a slice from a DataFrame.\nTry using .loc[row_indexer,col_indexer] = value instead\n\nSee the caveats in the documentation: https://pandas.pydata.org/pandas-docs/stable/user_guide/indexing.html#returning-a-view-versus-a-copy\n  null_rows['Produto'] = null_rows.index  # Definir o índice como 'Produto'\n/root/.ipykernel/2786/command-4181952302857080-2369423744:8: SettingWithCopyWarning: \nA value is trying to be set on a copy of a slice from a DataFrame.\nTry using .loc[row_indexer,col_indexer] = value instead\n\nSee the caveats in the documentation: https://pandas.pydata.org/pandas-docs/stable/user_guide/indexing.html#returning-a-view-versus-a-copy\n  null_rows['UF'] = col  # Adicionar nome da coluna como UF\n/root/.ipykernel/2786/command-4181952302857080-2369423744:10: SettingWithCopyWarning: \nA value is trying to be set on a copy of a slice from a DataFrame.\nTry using .loc[row_indexer,col_indexer] = value instead\n\nSee the caveats in the documentation: https://pandas.pydata.org/pandas-docs/stable/user_guide/indexing.html#returning-a-view-versus-a-copy\n  null_rows['Produto'] = null_rows.index  # Definir o índice como 'Produto'\n/root/.ipykernel/2786/command-4181952302857080-2369423744:8: SettingWithCopyWarning: \nA value is trying to be set on a copy of a slice from a DataFrame.\nTry using .loc[row_indexer,col_indexer] = value instead\n\nSee the caveats in the documentation: https://pandas.pydata.org/pandas-docs/stable/user_guide/indexing.html#returning-a-view-versus-a-copy\n  null_rows['UF'] = col  # Adicionar nome da coluna como UF\n/root/.ipykernel/2786/command-4181952302857080-2369423744:10: SettingWithCopyWarning: \nA value is trying to be set on a copy of a slice from a DataFrame.\nTry using .loc[row_indexer,col_indexer] = value instead\n\nSee the caveats in the documentation: https://pandas.pydata.org/pandas-docs/stable/user_guide/indexing.html#returning-a-view-versus-a-copy\n  null_rows['Produto'] = null_rows.index  # Definir o índice como 'Produto'\n/root/.ipykernel/2786/command-4181952302857080-2369423744:8: SettingWithCopyWarning: \nA value is trying to be set on a copy of a slice from a DataFrame.\nTry using .loc[row_indexer,col_indexer] = value instead\n\nSee the caveats in the documentation: https://pandas.pydata.org/pandas-docs/stable/user_guide/indexing.html#returning-a-view-versus-a-copy\n  null_rows['UF'] = col  # Adicionar nome da coluna como UF\n/root/.ipykernel/2786/command-4181952302857080-2369423744:10: SettingWithCopyWarning: \nA value is trying to be set on a copy of a slice from a DataFrame.\nTry using .loc[row_indexer,col_indexer] = value instead\n\nSee the caveats in the documentation: https://pandas.pydata.org/pandas-docs/stable/user_guide/indexing.html#returning-a-view-versus-a-copy\n  null_rows['Produto'] = null_rows.index  # Definir o índice como 'Produto'\n/root/.ipykernel/2786/command-4181952302857080-2369423744:8: SettingWithCopyWarning: \nA value is trying to be set on a copy of a slice from a DataFrame.\nTry using .loc[row_indexer,col_indexer] = value instead\n\nSee the caveats in the documentation: https://pandas.pydata.org/pandas-docs/stable/user_guide/indexing.html#returning-a-view-versus-a-copy\n  null_rows['UF'] = col  # Adicionar nome da coluna como UF\n/root/.ipykernel/2786/command-4181952302857080-2369423744:10: SettingWithCopyWarning: \nA value is trying to be set on a copy of a slice from a DataFrame.\nTry using .loc[row_indexer,col_indexer] = value instead\n\nSee the caveats in the documentation: https://pandas.pydata.org/pandas-docs/stable/user_guide/indexing.html#returning-a-view-versus-a-copy\n  null_rows['Produto'] = null_rows.index  # Definir o índice como 'Produto'\n"
     ]
    },
    {
     "output_type": "execute_result",
     "data": {
      "text/html": [
       "<div>\n",
       "<style scoped>\n",
       "    .dataframe tbody tr th:only-of-type {\n",
       "        vertical-align: middle;\n",
       "    }\n",
       "\n",
       "    .dataframe tbody tr th {\n",
       "        vertical-align: top;\n",
       "    }\n",
       "\n",
       "    .dataframe thead th {\n",
       "        text-align: right;\n",
       "    }\n",
       "</style>\n",
       "<table border=\"1\" class=\"dataframe\">\n",
       "  <thead>\n",
       "    <tr style=\"text-align: right;\">\n",
       "      <th></th>\n",
       "      <th>Produto</th>\n",
       "      <th>UF</th>\n",
       "    </tr>\n",
       "  </thead>\n",
       "  <tbody>\n",
       "    <tr>\n",
       "      <th>MANDIOQUINHA</th>\n",
       "      <td>MANDIOQUINHA</td>\n",
       "      <td>BA</td>\n",
       "    </tr>\n",
       "    <tr>\n",
       "      <th>UVA NIAGARA</th>\n",
       "      <td>UVA NIAGARA</td>\n",
       "      <td>BA</td>\n",
       "    </tr>\n",
       "    <tr>\n",
       "      <th>UVA RUBI</th>\n",
       "      <td>UVA RUBI</td>\n",
       "      <td>BA</td>\n",
       "    </tr>\n",
       "    <tr>\n",
       "      <th>UVA NIAGARA</th>\n",
       "      <td>UVA NIAGARA</td>\n",
       "      <td>CE</td>\n",
       "    </tr>\n",
       "    <tr>\n",
       "      <th>UVA RUBI</th>\n",
       "      <td>UVA RUBI</td>\n",
       "      <td>CE</td>\n",
       "    </tr>\n",
       "    <tr>\n",
       "      <th>UVA RUBI</th>\n",
       "      <td>UVA RUBI</td>\n",
       "      <td>ES</td>\n",
       "    </tr>\n",
       "    <tr>\n",
       "      <th>CARA</th>\n",
       "      <td>CARA</td>\n",
       "      <td>MT</td>\n",
       "    </tr>\n",
       "    <tr>\n",
       "      <th>GOIABA</th>\n",
       "      <td>GOIABA</td>\n",
       "      <td>MT</td>\n",
       "    </tr>\n",
       "    <tr>\n",
       "      <th>INHAME</th>\n",
       "      <td>INHAME</td>\n",
       "      <td>MT</td>\n",
       "    </tr>\n",
       "    <tr>\n",
       "      <th>MANDIOQUINHA</th>\n",
       "      <td>MANDIOQUINHA</td>\n",
       "      <td>MT</td>\n",
       "    </tr>\n",
       "    <tr>\n",
       "      <th>PERA IMPORTADA</th>\n",
       "      <td>PERA IMPORTADA</td>\n",
       "      <td>MT</td>\n",
       "    </tr>\n",
       "    <tr>\n",
       "      <th>UVA ITALIA</th>\n",
       "      <td>UVA ITALIA</td>\n",
       "      <td>MT</td>\n",
       "    </tr>\n",
       "    <tr>\n",
       "      <th>UVA RUBI</th>\n",
       "      <td>UVA RUBI</td>\n",
       "      <td>PA</td>\n",
       "    </tr>\n",
       "    <tr>\n",
       "      <th>BANANA NANICA</th>\n",
       "      <td>BANANA NANICA</td>\n",
       "      <td>PE</td>\n",
       "    </tr>\n",
       "    <tr>\n",
       "      <th>MANDIOQUINHA</th>\n",
       "      <td>MANDIOQUINHA</td>\n",
       "      <td>PE</td>\n",
       "    </tr>\n",
       "    <tr>\n",
       "      <th>UVA NIAGARA</th>\n",
       "      <td>UVA NIAGARA</td>\n",
       "      <td>PE</td>\n",
       "    </tr>\n",
       "    <tr>\n",
       "      <th>UVA RUBI</th>\n",
       "      <td>UVA RUBI</td>\n",
       "      <td>PE</td>\n",
       "    </tr>\n",
       "    <tr>\n",
       "      <th>UVA NIAGARA</th>\n",
       "      <td>UVA NIAGARA</td>\n",
       "      <td>RN</td>\n",
       "    </tr>\n",
       "    <tr>\n",
       "      <th>ALFACE</th>\n",
       "      <td>ALFACE</td>\n",
       "      <td>TO</td>\n",
       "    </tr>\n",
       "    <tr>\n",
       "      <th>COCO VERDE</th>\n",
       "      <td>COCO VERDE</td>\n",
       "      <td>TO</td>\n",
       "    </tr>\n",
       "    <tr>\n",
       "      <th>COUVE</th>\n",
       "      <td>COUVE</td>\n",
       "      <td>TO</td>\n",
       "    </tr>\n",
       "    <tr>\n",
       "      <th>MAMAO HAWAY</th>\n",
       "      <td>MAMAO HAWAY</td>\n",
       "      <td>TO</td>\n",
       "    </tr>\n",
       "    <tr>\n",
       "      <th>MANDIOQUINHA</th>\n",
       "      <td>MANDIOQUINHA</td>\n",
       "      <td>TO</td>\n",
       "    </tr>\n",
       "    <tr>\n",
       "      <th>MILHO VERDE</th>\n",
       "      <td>MILHO VERDE</td>\n",
       "      <td>TO</td>\n",
       "    </tr>\n",
       "    <tr>\n",
       "      <th>UVA ITALIA</th>\n",
       "      <td>UVA ITALIA</td>\n",
       "      <td>TO</td>\n",
       "    </tr>\n",
       "    <tr>\n",
       "      <th>UVA NIAGARA</th>\n",
       "      <td>UVA NIAGARA</td>\n",
       "      <td>TO</td>\n",
       "    </tr>\n",
       "    <tr>\n",
       "      <th>UVA RUBI</th>\n",
       "      <td>UVA RUBI</td>\n",
       "      <td>TO</td>\n",
       "    </tr>\n",
       "    <tr>\n",
       "      <th>VAGEM</th>\n",
       "      <td>VAGEM</td>\n",
       "      <td>TO</td>\n",
       "    </tr>\n",
       "  </tbody>\n",
       "</table>\n",
       "</div>"
      ],
      "text/plain": [
       "                       Produto  UF\n",
       "MANDIOQUINHA      MANDIOQUINHA  BA\n",
       "UVA NIAGARA        UVA NIAGARA  BA\n",
       "UVA RUBI              UVA RUBI  BA\n",
       "UVA NIAGARA        UVA NIAGARA  CE\n",
       "UVA RUBI              UVA RUBI  CE\n",
       "UVA RUBI              UVA RUBI  ES\n",
       "CARA                      CARA  MT\n",
       "GOIABA                  GOIABA  MT\n",
       "INHAME                  INHAME  MT\n",
       "MANDIOQUINHA      MANDIOQUINHA  MT\n",
       "PERA IMPORTADA  PERA IMPORTADA  MT\n",
       "UVA ITALIA          UVA ITALIA  MT\n",
       "UVA RUBI              UVA RUBI  PA\n",
       "BANANA NANICA    BANANA NANICA  PE\n",
       "MANDIOQUINHA      MANDIOQUINHA  PE\n",
       "UVA NIAGARA        UVA NIAGARA  PE\n",
       "UVA RUBI              UVA RUBI  PE\n",
       "UVA NIAGARA        UVA NIAGARA  RN\n",
       "ALFACE                  ALFACE  TO\n",
       "COCO VERDE          COCO VERDE  TO\n",
       "COUVE                    COUVE  TO\n",
       "MAMAO HAWAY        MAMAO HAWAY  TO\n",
       "MANDIOQUINHA      MANDIOQUINHA  TO\n",
       "MILHO VERDE        MILHO VERDE  TO\n",
       "UVA ITALIA          UVA ITALIA  TO\n",
       "UVA NIAGARA        UVA NIAGARA  TO\n",
       "UVA RUBI              UVA RUBI  TO\n",
       "VAGEM                    VAGEM  TO"
      ]
     },
     "execution_count": 147,
     "metadata": {},
     "output_type": "execute_result"
    }
   ],
   "source": [
    "# Verificando os Valores Nulos do df_transpo:\n",
    "\n",
    "# Encontrar combinações com valores nulos\n",
    "null_values = pd.DataFrame(columns=['Produto', 'UF'])\n",
    "\n",
    "for col in df_transpo.columns[1:]:  # Começando do segundo coluna para frente\n",
    "    null_rows = df_transpo[df_transpo[col].isnull()]\n",
    "    null_rows['UF'] = col  # Adicionar nome da coluna como UF\n",
    "    if 'Produto' not in null_rows.columns:\n",
    "        null_rows['Produto'] = null_rows.index  # Definir o índice como 'Produto'\n",
    "    null_values = pd.concat([null_values, null_rows[['Produto', 'UF']]])\n",
    "\n",
    "# Mostrar os valores nulos em uma tabela\n",
    "\n",
    "null_values"
   ]
  },
  {
   "cell_type": "code",
   "execution_count": 0,
   "metadata": {
    "application/vnd.databricks.v1+cell": {
     "cellMetadata": {
      "byteLimit": 2048000,
      "rowLimit": 10000
     },
     "inputWidgets": {},
     "nuid": "54de9cf7-b849-4d0b-ae18-e0228596d374",
     "showTitle": false,
     "title": ""
    }
   },
   "outputs": [
    {
     "output_type": "execute_result",
     "data": {
      "text/plain": [
       "array(['BA', 'CE', 'ES', 'MT', 'PA', 'PE', 'RN', 'TO'], dtype=object)"
      ]
     },
     "execution_count": 143,
     "metadata": {},
     "output_type": "execute_result"
    }
   ],
   "source": [
    "# Lista das UFs sem Custo de pelo menos 1 Produto dentro de 2024 \n",
    "null_values['UF'].unique()"
   ]
  },
  {
   "cell_type": "code",
   "execution_count": 0,
   "metadata": {
    "application/vnd.databricks.v1+cell": {
     "cellMetadata": {
      "byteLimit": 2048000,
      "rowLimit": 10000
     },
     "inputWidgets": {},
     "nuid": "23bdeb1b-3e38-4c9a-a261-b9ca90d1bf7e",
     "showTitle": false,
     "title": ""
    }
   },
   "outputs": [
    {
     "output_type": "execute_result",
     "data": {
      "text/plain": [
       "array(['MANDIOQUINHA', 'UVA NIAGARA', 'UVA RUBI', 'CARA', 'GOIABA',\n",
       "       'INHAME', 'PERA IMPORTADA', 'UVA ITALIA', 'BANANA NANICA',\n",
       "       'ALFACE', 'COCO VERDE', 'COUVE', 'MAMAO HAWAY', 'MILHO VERDE',\n",
       "       'VAGEM'], dtype=object)"
      ]
     },
     "execution_count": 144,
     "metadata": {},
     "output_type": "execute_result"
    }
   ],
   "source": [
    "# Lista dos Produtos sem Custo de pelo menos um UF dentro de 2024 \n",
    "null_values['Produto'].unique()"
   ]
  },
  {
   "cell_type": "markdown",
   "metadata": {
    "application/vnd.databricks.v1+cell": {
     "cellMetadata": {},
     "inputWidgets": {},
     "nuid": "ce85d023-dcda-4ac6-9bad-f48a387a27d6",
     "showTitle": false,
     "title": ""
    }
   },
   "source": [
    "### Solução do problema"
   ]
  },
  {
   "cell_type": "markdown",
   "metadata": {
    "application/vnd.databricks.v1+cell": {
     "cellMetadata": {},
     "inputWidgets": {},
     "nuid": "00bd4e80-46f4-41cb-9d72-b653f3006c5a",
     "showTitle": false,
     "title": ""
    }
   },
   "source": [
    "##### 1 - Qual o Preço médio dos últimos 6 meses dos produtos de hortifruti nos principais Estados do Brasil "
   ]
  },
  {
   "cell_type": "code",
   "execution_count": 0,
   "metadata": {
    "application/vnd.databricks.v1+cell": {
     "cellMetadata": {
      "byteLimit": 2048000,
      "implicitDf": true,
      "rowLimit": 10000
     },
     "inputWidgets": {},
     "nuid": "19d30130-27c3-41f0-832f-496c74a29f45",
     "showTitle": false,
     "title": ""
    }
   },
   "outputs": [],
   "source": [
    "\n",
    "#Consultando Tabela Fato_horigrangeiros e salvando na variavel df_resposta_1 via spark Sql\n",
    "\n",
    "df_resposta_1 = spark.sql(\"\"\"SELECT F.UF,\n",
    "    F.Produto,\n",
    "    D.Unidade,\n",
    "    round(mean(F.Preco_Medio),2) AS Total\n",
    "FROM gold.tables.Fato_hortigrangeiros as F\n",
    "LEFT JOIN gold.tables.dimensao_produto as D ON F.Produto = D.Produto\n",
    "GROUP BY\n",
    "F.UF,\n",
    "F.Produto,\n",
    "D.Unidade\n",
    "ORDER BY\n",
    "Total DESC\"\"\")"
   ]
  },
  {
   "cell_type": "code",
   "execution_count": 0,
   "metadata": {
    "application/vnd.databricks.v1+cell": {
     "cellMetadata": {
      "byteLimit": 2048000,
      "rowLimit": 10000
     },
     "inputWidgets": {},
     "nuid": "26248c8d-e0aa-4f1b-9b0c-c58afea6174e",
     "showTitle": false,
     "title": ""
    }
   },
   "outputs": [
    {
     "output_type": "stream",
     "name": "stdout",
     "output_type": "stream",
     "text": [
      "+---+------------+-------+-----+\n| UF|     Produto|Unidade|Total|\n+---+------------+-------+-----+\n| PA|     MORANGO|     KG|54.52|\n| RN|     MORANGO|     KG|44.54|\n| CE|     MORANGO|     KG|42.17|\n| PE|     MORANGO|     KG|40.72|\n| BA|     MORANGO|     KG|39.43|\n| MA|     MORANGO|     KG|38.66|\n| MT|     MORANGO|     KG|37.81|\n| AL|     MORANGO|     KG|37.54|\n| PB|     MORANGO|     KG|37.42|\n| MA|        ALHO|     KG|34.46|\n| PR|      ALFACE|     DZ| 33.8|\n| MG|      ALFACE|     DZ|30.89|\n| MA|MANDIOQUINHA|     KG| 30.8|\n| DF|     MORANGO|     KG|28.95|\n| CE|      ALFACE|     DZ|28.52|\n| SP|      ALFACE|     DZ|27.55|\n| MS|     MORANGO|     KG|27.39|\n| MS|        ALHO|     KG|27.33|\n| RN|     BROCOLO|     KG|26.58|\n| PA|        ALHO|     KG| 26.1|\n+---+------------+-------+-----+\nonly showing top 20 rows\n\n"
     ]
    }
   ],
   "source": [
    "\n",
    "# Validando se dataframe df_resposta_1 está funcionando corretamente\n",
    "df_resposta_1.show()"
   ]
  },
  {
   "cell_type": "code",
   "execution_count": 0,
   "metadata": {
    "application/vnd.databricks.v1+cell": {
     "cellMetadata": {
      "byteLimit": 2048000,
      "rowLimit": 10000
     },
     "inputWidgets": {},
     "nuid": "fef3f8df-a0c4-4ecd-a3e8-ca8a09ce9f9d",
     "showTitle": false,
     "title": ""
    }
   },
   "outputs": [],
   "source": [
    "from pyspark.sql import SparkSession\n",
    "import pandas as pd\n",
    "import matplotlib.pyplot as plt\n",
    "\n",
    "# Criar uma sessão Spark\n",
    "spark = SparkSession.builder.appName(\"StackedBarChart\").getOrCreate()\n",
    "\n",
    "# Converter o resultado para um Pandas DataFrame\n",
    "df_resposta_1_pandas = df_resposta_1.toPandas()"
   ]
  },
  {
   "cell_type": "markdown",
   "metadata": {
    "application/vnd.databricks.v1+cell": {
     "cellMetadata": {},
     "inputWidgets": {},
     "nuid": "ca332d58-e968-46d3-84f6-c38e48ad95d0",
     "showTitle": false,
     "title": ""
    }
   },
   "source": [
    "###### RESPOSTA: Como a resposta é uma Tabela com algumas linhas, deixo a tabela abaixo como a resposta.  \n",
    "Deixo também um gráfico com as informações organizadas em colunas empilhadas, onde conseguimos observar o Preço Médio de cada UF em Cada Produto.  (Gráfico no README)  \n",
    "Nesse gráfico é possível observar até além da resposta solicitada. Conseguimos ver qual o Produto que tem o Menor Preço Médio entre os produtos e Também a comparação dos Estados vs outros estados do Brasil. "
   ]
  },
  {
   "cell_type": "code",
   "execution_count": 0,
   "metadata": {
    "application/vnd.databricks.v1+cell": {
     "cellMetadata": {
      "byteLimit": 2048000,
      "rowLimit": 10000
     },
     "inputWidgets": {},
     "nuid": "ae7c2c8a-4628-4fb1-ae08-b8d10a7ced92",
     "showTitle": false,
     "title": ""
    }
   },
   "outputs": [
    {
     "output_type": "stream",
     "name": "stdout",
     "output_type": "stream",
     "text": [
      "+---+------------+-------+-----+\n| UF|     Produto|Unidade|Total|\n+---+------------+-------+-----+\n| PA|     MORANGO|     KG|54.52|\n| RN|     MORANGO|     KG|44.54|\n| CE|     MORANGO|     KG|42.17|\n| PE|     MORANGO|     KG|40.72|\n| BA|     MORANGO|     KG|39.43|\n| MA|     MORANGO|     KG|38.66|\n| MT|     MORANGO|     KG|37.81|\n| AL|     MORANGO|     KG|37.54|\n| PB|     MORANGO|     KG|37.42|\n| MA|        ALHO|     KG|34.46|\n| PR|      ALFACE|     DZ| 33.8|\n| MG|      ALFACE|     DZ|30.89|\n| MA|MANDIOQUINHA|     KG| 30.8|\n| DF|     MORANGO|     KG|28.95|\n| CE|      ALFACE|     DZ|28.52|\n| SP|      ALFACE|     DZ|27.55|\n| MS|     MORANGO|     KG|27.39|\n| MS|        ALHO|     KG|27.33|\n| RN|     BROCOLO|     KG|26.58|\n| PA|        ALHO|     KG| 26.1|\n+---+------------+-------+-----+\nonly showing top 20 rows\n\n"
     ]
    }
   ],
   "source": [
    "df_resposta_1.show()"
   ]
  },
  {
   "cell_type": "markdown",
   "metadata": {
    "application/vnd.databricks.v1+cell": {
     "cellMetadata": {},
     "inputWidgets": {},
     "nuid": "0ecc17c6-8f4e-4db1-a5b0-684b04d3dbfe",
     "showTitle": false,
     "title": ""
    }
   },
   "source": [
    "###### **Gráfico no README, pois plotly.express não aparece no repositório do github**"
   ]
  },
  {
   "cell_type": "code",
   "execution_count": 0,
   "metadata": {
    "application/vnd.databricks.v1+cell": {
     "cellMetadata": {
      "byteLimit": 2048000,
      "rowLimit": 10000
     },
     "inputWidgets": {},
     "nuid": "77a0f685-0f7a-4155-b320-1cb276af4b79",
     "showTitle": false,
     "title": ""
    }
   },
   "outputs": [
    {
     "output_type": "display_data",
     "data": {
      "text/html": [
       "<html>\n",
       "<head><meta charset=\"utf-8\" /></head>\n",
       "<body>\n",
       "    <div>            <script src=\"https://cdnjs.cloudflare.com/ajax/libs/mathjax/2.7.5/MathJax.js?config=TeX-AMS-MML_SVG\"></script><script type=\"text/javascript\">if (window.MathJax && window.MathJax.Hub && window.MathJax.Hub.Config) {window.MathJax.Hub.Config({SVG: {font: \"STIX-Web\"}});}</script>                <script type=\"text/javascript\">window.PlotlyConfig = {MathJaxConfig: 'local'};</script>\n",
       "        <script src=\"https://cdn.plot.ly/plotly-2.12.1.min.js\"></script>                <div id=\"fe20781a-fd84-44e9-88d0-8658938976fb\" class=\"plotly-graph-div\" style=\"height:100%; width:100%;\"></div>            <script type=\"text/javascript\">                                    window.PLOTLYENV=window.PLOTLYENV || {};                                    if (document.getElementById(\"fe20781a-fd84-44e9-88d0-8658938976fb\")) {                    Plotly.newPlot(                        \"fe20781a-fd84-44e9-88d0-8658938976fb\",                        [{\"alignmentgroup\":\"True\",\"hovertemplate\":\"UF=PA<br>Produto=%{x}<br>Pre\\u00e7o M\\u00e9dio=%{y}<br>Total_UF=%{text}<extra></extra>\",\"legendgroup\":\"PA\",\"marker\":{\"color\":\"#636efa\",\"pattern\":{\"shape\":\"\"}},\"name\":\"PA\",\"offsetgroup\":\"PA\",\"orientation\":\"v\",\"showlegend\":true,\"text\":[\"54.52 (PA)\",\"26.1 (PA)\",\"23.19 (PA)\",\"15.23 (PA)\",\"14.32 (PA)\",\"13.39 (PA)\",\"12.25 (PA)\",\"11.92 (PA)\",\"11.1 (PA)\",\"10.61 (PA)\",\"9.38 (PA)\",\"8.0 (PA)\",\"7.9 (PA)\",\"7.83 (PA)\",\"7.65 (PA)\",\"7.3 (PA)\",\"7.08 (PA)\",\"6.91 (PA)\",\"6.72 (PA)\",\"6.65 (PA)\",\"6.26 (PA)\",\"5.76 (PA)\",\"5.73 (PA)\",\"5.71 (PA)\",\"5.34 (PA)\",\"5.13 (PA)\",\"5.04 (PA)\",\"4.92 (PA)\",\"4.84 (PA)\",\"4.38 (PA)\",\"4.27 (PA)\",\"4.19 (PA)\",\"3.95 (PA)\",\"3.92 (PA)\",\"3.73 (PA)\",\"3.72 (PA)\",\"3.68 (PA)\",\"3.63 (PA)\",\"3.61 (PA)\",\"3.41 (PA)\",\"3.05 (PA)\",\"2.82 (PA)\",\"2.7 (PA)\",\"2.34 (PA)\",\"1.88 (PA)\",\"1.61 (PA)\",\"1.54 (PA)\"],\"textposition\":\"inside\",\"x\":[\"MORANGO\",\"ALHO\",\"BROCOLO\",\"PERA IMPORTADA\",\"MANDIOQUINHA\",\"UVA NIAGARA\",\"UVA ITALIA\",\"VAGEM\",\"COUVE-FLOR\",\"COUVE\",\"MACA\",\"CARA\",\"CENOURA\",\"TANGERINA\",\"PIMENTAO VERDE\",\"JILO\",\"BETERRABA\",\"ALFACE\",\"INHAME\",\"OVOS\",\"TOMATE\",\"CEBOLA\",\"BATATA\",\"MARACUJA AZEDO\",\"ABACATE\",\"ABOBRINHA\",\"MANGA\",\"BERINJELA\",\"GOIABA\",\"MAMAO HAWAY\",\"MELAO AMARELO\",\"QUIABO\",\"BANANA NANICA\",\"BATATA DOCE\",\"BANANA PRATA\",\"PEPINO\",\"LARANJA PERA\",\"REPOLHO\",\"ABOBORA\",\"CHUCHU\",\"MELANCIA\",\"ABACAXI\",\"MAMAO FORMOSA\",\"MILHO VERDE\",\"COCO VERDE\",\"MANDIOCA\",\"LIMAO TAHITI\"],\"xaxis\":\"x\",\"y\":[54.52,26.1,23.19,15.23,14.32,13.39,12.25,11.92,11.1,10.61,9.38,8.0,7.9,7.83,7.65,7.3,7.08,6.91,6.72,6.65,6.26,5.76,5.73,5.71,5.34,5.13,5.04,4.92,4.84,4.38,4.27,4.19,3.95,3.92,3.73,3.72,3.68,3.63,3.61,3.41,3.05,2.82,2.7,2.34,1.88,1.61,1.54],\"yaxis\":\"y\",\"type\":\"bar\",\"textangle\":0,\"texttemplate\":\"%{text}\"},{\"alignmentgroup\":\"True\",\"hovertemplate\":\"UF=RN<br>Produto=%{x}<br>Pre\\u00e7o M\\u00e9dio=%{y}<br>Total_UF=%{text}<extra></extra>\",\"legendgroup\":\"RN\",\"marker\":{\"color\":\"#EF553B\",\"pattern\":{\"shape\":\"\"}},\"name\":\"RN\",\"offsetgroup\":\"RN\",\"orientation\":\"v\",\"showlegend\":true,\"text\":[\"44.54 (RN)\",\"26.58 (RN)\",\"25.87 (RN)\",\"25.19 (RN)\",\"18.67 (RN)\",\"14.81 (RN)\",\"12.56 (RN)\",\"12.06 (RN)\",\"11.7 (RN)\",\"10.21 (RN)\",\"9.87 (RN)\",\"9.5 (RN)\",\"9.28 (RN)\",\"8.11 (RN)\",\"7.05 (RN)\",\"6.89 (RN)\",\"6.88 (RN)\",\"6.8 (RN)\",\"6.64 (RN)\",\"6.61 (RN)\",\"5.85 (RN)\",\"5.55 (RN)\",\"5.2 (RN)\",\"4.83 (RN)\",\"4.65 (RN)\",\"4.62 (RN)\",\"4.16 (RN)\",\"3.92 (RN)\",\"3.91 (RN)\",\"3.88 (RN)\",\"3.82 (RN)\",\"3.72 (RN)\",\"3.61 (RN)\",\"3.51 (RN)\",\"3.5 (RN)\",\"3.45 (RN)\",\"3.38 (RN)\",\"3.36 (RN)\",\"3.24 (RN)\",\"3.18 (RN)\",\"3.13 (RN)\",\"2.62 (RN)\",\"2.48 (RN)\",\"2.13 (RN)\",\"1.92 (RN)\",\"1.9 (RN)\",\"1.75 (RN)\"],\"textposition\":\"inside\",\"x\":[\"MORANGO\",\"BROCOLO\",\"ALHO\",\"ALFACE\",\"MANDIOQUINHA\",\"COUVE\",\"UVA RUBI\",\"PERA IMPORTADA\",\"COUVE-FLOR\",\"VAGEM\",\"UVA ITALIA\",\"INHAME\",\"MACA\",\"QUIABO\",\"JILO\",\"CENOURA\",\"OVOS\",\"TANGERINA\",\"MARACUJA AZEDO\",\"CEBOLA\",\"BETERRABA\",\"BATATA\",\"TOMATE\",\"CHUCHU\",\"ABACATE\",\"CARA\",\"REPOLHO\",\"BERINJELA\",\"GOIABA\",\"MAMAO HAWAY\",\"PIMENTAO VERDE\",\"ABOBRINHA\",\"ABACAXI\",\"LARANJA PERA\",\"MILHO VERDE\",\"ABOBORA\",\"PEPINO\",\"BATATA DOCE\",\"MANGA\",\"BANANA PRATA\",\"BANANA NANICA\",\"MELAO AMARELO\",\"LIMAO TAHITI\",\"MANDIOCA\",\"MAMAO FORMOSA\",\"COCO VERDE\",\"MELANCIA\"],\"xaxis\":\"x\",\"y\":[44.54,26.58,25.87,25.19,18.67,14.81,12.56,12.06,11.7,10.21,9.87,9.5,9.28,8.11,7.05,6.89,6.88,6.8,6.64,6.61,5.85,5.55,5.2,4.83,4.65,4.62,4.16,3.92,3.91,3.88,3.82,3.72,3.61,3.51,3.5,3.45,3.38,3.36,3.24,3.18,3.13,2.62,2.48,2.13,1.92,1.9,1.75],\"yaxis\":\"y\",\"type\":\"bar\",\"textangle\":0,\"texttemplate\":\"%{text}\"},{\"alignmentgroup\":\"True\",\"hovertemplate\":\"UF=CE<br>Produto=%{x}<br>Pre\\u00e7o M\\u00e9dio=%{y}<br>Total_UF=%{text}<extra></extra>\",\"legendgroup\":\"CE\",\"marker\":{\"color\":\"#00cc96\",\"pattern\":{\"shape\":\"\"}},\"name\":\"CE\",\"offsetgroup\":\"CE\",\"orientation\":\"v\",\"showlegend\":true,\"text\":[\"42.17 (CE)\",\"28.52 (CE)\",\"24.11 (CE)\",\"23.15 (CE)\",\"21.56 (CE)\",\"16.3 (CE)\",\"15.28 (CE)\",\"9.57 (CE)\",\"9.41 (CE)\",\"8.78 (CE)\",\"8.76 (CE)\",\"8.22 (CE)\",\"8.04 (CE)\",\"7.39 (CE)\",\"7.04 (CE)\",\"6.84 (CE)\",\"6.55 (CE)\",\"6.14 (CE)\",\"5.96 (CE)\",\"5.92 (CE)\",\"5.9 (CE)\",\"5.64 (CE)\",\"5.59 (CE)\",\"4.83 (CE)\",\"4.73 (CE)\",\"4.53 (CE)\",\"4.44 (CE)\",\"4.37 (CE)\",\"3.95 (CE)\",\"3.54 (CE)\",\"3.53 (CE)\",\"3.42 (CE)\",\"3.41 (CE)\",\"3.37 (CE)\",\"3.21 (CE)\",\"3.09 (CE)\",\"2.79 (CE)\",\"2.79 (CE)\",\"2.78 (CE)\",\"2.71 (CE)\",\"2.43 (CE)\",\"2.29 (CE)\",\"2.15 (CE)\",\"2.05 (CE)\",\"1.73 (CE)\",\"1.7 (CE)\"],\"textposition\":\"inside\",\"x\":[\"MORANGO\",\"ALFACE\",\"ALHO\",\"BROCOLO\",\"MANDIOQUINHA\",\"CARA\",\"PERA IMPORTADA\",\"MACA\",\"UVA ITALIA\",\"TANGERINA\",\"CEBOLA\",\"QUIABO\",\"OVOS\",\"CENOURA\",\"MARACUJA AZEDO\",\"INHAME\",\"BATATA\",\"REPOLHO\",\"MAMAO HAWAY\",\"VAGEM\",\"BETERRABA\",\"PIMENTAO VERDE\",\"TOMATE\",\"ABACAXI\",\"GOIABA\",\"ABACATE\",\"ABOBORA\",\"BANANA PRATA\",\"MANGA\",\"BANANA NANICA\",\"MELAO AMARELO\",\"JILO\",\"LIMAO TAHITI\",\"LARANJA PERA\",\"CHUCHU\",\"ABOBRINHA\",\"MAMAO FORMOSA\",\"MILHO VERDE\",\"COUVE-FLOR\",\"BATATA DOCE\",\"BERINJELA\",\"MELANCIA\",\"MANDIOCA\",\"COUVE\",\"PEPINO\",\"COCO VERDE\"],\"xaxis\":\"x\",\"y\":[42.17,28.52,24.11,23.15,21.56,16.3,15.28,9.57,9.41,8.78,8.76,8.22,8.04,7.39,7.04,6.84,6.55,6.14,5.96,5.92,5.9,5.64,5.59,4.83,4.73,4.53,4.44,4.37,3.95,3.54,3.53,3.42,3.41,3.37,3.21,3.09,2.79,2.79,2.78,2.71,2.43,2.29,2.15,2.05,1.73,1.7],\"yaxis\":\"y\",\"type\":\"bar\",\"textangle\":0,\"texttemplate\":\"%{text}\"},{\"alignmentgroup\":\"True\",\"hovertemplate\":\"UF=PE<br>Produto=%{x}<br>Pre\\u00e7o M\\u00e9dio=%{y}<br>Total_UF=%{text}<extra></extra>\",\"legendgroup\":\"PE\",\"marker\":{\"color\":\"#ab63fa\",\"pattern\":{\"shape\":\"\"}},\"name\":\"PE\",\"offsetgroup\":\"PE\",\"orientation\":\"v\",\"showlegend\":true,\"text\":[\"40.72 (PE)\",\"22.73 (PE)\",\"22.57 (PE)\",\"10.19 (PE)\",\"10.16 (PE)\",\"8.75 (PE)\",\"8.16 (PE)\",\"7.5 (PE)\",\"7.44 (PE)\",\"7.11 (PE)\",\"6.89 (PE)\",\"6.7 (PE)\",\"6.55 (PE)\",\"5.85 (PE)\",\"5.59 (PE)\",\"5.42 (PE)\",\"5.42 (PE)\",\"5.32 (PE)\",\"5.11 (PE)\",\"4.6 (PE)\",\"4.51 (PE)\",\"4.46 (PE)\",\"4.34 (PE)\",\"4.15 (PE)\",\"4.12 (PE)\",\"3.84 (PE)\",\"3.73 (PE)\",\"3.62 (PE)\",\"3.21 (PE)\",\"3.13 (PE)\",\"3.11 (PE)\",\"3.08 (PE)\",\"3.01 (PE)\",\"2.78 (PE)\",\"2.64 (PE)\",\"2.51 (PE)\",\"2.45 (PE)\",\"2.11 (PE)\",\"2.02 (PE)\",\"1.88 (PE)\",\"1.73 (PE)\",\"1.66 (PE)\",\"1.57 (PE)\",\"1.45 (PE)\"],\"textposition\":\"inside\",\"x\":[\"MORANGO\",\"ALHO\",\"ALFACE\",\"PERA IMPORTADA\",\"INHAME\",\"MACA\",\"COUVE\",\"COUVE-FLOR\",\"BROCOLO\",\"VAGEM\",\"CENOURA\",\"QUIABO\",\"UVA ITALIA\",\"CEBOLA\",\"BATATA\",\"OVOS\",\"JILO\",\"MARACUJA AZEDO\",\"BETERRABA\",\"ABACATE\",\"ABOBORA\",\"CARA\",\"PIMENTAO VERDE\",\"ABACAXI\",\"TOMATE\",\"BATATA DOCE\",\"MAMAO HAWAY\",\"MANGA\",\"BERINJELA\",\"ABOBRINHA\",\"LARANJA PERA\",\"CHUCHU\",\"TANGERINA\",\"MELAO AMARELO\",\"MILHO VERDE\",\"REPOLHO\",\"GOIABA\",\"COCO VERDE\",\"BANANA PRATA\",\"MAMAO FORMOSA\",\"MELANCIA\",\"MANDIOCA\",\"LIMAO TAHITI\",\"PEPINO\"],\"xaxis\":\"x\",\"y\":[40.72,22.73,22.57,10.19,10.16,8.75,8.16,7.5,7.44,7.11,6.89,6.7,6.55,5.85,5.59,5.42,5.42,5.32,5.11,4.6,4.51,4.46,4.34,4.15,4.12,3.84,3.73,3.62,3.21,3.13,3.11,3.08,3.01,2.78,2.64,2.51,2.45,2.11,2.02,1.88,1.73,1.66,1.57,1.45],\"yaxis\":\"y\",\"type\":\"bar\",\"textangle\":0,\"texttemplate\":\"%{text}\"},{\"alignmentgroup\":\"True\",\"hovertemplate\":\"UF=BA<br>Produto=%{x}<br>Pre\\u00e7o M\\u00e9dio=%{y}<br>Total_UF=%{text}<extra></extra>\",\"legendgroup\":\"BA\",\"marker\":{\"color\":\"#FFA15A\",\"pattern\":{\"shape\":\"\"}},\"name\":\"BA\",\"offsetgroup\":\"BA\",\"orientation\":\"v\",\"showlegend\":true,\"text\":[\"39.43 (BA)\",\"23.81 (BA)\",\"14.46 (BA)\",\"11.1 (BA)\",\"9.36 (BA)\",\"9.22 (BA)\",\"8.81 (BA)\",\"8.4 (BA)\",\"6.7 (BA)\",\"6.36 (BA)\",\"6.34 (BA)\",\"6.29 (BA)\",\"6.07 (BA)\",\"5.81 (BA)\",\"5.74 (BA)\",\"5.43 (BA)\",\"5.17 (BA)\",\"5.11 (BA)\",\"5.07 (BA)\",\"4.9 (BA)\",\"4.82 (BA)\",\"4.63 (BA)\",\"4.58 (BA)\",\"4.32 (BA)\",\"3.96 (BA)\",\"3.95 (BA)\",\"3.9 (BA)\",\"3.89 (BA)\",\"3.83 (BA)\",\"3.66 (BA)\",\"3.59 (BA)\",\"3.54 (BA)\",\"3.48 (BA)\",\"3.38 (BA)\",\"3.14 (BA)\",\"3.0 (BA)\",\"2.99 (BA)\",\"2.82 (BA)\",\"2.7 (BA)\",\"2.25 (BA)\",\"2.01 (BA)\",\"1.88 (BA)\",\"1.79 (BA)\",\"1.77 (BA)\",\"1.52 (BA)\"],\"textposition\":\"inside\",\"x\":[\"MORANGO\",\"ALHO\",\"ALFACE\",\"PERA IMPORTADA\",\"INHAME\",\"VAGEM\",\"MACA\",\"UVA ITALIA\",\"OVOS\",\"COUVE-FLOR\",\"CARA\",\"TANGERINA\",\"MARACUJA AZEDO\",\"BROCOLO\",\"CEBOLA\",\"JILO\",\"CENOURA\",\"BATATA\",\"ABACAXI\",\"PIMENTAO VERDE\",\"BETERRABA\",\"CHUCHU\",\"QUIABO\",\"ABACATE\",\"GOIABA\",\"REPOLHO\",\"BANANA PRATA\",\"TOMATE\",\"ABOBORA\",\"BATATA DOCE\",\"COUVE\",\"MANGA\",\"BERINJELA\",\"MAMAO HAWAY\",\"PEPINO\",\"MELAO AMARELO\",\"ABOBRINHA\",\"LARANJA PERA\",\"MANDIOCA\",\"MILHO VERDE\",\"BANANA NANICA\",\"LIMAO TAHITI\",\"MAMAO FORMOSA\",\"COCO VERDE\",\"MELANCIA\"],\"xaxis\":\"x\",\"y\":[39.43,23.81,14.46,11.1,9.36,9.22,8.81,8.4,6.7,6.36,6.34,6.29,6.07,5.81,5.74,5.43,5.17,5.11,5.07,4.9,4.82,4.63,4.58,4.32,3.96,3.95,3.9,3.89,3.83,3.66,3.59,3.54,3.48,3.38,3.14,3.0,2.99,2.82,2.7,2.25,2.01,1.88,1.79,1.77,1.52],\"yaxis\":\"y\",\"type\":\"bar\",\"textangle\":0,\"texttemplate\":\"%{text}\"},{\"alignmentgroup\":\"True\",\"hovertemplate\":\"UF=MA<br>Produto=%{x}<br>Pre\\u00e7o M\\u00e9dio=%{y}<br>Total_UF=%{text}<extra></extra>\",\"legendgroup\":\"MA\",\"marker\":{\"color\":\"#19d3f3\",\"pattern\":{\"shape\":\"\"}},\"name\":\"MA\",\"offsetgroup\":\"MA\",\"orientation\":\"v\",\"showlegend\":true,\"text\":[\"38.66 (MA)\",\"34.46 (MA)\",\"30.8 (MA)\",\"25.89 (MA)\",\"24.77 (MA)\",\"22.06 (MA)\",\"16.2 (MA)\",\"15.66 (MA)\",\"15.0 (MA)\",\"14.47 (MA)\",\"14.44 (MA)\",\"13.52 (MA)\",\"13.45 (MA)\",\"12.97 (MA)\",\"12.64 (MA)\",\"12.3 (MA)\",\"11.44 (MA)\",\"11.29 (MA)\",\"10.58 (MA)\",\"10.52 (MA)\",\"10.51 (MA)\",\"9.82 (MA)\",\"9.55 (MA)\",\"9.41 (MA)\",\"8.8 (MA)\",\"8.36 (MA)\",\"8.15 (MA)\",\"8.15 (MA)\",\"7.48 (MA)\",\"7.47 (MA)\",\"7.3 (MA)\",\"7.15 (MA)\",\"7.07 (MA)\",\"6.62 (MA)\",\"5.99 (MA)\",\"5.79 (MA)\",\"5.77 (MA)\",\"5.62 (MA)\",\"5.59 (MA)\",\"5.43 (MA)\",\"5.37 (MA)\",\"5.14 (MA)\",\"5.04 (MA)\",\"4.23 (MA)\",\"3.8 (MA)\",\"3.7 (MA)\",\"3.62 (MA)\",\"3.12 (MA)\"],\"textposition\":\"inside\",\"x\":[\"MORANGO\",\"ALHO\",\"MANDIOQUINHA\",\"ALFACE\",\"BROCOLO\",\"UVA NIAGARA\",\"UVA ITALIA\",\"PERA IMPORTADA\",\"UVA RUBI\",\"QUIABO\",\"INHAME\",\"MACA\",\"CARA\",\"COUVE-FLOR\",\"VAGEM\",\"OVOS\",\"PIMENTAO VERDE\",\"MARACUJA AZEDO\",\"COUVE\",\"TANGERINA\",\"CENOURA\",\"GOIABA\",\"TOMATE\",\"CEBOLA\",\"BETERRABA\",\"BATATA\",\"ABACAXI\",\"MAMAO HAWAY\",\"REPOLHO\",\"JILO\",\"MANGA\",\"ABACATE\",\"BANANA PRATA\",\"ABOBORA\",\"MILHO VERDE\",\"CHUCHU\",\"BATATA DOCE\",\"BERINJELA\",\"MELAO AMARELO\",\"MAMAO FORMOSA\",\"ABOBRINHA\",\"MANDIOCA\",\"LARANJA PERA\",\"PEPINO\",\"LIMAO TAHITI\",\"MELANCIA\",\"BANANA NANICA\",\"COCO VERDE\"],\"xaxis\":\"x\",\"y\":[38.66,34.46,30.8,25.89,24.77,22.06,16.2,15.66,15.0,14.47,14.44,13.52,13.45,12.97,12.64,12.3,11.44,11.29,10.58,10.52,10.51,9.82,9.55,9.41,8.8,8.36,8.15,8.15,7.48,7.47,7.3,7.15,7.07,6.62,5.99,5.79,5.77,5.62,5.59,5.43,5.37,5.14,5.04,4.23,3.8,3.7,3.62,3.12],\"yaxis\":\"y\",\"type\":\"bar\",\"textangle\":0,\"texttemplate\":\"%{text}\"},{\"alignmentgroup\":\"True\",\"hovertemplate\":\"UF=MT<br>Produto=%{x}<br>Pre\\u00e7o M\\u00e9dio=%{y}<br>Total_UF=%{text}<extra></extra>\",\"legendgroup\":\"MT\",\"marker\":{\"color\":\"#FF6692\",\"pattern\":{\"shape\":\"\"}},\"name\":\"MT\",\"offsetgroup\":\"MT\",\"orientation\":\"v\",\"showlegend\":true,\"text\":[\"37.81 (MT)\",\"25.47 (MT)\",\"24.67 (MT)\",\"24.42 (MT)\",\"15.9 (MT)\",\"15.15 (MT)\",\"14.05 (MT)\",\"12.15 (MT)\",\"11.64 (MT)\",\"10.13 (MT)\",\"9.91 (MT)\",\"9.81 (MT)\",\"9.59 (MT)\",\"8.44 (MT)\",\"7.91 (MT)\",\"7.69 (MT)\",\"7.21 (MT)\",\"7.1 (MT)\",\"7.03 (MT)\",\"6.78 (MT)\",\"6.62 (MT)\",\"6.37 (MT)\",\"6.28 (MT)\",\"6.19 (MT)\",\"6.11 (MT)\",\"6.1 (MT)\",\"4.63 (MT)\",\"4.5 (MT)\",\"4.45 (MT)\",\"4.04 (MT)\",\"3.84 (MT)\",\"3.74 (MT)\",\"3.66 (MT)\",\"3.57 (MT)\",\"3.51 (MT)\",\"3.47 (MT)\",\"3.39 (MT)\",\"3.21 (MT)\",\"3.03 (MT)\",\"2.86 (MT)\",\"2.77 (MT)\",\"2.12 (MT)\"],\"textposition\":\"inside\",\"x\":[\"MORANGO\",\"BROCOLO\",\"ALHO\",\"ALFACE\",\"UVA RUBI\",\"UVA NIAGARA\",\"VAGEM\",\"MAMAO HAWAY\",\"COUVE\",\"MARACUJA AZEDO\",\"JILO\",\"COUVE-FLOR\",\"PIMENTAO VERDE\",\"MACA\",\"TOMATE\",\"QUIABO\",\"ABACAXI\",\"MANGA\",\"CENOURA\",\"BERINJELA\",\"CEBOLA\",\"BATATA\",\"MELAO AMARELO\",\"OVOS\",\"BETERRABA\",\"BANANA PRATA\",\"ABACATE\",\"TANGERINA\",\"ABOBRINHA\",\"PEPINO\",\"MANDIOCA\",\"BATATA DOCE\",\"ABOBORA\",\"MAMAO FORMOSA\",\"CHUCHU\",\"BANANA NANICA\",\"LARANJA PERA\",\"REPOLHO\",\"MILHO VERDE\",\"LIMAO TAHITI\",\"MELANCIA\",\"COCO VERDE\"],\"xaxis\":\"x\",\"y\":[37.81,25.47,24.67,24.42,15.9,15.15,14.05,12.15,11.64,10.13,9.91,9.81,9.59,8.44,7.91,7.69,7.21,7.1,7.03,6.78,6.62,6.37,6.28,6.19,6.11,6.1,4.63,4.5,4.45,4.04,3.84,3.74,3.66,3.57,3.51,3.47,3.39,3.21,3.03,2.86,2.77,2.12],\"yaxis\":\"y\",\"type\":\"bar\",\"textangle\":0,\"texttemplate\":\"%{text}\"},{\"alignmentgroup\":\"True\",\"hovertemplate\":\"UF=AL<br>Produto=%{x}<br>Pre\\u00e7o M\\u00e9dio=%{y}<br>Total_UF=%{text}<extra></extra>\",\"legendgroup\":\"AL\",\"marker\":{\"color\":\"#B6E880\",\"pattern\":{\"shape\":\"\"}},\"name\":\"AL\",\"offsetgroup\":\"AL\",\"orientation\":\"v\",\"showlegend\":true,\"text\":[\"37.54 (AL)\",\"24.06 (AL)\",\"19.44 (AL)\",\"11.42 (AL)\",\"9.88 (AL)\",\"9.45 (AL)\",\"8.5 (AL)\",\"8.09 (AL)\",\"7.84 (AL)\",\"7.7 (AL)\",\"7.46 (AL)\",\"7.46 (AL)\",\"7.41 (AL)\",\"7.17 (AL)\",\"6.48 (AL)\",\"6.41 (AL)\",\"6.16 (AL)\",\"5.92 (AL)\",\"5.57 (AL)\",\"5.44 (AL)\",\"5.11 (AL)\",\"4.91 (AL)\",\"4.84 (AL)\",\"4.81 (AL)\",\"4.7 (AL)\",\"4.67 (AL)\",\"4.63 (AL)\",\"4.47 (AL)\",\"3.94 (AL)\",\"3.94 (AL)\",\"3.82 (AL)\",\"3.78 (AL)\",\"3.76 (AL)\",\"3.45 (AL)\",\"3.4 (AL)\",\"3.01 (AL)\",\"2.95 (AL)\",\"2.79 (AL)\",\"2.59 (AL)\",\"2.45 (AL)\",\"2.41 (AL)\",\"2.41 (AL)\",\"2.23 (AL)\",\"2.16 (AL)\",\"2.04 (AL)\",\"1.98 (AL)\",\"1.69 (AL)\"],\"textposition\":\"inside\",\"x\":[\"MORANGO\",\"ALHO\",\"ALFACE\",\"PERA IMPORTADA\",\"BROCOLO\",\"MACA\",\"INHAME\",\"COUVE-FLOR\",\"COUVE\",\"UVA RUBI\",\"UVA NIAGARA\",\"UVA ITALIA\",\"VAGEM\",\"MARACUJA AZEDO\",\"OVOS\",\"QUIABO\",\"CENOURA\",\"JILO\",\"CEBOLA\",\"BATATA\",\"ABACAXI\",\"BETERRABA\",\"ABACATE\",\"TANGERINA\",\"CARA\",\"PIMENTAO VERDE\",\"TOMATE\",\"ABOBORA\",\"CHUCHU\",\"MAMAO HAWAY\",\"BERINJELA\",\"MANGA\",\"REPOLHO\",\"GOIABA\",\"BANANA NANICA\",\"ABOBRINHA\",\"MILHO VERDE\",\"MELAO AMARELO\",\"LARANJA PERA\",\"MAMAO FORMOSA\",\"BATATA DOCE\",\"BANANA PRATA\",\"MANDIOCA\",\"LIMAO TAHITI\",\"PEPINO\",\"COCO VERDE\",\"MELANCIA\"],\"xaxis\":\"x\",\"y\":[37.54,24.06,19.44,11.42,9.88,9.45,8.5,8.09,7.84,7.7,7.46,7.46,7.41,7.17,6.48,6.41,6.16,5.92,5.57,5.44,5.11,4.91,4.84,4.81,4.7,4.67,4.63,4.47,3.94,3.94,3.82,3.78,3.76,3.45,3.4,3.01,2.95,2.79,2.59,2.45,2.41,2.41,2.23,2.16,2.04,1.98,1.69],\"yaxis\":\"y\",\"type\":\"bar\",\"textangle\":0,\"texttemplate\":\"%{text}\"},{\"alignmentgroup\":\"True\",\"hovertemplate\":\"UF=PB<br>Produto=%{x}<br>Pre\\u00e7o M\\u00e9dio=%{y}<br>Total_UF=%{text}<extra></extra>\",\"legendgroup\":\"PB\",\"marker\":{\"color\":\"#FF97FF\",\"pattern\":{\"shape\":\"\"}},\"name\":\"PB\",\"offsetgroup\":\"PB\",\"orientation\":\"v\",\"showlegend\":true,\"text\":[\"37.42 (PB)\",\"24.05 (PB)\",\"18.65 (PB)\",\"16.66 (PB)\",\"16.37 (PB)\",\"10.63 (PB)\",\"10.19 (PB)\",\"9.89 (PB)\",\"9.51 (PB)\",\"9.37 (PB)\",\"8.98 (PB)\",\"8.96 (PB)\",\"7.94 (PB)\",\"6.22 (PB)\",\"6.21 (PB)\",\"5.87 (PB)\",\"5.79 (PB)\",\"5.62 (PB)\",\"5.36 (PB)\",\"5.21 (PB)\",\"5.05 (PB)\",\"4.85 (PB)\",\"4.83 (PB)\",\"4.55 (PB)\",\"4.55 (PB)\",\"4.21 (PB)\",\"4.01 (PB)\",\"4.0 (PB)\",\"3.95 (PB)\",\"3.81 (PB)\",\"3.37 (PB)\",\"3.32 (PB)\",\"3.31 (PB)\",\"3.1 (PB)\",\"3.08 (PB)\",\"2.94 (PB)\",\"2.89 (PB)\",\"2.84 (PB)\",\"2.83 (PB)\",\"2.73 (PB)\",\"2.53 (PB)\",\"2.28 (PB)\",\"2.25 (PB)\",\"1.85 (PB)\",\"1.82 (PB)\",\"1.78 (PB)\",\"1.56 (PB)\",\"1.07 (PB)\"],\"textposition\":\"inside\",\"x\":[\"MORANGO\",\"ALHO\",\"ALFACE\",\"BROCOLO\",\"MANDIOQUINHA\",\"INHAME\",\"UVA RUBI\",\"TANGERINA\",\"COUVE\",\"VAGEM\",\"PERA IMPORTADA\",\"MACA\",\"UVA ITALIA\",\"OVOS\",\"QUIABO\",\"CARA\",\"UVA NIAGARA\",\"JILO\",\"CENOURA\",\"COUVE-FLOR\",\"CHUCHU\",\"CEBOLA\",\"ABACATE\",\"BATATA\",\"MARACUJA AZEDO\",\"ABOBORA\",\"REPOLHO\",\"ABACAXI\",\"TOMATE\",\"BETERRABA\",\"ABOBRINHA\",\"MAMAO HAWAY\",\"BERINJELA\",\"PIMENTAO VERDE\",\"PEPINO\",\"LARANJA PERA\",\"GOIABA\",\"MANGA\",\"BATATA DOCE\",\"MELAO AMARELO\",\"LIMAO TAHITI\",\"MILHO VERDE\",\"MANDIOCA\",\"MAMAO FORMOSA\",\"BANANA NANICA\",\"BANANA PRATA\",\"MELANCIA\",\"COCO VERDE\"],\"xaxis\":\"x\",\"y\":[37.42,24.05,18.65,16.66,16.37,10.63,10.19,9.89,9.51,9.37,8.98,8.96,7.94,6.22,6.21,5.87,5.79,5.62,5.36,5.21,5.05,4.85,4.83,4.55,4.55,4.21,4.01,4.0,3.95,3.81,3.37,3.32,3.31,3.1,3.08,2.94,2.89,2.84,2.83,2.73,2.53,2.28,2.25,1.85,1.82,1.78,1.56,1.07],\"yaxis\":\"y\",\"type\":\"bar\",\"textangle\":0,\"texttemplate\":\"%{text}\"},{\"alignmentgroup\":\"True\",\"hovertemplate\":\"UF=PR<br>Produto=%{x}<br>Pre\\u00e7o M\\u00e9dio=%{y}<br>Total_UF=%{text}<extra></extra>\",\"legendgroup\":\"PR\",\"marker\":{\"color\":\"#FECB52\",\"pattern\":{\"shape\":\"\"}},\"name\":\"PR\",\"offsetgroup\":\"PR\",\"orientation\":\"v\",\"showlegend\":true,\"text\":[\"33.8 (PR)\",\"24.34 (PR)\",\"22.84 (PR)\",\"11.94 (PR)\",\"11.28 (PR)\",\"11.2 (PR)\",\"11.19 (PR)\",\"10.85 (PR)\",\"10.61 (PR)\",\"10.38 (PR)\",\"9.79 (PR)\",\"9.63 (PR)\",\"9.55 (PR)\",\"9.02 (PR)\",\"8.62 (PR)\",\"8.25 (PR)\",\"7.55 (PR)\",\"7.33 (PR)\",\"7.26 (PR)\",\"7.01 (PR)\",\"6.9 (PR)\",\"6.87 (PR)\",\"6.6 (PR)\",\"6.47 (PR)\",\"6.21 (PR)\",\"6.14 (PR)\",\"6.12 (PR)\",\"5.93 (PR)\",\"5.84 (PR)\",\"5.64 (PR)\",\"5.45 (PR)\",\"5.33 (PR)\",\"5.25 (PR)\",\"4.53 (PR)\",\"4.19 (PR)\",\"4.18 (PR)\",\"4.08 (PR)\",\"4.04 (PR)\",\"3.65 (PR)\",\"3.61 (PR)\",\"3.36 (PR)\",\"3.29 (PR)\",\"3.08 (PR)\",\"2.98 (PR)\",\"2.96 (PR)\",\"2.88 (PR)\",\"2.78 (PR)\",\"2.76 (PR)\"],\"textposition\":\"inside\",\"x\":[\"ALFACE\",\"ALHO\",\"MORANGO\",\"MARACUJA AZEDO\",\"MAMAO HAWAY\",\"UVA RUBI\",\"UVA ITALIA\",\"BROCOLO\",\"MANDIOQUINHA\",\"VAGEM\",\"ABACAXI\",\"MACA\",\"UVA NIAGARA\",\"PERA IMPORTADA\",\"JILO\",\"CARA\",\"COUVE\",\"OVOS\",\"QUIABO\",\"COUVE-FLOR\",\"MANGA\",\"INHAME\",\"TOMATE\",\"BATATA\",\"PIMENTAO VERDE\",\"MELAO AMARELO\",\"BANANA PRATA\",\"MAMAO FORMOSA\",\"BETERRABA\",\"CEBOLA\",\"CENOURA\",\"MILHO VERDE\",\"GOIABA\",\"COCO VERDE\",\"TANGERINA\",\"CHUCHU\",\"BERINJELA\",\"ABACATE\",\"MANDIOCA\",\"LARANJA PERA\",\"PEPINO\",\"ABOBRINHA\",\"BANANA NANICA\",\"ABOBORA\",\"BATATA DOCE\",\"REPOLHO\",\"LIMAO TAHITI\",\"MELANCIA\"],\"xaxis\":\"x\",\"y\":[33.8,24.34,22.84,11.94,11.28,11.2,11.19,10.85,10.61,10.38,9.79,9.63,9.55,9.02,8.62,8.25,7.55,7.33,7.26,7.01,6.9,6.87,6.6,6.47,6.21,6.14,6.12,5.93,5.84,5.64,5.45,5.33,5.25,4.53,4.19,4.18,4.08,4.04,3.65,3.61,3.36,3.29,3.08,2.98,2.96,2.88,2.78,2.76],\"yaxis\":\"y\",\"type\":\"bar\",\"textangle\":0,\"texttemplate\":\"%{text}\"},{\"alignmentgroup\":\"True\",\"hovertemplate\":\"UF=MG<br>Produto=%{x}<br>Pre\\u00e7o M\\u00e9dio=%{y}<br>Total_UF=%{text}<extra></extra>\",\"legendgroup\":\"MG\",\"marker\":{\"color\":\"#636efa\",\"pattern\":{\"shape\":\"\"}},\"name\":\"MG\",\"offsetgroup\":\"MG\",\"orientation\":\"v\",\"showlegend\":true,\"text\":[\"30.89 (MG)\",\"22.51 (MG)\",\"21.32 (MG)\",\"18.44 (MG)\",\"13.93 (MG)\",\"13.41 (MG)\",\"12.44 (MG)\",\"10.3 (MG)\",\"9.24 (MG)\",\"9.18 (MG)\",\"8.52 (MG)\",\"7.22 (MG)\",\"6.96 (MG)\",\"6.8 (MG)\",\"6.51 (MG)\",\"6.4 (MG)\",\"6.16 (MG)\",\"6.09 (MG)\",\"6.02 (MG)\",\"5.86 (MG)\",\"5.81 (MG)\",\"5.79 (MG)\",\"5.77 (MG)\",\"5.5 (MG)\",\"5.48 (MG)\",\"5.46 (MG)\",\"5.33 (MG)\",\"5.3 (MG)\",\"5.3 (MG)\",\"5.19 (MG)\",\"4.62 (MG)\",\"4.1 (MG)\",\"3.9 (MG)\",\"3.78 (MG)\",\"3.75 (MG)\",\"3.73 (MG)\",\"3.43 (MG)\",\"3.38 (MG)\",\"3.35 (MG)\",\"3.23 (MG)\",\"3.01 (MG)\",\"2.8 (MG)\",\"2.61 (MG)\",\"2.57 (MG)\",\"2.48 (MG)\",\"2.4 (MG)\",\"2.25 (MG)\",\"2.07 (MG)\"],\"textposition\":\"inside\",\"x\":[\"ALFACE\",\"ALHO\",\"MORANGO\",\"COUVE\",\"UVA ITALIA\",\"UVA RUBI\",\"UVA NIAGARA\",\"VAGEM\",\"MACA\",\"MANDIOQUINHA\",\"PERA IMPORTADA\",\"ABACAXI\",\"MAMAO HAWAY\",\"MARACUJA AZEDO\",\"COUVE-FLOR\",\"GOIABA\",\"PIMENTAO VERDE\",\"BROCOLO\",\"MANGA\",\"OVOS\",\"CENOURA\",\"BANANA PRATA\",\"BATATA\",\"TOMATE\",\"MELAO AMARELO\",\"BETERRABA\",\"TANGERINA\",\"CARA\",\"CEBOLA\",\"QUIABO\",\"INHAME\",\"JILO\",\"ABOBRINHA\",\"COCO VERDE\",\"CHUCHU\",\"MAMAO FORMOSA\",\"LARANJA PERA\",\"BATATA DOCE\",\"ABACATE\",\"PEPINO\",\"BANANA NANICA\",\"MELANCIA\",\"ABOBORA\",\"LIMAO TAHITI\",\"BERINJELA\",\"MANDIOCA\",\"REPOLHO\",\"MILHO VERDE\"],\"xaxis\":\"x\",\"y\":[30.89,22.51,21.32,18.44,13.93,13.41,12.44,10.3,9.24,9.18,8.52,7.22,6.96,6.8,6.51,6.4,6.16,6.09,6.02,5.86,5.81,5.79,5.77,5.5,5.48,5.46,5.33,5.3,5.3,5.19,4.62,4.1,3.9,3.78,3.75,3.73,3.43,3.38,3.35,3.23,3.01,2.8,2.61,2.57,2.48,2.4,2.25,2.07],\"yaxis\":\"y\",\"type\":\"bar\",\"textangle\":0,\"texttemplate\":\"%{text}\"},{\"alignmentgroup\":\"True\",\"hovertemplate\":\"UF=DF<br>Produto=%{x}<br>Pre\\u00e7o M\\u00e9dio=%{y}<br>Total_UF=%{text}<extra></extra>\",\"legendgroup\":\"DF\",\"marker\":{\"color\":\"#EF553B\",\"pattern\":{\"shape\":\"\"}},\"name\":\"DF\",\"offsetgroup\":\"DF\",\"orientation\":\"v\",\"showlegend\":true,\"text\":[\"28.95 (DF)\",\"23.65 (DF)\",\"16.04 (DF)\",\"15.3 (DF)\",\"15.23 (DF)\",\"12.37 (DF)\",\"10.48 (DF)\",\"10.23 (DF)\",\"9.57 (DF)\",\"9.48 (DF)\",\"8.84 (DF)\",\"8.74 (DF)\",\"8.64 (DF)\",\"8.46 (DF)\",\"8.34 (DF)\",\"8.33 (DF)\",\"8.15 (DF)\",\"8.08 (DF)\",\"8.03 (DF)\",\"7.84 (DF)\",\"7.75 (DF)\",\"7.34 (DF)\",\"7.29 (DF)\",\"6.76 (DF)\",\"6.73 (DF)\",\"6.45 (DF)\",\"6.16 (DF)\",\"6.02 (DF)\",\"5.94 (DF)\",\"5.92 (DF)\",\"5.82 (DF)\",\"5.8 (DF)\",\"5.77 (DF)\",\"5.65 (DF)\",\"5.44 (DF)\",\"5.12 (DF)\",\"4.81 (DF)\",\"4.29 (DF)\",\"4.17 (DF)\",\"4.16 (DF)\",\"4.15 (DF)\",\"3.96 (DF)\",\"3.92 (DF)\",\"3.55 (DF)\",\"3.43 (DF)\",\"3.18 (DF)\",\"3.09 (DF)\",\"2.98 (DF)\"],\"textposition\":\"inside\",\"x\":[\"MORANGO\",\"ALHO\",\"VAGEM\",\"UVA RUBI\",\"UVA ITALIA\",\"UVA NIAGARA\",\"MARACUJA AZEDO\",\"ALFACE\",\"MACA\",\"PERA IMPORTADA\",\"QUIABO\",\"CARA\",\"TOMATE\",\"MANDIOQUINHA\",\"PIMENTAO VERDE\",\"OVOS\",\"INHAME\",\"COUVE-FLOR\",\"COUVE\",\"BETERRABA\",\"BANANA PRATA\",\"MAMAO HAWAY\",\"BROCOLO\",\"CENOURA\",\"BATATA\",\"CEBOLA\",\"MAMAO FORMOSA\",\"CHUCHU\",\"JILO\",\"ABACAXI\",\"MELAO AMARELO\",\"GOIABA\",\"MILHO VERDE\",\"ABOBRINHA\",\"MANGA\",\"ABACATE\",\"BANANA NANICA\",\"PEPINO\",\"BATATA DOCE\",\"REPOLHO\",\"MELANCIA\",\"TANGERINA\",\"BERINJELA\",\"LARANJA PERA\",\"ABOBORA\",\"COCO VERDE\",\"LIMAO TAHITI\",\"MANDIOCA\"],\"xaxis\":\"x\",\"y\":[28.95,23.65,16.04,15.3,15.23,12.37,10.48,10.23,9.57,9.48,8.84,8.74,8.64,8.46,8.34,8.33,8.15,8.08,8.03,7.84,7.75,7.34,7.29,6.76,6.73,6.45,6.16,6.02,5.94,5.92,5.82,5.8,5.77,5.65,5.44,5.12,4.81,4.29,4.17,4.16,4.15,3.96,3.92,3.55,3.43,3.18,3.09,2.98],\"yaxis\":\"y\",\"type\":\"bar\",\"textangle\":0,\"texttemplate\":\"%{text}\"},{\"alignmentgroup\":\"True\",\"hovertemplate\":\"UF=SP<br>Produto=%{x}<br>Pre\\u00e7o M\\u00e9dio=%{y}<br>Total_UF=%{text}<extra></extra>\",\"legendgroup\":\"SP\",\"marker\":{\"color\":\"#00cc96\",\"pattern\":{\"shape\":\"\"}},\"name\":\"SP\",\"offsetgroup\":\"SP\",\"orientation\":\"v\",\"showlegend\":true,\"text\":[\"27.55 (SP)\",\"24.75 (SP)\",\"21.11 (SP)\",\"12.67 (SP)\",\"12.56 (SP)\",\"11.85 (SP)\",\"11.35 (SP)\",\"11.21 (SP)\",\"9.88 (SP)\",\"9.61 (SP)\",\"8.88 (SP)\",\"8.42 (SP)\",\"7.43 (SP)\",\"7.15 (SP)\",\"7.14 (SP)\",\"7.08 (SP)\",\"6.96 (SP)\",\"6.72 (SP)\",\"6.57 (SP)\",\"6.46 (SP)\",\"6.15 (SP)\",\"5.86 (SP)\",\"5.84 (SP)\",\"5.72 (SP)\",\"5.7 (SP)\",\"5.62 (SP)\",\"5.62 (SP)\",\"5.59 (SP)\",\"5.24 (SP)\",\"5.04 (SP)\",\"4.86 (SP)\",\"4.58 (SP)\",\"4.38 (SP)\",\"4.25 (SP)\",\"3.94 (SP)\",\"3.78 (SP)\",\"3.68 (SP)\",\"3.56 (SP)\",\"3.46 (SP)\",\"3.24 (SP)\",\"3.24 (SP)\",\"3.22 (SP)\",\"2.92 (SP)\",\"2.85 (SP)\",\"2.79 (SP)\",\"2.68 (SP)\",\"2.32 (SP)\",\"2.21 (SP)\"],\"textposition\":\"inside\",\"x\":[\"ALFACE\",\"ALHO\",\"MORANGO\",\"UVA ITALIA\",\"UVA RUBI\",\"VAGEM\",\"UVA NIAGARA\",\"PERA IMPORTADA\",\"MANDIOQUINHA\",\"MARACUJA AZEDO\",\"MACA\",\"MAMAO HAWAY\",\"ABACAXI\",\"INHAME\",\"OVOS\",\"CARA\",\"COUVE-FLOR\",\"BROCOLO\",\"MANGA\",\"QUIABO\",\"BANANA PRATA\",\"PIMENTAO VERDE\",\"CENOURA\",\"CEBOLA\",\"BATATA\",\"GOIABA\",\"TOMATE\",\"MELAO AMARELO\",\"JILO\",\"BETERRABA\",\"MAMAO FORMOSA\",\"COUVE\",\"TANGERINA\",\"COCO VERDE\",\"MILHO VERDE\",\"BANANA NANICA\",\"CHUCHU\",\"ABOBRINHA\",\"LARANJA PERA\",\"ABOBORA\",\"BATATA DOCE\",\"ABACATE\",\"PEPINO\",\"REPOLHO\",\"MELANCIA\",\"BERINJELA\",\"MANDIOCA\",\"LIMAO TAHITI\"],\"xaxis\":\"x\",\"y\":[27.55,24.75,21.11,12.67,12.56,11.85,11.35,11.21,9.88,9.61,8.88,8.42,7.43,7.15,7.14,7.08,6.96,6.72,6.57,6.46,6.15,5.86,5.84,5.72,5.7,5.62,5.62,5.59,5.24,5.04,4.86,4.58,4.38,4.25,3.94,3.78,3.68,3.56,3.46,3.24,3.24,3.22,2.92,2.85,2.79,2.68,2.32,2.21],\"yaxis\":\"y\",\"type\":\"bar\",\"textangle\":0,\"texttemplate\":\"%{text}\"},{\"alignmentgroup\":\"True\",\"hovertemplate\":\"UF=MS<br>Produto=%{x}<br>Pre\\u00e7o M\\u00e9dio=%{y}<br>Total_UF=%{text}<extra></extra>\",\"legendgroup\":\"MS\",\"marker\":{\"color\":\"#ab63fa\",\"pattern\":{\"shape\":\"\"}},\"name\":\"MS\",\"offsetgroup\":\"MS\",\"orientation\":\"v\",\"showlegend\":true,\"text\":[\"27.39 (MS)\",\"27.33 (MS)\",\"12.5 (MS)\",\"12.33 (MS)\",\"12.08 (MS)\",\"10.15 (MS)\",\"10.11 (MS)\",\"9.59 (MS)\",\"9.45 (MS)\",\"8.28 (MS)\",\"8.15 (MS)\",\"8.13 (MS)\",\"7.99 (MS)\",\"7.83 (MS)\",\"7.73 (MS)\",\"7.67 (MS)\",\"7.5 (MS)\",\"7.37 (MS)\",\"7.0 (MS)\",\"6.9 (MS)\",\"6.58 (MS)\",\"6.43 (MS)\",\"6.4 (MS)\",\"6.33 (MS)\",\"6.17 (MS)\",\"6.0 (MS)\",\"5.94 (MS)\",\"5.75 (MS)\",\"5.6 (MS)\",\"5.42 (MS)\",\"5.29 (MS)\",\"4.93 (MS)\",\"4.04 (MS)\",\"4.0 (MS)\",\"3.95 (MS)\",\"3.46 (MS)\",\"3.33 (MS)\",\"3.33 (MS)\",\"3.26 (MS)\",\"3.25 (MS)\",\"2.96 (MS)\",\"2.9 (MS)\",\"2.9 (MS)\",\"2.37 (MS)\",\"2.28 (MS)\",\"2.17 (MS)\",\"2.0 (MS)\",\"2.0 (MS)\"],\"textposition\":\"inside\",\"x\":[\"MORANGO\",\"ALHO\",\"MANDIOQUINHA\",\"VAGEM\",\"MAMAO HAWAY\",\"MANGA\",\"UVA NIAGARA\",\"MACA\",\"QUIABO\",\"JILO\",\"ALFACE\",\"UVA ITALIA\",\"ABACAXI\",\"PERA IMPORTADA\",\"MARACUJA AZEDO\",\"BANANA PRATA\",\"UVA RUBI\",\"BATATA\",\"ABOBORA\",\"OVOS\",\"ABOBRINHA\",\"TOMATE\",\"MELAO AMARELO\",\"COUVE-FLOR\",\"CARA\",\"GOIABA\",\"PIMENTAO VERDE\",\"INHAME\",\"BETERRABA\",\"COCO VERDE\",\"CEBOLA\",\"CENOURA\",\"CHUCHU\",\"ABACATE\",\"BERINJELA\",\"MAMAO FORMOSA\",\"BROCOLO\",\"MILHO VERDE\",\"BANANA NANICA\",\"REPOLHO\",\"PEPINO\",\"LARANJA PERA\",\"TANGERINA\",\"BATATA DOCE\",\"MELANCIA\",\"LIMAO TAHITI\",\"MANDIOCA\",\"COUVE\"],\"xaxis\":\"x\",\"y\":[27.39,27.33,12.5,12.33,12.08,10.15,10.11,9.59,9.45,8.28,8.15,8.13,7.99,7.83,7.73,7.67,7.5,7.37,7.0,6.9,6.58,6.43,6.4,6.33,6.17,6.0,5.94,5.75,5.6,5.42,5.29,4.93,4.04,4.0,3.95,3.46,3.33,3.33,3.26,3.25,2.96,2.9,2.9,2.37,2.28,2.17,2.0,2.0],\"yaxis\":\"y\",\"type\":\"bar\",\"textangle\":0,\"texttemplate\":\"%{text}\"},{\"alignmentgroup\":\"True\",\"hovertemplate\":\"UF=RS<br>Produto=%{x}<br>Pre\\u00e7o M\\u00e9dio=%{y}<br>Total_UF=%{text}<extra></extra>\",\"legendgroup\":\"RS\",\"marker\":{\"color\":\"#FFA15A\",\"pattern\":{\"shape\":\"\"}},\"name\":\"RS\",\"offsetgroup\":\"RS\",\"orientation\":\"v\",\"showlegend\":true,\"text\":[\"24.91 (RS)\",\"18.28 (RS)\",\"17.68 (RS)\",\"16.87 (RS)\",\"15.75 (RS)\",\"13.97 (RS)\",\"13.97 (RS)\",\"12.79 (RS)\",\"12.04 (RS)\",\"11.33 (RS)\",\"10.9 (RS)\",\"10.73 (RS)\",\"10.04 (RS)\",\"9.89 (RS)\",\"8.91 (RS)\",\"8.16 (RS)\",\"7.09 (RS)\",\"7.02 (RS)\",\"6.97 (RS)\",\"6.89 (RS)\",\"6.81 (RS)\",\"6.47 (RS)\",\"6.44 (RS)\",\"6.26 (RS)\",\"6.06 (RS)\",\"5.89 (RS)\",\"5.85 (RS)\",\"5.73 (RS)\",\"5.49 (RS)\",\"5.38 (RS)\",\"5.16 (RS)\",\"5.06 (RS)\",\"4.75 (RS)\",\"4.55 (RS)\",\"4.17 (RS)\",\"4.0 (RS)\",\"3.82 (RS)\",\"3.69 (RS)\",\"3.56 (RS)\",\"3.43 (RS)\",\"3.42 (RS)\",\"3.35 (RS)\",\"3.34 (RS)\",\"3.23 (RS)\",\"3.2 (RS)\",\"3.0 (RS)\",\"2.74 (RS)\",\"2.41 (RS)\"],\"textposition\":\"inside\",\"x\":[\"ALHO\",\"ALFACE\",\"MORANGO\",\"MANDIOQUINHA\",\"QUIABO\",\"UVA RUBI\",\"UVA ITALIA\",\"JILO\",\"COUVE\",\"INHAME\",\"CARA\",\"MAMAO HAWAY\",\"MARACUJA AZEDO\",\"VAGEM\",\"PERA IMPORTADA\",\"ABACAXI\",\"BROCOLO\",\"GOIABA\",\"OVOS\",\"UVA NIAGARA\",\"MANGA\",\"MACA\",\"TOMATE\",\"MELAO AMARELO\",\"PIMENTAO VERDE\",\"BATATA\",\"CENOURA\",\"MAMAO FORMOSA\",\"COCO VERDE\",\"BETERRABA\",\"COUVE-FLOR\",\"CEBOLA\",\"BANANA PRATA\",\"BERINJELA\",\"ABACATE\",\"REPOLHO\",\"ABOBRINHA\",\"MILHO VERDE\",\"LARANJA PERA\",\"CHUCHU\",\"PEPINO\",\"BATATA DOCE\",\"ABOBORA\",\"BANANA NANICA\",\"TANGERINA\",\"LIMAO TAHITI\",\"MANDIOCA\",\"MELANCIA\"],\"xaxis\":\"x\",\"y\":[24.91,18.28,17.68,16.87,15.75,13.97,13.97,12.79,12.04,11.33,10.9,10.73,10.04,9.89,8.91,8.16,7.09,7.02,6.97,6.89,6.81,6.47,6.44,6.26,6.06,5.89,5.85,5.73,5.49,5.38,5.16,5.06,4.75,4.55,4.17,4.0,3.82,3.69,3.56,3.43,3.42,3.35,3.34,3.23,3.2,3.0,2.74,2.41],\"yaxis\":\"y\",\"type\":\"bar\",\"textangle\":0,\"texttemplate\":\"%{text}\"},{\"alignmentgroup\":\"True\",\"hovertemplate\":\"UF=SC<br>Produto=%{x}<br>Pre\\u00e7o M\\u00e9dio=%{y}<br>Total_UF=%{text}<extra></extra>\",\"legendgroup\":\"SC\",\"marker\":{\"color\":\"#19d3f3\",\"pattern\":{\"shape\":\"\"}},\"name\":\"SC\",\"offsetgroup\":\"SC\",\"orientation\":\"v\",\"showlegend\":true,\"text\":[\"24.0 (SC)\",\"21.13 (SC)\",\"20.75 (SC)\",\"12.44 (SC)\",\"11.42 (SC)\",\"10.93 (SC)\",\"9.41 (SC)\",\"9.25 (SC)\",\"9.0 (SC)\",\"8.09 (SC)\",\"7.75 (SC)\",\"7.58 (SC)\",\"7.22 (SC)\",\"7.0 (SC)\",\"6.81 (SC)\",\"6.69 (SC)\",\"6.63 (SC)\",\"6.53 (SC)\",\"6.0 (SC)\",\"5.95 (SC)\",\"5.73 (SC)\",\"5.62 (SC)\",\"5.52 (SC)\",\"5.5 (SC)\",\"5.16 (SC)\",\"5.08 (SC)\",\"5.03 (SC)\",\"4.87 (SC)\",\"4.81 (SC)\",\"4.41 (SC)\",\"4.3 (SC)\",\"4.21 (SC)\",\"4.17 (SC)\",\"4.0 (SC)\",\"3.92 (SC)\",\"3.89 (SC)\",\"3.26 (SC)\",\"3.22 (SC)\",\"3.13 (SC)\",\"2.98 (SC)\",\"2.97 (SC)\",\"2.69 (SC)\",\"2.66 (SC)\",\"2.55 (SC)\",\"2.35 (SC)\",\"2.0 (SC)\",\"1.95 (SC)\",\"1.74 (SC)\"],\"textposition\":\"inside\",\"x\":[\"ALFACE\",\"ALHO\",\"MORANGO\",\"PERA IMPORTADA\",\"UVA ITALIA\",\"UVA RUBI\",\"MAMAO HAWAY\",\"MARACUJA AZEDO\",\"ABACAXI\",\"UVA NIAGARA\",\"VAGEM\",\"OVOS\",\"MACA\",\"CARA\",\"QUIABO\",\"INHAME\",\"JILO\",\"MANGA\",\"TOMATE\",\"COUVE\",\"GOIABA\",\"MELAO AMARELO\",\"CENOURA\",\"COUVE-FLOR\",\"MAMAO FORMOSA\",\"CEBOLA\",\"BATATA\",\"BETERRABA\",\"PIMENTAO VERDE\",\"MANDIOQUINHA\",\"COCO VERDE\",\"ABACATE\",\"BANANA PRATA\",\"BROCOLO\",\"TANGERINA\",\"LARANJA PERA\",\"ABOBRINHA\",\"BERINJELA\",\"CHUCHU\",\"BANANA NANICA\",\"LIMAO TAHITI\",\"MANDIOCA\",\"BATATA DOCE\",\"PEPINO\",\"MELANCIA\",\"MILHO VERDE\",\"ABOBORA\",\"REPOLHO\"],\"xaxis\":\"x\",\"y\":[24.0,21.13,20.75,12.44,11.42,10.93,9.41,9.25,9.0,8.09,7.75,7.58,7.22,7.0,6.81,6.69,6.63,6.53,6.0,5.95,5.73,5.62,5.52,5.5,5.16,5.08,5.03,4.87,4.81,4.41,4.3,4.21,4.17,4.0,3.92,3.89,3.26,3.22,3.13,2.98,2.97,2.69,2.66,2.55,2.35,2.0,1.95,1.74],\"yaxis\":\"y\",\"type\":\"bar\",\"textangle\":0,\"texttemplate\":\"%{text}\"},{\"alignmentgroup\":\"True\",\"hovertemplate\":\"UF=ES<br>Produto=%{x}<br>Pre\\u00e7o M\\u00e9dio=%{y}<br>Total_UF=%{text}<extra></extra>\",\"legendgroup\":\"ES\",\"marker\":{\"color\":\"#FF6692\",\"pattern\":{\"shape\":\"\"}},\"name\":\"ES\",\"offsetgroup\":\"ES\",\"orientation\":\"v\",\"showlegend\":true,\"text\":[\"22.04 (ES)\",\"20.1 (ES)\",\"16.04 (ES)\",\"14.21 (ES)\",\"12.9 (ES)\",\"10.72 (ES)\",\"8.91 (ES)\",\"8.4 (ES)\",\"8.29 (ES)\",\"8.15 (ES)\",\"7.55 (ES)\",\"7.4 (ES)\",\"6.56 (ES)\",\"6.4 (ES)\",\"6.27 (ES)\",\"6.26 (ES)\",\"6.19 (ES)\",\"6.16 (ES)\",\"6.11 (ES)\",\"6.02 (ES)\",\"5.88 (ES)\",\"5.85 (ES)\",\"5.64 (ES)\",\"5.42 (ES)\",\"5.41 (ES)\",\"4.92 (ES)\",\"4.81 (ES)\",\"4.77 (ES)\",\"4.56 (ES)\",\"4.03 (ES)\",\"3.91 (ES)\",\"3.89 (ES)\",\"3.57 (ES)\",\"3.44 (ES)\",\"3.35 (ES)\",\"3.04 (ES)\",\"2.94 (ES)\",\"2.81 (ES)\",\"2.81 (ES)\",\"2.62 (ES)\",\"2.61 (ES)\",\"2.58 (ES)\",\"2.49 (ES)\",\"2.46 (ES)\",\"2.39 (ES)\",\"2.13 (ES)\",\"2.02 (ES)\"],\"textposition\":\"inside\",\"x\":[\"ALHO\",\"ALFACE\",\"MORANGO\",\"UVA NIAGARA\",\"UVA ITALIA\",\"PERA IMPORTADA\",\"MACA\",\"MARACUJA AZEDO\",\"MANDIOQUINHA\",\"BROCOLO\",\"CENOURA\",\"MELAO AMARELO\",\"ABACAXI\",\"COUVE\",\"MANGA\",\"PIMENTAO VERDE\",\"BETERRABA\",\"BANANA PRATA\",\"BATATA\",\"TOMATE\",\"MAMAO HAWAY\",\"CEBOLA\",\"TANGERINA\",\"OVOS\",\"VAGEM\",\"QUIABO\",\"MAMAO FORMOSA\",\"CARA\",\"COUVE-FLOR\",\"GOIABA\",\"ABOBORA\",\"JILO\",\"BANANA NANICA\",\"INHAME\",\"COCO VERDE\",\"LARANJA PERA\",\"ABOBRINHA\",\"REPOLHO\",\"LIMAO TAHITI\",\"BATATA DOCE\",\"MELANCIA\",\"PEPINO\",\"BERINJELA\",\"MILHO VERDE\",\"ABACATE\",\"CHUCHU\",\"MANDIOCA\"],\"xaxis\":\"x\",\"y\":[22.04,20.1,16.04,14.21,12.9,10.72,8.91,8.4,8.29,8.15,7.55,7.4,6.56,6.4,6.27,6.26,6.19,6.16,6.11,6.02,5.88,5.85,5.64,5.42,5.41,4.92,4.81,4.77,4.56,4.03,3.91,3.89,3.57,3.44,3.35,3.04,2.94,2.81,2.81,2.62,2.61,2.58,2.49,2.46,2.39,2.13,2.02],\"yaxis\":\"y\",\"type\":\"bar\",\"textangle\":0,\"texttemplate\":\"%{text}\"},{\"alignmentgroup\":\"True\",\"hovertemplate\":\"UF=GO<br>Produto=%{x}<br>Pre\\u00e7o M\\u00e9dio=%{y}<br>Total_UF=%{text}<extra></extra>\",\"legendgroup\":\"GO\",\"marker\":{\"color\":\"#B6E880\",\"pattern\":{\"shape\":\"\"}},\"name\":\"GO\",\"offsetgroup\":\"GO\",\"orientation\":\"v\",\"showlegend\":true,\"text\":[\"21.85 (GO)\",\"18.16 (GO)\",\"16.91 (GO)\",\"16.03 (GO)\",\"14.28 (GO)\",\"13.5 (GO)\",\"11.81 (GO)\",\"10.21 (GO)\",\"8.83 (GO)\",\"7.96 (GO)\",\"7.9 (GO)\",\"7.45 (GO)\",\"7.33 (GO)\",\"7.29 (GO)\",\"7.24 (GO)\",\"7.21 (GO)\",\"6.68 (GO)\",\"6.3 (GO)\",\"6.04 (GO)\",\"5.83 (GO)\",\"5.72 (GO)\",\"5.68 (GO)\",\"5.13 (GO)\",\"5.11 (GO)\",\"4.82 (GO)\",\"4.65 (GO)\",\"4.48 (GO)\",\"4.4 (GO)\",\"4.06 (GO)\",\"4.0 (GO)\",\"3.89 (GO)\",\"3.75 (GO)\",\"3.75 (GO)\",\"3.74 (GO)\",\"3.67 (GO)\",\"3.6 (GO)\",\"3.56 (GO)\",\"3.04 (GO)\",\"3.0 (GO)\",\"2.79 (GO)\",\"2.77 (GO)\",\"2.6 (GO)\",\"2.58 (GO)\",\"2.54 (GO)\",\"2.51 (GO)\",\"2.5 (GO)\",\"1.71 (GO)\",\"1.4 (GO)\"],\"textposition\":\"inside\",\"x\":[\"ALHO\",\"MORANGO\",\"VAGEM\",\"UVA ITALIA\",\"MANGA\",\"MAMAO HAWAY\",\"UVA NIAGARA\",\"UVA RUBI\",\"COUVE\",\"BROCOLO\",\"OVOS\",\"PIMENTAO VERDE\",\"JILO\",\"MARACUJA AZEDO\",\"ALFACE\",\"QUIABO\",\"TOMATE\",\"CEBOLA\",\"CENOURA\",\"MACA\",\"COUVE-FLOR\",\"BETERRABA\",\"BANANA PRATA\",\"PEPINO\",\"CARA\",\"ABACAXI\",\"INHAME\",\"MELAO AMARELO\",\"CHUCHU\",\"GOIABA\",\"ABOBRINHA\",\"MAMAO FORMOSA\",\"PERA IMPORTADA\",\"BERINJELA\",\"BANANA NANICA\",\"ABOBORA\",\"TANGERINA\",\"LARANJA PERA\",\"ABACATE\",\"BATATA\",\"MELANCIA\",\"COCO VERDE\",\"BATATA DOCE\",\"REPOLHO\",\"LIMAO TAHITI\",\"MILHO VERDE\",\"MANDIOCA\",\"MANDIOQUINHA\"],\"xaxis\":\"x\",\"y\":[21.85,18.16,16.91,16.03,14.28,13.5,11.81,10.21,8.83,7.96,7.9,7.45,7.33,7.29,7.24,7.21,6.68,6.3,6.04,5.83,5.72,5.68,5.13,5.11,4.82,4.65,4.48,4.4,4.06,4.0,3.89,3.75,3.75,3.74,3.67,3.6,3.56,3.04,3.0,2.79,2.77,2.6,2.58,2.54,2.51,2.5,1.71,1.4],\"yaxis\":\"y\",\"type\":\"bar\",\"textangle\":0,\"texttemplate\":\"%{text}\"},{\"alignmentgroup\":\"True\",\"hovertemplate\":\"UF=RJ<br>Produto=%{x}<br>Pre\\u00e7o M\\u00e9dio=%{y}<br>Total_UF=%{text}<extra></extra>\",\"legendgroup\":\"RJ\",\"marker\":{\"color\":\"#FF97FF\",\"pattern\":{\"shape\":\"\"}},\"name\":\"RJ\",\"offsetgroup\":\"RJ\",\"orientation\":\"v\",\"showlegend\":true,\"text\":[\"21.46 (RJ)\",\"21.02 (RJ)\",\"15.52 (RJ)\",\"14.84 (RJ)\",\"13.84 (RJ)\",\"12.83 (RJ)\",\"11.7 (RJ)\",\"10.55 (RJ)\",\"10.51 (RJ)\",\"9.77 (RJ)\",\"9.7 (RJ)\",\"9.06 (RJ)\",\"7.68 (RJ)\",\"7.55 (RJ)\",\"7.29 (RJ)\",\"7.26 (RJ)\",\"7.19 (RJ)\",\"7.08 (RJ)\",\"6.81 (RJ)\",\"6.7 (RJ)\",\"6.55 (RJ)\",\"6.22 (RJ)\",\"5.84 (RJ)\",\"5.64 (RJ)\",\"5.58 (RJ)\",\"5.39 (RJ)\",\"5.27 (RJ)\",\"5.25 (RJ)\",\"5.25 (RJ)\",\"5.21 (RJ)\",\"3.95 (RJ)\",\"3.91 (RJ)\",\"3.9 (RJ)\",\"3.86 (RJ)\",\"3.75 (RJ)\",\"3.71 (RJ)\",\"3.7 (RJ)\",\"3.46 (RJ)\",\"3.37 (RJ)\",\"3.09 (RJ)\",\"2.98 (RJ)\",\"2.83 (RJ)\",\"2.83 (RJ)\",\"2.83 (RJ)\",\"2.71 (RJ)\",\"2.18 (RJ)\",\"2.05 (RJ)\",\"1.91 (RJ)\"],\"textposition\":\"inside\",\"x\":[\"ALHO\",\"MORANGO\",\"UVA ITALIA\",\"PERA IMPORTADA\",\"ALFACE\",\"UVA RUBI\",\"UVA NIAGARA\",\"MANDIOQUINHA\",\"VAGEM\",\"MARACUJA AZEDO\",\"GOIABA\",\"MACA\",\"BROCOLO\",\"ABACAXI\",\"TOMATE\",\"TANGERINA\",\"MAMAO HAWAY\",\"CENOURA\",\"MAMAO FORMOSA\",\"PIMENTAO VERDE\",\"QUIABO\",\"CARA\",\"MANGA\",\"BATATA\",\"OVOS\",\"CEBOLA\",\"BANANA PRATA\",\"MELAO AMARELO\",\"JILO\",\"BETERRABA\",\"BERINJELA\",\"ABACATE\",\"COUVE\",\"ABOBRINHA\",\"ABOBORA\",\"LARANJA PERA\",\"BANANA NANICA\",\"REPOLHO\",\"COCO VERDE\",\"BATATA DOCE\",\"COUVE-FLOR\",\"PEPINO\",\"LIMAO TAHITI\",\"MELANCIA\",\"CHUCHU\",\"MANDIOCA\",\"MILHO VERDE\",\"INHAME\"],\"xaxis\":\"x\",\"y\":[21.46,21.02,15.52,14.84,13.84,12.83,11.7,10.55,10.51,9.77,9.7,9.06,7.68,7.55,7.29,7.26,7.19,7.08,6.81,6.7,6.55,6.22,5.84,5.64,5.58,5.39,5.27,5.25,5.25,5.21,3.95,3.91,3.9,3.86,3.75,3.71,3.7,3.46,3.37,3.09,2.98,2.83,2.83,2.83,2.71,2.18,2.05,1.91],\"yaxis\":\"y\",\"type\":\"bar\",\"textangle\":0,\"texttemplate\":\"%{text}\"},{\"alignmentgroup\":\"True\",\"hovertemplate\":\"UF=TO<br>Produto=%{x}<br>Pre\\u00e7o M\\u00e9dio=%{y}<br>Total_UF=%{text}<extra></extra>\",\"legendgroup\":\"TO\",\"marker\":{\"color\":\"#FECB52\",\"pattern\":{\"shape\":\"\"}},\"name\":\"TO\",\"offsetgroup\":\"TO\",\"orientation\":\"v\",\"showlegend\":true,\"text\":[\"20.47 (TO)\",\"11.4 (TO)\",\"11.33 (TO)\",\"9.21 (TO)\",\"9.0 (TO)\",\"8.51 (TO)\",\"8.34 (TO)\",\"8.17 (TO)\",\"8.15 (TO)\",\"7.24 (TO)\",\"7.2 (TO)\",\"7.11 (TO)\",\"6.92 (TO)\",\"6.74 (TO)\",\"6.71 (TO)\",\"6.4 (TO)\",\"6.36 (TO)\",\"6.17 (TO)\",\"6.11 (TO)\",\"6.0 (TO)\",\"5.68 (TO)\",\"5.54 (TO)\",\"5.34 (TO)\",\"5.3 (TO)\",\"5.01 (TO)\",\"4.84 (TO)\",\"4.71 (TO)\",\"4.58 (TO)\",\"4.46 (TO)\",\"4.21 (TO)\",\"4.14 (TO)\",\"4.1 (TO)\",\"4.0 (TO)\",\"3.92 (TO)\",\"3.87 (TO)\",\"3.77 (TO)\",\"2.85 (TO)\",\"2.37 (TO)\"],\"textposition\":\"inside\",\"x\":[\"ALHO\",\"PERA IMPORTADA\",\"MORANGO\",\"QUIABO\",\"COUVE-FLOR\",\"PIMENTAO VERDE\",\"GOIABA\",\"BROCOLO\",\"JILO\",\"MARACUJA AZEDO\",\"TOMATE\",\"CENOURA\",\"MACA\",\"BETERRABA\",\"OVOS\",\"BATATA\",\"BANANA PRATA\",\"CARA\",\"ABACAXI\",\"CEBOLA\",\"INHAME\",\"BERINJELA\",\"MANGA\",\"MELAO AMARELO\",\"TANGERINA\",\"CHUCHU\",\"PEPINO\",\"ABACATE\",\"REPOLHO\",\"BANANA NANICA\",\"ABOBRINHA\",\"MAMAO FORMOSA\",\"BATATA DOCE\",\"MANDIOCA\",\"ABOBORA\",\"LARANJA PERA\",\"LIMAO TAHITI\",\"MELANCIA\"],\"xaxis\":\"x\",\"y\":[20.47,11.4,11.33,9.21,9.0,8.51,8.34,8.17,8.15,7.24,7.2,7.11,6.92,6.74,6.71,6.4,6.36,6.17,6.11,6.0,5.68,5.54,5.34,5.3,5.01,4.84,4.71,4.58,4.46,4.21,4.14,4.1,4.0,3.92,3.87,3.77,2.85,2.37],\"yaxis\":\"y\",\"type\":\"bar\",\"textangle\":0,\"texttemplate\":\"%{text}\"}],                        {\"template\":{\"data\":{\"histogram2dcontour\":[{\"type\":\"histogram2dcontour\",\"colorbar\":{\"outlinewidth\":0,\"ticks\":\"\"},\"colorscale\":[[0.0,\"#0d0887\"],[0.1111111111111111,\"#46039f\"],[0.2222222222222222,\"#7201a8\"],[0.3333333333333333,\"#9c179e\"],[0.4444444444444444,\"#bd3786\"],[0.5555555555555556,\"#d8576b\"],[0.6666666666666666,\"#ed7953\"],[0.7777777777777778,\"#fb9f3a\"],[0.8888888888888888,\"#fdca26\"],[1.0,\"#f0f921\"]]}],\"choropleth\":[{\"type\":\"choropleth\",\"colorbar\":{\"outlinewidth\":0,\"ticks\":\"\"}}],\"histogram2d\":[{\"type\":\"histogram2d\",\"colorbar\":{\"outlinewidth\":0,\"ticks\":\"\"},\"colorscale\":[[0.0,\"#0d0887\"],[0.1111111111111111,\"#46039f\"],[0.2222222222222222,\"#7201a8\"],[0.3333333333333333,\"#9c179e\"],[0.4444444444444444,\"#bd3786\"],[0.5555555555555556,\"#d8576b\"],[0.6666666666666666,\"#ed7953\"],[0.7777777777777778,\"#fb9f3a\"],[0.8888888888888888,\"#fdca26\"],[1.0,\"#f0f921\"]]}],\"heatmap\":[{\"type\":\"heatmap\",\"colorbar\":{\"outlinewidth\":0,\"ticks\":\"\"},\"colorscale\":[[0.0,\"#0d0887\"],[0.1111111111111111,\"#46039f\"],[0.2222222222222222,\"#7201a8\"],[0.3333333333333333,\"#9c179e\"],[0.4444444444444444,\"#bd3786\"],[0.5555555555555556,\"#d8576b\"],[0.6666666666666666,\"#ed7953\"],[0.7777777777777778,\"#fb9f3a\"],[0.8888888888888888,\"#fdca26\"],[1.0,\"#f0f921\"]]}],\"heatmapgl\":[{\"type\":\"heatmapgl\",\"colorbar\":{\"outlinewidth\":0,\"ticks\":\"\"},\"colorscale\":[[0.0,\"#0d0887\"],[0.1111111111111111,\"#46039f\"],[0.2222222222222222,\"#7201a8\"],[0.3333333333333333,\"#9c179e\"],[0.4444444444444444,\"#bd3786\"],[0.5555555555555556,\"#d8576b\"],[0.6666666666666666,\"#ed7953\"],[0.7777777777777778,\"#fb9f3a\"],[0.8888888888888888,\"#fdca26\"],[1.0,\"#f0f921\"]]}],\"contourcarpet\":[{\"type\":\"contourcarpet\",\"colorbar\":{\"outlinewidth\":0,\"ticks\":\"\"}}],\"contour\":[{\"type\":\"contour\",\"colorbar\":{\"outlinewidth\":0,\"ticks\":\"\"},\"colorscale\":[[0.0,\"#0d0887\"],[0.1111111111111111,\"#46039f\"],[0.2222222222222222,\"#7201a8\"],[0.3333333333333333,\"#9c179e\"],[0.4444444444444444,\"#bd3786\"],[0.5555555555555556,\"#d8576b\"],[0.6666666666666666,\"#ed7953\"],[0.7777777777777778,\"#fb9f3a\"],[0.8888888888888888,\"#fdca26\"],[1.0,\"#f0f921\"]]}],\"surface\":[{\"type\":\"surface\",\"colorbar\":{\"outlinewidth\":0,\"ticks\":\"\"},\"colorscale\":[[0.0,\"#0d0887\"],[0.1111111111111111,\"#46039f\"],[0.2222222222222222,\"#7201a8\"],[0.3333333333333333,\"#9c179e\"],[0.4444444444444444,\"#bd3786\"],[0.5555555555555556,\"#d8576b\"],[0.6666666666666666,\"#ed7953\"],[0.7777777777777778,\"#fb9f3a\"],[0.8888888888888888,\"#fdca26\"],[1.0,\"#f0f921\"]]}],\"mesh3d\":[{\"type\":\"mesh3d\",\"colorbar\":{\"outlinewidth\":0,\"ticks\":\"\"}}],\"scatter\":[{\"fillpattern\":{\"fillmode\":\"overlay\",\"size\":10,\"solidity\":0.2},\"type\":\"scatter\"}],\"parcoords\":[{\"type\":\"parcoords\",\"line\":{\"colorbar\":{\"outlinewidth\":0,\"ticks\":\"\"}}}],\"scatterpolargl\":[{\"type\":\"scatterpolargl\",\"marker\":{\"colorbar\":{\"outlinewidth\":0,\"ticks\":\"\"}}}],\"bar\":[{\"error_x\":{\"color\":\"#2a3f5f\"},\"error_y\":{\"color\":\"#2a3f5f\"},\"marker\":{\"line\":{\"color\":\"#E5ECF6\",\"width\":0.5},\"pattern\":{\"fillmode\":\"overlay\",\"size\":10,\"solidity\":0.2}},\"type\":\"bar\"}],\"scattergeo\":[{\"type\":\"scattergeo\",\"marker\":{\"colorbar\":{\"outlinewidth\":0,\"ticks\":\"\"}}}],\"scatterpolar\":[{\"type\":\"scatterpolar\",\"marker\":{\"colorbar\":{\"outlinewidth\":0,\"ticks\":\"\"}}}],\"histogram\":[{\"marker\":{\"pattern\":{\"fillmode\":\"overlay\",\"size\":10,\"solidity\":0.2}},\"type\":\"histogram\"}],\"scattergl\":[{\"type\":\"scattergl\",\"marker\":{\"colorbar\":{\"outlinewidth\":0,\"ticks\":\"\"}}}],\"scatter3d\":[{\"type\":\"scatter3d\",\"line\":{\"colorbar\":{\"outlinewidth\":0,\"ticks\":\"\"}},\"marker\":{\"colorbar\":{\"outlinewidth\":0,\"ticks\":\"\"}}}],\"scattermapbox\":[{\"type\":\"scattermapbox\",\"marker\":{\"colorbar\":{\"outlinewidth\":0,\"ticks\":\"\"}}}],\"scatterternary\":[{\"type\":\"scatterternary\",\"marker\":{\"colorbar\":{\"outlinewidth\":0,\"ticks\":\"\"}}}],\"scattercarpet\":[{\"type\":\"scattercarpet\",\"marker\":{\"colorbar\":{\"outlinewidth\":0,\"ticks\":\"\"}}}],\"carpet\":[{\"aaxis\":{\"endlinecolor\":\"#2a3f5f\",\"gridcolor\":\"white\",\"linecolor\":\"white\",\"minorgridcolor\":\"white\",\"startlinecolor\":\"#2a3f5f\"},\"baxis\":{\"endlinecolor\":\"#2a3f5f\",\"gridcolor\":\"white\",\"linecolor\":\"white\",\"minorgridcolor\":\"white\",\"startlinecolor\":\"#2a3f5f\"},\"type\":\"carpet\"}],\"table\":[{\"cells\":{\"fill\":{\"color\":\"#EBF0F8\"},\"line\":{\"color\":\"white\"}},\"header\":{\"fill\":{\"color\":\"#C8D4E3\"},\"line\":{\"color\":\"white\"}},\"type\":\"table\"}],\"barpolar\":[{\"marker\":{\"line\":{\"color\":\"#E5ECF6\",\"width\":0.5},\"pattern\":{\"fillmode\":\"overlay\",\"size\":10,\"solidity\":0.2}},\"type\":\"barpolar\"}],\"pie\":[{\"automargin\":true,\"type\":\"pie\"}]},\"layout\":{\"autotypenumbers\":\"strict\",\"colorway\":[\"#636efa\",\"#EF553B\",\"#00cc96\",\"#ab63fa\",\"#FFA15A\",\"#19d3f3\",\"#FF6692\",\"#B6E880\",\"#FF97FF\",\"#FECB52\"],\"font\":{\"color\":\"#2a3f5f\"},\"hovermode\":\"closest\",\"hoverlabel\":{\"align\":\"left\"},\"paper_bgcolor\":\"white\",\"plot_bgcolor\":\"#E5ECF6\",\"polar\":{\"bgcolor\":\"#E5ECF6\",\"angularaxis\":{\"gridcolor\":\"white\",\"linecolor\":\"white\",\"ticks\":\"\"},\"radialaxis\":{\"gridcolor\":\"white\",\"linecolor\":\"white\",\"ticks\":\"\"}},\"ternary\":{\"bgcolor\":\"#E5ECF6\",\"aaxis\":{\"gridcolor\":\"white\",\"linecolor\":\"white\",\"ticks\":\"\"},\"baxis\":{\"gridcolor\":\"white\",\"linecolor\":\"white\",\"ticks\":\"\"},\"caxis\":{\"gridcolor\":\"white\",\"linecolor\":\"white\",\"ticks\":\"\"}},\"coloraxis\":{\"colorbar\":{\"outlinewidth\":0,\"ticks\":\"\"}},\"colorscale\":{\"sequential\":[[0.0,\"#0d0887\"],[0.1111111111111111,\"#46039f\"],[0.2222222222222222,\"#7201a8\"],[0.3333333333333333,\"#9c179e\"],[0.4444444444444444,\"#bd3786\"],[0.5555555555555556,\"#d8576b\"],[0.6666666666666666,\"#ed7953\"],[0.7777777777777778,\"#fb9f3a\"],[0.8888888888888888,\"#fdca26\"],[1.0,\"#f0f921\"]],\"sequentialminus\":[[0.0,\"#0d0887\"],[0.1111111111111111,\"#46039f\"],[0.2222222222222222,\"#7201a8\"],[0.3333333333333333,\"#9c179e\"],[0.4444444444444444,\"#bd3786\"],[0.5555555555555556,\"#d8576b\"],[0.6666666666666666,\"#ed7953\"],[0.7777777777777778,\"#fb9f3a\"],[0.8888888888888888,\"#fdca26\"],[1.0,\"#f0f921\"]],\"diverging\":[[0,\"#8e0152\"],[0.1,\"#c51b7d\"],[0.2,\"#de77ae\"],[0.3,\"#f1b6da\"],[0.4,\"#fde0ef\"],[0.5,\"#f7f7f7\"],[0.6,\"#e6f5d0\"],[0.7,\"#b8e186\"],[0.8,\"#7fbc41\"],[0.9,\"#4d9221\"],[1,\"#276419\"]]},\"xaxis\":{\"gridcolor\":\"white\",\"linecolor\":\"white\",\"ticks\":\"\",\"title\":{\"standoff\":15},\"zerolinecolor\":\"white\",\"automargin\":true,\"zerolinewidth\":2},\"yaxis\":{\"gridcolor\":\"white\",\"linecolor\":\"white\",\"ticks\":\"\",\"title\":{\"standoff\":15},\"zerolinecolor\":\"white\",\"automargin\":true,\"zerolinewidth\":2},\"scene\":{\"xaxis\":{\"backgroundcolor\":\"#E5ECF6\",\"gridcolor\":\"white\",\"linecolor\":\"white\",\"showbackground\":true,\"ticks\":\"\",\"zerolinecolor\":\"white\",\"gridwidth\":2},\"yaxis\":{\"backgroundcolor\":\"#E5ECF6\",\"gridcolor\":\"white\",\"linecolor\":\"white\",\"showbackground\":true,\"ticks\":\"\",\"zerolinecolor\":\"white\",\"gridwidth\":2},\"zaxis\":{\"backgroundcolor\":\"#E5ECF6\",\"gridcolor\":\"white\",\"linecolor\":\"white\",\"showbackground\":true,\"ticks\":\"\",\"zerolinecolor\":\"white\",\"gridwidth\":2}},\"shapedefaults\":{\"line\":{\"color\":\"#2a3f5f\"}},\"annotationdefaults\":{\"arrowcolor\":\"#2a3f5f\",\"arrowhead\":0,\"arrowwidth\":1},\"geo\":{\"bgcolor\":\"white\",\"landcolor\":\"#E5ECF6\",\"subunitcolor\":\"white\",\"showland\":true,\"showlakes\":true,\"lakecolor\":\"white\"},\"title\":{\"x\":0.05},\"mapbox\":{\"style\":\"light\"}}},\"xaxis\":{\"anchor\":\"y\",\"domain\":[0.0,1.0],\"title\":{\"text\":\"Produto\"}},\"yaxis\":{\"anchor\":\"x\",\"domain\":[0.0,1.0],\"title\":{\"text\":\"Pre\\u00e7o M\\u00e9dio\"}},\"legend\":{\"title\":{\"text\":\"UF\"},\"tracegroupgap\":0},\"title\":{\"text\":\"Pre\\u00e7o M\\u00e9dio dos Produtos por UF\"},\"barmode\":\"stack\"},                        {\"responsive\": true}                    )                };                            </script>        </div>\n",
       "</body>\n",
       "</html>"
      ]
     },
     "metadata": {},
     "output_type": "display_data"
    }
   ],
   "source": [
    "import pandas as pd\n",
    "import plotly.express as px\n",
    "\n",
    "# Criar uma nova coluna no DataFrame combinando 'Total' e 'UF'\n",
    "df_resposta_1_pandas['Total_UF'] = df_resposta_1_pandas.apply(lambda row: f\"{row['Total']} ({row['UF']})\", axis=1)\n",
    "\n",
    "# Criar o gráfico de barras empilhado interativo com rótulos de dados\n",
    "fig = px.bar(df_resposta_1_pandas, x='Produto', y='Total', color='UF', barmode='stack',\n",
    "             labels={'Total':'Preço Médio', 'UF':'UF'},\n",
    "             title='Preço Médio dos Produtos por UF',\n",
    "             text='Total_UF')  # Adiciona os rótulos de dados\n",
    "\n",
    "# Ajustar a posição dos rótulos de dados para ficarem dentro das barras e horizontais\n",
    "fig.update_traces(textposition='inside', texttemplate='%{text}', textangle=0)\n",
    "\n",
    "# Mostrar o gráfico\n",
    "fig.show()"
   ]
  },
  {
   "cell_type": "markdown",
   "metadata": {
    "application/vnd.databricks.v1+cell": {
     "cellMetadata": {},
     "inputWidgets": {},
     "nuid": "d9d2e0f9-73c4-4e60-b942-05107fe7900c",
     "showTitle": false,
     "title": ""
    }
   },
   "source": [
    "##### 2 - Qual o valor médio dos produtos hortifruti mês a mês no ano de 2024"
   ]
  },
  {
   "cell_type": "code",
   "execution_count": 0,
   "metadata": {
    "application/vnd.databricks.v1+cell": {
     "cellMetadata": {
      "byteLimit": 2048000,
      "implicitDf": true,
      "rowLimit": 10000
     },
     "inputWidgets": {},
     "nuid": "9574acec-099a-4213-9a00-dae07f0c2818",
     "showTitle": false,
     "title": ""
    }
   },
   "outputs": [],
   "source": [
    "\n",
    "#Consultando Tabela totalizadora_hortigrangeiros e salvando na variavel df_resposta_2 via spark Sql\n",
    "\n",
    "df_resposta_2 = spark.sql(\"\"\"SELECT F.Produto,\n",
    "    D.Unidade,\n",
    "    F.Ano_Mes,\n",
    "    F.Preco_Medio_Geral\n",
    "FROM gold.tables.totalizadora_hortigrangeiros AS F \n",
    "LEFT JOIN gold.tables.dimensao_produto AS D ON D.Produto = F.Produto\n",
    "\"\"\")\n"
   ]
  },
  {
   "cell_type": "code",
   "execution_count": 0,
   "metadata": {
    "application/vnd.databricks.v1+cell": {
     "cellMetadata": {
      "byteLimit": 2048000,
      "rowLimit": 10000
     },
     "inputWidgets": {},
     "nuid": "8a270092-b155-43d7-9fff-37a85e45ec19",
     "showTitle": false,
     "title": ""
    }
   },
   "outputs": [
    {
     "output_type": "stream",
     "name": "stdout",
     "output_type": "stream",
     "text": [
      "+---------+-------+-------+-----------------+\n|  Produto|Unidade|Ano_Mes|Preco_Medio_Geral|\n+---------+-------+-------+-----------------+\n|  ABACATE|     KG|2024-01|             4.93|\n|  ABACATE|     KG|2024-02|             4.12|\n|  ABACATE|     KG|2024-03|             3.96|\n|  ABACATE|     KG|2024-04|             3.76|\n|  ABACATE|     KG|2024-05|             3.82|\n|  ABACATE|     KG|2024-06|             4.23|\n|  ABACAXI|     UN|2024-01|             6.75|\n|  ABACAXI|     UN|2024-02|              7.0|\n|  ABACAXI|     UN|2024-03|             6.76|\n|  ABACAXI|     UN|2024-04|             6.49|\n|  ABACAXI|     UN|2024-05|             6.92|\n|  ABACAXI|     UN|2024-06|             7.32|\n|  ABOBORA|     KG|2024-01|              3.3|\n|  ABOBORA|     KG|2024-02|             3.99|\n|  ABOBORA|     KG|2024-03|             4.42|\n|  ABOBORA|     KG|2024-04|             3.89|\n|  ABOBORA|     KG|2024-05|             3.31|\n|  ABOBORA|     KG|2024-06|             3.05|\n|ABOBRINHA|     KG|2024-01|             3.36|\n|ABOBRINHA|     KG|2024-02|             3.48|\n+---------+-------+-------+-----------------+\nonly showing top 20 rows\n\n"
     ]
    }
   ],
   "source": [
    "# Validando se dataframe df_resposta_2 está funcionando corretamente\n",
    "df_resposta_2.show()"
   ]
  },
  {
   "cell_type": "markdown",
   "metadata": {
    "application/vnd.databricks.v1+cell": {
     "cellMetadata": {},
     "inputWidgets": {},
     "nuid": "df6802ec-84b6-40d8-9fff-9e58537ad1e7",
     "showTitle": false,
     "title": ""
    }
   },
   "source": [
    "###### RESPOSTA: Como a resposta é uma Tabela com algumas linhas, deixo a tabela abaixo como a resposta.  \n",
    "Deixo também um gráfico com as informações organizadas em colunas agrupadas, onde conseguimos observar o Preço Médio de cada Produto Mês a Mês. (Gráfico no README)  \n",
    "Além disso no gráfico conseguimos ver exatamente os produtos que tiveram aumento de preço ao Longo do Tempo e os que tiveram redução.  \n",
    "Por exemplo a mandioquinha só cresce ao longo dos meses, em jan 24 custava 10,15 o KG e em junho está custando 15,02 o KG.\n",
    "Já o maracujá azedo reduziu bastante, custava em jan 24 13,11 o KG e está custando 7,29 em jun 24."
   ]
  },
  {
   "cell_type": "code",
   "execution_count": 0,
   "metadata": {
    "application/vnd.databricks.v1+cell": {
     "cellMetadata": {
      "byteLimit": 2048000,
      "rowLimit": 10000
     },
     "inputWidgets": {},
     "nuid": "2aba9a9e-c58a-405a-a22f-5dbe382bb668",
     "showTitle": false,
     "title": ""
    }
   },
   "outputs": [],
   "source": [
    "from pyspark.sql import SparkSession\n",
    "import pandas as pd\n",
    "\n",
    "# Criar uma sessão Spark\n",
    "spark = SparkSession.builder.appName(\"StackedBarChart\").getOrCreate()\n",
    "\n",
    "# Converter o resultado para um Pandas DataFrame\n",
    "df_resposta_2_pandas = df_resposta_2.toPandas()"
   ]
  },
  {
   "cell_type": "code",
   "execution_count": 0,
   "metadata": {
    "application/vnd.databricks.v1+cell": {
     "cellMetadata": {
      "byteLimit": 2048000,
      "rowLimit": 10000
     },
     "inputWidgets": {},
     "nuid": "4ad8ea1f-bd89-4c47-b1ef-8457ea2fd9c7",
     "showTitle": false,
     "title": ""
    }
   },
   "outputs": [
    {
     "output_type": "execute_result",
     "data": {
      "text/html": [
       "<div>\n",
       "<style scoped>\n",
       "    .dataframe tbody tr th:only-of-type {\n",
       "        vertical-align: middle;\n",
       "    }\n",
       "\n",
       "    .dataframe tbody tr th {\n",
       "        vertical-align: top;\n",
       "    }\n",
       "\n",
       "    .dataframe thead th {\n",
       "        text-align: right;\n",
       "    }\n",
       "</style>\n",
       "<table border=\"1\" class=\"dataframe\">\n",
       "  <thead>\n",
       "    <tr style=\"text-align: right;\">\n",
       "      <th></th>\n",
       "      <th>Produto</th>\n",
       "      <th>Unidade</th>\n",
       "      <th>Ano_Mes</th>\n",
       "      <th>Preco_Medio_Geral</th>\n",
       "    </tr>\n",
       "  </thead>\n",
       "  <tbody>\n",
       "    <tr>\n",
       "      <th>0</th>\n",
       "      <td>ABACATE</td>\n",
       "      <td>KG</td>\n",
       "      <td>2024-01</td>\n",
       "      <td>4.93</td>\n",
       "    </tr>\n",
       "    <tr>\n",
       "      <th>1</th>\n",
       "      <td>ABACATE</td>\n",
       "      <td>KG</td>\n",
       "      <td>2024-02</td>\n",
       "      <td>4.12</td>\n",
       "    </tr>\n",
       "    <tr>\n",
       "      <th>2</th>\n",
       "      <td>ABACATE</td>\n",
       "      <td>KG</td>\n",
       "      <td>2024-03</td>\n",
       "      <td>3.96</td>\n",
       "    </tr>\n",
       "    <tr>\n",
       "      <th>3</th>\n",
       "      <td>ABACATE</td>\n",
       "      <td>KG</td>\n",
       "      <td>2024-04</td>\n",
       "      <td>3.76</td>\n",
       "    </tr>\n",
       "    <tr>\n",
       "      <th>4</th>\n",
       "      <td>ABACATE</td>\n",
       "      <td>KG</td>\n",
       "      <td>2024-05</td>\n",
       "      <td>3.82</td>\n",
       "    </tr>\n",
       "    <tr>\n",
       "      <th>5</th>\n",
       "      <td>ABACATE</td>\n",
       "      <td>KG</td>\n",
       "      <td>2024-06</td>\n",
       "      <td>4.23</td>\n",
       "    </tr>\n",
       "    <tr>\n",
       "      <th>6</th>\n",
       "      <td>ABACAXI</td>\n",
       "      <td>UN</td>\n",
       "      <td>2024-01</td>\n",
       "      <td>6.75</td>\n",
       "    </tr>\n",
       "    <tr>\n",
       "      <th>7</th>\n",
       "      <td>ABACAXI</td>\n",
       "      <td>UN</td>\n",
       "      <td>2024-02</td>\n",
       "      <td>7.00</td>\n",
       "    </tr>\n",
       "    <tr>\n",
       "      <th>8</th>\n",
       "      <td>ABACAXI</td>\n",
       "      <td>UN</td>\n",
       "      <td>2024-03</td>\n",
       "      <td>6.76</td>\n",
       "    </tr>\n",
       "    <tr>\n",
       "      <th>9</th>\n",
       "      <td>ABACAXI</td>\n",
       "      <td>UN</td>\n",
       "      <td>2024-04</td>\n",
       "      <td>6.49</td>\n",
       "    </tr>\n",
       "    <tr>\n",
       "      <th>10</th>\n",
       "      <td>ABACAXI</td>\n",
       "      <td>UN</td>\n",
       "      <td>2024-05</td>\n",
       "      <td>6.92</td>\n",
       "    </tr>\n",
       "    <tr>\n",
       "      <th>11</th>\n",
       "      <td>ABACAXI</td>\n",
       "      <td>UN</td>\n",
       "      <td>2024-06</td>\n",
       "      <td>7.32</td>\n",
       "    </tr>\n",
       "    <tr>\n",
       "      <th>12</th>\n",
       "      <td>ABOBORA</td>\n",
       "      <td>KG</td>\n",
       "      <td>2024-01</td>\n",
       "      <td>3.30</td>\n",
       "    </tr>\n",
       "    <tr>\n",
       "      <th>13</th>\n",
       "      <td>ABOBORA</td>\n",
       "      <td>KG</td>\n",
       "      <td>2024-02</td>\n",
       "      <td>3.99</td>\n",
       "    </tr>\n",
       "    <tr>\n",
       "      <th>14</th>\n",
       "      <td>ABOBORA</td>\n",
       "      <td>KG</td>\n",
       "      <td>2024-03</td>\n",
       "      <td>4.42</td>\n",
       "    </tr>\n",
       "    <tr>\n",
       "      <th>15</th>\n",
       "      <td>ABOBORA</td>\n",
       "      <td>KG</td>\n",
       "      <td>2024-04</td>\n",
       "      <td>3.89</td>\n",
       "    </tr>\n",
       "    <tr>\n",
       "      <th>16</th>\n",
       "      <td>ABOBORA</td>\n",
       "      <td>KG</td>\n",
       "      <td>2024-05</td>\n",
       "      <td>3.31</td>\n",
       "    </tr>\n",
       "    <tr>\n",
       "      <th>17</th>\n",
       "      <td>ABOBORA</td>\n",
       "      <td>KG</td>\n",
       "      <td>2024-06</td>\n",
       "      <td>3.05</td>\n",
       "    </tr>\n",
       "    <tr>\n",
       "      <th>18</th>\n",
       "      <td>ABOBRINHA</td>\n",
       "      <td>KG</td>\n",
       "      <td>2024-01</td>\n",
       "      <td>3.36</td>\n",
       "    </tr>\n",
       "    <tr>\n",
       "      <th>19</th>\n",
       "      <td>ABOBRINHA</td>\n",
       "      <td>KG</td>\n",
       "      <td>2024-02</td>\n",
       "      <td>3.48</td>\n",
       "    </tr>\n",
       "  </tbody>\n",
       "</table>\n",
       "</div>"
      ],
      "text/plain": [
       "      Produto Unidade  Ano_Mes  Preco_Medio_Geral\n",
       "0     ABACATE      KG  2024-01               4.93\n",
       "1     ABACATE      KG  2024-02               4.12\n",
       "2     ABACATE      KG  2024-03               3.96\n",
       "3     ABACATE      KG  2024-04               3.76\n",
       "4     ABACATE      KG  2024-05               3.82\n",
       "5     ABACATE      KG  2024-06               4.23\n",
       "6     ABACAXI      UN  2024-01               6.75\n",
       "7     ABACAXI      UN  2024-02               7.00\n",
       "8     ABACAXI      UN  2024-03               6.76\n",
       "9     ABACAXI      UN  2024-04               6.49\n",
       "10    ABACAXI      UN  2024-05               6.92\n",
       "11    ABACAXI      UN  2024-06               7.32\n",
       "12    ABOBORA      KG  2024-01               3.30\n",
       "13    ABOBORA      KG  2024-02               3.99\n",
       "14    ABOBORA      KG  2024-03               4.42\n",
       "15    ABOBORA      KG  2024-04               3.89\n",
       "16    ABOBORA      KG  2024-05               3.31\n",
       "17    ABOBORA      KG  2024-06               3.05\n",
       "18  ABOBRINHA      KG  2024-01               3.36\n",
       "19  ABOBRINHA      KG  2024-02               3.48"
      ]
     },
     "execution_count": 170,
     "metadata": {},
     "output_type": "execute_result"
    }
   ],
   "source": [
    "# Validando se dataframe df_resposta_1_pandas está funcionando corretamente\n",
    "df_resposta_2_pandas.head(20)"
   ]
  },
  {
   "cell_type": "markdown",
   "metadata": {
    "application/vnd.databricks.v1+cell": {
     "cellMetadata": {},
     "inputWidgets": {},
     "nuid": "d4dbfeec-ddc2-4ce9-8362-77cb14fc1a81",
     "showTitle": false,
     "title": ""
    }
   },
   "source": [
    "**Gráfico no README, pois plotly.express não aparece no repositório do github**"
   ]
  },
  {
   "cell_type": "code",
   "execution_count": 0,
   "metadata": {
    "application/vnd.databricks.v1+cell": {
     "cellMetadata": {
      "byteLimit": 2048000,
      "rowLimit": 10000
     },
     "inputWidgets": {},
     "nuid": "04d614bc-0ebd-4f89-94c8-c24439c2ffde",
     "showTitle": false,
     "title": ""
    }
   },
   "outputs": [
    {
     "output_type": "display_data",
     "data": {
      "text/html": [
       "<html>\n",
       "<head><meta charset=\"utf-8\" /></head>\n",
       "<body>\n",
       "    <div>            <script src=\"https://cdnjs.cloudflare.com/ajax/libs/mathjax/2.7.5/MathJax.js?config=TeX-AMS-MML_SVG\"></script><script type=\"text/javascript\">if (window.MathJax && window.MathJax.Hub && window.MathJax.Hub.Config) {window.MathJax.Hub.Config({SVG: {font: \"STIX-Web\"}});}</script>                <script type=\"text/javascript\">window.PlotlyConfig = {MathJaxConfig: 'local'};</script>\n",
       "        <script src=\"https://cdn.plot.ly/plotly-2.12.1.min.js\"></script>                <div id=\"0911fd11-3da7-419a-b806-1d09131203fe\" class=\"plotly-graph-div\" style=\"height:100%; width:100%;\"></div>            <script type=\"text/javascript\">                                    window.PLOTLYENV=window.PLOTLYENV || {};                                    if (document.getElementById(\"0911fd11-3da7-419a-b806-1d09131203fe\")) {                    Plotly.newPlot(                        \"0911fd11-3da7-419a-b806-1d09131203fe\",                        [{\"alignmentgroup\":\"True\",\"hovertemplate\":\"M\\u00eas/Ano=2024-01<br>Produto=%{x}<br>Pre\\u00e7o M\\u00e9dio=%{text}<extra></extra>\",\"legendgroup\":\"2024-01\",\"marker\":{\"color\":\"#636efa\",\"pattern\":{\"shape\":\"\"}},\"name\":\"2024-01\",\"offsetgroup\":\"2024-01\",\"orientation\":\"v\",\"showlegend\":true,\"text\":[4.929999828338623,6.75,3.299999952316284,3.359999895095825,20.1299991607666,19.68000030517578,3.240000009536743,5.079999923706055,6.710000038146973,3.0399999618530273,4.130000114440918,4.329999923706055,9.449999809265137,7.920000076293945,4.420000076293945,6.570000171661377,4.53000020980835,2.9700000286102295,5.760000228881836,6.730000019073486,5.53000020980835,7.610000133514404,5.550000190734863,3.1500000953674316,2.450000047683716,8.989999771118164,4.210000038146973,5.869999885559082,2.859999895095825,10.149999618530273,5.260000228881836,13.109999656677246,2.7100000381469727,4.28000020980835,3.630000114440918,21.5,6.659999847412109,2.940000057220459,11.6899995803833,5.300000190734863,7.059999942779541,3.990000009536743,6.170000076293945,4.840000152587891,12.039999961853027,10.75,12.4399995803833,8.770000457763672],\"textposition\":\"inside\",\"x\":[\"ABACATE\",\"ABACAXI\",\"ABOBORA\",\"ABOBRINHA\",\"ALFACE\",\"ALHO\",\"BANANA NANICA\",\"BANANA PRATA\",\"BATATA\",\"BATATA DOCE\",\"BERINJELA\",\"BETERRABA\",\"BROCOLO\",\"CARA\",\"CEBOLA\",\"CENOURA\",\"CHUCHU\",\"COCO VERDE\",\"COUVE\",\"COUVE-FLOR\",\"GOIABA\",\"INHAME\",\"JILO\",\"LARANJA PERA\",\"LIMAO TAHITI\",\"MACA\",\"MAMAO FORMOSA\",\"MAMAO HAWAY\",\"MANDIOCA\",\"MANDIOQUINHA\",\"MANGA\",\"MARACUJA AZEDO\",\"MELANCIA\",\"MELAO AMARELO\",\"MILHO VERDE\",\"MORANGO\",\"OVOS\",\"PEPINO\",\"PERA IMPORTADA\",\"PIMENTAO VERDE\",\"QUIABO\",\"REPOLHO\",\"TANGERINA\",\"TOMATE\",\"UVA ITALIA\",\"UVA NIAGARA\",\"UVA RUBI\",\"VAGEM\"],\"xaxis\":\"x\",\"y\":[4.929999828338623,6.75,3.299999952316284,3.359999895095825,20.1299991607666,19.68000030517578,3.240000009536743,5.079999923706055,6.710000038146973,3.0399999618530273,4.130000114440918,4.329999923706055,9.449999809265137,7.920000076293945,4.420000076293945,6.570000171661377,4.53000020980835,2.9700000286102295,5.760000228881836,6.730000019073486,5.53000020980835,7.610000133514404,5.550000190734863,3.1500000953674316,2.450000047683716,8.989999771118164,4.210000038146973,5.869999885559082,2.859999895095825,10.149999618530273,5.260000228881836,13.109999656677246,2.7100000381469727,4.28000020980835,3.630000114440918,21.5,6.659999847412109,2.940000057220459,11.6899995803833,5.300000190734863,7.059999942779541,3.990000009536743,6.170000076293945,4.840000152587891,12.039999961853027,10.75,12.4399995803833,8.770000457763672],\"yaxis\":\"y\",\"type\":\"bar\",\"texttemplate\":\"%{text:.2f}\"},{\"alignmentgroup\":\"True\",\"hovertemplate\":\"M\\u00eas/Ano=2024-02<br>Produto=%{x}<br>Pre\\u00e7o M\\u00e9dio=%{text}<extra></extra>\",\"legendgroup\":\"2024-02\",\"marker\":{\"color\":\"#EF553B\",\"pattern\":{\"shape\":\"\"}},\"name\":\"2024-02\",\"offsetgroup\":\"2024-02\",\"orientation\":\"v\",\"showlegend\":true,\"text\":[4.119999885559082,7.0,3.990000009536743,3.4800000190734863,22.700000762939453,19.709999084472656,4.070000171661377,5.46999979019165,6.170000076293945,3.259999990463257,3.2100000381469727,4.559999942779541,9.90999984741211,7.96999979019165,5.190000057220459,6.360000133514404,5.039999961853027,3.2200000286102295,6.650000095367432,7.03000020980835,4.889999866485596,7.539999961853027,5.829999923706055,3.509999990463257,2.390000104904175,8.899999618530273,3.950000047683716,6.059999942779541,2.6500000953674316,10.75,5.53000020980835,9.09000015258789,2.299999952316284,4.349999904632568,3.640000104904175,22.329999923706055,7.139999866485596,3.069999933242798,11.529999732971191,5.320000171661377,6.670000076293945,3.619999885559082,6.550000190734863,5.199999809265137,11.829999923706055,10.470000267028809,12.6899995803833,9.40999984741211],\"textposition\":\"inside\",\"x\":[\"ABACATE\",\"ABACAXI\",\"ABOBORA\",\"ABOBRINHA\",\"ALFACE\",\"ALHO\",\"BANANA NANICA\",\"BANANA PRATA\",\"BATATA\",\"BATATA DOCE\",\"BERINJELA\",\"BETERRABA\",\"BROCOLO\",\"CARA\",\"CEBOLA\",\"CENOURA\",\"CHUCHU\",\"COCO VERDE\",\"COUVE\",\"COUVE-FLOR\",\"GOIABA\",\"INHAME\",\"JILO\",\"LARANJA PERA\",\"LIMAO TAHITI\",\"MACA\",\"MAMAO FORMOSA\",\"MAMAO HAWAY\",\"MANDIOCA\",\"MANDIOQUINHA\",\"MANGA\",\"MARACUJA AZEDO\",\"MELANCIA\",\"MELAO AMARELO\",\"MILHO VERDE\",\"MORANGO\",\"OVOS\",\"PEPINO\",\"PERA IMPORTADA\",\"PIMENTAO VERDE\",\"QUIABO\",\"REPOLHO\",\"TANGERINA\",\"TOMATE\",\"UVA ITALIA\",\"UVA NIAGARA\",\"UVA RUBI\",\"VAGEM\"],\"xaxis\":\"x\",\"y\":[4.119999885559082,7.0,3.990000009536743,3.4800000190734863,22.700000762939453,19.709999084472656,4.070000171661377,5.46999979019165,6.170000076293945,3.259999990463257,3.2100000381469727,4.559999942779541,9.90999984741211,7.96999979019165,5.190000057220459,6.360000133514404,5.039999961853027,3.2200000286102295,6.650000095367432,7.03000020980835,4.889999866485596,7.539999961853027,5.829999923706055,3.509999990463257,2.390000104904175,8.899999618530273,3.950000047683716,6.059999942779541,2.6500000953674316,10.75,5.53000020980835,9.09000015258789,2.299999952316284,4.349999904632568,3.640000104904175,22.329999923706055,7.139999866485596,3.069999933242798,11.529999732971191,5.320000171661377,6.670000076293945,3.619999885559082,6.550000190734863,5.199999809265137,11.829999923706055,10.470000267028809,12.6899995803833,9.40999984741211],\"yaxis\":\"y\",\"type\":\"bar\",\"texttemplate\":\"%{text:.2f}\"},{\"alignmentgroup\":\"True\",\"hovertemplate\":\"M\\u00eas/Ano=2024-03<br>Produto=%{x}<br>Pre\\u00e7o M\\u00e9dio=%{text}<extra></extra>\",\"legendgroup\":\"2024-03\",\"marker\":{\"color\":\"#00cc96\",\"pattern\":{\"shape\":\"\"}},\"name\":\"2024-03\",\"offsetgroup\":\"2024-03\",\"orientation\":\"v\",\"showlegend\":true,\"text\":[3.9600000381469727,6.760000228881836,4.420000076293945,3.799999952316284,24.920000076293945,23.18000030517578,4.010000228881836,6.079999923706055,4.760000228881836,3.5899999141693115,3.490000009536743,5.269999980926514,11.850000381469727,8.180000305175781,6.090000152587891,6.110000133514404,4.079999923706055,3.359999895095825,8.260000228881836,6.840000152587891,5.099999904632568,7.940000057220459,6.289999961853027,3.7300000190734863,2.75,8.829999923706055,4.440000057220459,6.96999979019165,2.7899999618530273,11.90999984741211,5.889999866485596,8.260000228881836,2.630000114440918,4.96999979019165,3.549999952316284,27.940000534057617,7.460000038146973,3.319999933242798,11.180000305175781,6.96999979019165,6.550000190734863,3.430000066757202,6.28000020980835,6.300000190734863,12.260000228881836,11.25,12.979999542236328,10.640000343322754],\"textposition\":\"inside\",\"x\":[\"ABACATE\",\"ABACAXI\",\"ABOBORA\",\"ABOBRINHA\",\"ALFACE\",\"ALHO\",\"BANANA NANICA\",\"BANANA PRATA\",\"BATATA\",\"BATATA DOCE\",\"BERINJELA\",\"BETERRABA\",\"BROCOLO\",\"CARA\",\"CEBOLA\",\"CENOURA\",\"CHUCHU\",\"COCO VERDE\",\"COUVE\",\"COUVE-FLOR\",\"GOIABA\",\"INHAME\",\"JILO\",\"LARANJA PERA\",\"LIMAO TAHITI\",\"MACA\",\"MAMAO FORMOSA\",\"MAMAO HAWAY\",\"MANDIOCA\",\"MANDIOQUINHA\",\"MANGA\",\"MARACUJA AZEDO\",\"MELANCIA\",\"MELAO AMARELO\",\"MILHO VERDE\",\"MORANGO\",\"OVOS\",\"PEPINO\",\"PERA IMPORTADA\",\"PIMENTAO VERDE\",\"QUIABO\",\"REPOLHO\",\"TANGERINA\",\"TOMATE\",\"UVA ITALIA\",\"UVA NIAGARA\",\"UVA RUBI\",\"VAGEM\"],\"xaxis\":\"x\",\"y\":[3.9600000381469727,6.760000228881836,4.420000076293945,3.799999952316284,24.920000076293945,23.18000030517578,4.010000228881836,6.079999923706055,4.760000228881836,3.5899999141693115,3.490000009536743,5.269999980926514,11.850000381469727,8.180000305175781,6.090000152587891,6.110000133514404,4.079999923706055,3.359999895095825,8.260000228881836,6.840000152587891,5.099999904632568,7.940000057220459,6.289999961853027,3.7300000190734863,2.75,8.829999923706055,4.440000057220459,6.96999979019165,2.7899999618530273,11.90999984741211,5.889999866485596,8.260000228881836,2.630000114440918,4.96999979019165,3.549999952316284,27.940000534057617,7.460000038146973,3.319999933242798,11.180000305175781,6.96999979019165,6.550000190734863,3.430000066757202,6.28000020980835,6.300000190734863,12.260000228881836,11.25,12.979999542236328,10.640000343322754],\"yaxis\":\"y\",\"type\":\"bar\",\"texttemplate\":\"%{text:.2f}\"},{\"alignmentgroup\":\"True\",\"hovertemplate\":\"M\\u00eas/Ano=2024-04<br>Produto=%{x}<br>Pre\\u00e7o M\\u00e9dio=%{text}<extra></extra>\",\"legendgroup\":\"2024-04\",\"marker\":{\"color\":\"#ab63fa\",\"pattern\":{\"shape\":\"\"}},\"name\":\"2024-04\",\"offsetgroup\":\"2024-04\",\"orientation\":\"v\",\"showlegend\":true,\"text\":[3.759999990463257,6.489999771118164,3.890000104904175,3.880000114440918,26.110000610351562,27.6200008392334,3.3299999237060547,5.630000114440918,4.610000133514404,3.5299999713897705,3.619999885559082,6.579999923706055,12.09000015258789,7.539999961853027,7.230000019073486,6.519999980926514,3.990000009536743,3.5,9.149999618530273,7.489999771118164,5.550000190734863,7.539999961853027,6.630000114440918,3.630000114440918,2.680000066757202,9.15999984741211,4.610000133514404,10.609999656677246,2.630000114440918,13.300000190734863,5.110000133514404,7.519999980926514,2.6500000953674316,5.239999771118164,3.490000009536743,32.90999984741211,7.420000076293945,3.1500000953674316,10.770000457763672,7.380000114440918,7.320000171661377,3.309999942779541,5.179999828338623,6.960000038146973,11.729999542236328,11.619999885559082,12.640000343322754,11.319999694824219],\"textposition\":\"inside\",\"x\":[\"ABACATE\",\"ABACAXI\",\"ABOBORA\",\"ABOBRINHA\",\"ALFACE\",\"ALHO\",\"BANANA NANICA\",\"BANANA PRATA\",\"BATATA\",\"BATATA DOCE\",\"BERINJELA\",\"BETERRABA\",\"BROCOLO\",\"CARA\",\"CEBOLA\",\"CENOURA\",\"CHUCHU\",\"COCO VERDE\",\"COUVE\",\"COUVE-FLOR\",\"GOIABA\",\"INHAME\",\"JILO\",\"LARANJA PERA\",\"LIMAO TAHITI\",\"MACA\",\"MAMAO FORMOSA\",\"MAMAO HAWAY\",\"MANDIOCA\",\"MANDIOQUINHA\",\"MANGA\",\"MARACUJA AZEDO\",\"MELANCIA\",\"MELAO AMARELO\",\"MILHO VERDE\",\"MORANGO\",\"OVOS\",\"PEPINO\",\"PERA IMPORTADA\",\"PIMENTAO VERDE\",\"QUIABO\",\"REPOLHO\",\"TANGERINA\",\"TOMATE\",\"UVA ITALIA\",\"UVA NIAGARA\",\"UVA RUBI\",\"VAGEM\"],\"xaxis\":\"x\",\"y\":[3.759999990463257,6.489999771118164,3.890000104904175,3.880000114440918,26.110000610351562,27.6200008392334,3.3299999237060547,5.630000114440918,4.610000133514404,3.5299999713897705,3.619999885559082,6.579999923706055,12.09000015258789,7.539999961853027,7.230000019073486,6.519999980926514,3.990000009536743,3.5,9.149999618530273,7.489999771118164,5.550000190734863,7.539999961853027,6.630000114440918,3.630000114440918,2.680000066757202,9.15999984741211,4.610000133514404,10.609999656677246,2.630000114440918,13.300000190734863,5.110000133514404,7.519999980926514,2.6500000953674316,5.239999771118164,3.490000009536743,32.90999984741211,7.420000076293945,3.1500000953674316,10.770000457763672,7.380000114440918,7.320000171661377,3.309999942779541,5.179999828338623,6.960000038146973,11.729999542236328,11.619999885559082,12.640000343322754,11.319999694824219],\"yaxis\":\"y\",\"type\":\"bar\",\"texttemplate\":\"%{text:.2f}\"},{\"alignmentgroup\":\"True\",\"hovertemplate\":\"M\\u00eas/Ano=2024-05<br>Produto=%{x}<br>Pre\\u00e7o M\\u00e9dio=%{text}<extra></extra>\",\"legendgroup\":\"2024-05\",\"marker\":{\"color\":\"#FFA15A\",\"pattern\":{\"shape\":\"\"}},\"name\":\"2024-05\",\"offsetgroup\":\"2024-05\",\"orientation\":\"v\",\"showlegend\":true,\"text\":[3.819999933242798,6.920000076293945,3.309999942779541,3.569999933242798,25.809999465942383,27.770000457763672,2.799999952316284,4.949999809265137,6.369999885559082,3.450000047683716,3.5299999713897705,7.170000076293945,11.84000015258789,6.949999809265137,6.929999828338623,6.71999979019165,3.069999933242798,3.430000066757202,8.6899995803833,7.059999942779541,5.760000228881836,7.550000190734863,6.380000114440918,3.3499999046325684,2.509999990463257,9.529999732971191,4.630000114440918,8.90999984741211,2.7200000286102295,14.0600004196167,6.050000190734863,7.949999809265137,2.890000104904175,5.789999961853027,3.630000114440918,32.91999816894531,6.909999847412109,3.0299999713897705,10.479999542236328,6.75,6.980000019073486,3.3399999141693115,4.349999904632568,6.559999942779541,11.479999542236328,12.09000015258789,12.380000114440918,11.649999618530273],\"textposition\":\"inside\",\"x\":[\"ABACATE\",\"ABACAXI\",\"ABOBORA\",\"ABOBRINHA\",\"ALFACE\",\"ALHO\",\"BANANA NANICA\",\"BANANA PRATA\",\"BATATA\",\"BATATA DOCE\",\"BERINJELA\",\"BETERRABA\",\"BROCOLO\",\"CARA\",\"CEBOLA\",\"CENOURA\",\"CHUCHU\",\"COCO VERDE\",\"COUVE\",\"COUVE-FLOR\",\"GOIABA\",\"INHAME\",\"JILO\",\"LARANJA PERA\",\"LIMAO TAHITI\",\"MACA\",\"MAMAO FORMOSA\",\"MAMAO HAWAY\",\"MANDIOCA\",\"MANDIOQUINHA\",\"MANGA\",\"MARACUJA AZEDO\",\"MELANCIA\",\"MELAO AMARELO\",\"MILHO VERDE\",\"MORANGO\",\"OVOS\",\"PEPINO\",\"PERA IMPORTADA\",\"PIMENTAO VERDE\",\"QUIABO\",\"REPOLHO\",\"TANGERINA\",\"TOMATE\",\"UVA ITALIA\",\"UVA NIAGARA\",\"UVA RUBI\",\"VAGEM\"],\"xaxis\":\"x\",\"y\":[3.819999933242798,6.920000076293945,3.309999942779541,3.569999933242798,25.809999465942383,27.770000457763672,2.799999952316284,4.949999809265137,6.369999885559082,3.450000047683716,3.5299999713897705,7.170000076293945,11.84000015258789,6.949999809265137,6.929999828338623,6.71999979019165,3.069999933242798,3.430000066757202,8.6899995803833,7.059999942779541,5.760000228881836,7.550000190734863,6.380000114440918,3.3499999046325684,2.509999990463257,9.529999732971191,4.630000114440918,8.90999984741211,2.7200000286102295,14.0600004196167,6.050000190734863,7.949999809265137,2.890000104904175,5.789999961853027,3.630000114440918,32.91999816894531,6.909999847412109,3.0299999713897705,10.479999542236328,6.75,6.980000019073486,3.3399999141693115,4.349999904632568,6.559999942779541,11.479999542236328,12.09000015258789,12.380000114440918,11.649999618530273],\"yaxis\":\"y\",\"type\":\"bar\",\"texttemplate\":\"%{text:.2f}\"},{\"alignmentgroup\":\"True\",\"hovertemplate\":\"M\\u00eas/Ano=2024-06<br>Produto=%{x}<br>Pre\\u00e7o M\\u00e9dio=%{text}<extra></extra>\",\"legendgroup\":\"2024-06\",\"marker\":{\"color\":\"#19d3f3\",\"pattern\":{\"shape\":\"\"}},\"name\":\"2024-06\",\"offsetgroup\":\"2024-06\",\"orientation\":\"v\",\"showlegend\":true,\"text\":[4.230000019073486,7.320000171661377,3.049999952316284,4.329999923706055,23.68000030517578,29.329999923706055,3.0399999618530273,4.599999904632568,7.550000190734863,3.359999895095825,3.6600000858306885,5.840000152587891,13.079999923706055,7.059999942779541,6.210000038146973,5.940000057220459,3.0299999713897705,3.4000000953674316,8.40999984741211,7.079999923706055,5.960000038146973,7.670000076293945,7.21999979019165,3.3299999237060547,2.609999895095825,9.920000076293945,4.170000076293945,6.769999980926514,2.6600000858306885,15.020000457763672,7.420000076293945,7.289999961853027,2.4600000381469727,6.010000228881836,4.090000152587891,32.91999816894531,6.940000057220459,3.2200000286102295,10.390000343322754,5.699999809265137,9.640000343322754,3.4800000190734863,4.389999866485596,6.510000228881836,11.75,13.270000457763672,12.75,12.180000305175781],\"textposition\":\"inside\",\"x\":[\"ABACATE\",\"ABACAXI\",\"ABOBORA\",\"ABOBRINHA\",\"ALFACE\",\"ALHO\",\"BANANA NANICA\",\"BANANA PRATA\",\"BATATA\",\"BATATA DOCE\",\"BERINJELA\",\"BETERRABA\",\"BROCOLO\",\"CARA\",\"CEBOLA\",\"CENOURA\",\"CHUCHU\",\"COCO VERDE\",\"COUVE\",\"COUVE-FLOR\",\"GOIABA\",\"INHAME\",\"JILO\",\"LARANJA PERA\",\"LIMAO TAHITI\",\"MACA\",\"MAMAO FORMOSA\",\"MAMAO HAWAY\",\"MANDIOCA\",\"MANDIOQUINHA\",\"MANGA\",\"MARACUJA AZEDO\",\"MELANCIA\",\"MELAO AMARELO\",\"MILHO VERDE\",\"MORANGO\",\"OVOS\",\"PEPINO\",\"PERA IMPORTADA\",\"PIMENTAO VERDE\",\"QUIABO\",\"REPOLHO\",\"TANGERINA\",\"TOMATE\",\"UVA ITALIA\",\"UVA NIAGARA\",\"UVA RUBI\",\"VAGEM\"],\"xaxis\":\"x\",\"y\":[4.230000019073486,7.320000171661377,3.049999952316284,4.329999923706055,23.68000030517578,29.329999923706055,3.0399999618530273,4.599999904632568,7.550000190734863,3.359999895095825,3.6600000858306885,5.840000152587891,13.079999923706055,7.059999942779541,6.210000038146973,5.940000057220459,3.0299999713897705,3.4000000953674316,8.40999984741211,7.079999923706055,5.960000038146973,7.670000076293945,7.21999979019165,3.3299999237060547,2.609999895095825,9.920000076293945,4.170000076293945,6.769999980926514,2.6600000858306885,15.020000457763672,7.420000076293945,7.289999961853027,2.4600000381469727,6.010000228881836,4.090000152587891,32.91999816894531,6.940000057220459,3.2200000286102295,10.390000343322754,5.699999809265137,9.640000343322754,3.4800000190734863,4.389999866485596,6.510000228881836,11.75,13.270000457763672,12.75,12.180000305175781],\"yaxis\":\"y\",\"type\":\"bar\",\"texttemplate\":\"%{text:.2f}\"}],                        {\"template\":{\"data\":{\"histogram2dcontour\":[{\"type\":\"histogram2dcontour\",\"colorbar\":{\"outlinewidth\":0,\"ticks\":\"\"},\"colorscale\":[[0.0,\"#0d0887\"],[0.1111111111111111,\"#46039f\"],[0.2222222222222222,\"#7201a8\"],[0.3333333333333333,\"#9c179e\"],[0.4444444444444444,\"#bd3786\"],[0.5555555555555556,\"#d8576b\"],[0.6666666666666666,\"#ed7953\"],[0.7777777777777778,\"#fb9f3a\"],[0.8888888888888888,\"#fdca26\"],[1.0,\"#f0f921\"]]}],\"choropleth\":[{\"type\":\"choropleth\",\"colorbar\":{\"outlinewidth\":0,\"ticks\":\"\"}}],\"histogram2d\":[{\"type\":\"histogram2d\",\"colorbar\":{\"outlinewidth\":0,\"ticks\":\"\"},\"colorscale\":[[0.0,\"#0d0887\"],[0.1111111111111111,\"#46039f\"],[0.2222222222222222,\"#7201a8\"],[0.3333333333333333,\"#9c179e\"],[0.4444444444444444,\"#bd3786\"],[0.5555555555555556,\"#d8576b\"],[0.6666666666666666,\"#ed7953\"],[0.7777777777777778,\"#fb9f3a\"],[0.8888888888888888,\"#fdca26\"],[1.0,\"#f0f921\"]]}],\"heatmap\":[{\"type\":\"heatmap\",\"colorbar\":{\"outlinewidth\":0,\"ticks\":\"\"},\"colorscale\":[[0.0,\"#0d0887\"],[0.1111111111111111,\"#46039f\"],[0.2222222222222222,\"#7201a8\"],[0.3333333333333333,\"#9c179e\"],[0.4444444444444444,\"#bd3786\"],[0.5555555555555556,\"#d8576b\"],[0.6666666666666666,\"#ed7953\"],[0.7777777777777778,\"#fb9f3a\"],[0.8888888888888888,\"#fdca26\"],[1.0,\"#f0f921\"]]}],\"heatmapgl\":[{\"type\":\"heatmapgl\",\"colorbar\":{\"outlinewidth\":0,\"ticks\":\"\"},\"colorscale\":[[0.0,\"#0d0887\"],[0.1111111111111111,\"#46039f\"],[0.2222222222222222,\"#7201a8\"],[0.3333333333333333,\"#9c179e\"],[0.4444444444444444,\"#bd3786\"],[0.5555555555555556,\"#d8576b\"],[0.6666666666666666,\"#ed7953\"],[0.7777777777777778,\"#fb9f3a\"],[0.8888888888888888,\"#fdca26\"],[1.0,\"#f0f921\"]]}],\"contourcarpet\":[{\"type\":\"contourcarpet\",\"colorbar\":{\"outlinewidth\":0,\"ticks\":\"\"}}],\"contour\":[{\"type\":\"contour\",\"colorbar\":{\"outlinewidth\":0,\"ticks\":\"\"},\"colorscale\":[[0.0,\"#0d0887\"],[0.1111111111111111,\"#46039f\"],[0.2222222222222222,\"#7201a8\"],[0.3333333333333333,\"#9c179e\"],[0.4444444444444444,\"#bd3786\"],[0.5555555555555556,\"#d8576b\"],[0.6666666666666666,\"#ed7953\"],[0.7777777777777778,\"#fb9f3a\"],[0.8888888888888888,\"#fdca26\"],[1.0,\"#f0f921\"]]}],\"surface\":[{\"type\":\"surface\",\"colorbar\":{\"outlinewidth\":0,\"ticks\":\"\"},\"colorscale\":[[0.0,\"#0d0887\"],[0.1111111111111111,\"#46039f\"],[0.2222222222222222,\"#7201a8\"],[0.3333333333333333,\"#9c179e\"],[0.4444444444444444,\"#bd3786\"],[0.5555555555555556,\"#d8576b\"],[0.6666666666666666,\"#ed7953\"],[0.7777777777777778,\"#fb9f3a\"],[0.8888888888888888,\"#fdca26\"],[1.0,\"#f0f921\"]]}],\"mesh3d\":[{\"type\":\"mesh3d\",\"colorbar\":{\"outlinewidth\":0,\"ticks\":\"\"}}],\"scatter\":[{\"fillpattern\":{\"fillmode\":\"overlay\",\"size\":10,\"solidity\":0.2},\"type\":\"scatter\"}],\"parcoords\":[{\"type\":\"parcoords\",\"line\":{\"colorbar\":{\"outlinewidth\":0,\"ticks\":\"\"}}}],\"scatterpolargl\":[{\"type\":\"scatterpolargl\",\"marker\":{\"colorbar\":{\"outlinewidth\":0,\"ticks\":\"\"}}}],\"bar\":[{\"error_x\":{\"color\":\"#2a3f5f\"},\"error_y\":{\"color\":\"#2a3f5f\"},\"marker\":{\"line\":{\"color\":\"#E5ECF6\",\"width\":0.5},\"pattern\":{\"fillmode\":\"overlay\",\"size\":10,\"solidity\":0.2}},\"type\":\"bar\"}],\"scattergeo\":[{\"type\":\"scattergeo\",\"marker\":{\"colorbar\":{\"outlinewidth\":0,\"ticks\":\"\"}}}],\"scatterpolar\":[{\"type\":\"scatterpolar\",\"marker\":{\"colorbar\":{\"outlinewidth\":0,\"ticks\":\"\"}}}],\"histogram\":[{\"marker\":{\"pattern\":{\"fillmode\":\"overlay\",\"size\":10,\"solidity\":0.2}},\"type\":\"histogram\"}],\"scattergl\":[{\"type\":\"scattergl\",\"marker\":{\"colorbar\":{\"outlinewidth\":0,\"ticks\":\"\"}}}],\"scatter3d\":[{\"type\":\"scatter3d\",\"line\":{\"colorbar\":{\"outlinewidth\":0,\"ticks\":\"\"}},\"marker\":{\"colorbar\":{\"outlinewidth\":0,\"ticks\":\"\"}}}],\"scattermapbox\":[{\"type\":\"scattermapbox\",\"marker\":{\"colorbar\":{\"outlinewidth\":0,\"ticks\":\"\"}}}],\"scatterternary\":[{\"type\":\"scatterternary\",\"marker\":{\"colorbar\":{\"outlinewidth\":0,\"ticks\":\"\"}}}],\"scattercarpet\":[{\"type\":\"scattercarpet\",\"marker\":{\"colorbar\":{\"outlinewidth\":0,\"ticks\":\"\"}}}],\"carpet\":[{\"aaxis\":{\"endlinecolor\":\"#2a3f5f\",\"gridcolor\":\"white\",\"linecolor\":\"white\",\"minorgridcolor\":\"white\",\"startlinecolor\":\"#2a3f5f\"},\"baxis\":{\"endlinecolor\":\"#2a3f5f\",\"gridcolor\":\"white\",\"linecolor\":\"white\",\"minorgridcolor\":\"white\",\"startlinecolor\":\"#2a3f5f\"},\"type\":\"carpet\"}],\"table\":[{\"cells\":{\"fill\":{\"color\":\"#EBF0F8\"},\"line\":{\"color\":\"white\"}},\"header\":{\"fill\":{\"color\":\"#C8D4E3\"},\"line\":{\"color\":\"white\"}},\"type\":\"table\"}],\"barpolar\":[{\"marker\":{\"line\":{\"color\":\"#E5ECF6\",\"width\":0.5},\"pattern\":{\"fillmode\":\"overlay\",\"size\":10,\"solidity\":0.2}},\"type\":\"barpolar\"}],\"pie\":[{\"automargin\":true,\"type\":\"pie\"}]},\"layout\":{\"autotypenumbers\":\"strict\",\"colorway\":[\"#636efa\",\"#EF553B\",\"#00cc96\",\"#ab63fa\",\"#FFA15A\",\"#19d3f3\",\"#FF6692\",\"#B6E880\",\"#FF97FF\",\"#FECB52\"],\"font\":{\"color\":\"#2a3f5f\"},\"hovermode\":\"closest\",\"hoverlabel\":{\"align\":\"left\"},\"paper_bgcolor\":\"white\",\"plot_bgcolor\":\"#E5ECF6\",\"polar\":{\"bgcolor\":\"#E5ECF6\",\"angularaxis\":{\"gridcolor\":\"white\",\"linecolor\":\"white\",\"ticks\":\"\"},\"radialaxis\":{\"gridcolor\":\"white\",\"linecolor\":\"white\",\"ticks\":\"\"}},\"ternary\":{\"bgcolor\":\"#E5ECF6\",\"aaxis\":{\"gridcolor\":\"white\",\"linecolor\":\"white\",\"ticks\":\"\"},\"baxis\":{\"gridcolor\":\"white\",\"linecolor\":\"white\",\"ticks\":\"\"},\"caxis\":{\"gridcolor\":\"white\",\"linecolor\":\"white\",\"ticks\":\"\"}},\"coloraxis\":{\"colorbar\":{\"outlinewidth\":0,\"ticks\":\"\"}},\"colorscale\":{\"sequential\":[[0.0,\"#0d0887\"],[0.1111111111111111,\"#46039f\"],[0.2222222222222222,\"#7201a8\"],[0.3333333333333333,\"#9c179e\"],[0.4444444444444444,\"#bd3786\"],[0.5555555555555556,\"#d8576b\"],[0.6666666666666666,\"#ed7953\"],[0.7777777777777778,\"#fb9f3a\"],[0.8888888888888888,\"#fdca26\"],[1.0,\"#f0f921\"]],\"sequentialminus\":[[0.0,\"#0d0887\"],[0.1111111111111111,\"#46039f\"],[0.2222222222222222,\"#7201a8\"],[0.3333333333333333,\"#9c179e\"],[0.4444444444444444,\"#bd3786\"],[0.5555555555555556,\"#d8576b\"],[0.6666666666666666,\"#ed7953\"],[0.7777777777777778,\"#fb9f3a\"],[0.8888888888888888,\"#fdca26\"],[1.0,\"#f0f921\"]],\"diverging\":[[0,\"#8e0152\"],[0.1,\"#c51b7d\"],[0.2,\"#de77ae\"],[0.3,\"#f1b6da\"],[0.4,\"#fde0ef\"],[0.5,\"#f7f7f7\"],[0.6,\"#e6f5d0\"],[0.7,\"#b8e186\"],[0.8,\"#7fbc41\"],[0.9,\"#4d9221\"],[1,\"#276419\"]]},\"xaxis\":{\"gridcolor\":\"white\",\"linecolor\":\"white\",\"ticks\":\"\",\"title\":{\"standoff\":15},\"zerolinecolor\":\"white\",\"automargin\":true,\"zerolinewidth\":2},\"yaxis\":{\"gridcolor\":\"white\",\"linecolor\":\"white\",\"ticks\":\"\",\"title\":{\"standoff\":15},\"zerolinecolor\":\"white\",\"automargin\":true,\"zerolinewidth\":2},\"scene\":{\"xaxis\":{\"backgroundcolor\":\"#E5ECF6\",\"gridcolor\":\"white\",\"linecolor\":\"white\",\"showbackground\":true,\"ticks\":\"\",\"zerolinecolor\":\"white\",\"gridwidth\":2},\"yaxis\":{\"backgroundcolor\":\"#E5ECF6\",\"gridcolor\":\"white\",\"linecolor\":\"white\",\"showbackground\":true,\"ticks\":\"\",\"zerolinecolor\":\"white\",\"gridwidth\":2},\"zaxis\":{\"backgroundcolor\":\"#E5ECF6\",\"gridcolor\":\"white\",\"linecolor\":\"white\",\"showbackground\":true,\"ticks\":\"\",\"zerolinecolor\":\"white\",\"gridwidth\":2}},\"shapedefaults\":{\"line\":{\"color\":\"#2a3f5f\"}},\"annotationdefaults\":{\"arrowcolor\":\"#2a3f5f\",\"arrowhead\":0,\"arrowwidth\":1},\"geo\":{\"bgcolor\":\"white\",\"landcolor\":\"#E5ECF6\",\"subunitcolor\":\"white\",\"showland\":true,\"showlakes\":true,\"lakecolor\":\"white\"},\"title\":{\"x\":0.05},\"mapbox\":{\"style\":\"light\"}}},\"xaxis\":{\"anchor\":\"y\",\"domain\":[0.0,1.0],\"title\":{\"text\":\"Produto\"}},\"yaxis\":{\"anchor\":\"x\",\"domain\":[0.0,1.0],\"title\":{\"text\":\"Pre\\u00e7o M\\u00e9dio\"}},\"legend\":{\"title\":{\"text\":\"M\\u00eas/Ano\"},\"tracegroupgap\":0},\"title\":{\"text\":\"Evolu\\u00e7\\u00e3o Mensal do Pre\\u00e7o M\\u00e9dio dos Produtos\"},\"barmode\":\"group\"},                        {\"responsive\": true}                    )                };                            </script>        </div>\n",
       "</body>\n",
       "</html>"
      ]
     },
     "metadata": {},
     "output_type": "display_data"
    }
   ],
   "source": [
    "import plotly.express as px\n",
    "import pandas as pd\n",
    "\n",
    "# Criar o gráfico de barras interativo com rótulos de dados\n",
    "fig = px.bar(df_resposta_2_pandas, x='Produto', y='Preco_Medio_Geral', color='Ano_Mes', barmode='group',\n",
    "             labels={'Preco_Medio_Geral':'Preço Médio', 'Ano_Mes':'Mês/Ano'},\n",
    "             title='Evolução Mensal do Preço Médio dos Produtos',\n",
    "             text='Preco_Medio_Geral')  # Adiciona os rótulos de dados\n",
    "\n",
    "# Ajustar a posição dos rótulos de dados\n",
    "fig.update_traces(textposition='inside', texttemplate='%{text:.2f}')\n",
    "\n",
    "# Mostrar o gráfico\n",
    "fig.show()"
   ]
  },
  {
   "cell_type": "markdown",
   "metadata": {
    "application/vnd.databricks.v1+cell": {
     "cellMetadata": {},
     "inputWidgets": {},
     "nuid": "f39d9e21-e188-4417-bd29-9c12349a57f7",
     "showTitle": false,
     "title": ""
    }
   },
   "source": [
    "##### 3 - Qual o Estado com os maiores custos de produtos unitários de hortifruti do brasil  "
   ]
  },
  {
   "cell_type": "code",
   "execution_count": 0,
   "metadata": {
    "application/vnd.databricks.v1+cell": {
     "cellMetadata": {
      "byteLimit": 2048000,
      "implicitDf": true,
      "rowLimit": 10000
     },
     "inputWidgets": {},
     "nuid": "262d34fe-0d3a-4d48-b009-301023bce771",
     "showTitle": false,
     "title": ""
    }
   },
   "outputs": [],
   "source": [
    "#Consultando Tabela Fato_horigrangeiros e salvando na variavel df_resposta_3 via spark Sql\n",
    "\n",
    "df_resposta_3 = spark.sql(\"\"\"SELECT UF,\n",
    "    count(Produto) as Qtd_produto,\n",
    "    round(sum(Preco_Medio),2) as total,\n",
    "    round(total/Qtd_produto,2) as custo_und\n",
    "FROM gold.tables.fato_hortigrangeiros\n",
    "GROUP BY\n",
    "UF\n",
    "\n",
    "ORDER BY\n",
    "custo_und DESC\n",
    "\"\"\")"
   ]
  },
  {
   "cell_type": "code",
   "execution_count": 0,
   "metadata": {
    "application/vnd.databricks.v1+cell": {
     "cellMetadata": {
      "byteLimit": 2048000,
      "rowLimit": 10000
     },
     "inputWidgets": {},
     "nuid": "f6d4288f-2e72-4996-87b5-e30a29879b1f",
     "showTitle": false,
     "title": ""
    }
   },
   "outputs": [
    {
     "output_type": "stream",
     "name": "stdout",
     "output_type": "stream",
     "text": [
      "+---+-----------+---------+---------+\n| UF|Qtd_produto|    total|custo_und|\n+---+-----------+---------+---------+\n| MA|       6096| 69236.81|    11.36|\n| MT|       5448| 47698.37|     8.76|\n| RN|       2959| 23707.18|     8.01|\n| PA|       1818| 14475.21|     7.96|\n| CE|       4702| 37327.87|     7.94|\n| DF|       5950| 47160.57|     7.93|\n| PR|      15867| 123346.4|     7.77|\n| RS|       3599| 27848.69|     7.74|\n| SP|      29661|210180.17|     7.09|\n| MG|       6094| 42816.55|     7.03|\n| MS|        288|  2007.05|     6.97|\n| RJ|       5520| 38130.65|     6.91|\n| SC|        768|  4996.35|     6.51|\n| PB|       5755| 37240.49|     6.47|\n| GO|        960|  6205.13|     6.46|\n| AL|       3278| 21107.96|     6.44|\n| TO|        576|  3650.44|     6.34|\n| PE|       4762|  29694.5|     6.24|\n| ES|       5015| 30931.56|     6.17|\n| BA|       6468|  39148.9|     6.05|\n+---+-----------+---------+---------+\n\n"
     ]
    }
   ],
   "source": [
    "# Validando se dataframe df_resposta_3 está funcionando corretamente\n",
    "df_resposta_3.show()"
   ]
  },
  {
   "cell_type": "code",
   "execution_count": 0,
   "metadata": {
    "application/vnd.databricks.v1+cell": {
     "cellMetadata": {
      "byteLimit": 2048000,
      "rowLimit": 10000
     },
     "inputWidgets": {},
     "nuid": "92481cdf-c250-44e4-a92e-1884fd8d147b",
     "showTitle": false,
     "title": ""
    }
   },
   "outputs": [],
   "source": [
    "# Converter o resultado para um Pandas DataFrame\n",
    "df_resposta_3_pandas = df_resposta_3.toPandas()"
   ]
  },
  {
   "cell_type": "markdown",
   "metadata": {
    "application/vnd.databricks.v1+cell": {
     "cellMetadata": {},
     "inputWidgets": {},
     "nuid": "7c9d493d-815c-4beb-8de5-49cde6654ecb",
     "showTitle": false,
     "title": ""
    }
   },
   "source": [
    "###### RESPOSTA: O Estado com maiores custos unitários de produtos de Hortifruti é o Estado MA.  \n",
    "Para essa Analise fiz uma divisão da quantidade de produtos totais pelos custos totais do Estado.  \n",
    "Deixo um gráfico abaixo com o custo unitário total de cada UF   "
   ]
  },
  {
   "cell_type": "markdown",
   "metadata": {
    "application/vnd.databricks.v1+cell": {
     "cellMetadata": {},
     "inputWidgets": {},
     "nuid": "1b315451-d283-432c-a243-e6d927bc5888",
     "showTitle": false,
     "title": ""
    }
   },
   "source": [
    "**Gráfico no README, pois plotly.express não aparece no repositório do github**"
   ]
  },
  {
   "cell_type": "code",
   "execution_count": 0,
   "metadata": {
    "application/vnd.databricks.v1+cell": {
     "cellMetadata": {
      "byteLimit": 2048000,
      "rowLimit": 10000
     },
     "inputWidgets": {},
     "nuid": "c53b99ad-79c6-4908-8b46-b156b683fe12",
     "showTitle": false,
     "title": ""
    }
   },
   "outputs": [
    {
     "output_type": "display_data",
     "data": {
      "text/html": [
       "<html>\n",
       "<head><meta charset=\"utf-8\" /></head>\n",
       "<body>\n",
       "    <div>            <script src=\"https://cdnjs.cloudflare.com/ajax/libs/mathjax/2.7.5/MathJax.js?config=TeX-AMS-MML_SVG\"></script><script type=\"text/javascript\">if (window.MathJax && window.MathJax.Hub && window.MathJax.Hub.Config) {window.MathJax.Hub.Config({SVG: {font: \"STIX-Web\"}});}</script>                <script type=\"text/javascript\">window.PlotlyConfig = {MathJaxConfig: 'local'};</script>\n",
       "        <script src=\"https://cdn.plot.ly/plotly-2.12.1.min.js\"></script>                <div id=\"7443d8da-cc80-4e41-9f74-91c400f3df0b\" class=\"plotly-graph-div\" style=\"height:100%; width:100%;\"></div>            <script type=\"text/javascript\">                                    window.PLOTLYENV=window.PLOTLYENV || {};                                    if (document.getElementById(\"7443d8da-cc80-4e41-9f74-91c400f3df0b\")) {                    Plotly.newPlot(                        \"7443d8da-cc80-4e41-9f74-91c400f3df0b\",                        [{\"alignmentgroup\":\"True\",\"hovertemplate\":\"UF=%{x}<br>custo_und=%{text}<extra></extra>\",\"legendgroup\":\"\",\"marker\":{\"color\":\"#636efa\",\"pattern\":{\"shape\":\"\"}},\"name\":\"\",\"offsetgroup\":\"\",\"orientation\":\"v\",\"showlegend\":false,\"text\":[11.36,8.76,8.01,7.96,7.94,7.93,7.77,7.74,7.09,7.03,6.97,6.91,6.51,6.47,6.46,6.44,6.34,6.24,6.17,6.05],\"textposition\":\"auto\",\"x\":[\"MA\",\"MT\",\"RN\",\"PA\",\"CE\",\"DF\",\"PR\",\"RS\",\"SP\",\"MG\",\"MS\",\"RJ\",\"SC\",\"PB\",\"GO\",\"AL\",\"TO\",\"PE\",\"ES\",\"BA\"],\"xaxis\":\"x\",\"y\":[11.36,8.76,8.01,7.96,7.94,7.93,7.77,7.74,7.09,7.03,6.97,6.91,6.51,6.47,6.46,6.44,6.34,6.24,6.17,6.05],\"yaxis\":\"y\",\"type\":\"bar\"}],                        {\"template\":{\"data\":{\"histogram2dcontour\":[{\"type\":\"histogram2dcontour\",\"colorbar\":{\"outlinewidth\":0,\"ticks\":\"\"},\"colorscale\":[[0.0,\"#0d0887\"],[0.1111111111111111,\"#46039f\"],[0.2222222222222222,\"#7201a8\"],[0.3333333333333333,\"#9c179e\"],[0.4444444444444444,\"#bd3786\"],[0.5555555555555556,\"#d8576b\"],[0.6666666666666666,\"#ed7953\"],[0.7777777777777778,\"#fb9f3a\"],[0.8888888888888888,\"#fdca26\"],[1.0,\"#f0f921\"]]}],\"choropleth\":[{\"type\":\"choropleth\",\"colorbar\":{\"outlinewidth\":0,\"ticks\":\"\"}}],\"histogram2d\":[{\"type\":\"histogram2d\",\"colorbar\":{\"outlinewidth\":0,\"ticks\":\"\"},\"colorscale\":[[0.0,\"#0d0887\"],[0.1111111111111111,\"#46039f\"],[0.2222222222222222,\"#7201a8\"],[0.3333333333333333,\"#9c179e\"],[0.4444444444444444,\"#bd3786\"],[0.5555555555555556,\"#d8576b\"],[0.6666666666666666,\"#ed7953\"],[0.7777777777777778,\"#fb9f3a\"],[0.8888888888888888,\"#fdca26\"],[1.0,\"#f0f921\"]]}],\"heatmap\":[{\"type\":\"heatmap\",\"colorbar\":{\"outlinewidth\":0,\"ticks\":\"\"},\"colorscale\":[[0.0,\"#0d0887\"],[0.1111111111111111,\"#46039f\"],[0.2222222222222222,\"#7201a8\"],[0.3333333333333333,\"#9c179e\"],[0.4444444444444444,\"#bd3786\"],[0.5555555555555556,\"#d8576b\"],[0.6666666666666666,\"#ed7953\"],[0.7777777777777778,\"#fb9f3a\"],[0.8888888888888888,\"#fdca26\"],[1.0,\"#f0f921\"]]}],\"heatmapgl\":[{\"type\":\"heatmapgl\",\"colorbar\":{\"outlinewidth\":0,\"ticks\":\"\"},\"colorscale\":[[0.0,\"#0d0887\"],[0.1111111111111111,\"#46039f\"],[0.2222222222222222,\"#7201a8\"],[0.3333333333333333,\"#9c179e\"],[0.4444444444444444,\"#bd3786\"],[0.5555555555555556,\"#d8576b\"],[0.6666666666666666,\"#ed7953\"],[0.7777777777777778,\"#fb9f3a\"],[0.8888888888888888,\"#fdca26\"],[1.0,\"#f0f921\"]]}],\"contourcarpet\":[{\"type\":\"contourcarpet\",\"colorbar\":{\"outlinewidth\":0,\"ticks\":\"\"}}],\"contour\":[{\"type\":\"contour\",\"colorbar\":{\"outlinewidth\":0,\"ticks\":\"\"},\"colorscale\":[[0.0,\"#0d0887\"],[0.1111111111111111,\"#46039f\"],[0.2222222222222222,\"#7201a8\"],[0.3333333333333333,\"#9c179e\"],[0.4444444444444444,\"#bd3786\"],[0.5555555555555556,\"#d8576b\"],[0.6666666666666666,\"#ed7953\"],[0.7777777777777778,\"#fb9f3a\"],[0.8888888888888888,\"#fdca26\"],[1.0,\"#f0f921\"]]}],\"surface\":[{\"type\":\"surface\",\"colorbar\":{\"outlinewidth\":0,\"ticks\":\"\"},\"colorscale\":[[0.0,\"#0d0887\"],[0.1111111111111111,\"#46039f\"],[0.2222222222222222,\"#7201a8\"],[0.3333333333333333,\"#9c179e\"],[0.4444444444444444,\"#bd3786\"],[0.5555555555555556,\"#d8576b\"],[0.6666666666666666,\"#ed7953\"],[0.7777777777777778,\"#fb9f3a\"],[0.8888888888888888,\"#fdca26\"],[1.0,\"#f0f921\"]]}],\"mesh3d\":[{\"type\":\"mesh3d\",\"colorbar\":{\"outlinewidth\":0,\"ticks\":\"\"}}],\"scatter\":[{\"fillpattern\":{\"fillmode\":\"overlay\",\"size\":10,\"solidity\":0.2},\"type\":\"scatter\"}],\"parcoords\":[{\"type\":\"parcoords\",\"line\":{\"colorbar\":{\"outlinewidth\":0,\"ticks\":\"\"}}}],\"scatterpolargl\":[{\"type\":\"scatterpolargl\",\"marker\":{\"colorbar\":{\"outlinewidth\":0,\"ticks\":\"\"}}}],\"bar\":[{\"error_x\":{\"color\":\"#2a3f5f\"},\"error_y\":{\"color\":\"#2a3f5f\"},\"marker\":{\"line\":{\"color\":\"#E5ECF6\",\"width\":0.5},\"pattern\":{\"fillmode\":\"overlay\",\"size\":10,\"solidity\":0.2}},\"type\":\"bar\"}],\"scattergeo\":[{\"type\":\"scattergeo\",\"marker\":{\"colorbar\":{\"outlinewidth\":0,\"ticks\":\"\"}}}],\"scatterpolar\":[{\"type\":\"scatterpolar\",\"marker\":{\"colorbar\":{\"outlinewidth\":0,\"ticks\":\"\"}}}],\"histogram\":[{\"marker\":{\"pattern\":{\"fillmode\":\"overlay\",\"size\":10,\"solidity\":0.2}},\"type\":\"histogram\"}],\"scattergl\":[{\"type\":\"scattergl\",\"marker\":{\"colorbar\":{\"outlinewidth\":0,\"ticks\":\"\"}}}],\"scatter3d\":[{\"type\":\"scatter3d\",\"line\":{\"colorbar\":{\"outlinewidth\":0,\"ticks\":\"\"}},\"marker\":{\"colorbar\":{\"outlinewidth\":0,\"ticks\":\"\"}}}],\"scattermapbox\":[{\"type\":\"scattermapbox\",\"marker\":{\"colorbar\":{\"outlinewidth\":0,\"ticks\":\"\"}}}],\"scatterternary\":[{\"type\":\"scatterternary\",\"marker\":{\"colorbar\":{\"outlinewidth\":0,\"ticks\":\"\"}}}],\"scattercarpet\":[{\"type\":\"scattercarpet\",\"marker\":{\"colorbar\":{\"outlinewidth\":0,\"ticks\":\"\"}}}],\"carpet\":[{\"aaxis\":{\"endlinecolor\":\"#2a3f5f\",\"gridcolor\":\"white\",\"linecolor\":\"white\",\"minorgridcolor\":\"white\",\"startlinecolor\":\"#2a3f5f\"},\"baxis\":{\"endlinecolor\":\"#2a3f5f\",\"gridcolor\":\"white\",\"linecolor\":\"white\",\"minorgridcolor\":\"white\",\"startlinecolor\":\"#2a3f5f\"},\"type\":\"carpet\"}],\"table\":[{\"cells\":{\"fill\":{\"color\":\"#EBF0F8\"},\"line\":{\"color\":\"white\"}},\"header\":{\"fill\":{\"color\":\"#C8D4E3\"},\"line\":{\"color\":\"white\"}},\"type\":\"table\"}],\"barpolar\":[{\"marker\":{\"line\":{\"color\":\"#E5ECF6\",\"width\":0.5},\"pattern\":{\"fillmode\":\"overlay\",\"size\":10,\"solidity\":0.2}},\"type\":\"barpolar\"}],\"pie\":[{\"automargin\":true,\"type\":\"pie\"}]},\"layout\":{\"autotypenumbers\":\"strict\",\"colorway\":[\"#636efa\",\"#EF553B\",\"#00cc96\",\"#ab63fa\",\"#FFA15A\",\"#19d3f3\",\"#FF6692\",\"#B6E880\",\"#FF97FF\",\"#FECB52\"],\"font\":{\"color\":\"#2a3f5f\"},\"hovermode\":\"closest\",\"hoverlabel\":{\"align\":\"left\"},\"paper_bgcolor\":\"white\",\"plot_bgcolor\":\"#E5ECF6\",\"polar\":{\"bgcolor\":\"#E5ECF6\",\"angularaxis\":{\"gridcolor\":\"white\",\"linecolor\":\"white\",\"ticks\":\"\"},\"radialaxis\":{\"gridcolor\":\"white\",\"linecolor\":\"white\",\"ticks\":\"\"}},\"ternary\":{\"bgcolor\":\"#E5ECF6\",\"aaxis\":{\"gridcolor\":\"white\",\"linecolor\":\"white\",\"ticks\":\"\"},\"baxis\":{\"gridcolor\":\"white\",\"linecolor\":\"white\",\"ticks\":\"\"},\"caxis\":{\"gridcolor\":\"white\",\"linecolor\":\"white\",\"ticks\":\"\"}},\"coloraxis\":{\"colorbar\":{\"outlinewidth\":0,\"ticks\":\"\"}},\"colorscale\":{\"sequential\":[[0.0,\"#0d0887\"],[0.1111111111111111,\"#46039f\"],[0.2222222222222222,\"#7201a8\"],[0.3333333333333333,\"#9c179e\"],[0.4444444444444444,\"#bd3786\"],[0.5555555555555556,\"#d8576b\"],[0.6666666666666666,\"#ed7953\"],[0.7777777777777778,\"#fb9f3a\"],[0.8888888888888888,\"#fdca26\"],[1.0,\"#f0f921\"]],\"sequentialminus\":[[0.0,\"#0d0887\"],[0.1111111111111111,\"#46039f\"],[0.2222222222222222,\"#7201a8\"],[0.3333333333333333,\"#9c179e\"],[0.4444444444444444,\"#bd3786\"],[0.5555555555555556,\"#d8576b\"],[0.6666666666666666,\"#ed7953\"],[0.7777777777777778,\"#fb9f3a\"],[0.8888888888888888,\"#fdca26\"],[1.0,\"#f0f921\"]],\"diverging\":[[0,\"#8e0152\"],[0.1,\"#c51b7d\"],[0.2,\"#de77ae\"],[0.3,\"#f1b6da\"],[0.4,\"#fde0ef\"],[0.5,\"#f7f7f7\"],[0.6,\"#e6f5d0\"],[0.7,\"#b8e186\"],[0.8,\"#7fbc41\"],[0.9,\"#4d9221\"],[1,\"#276419\"]]},\"xaxis\":{\"gridcolor\":\"white\",\"linecolor\":\"white\",\"ticks\":\"\",\"title\":{\"standoff\":15},\"zerolinecolor\":\"white\",\"automargin\":true,\"zerolinewidth\":2},\"yaxis\":{\"gridcolor\":\"white\",\"linecolor\":\"white\",\"ticks\":\"\",\"title\":{\"standoff\":15},\"zerolinecolor\":\"white\",\"automargin\":true,\"zerolinewidth\":2},\"scene\":{\"xaxis\":{\"backgroundcolor\":\"#E5ECF6\",\"gridcolor\":\"white\",\"linecolor\":\"white\",\"showbackground\":true,\"ticks\":\"\",\"zerolinecolor\":\"white\",\"gridwidth\":2},\"yaxis\":{\"backgroundcolor\":\"#E5ECF6\",\"gridcolor\":\"white\",\"linecolor\":\"white\",\"showbackground\":true,\"ticks\":\"\",\"zerolinecolor\":\"white\",\"gridwidth\":2},\"zaxis\":{\"backgroundcolor\":\"#E5ECF6\",\"gridcolor\":\"white\",\"linecolor\":\"white\",\"showbackground\":true,\"ticks\":\"\",\"zerolinecolor\":\"white\",\"gridwidth\":2}},\"shapedefaults\":{\"line\":{\"color\":\"#2a3f5f\"}},\"annotationdefaults\":{\"arrowcolor\":\"#2a3f5f\",\"arrowhead\":0,\"arrowwidth\":1},\"geo\":{\"bgcolor\":\"white\",\"landcolor\":\"#E5ECF6\",\"subunitcolor\":\"white\",\"showland\":true,\"showlakes\":true,\"lakecolor\":\"white\"},\"title\":{\"x\":0.05},\"mapbox\":{\"style\":\"light\"}}},\"xaxis\":{\"anchor\":\"y\",\"domain\":[0.0,1.0],\"title\":{\"text\":\"UF\"}},\"yaxis\":{\"anchor\":\"x\",\"domain\":[0.0,1.0],\"title\":{\"text\":\"custo_und\"}},\"legend\":{\"tracegroupgap\":0},\"title\":{\"text\":\"Evolu\\u00e7\\u00e3o Mensal da Varia\\u00e7\\u00e3o de Pre\\u00e7o M\\u00e9dio dos Produtos\"},\"barmode\":\"group\"},                        {\"responsive\": true}                    )                };                            </script>        </div>\n",
       "</body>\n",
       "</html>"
      ]
     },
     "metadata": {},
     "output_type": "display_data"
    }
   ],
   "source": [
    "import plotly.express as px\n",
    "import pandas as pd\n",
    "\n",
    "\n",
    "\n",
    "# Criar o gráfico de barras interativo\n",
    "fig = px.bar(df_resposta_3_pandas, x='UF', y='custo_und', barmode='group',\n",
    "             labels={'UF':'UF'},\n",
    "             title='Evolução Mensal da Variação de Preço Médio dos Produtos',\n",
    "                text='custo_und')  # Adiciona os rótulos de dados)\n",
    "\n",
    "# Mostrar o gráfico\n",
    "fig.show()"
   ]
  },
  {
   "cell_type": "markdown",
   "metadata": {
    "application/vnd.databricks.v1+cell": {
     "cellMetadata": {},
     "inputWidgets": {},
     "nuid": "e361f2e6-8dc0-483c-81b4-f00cc36b0cde",
     "showTitle": false,
     "title": ""
    }
   },
   "source": [
    "##### 4 - Qual a variação mês a mês dos produtos de hortifruti no ano de 2024"
   ]
  },
  {
   "cell_type": "code",
   "execution_count": 0,
   "metadata": {
    "application/vnd.databricks.v1+cell": {
     "cellMetadata": {
      "byteLimit": 2048000,
      "implicitDf": true,
      "rowLimit": 10000
     },
     "inputWidgets": {},
     "nuid": "9f54ef9b-7334-498a-9367-86f3af9276c9",
     "showTitle": false,
     "title": ""
    }
   },
   "outputs": [],
   "source": [
    "#Consultando Tabela totalizadora_hortigrangeiros e salvando na variavel df_resposta_4 via spark Sql\n",
    "\n",
    "df_resposta_4 = spark.sql(\"\"\"SELECT F.Produto,\n",
    "    D.Unidade,\n",
    "    F.Variacao_Mes_Anterior,\n",
    "    F.Ano_Mes\n",
    "FROM gold.tables.totalizadora_hortigrangeiros AS F \n",
    "LEFT JOIN gold.tables.dimensao_produto AS D ON D.Produto = F.Produto\n",
    "\"\"\")"
   ]
  },
  {
   "cell_type": "markdown",
   "metadata": {
    "application/vnd.databricks.v1+cell": {
     "cellMetadata": {},
     "inputWidgets": {},
     "nuid": "c1821587-04c6-42c7-8a3f-9df5a042c258",
     "showTitle": false,
     "title": ""
    }
   },
   "source": [
    "###### RESPOSTA: Como a resposta é uma Tabela com algumas linhas, deixo a tabela abaixo como a resposta.  \n",
    "Deixo também um gráfico com as informações organizadas em colunas, onde conseguimos observar a variação do Preço Médio de cada Produto Mês a Mês.  \n",
    "Além disso no gráfico conseguimor ver exatamente quais os produtos que tiveram a maior variação de Preço ao Longo do Tempo.  \n",
    "Por exemplo o Mamão Hawai foi o teve a maior variação de um Mês para outro em 2024, uma variação de mais de 50% no mês de abril."
   ]
  },
  {
   "cell_type": "code",
   "execution_count": 0,
   "metadata": {
    "application/vnd.databricks.v1+cell": {
     "cellMetadata": {
      "byteLimit": 2048000,
      "rowLimit": 10000
     },
     "inputWidgets": {},
     "nuid": "5d4f71d4-8144-49ae-9158-65aa3a917ccc",
     "showTitle": false,
     "title": ""
    }
   },
   "outputs": [
    {
     "output_type": "stream",
     "name": "stdout",
     "output_type": "stream",
     "text": [
      "+---------+-------+---------------------+-------+\n|  Produto|Unidade|Variacao_Mes_Anterior|Ano_Mes|\n+---------+-------+---------------------+-------+\n|  ABACATE|     KG|                 NULL|2024-01|\n|  ABACATE|     KG|              -0.1643|2024-02|\n|  ABACATE|     KG|              -0.0388|2024-03|\n|  ABACATE|     KG|              -0.0505|2024-04|\n|  ABACATE|     KG|                0.016|2024-05|\n|  ABACATE|     KG|               0.1073|2024-06|\n|  ABACAXI|     UN|                 NULL|2024-01|\n|  ABACAXI|     UN|                0.037|2024-02|\n|  ABACAXI|     UN|              -0.0343|2024-03|\n|  ABACAXI|     UN|              -0.0399|2024-04|\n|  ABACAXI|     UN|               0.0663|2024-05|\n|  ABACAXI|     UN|               0.0578|2024-06|\n|  ABOBORA|     KG|                 NULL|2024-01|\n|  ABOBORA|     KG|               0.2091|2024-02|\n|  ABOBORA|     KG|               0.1078|2024-03|\n|  ABOBORA|     KG|              -0.1199|2024-04|\n|  ABOBORA|     KG|              -0.1491|2024-05|\n|  ABOBORA|     KG|              -0.0785|2024-06|\n|ABOBRINHA|     KG|                 NULL|2024-01|\n|ABOBRINHA|     KG|               0.0357|2024-02|\n+---------+-------+---------------------+-------+\nonly showing top 20 rows\n\n"
     ]
    }
   ],
   "source": [
    "# Validando se dataframe df_resposta_4 está funcionando corretamente\n",
    "df_resposta_4.show()"
   ]
  },
  {
   "cell_type": "code",
   "execution_count": 0,
   "metadata": {
    "application/vnd.databricks.v1+cell": {
     "cellMetadata": {
      "byteLimit": 2048000,
      "rowLimit": 10000
     },
     "inputWidgets": {},
     "nuid": "97aa7eef-aab9-46dd-b9f8-6167791621be",
     "showTitle": false,
     "title": ""
    }
   },
   "outputs": [],
   "source": [
    "from pyspark.sql import SparkSession\n",
    "import pandas as pd\n",
    "\n",
    "\n",
    "# Converter o resultado para um Pandas DataFrame\n",
    "df_resposta_4_pandas = df_resposta_4.toPandas()"
   ]
  },
  {
   "cell_type": "markdown",
   "metadata": {
    "application/vnd.databricks.v1+cell": {
     "cellMetadata": {},
     "inputWidgets": {},
     "nuid": "95756e3d-f915-49e5-b3e5-818c70ada742",
     "showTitle": false,
     "title": ""
    }
   },
   "source": [
    "**Gráfico no README, pois plotly.express não aparece no repositório do github**"
   ]
  },
  {
   "cell_type": "code",
   "execution_count": 0,
   "metadata": {
    "application/vnd.databricks.v1+cell": {
     "cellMetadata": {
      "byteLimit": 2048000,
      "rowLimit": 10000
     },
     "inputWidgets": {},
     "nuid": "82de010f-b72b-4be9-92ce-4ebbd46e9a66",
     "showTitle": false,
     "title": ""
    }
   },
   "outputs": [
    {
     "output_type": "display_data",
     "data": {
      "text/html": [
       "<html>\n",
       "<head><meta charset=\"utf-8\" /></head>\n",
       "<body>\n",
       "    <div>            <script src=\"https://cdnjs.cloudflare.com/ajax/libs/mathjax/2.7.5/MathJax.js?config=TeX-AMS-MML_SVG\"></script><script type=\"text/javascript\">if (window.MathJax && window.MathJax.Hub && window.MathJax.Hub.Config) {window.MathJax.Hub.Config({SVG: {font: \"STIX-Web\"}});}</script>                <script type=\"text/javascript\">window.PlotlyConfig = {MathJaxConfig: 'local'};</script>\n",
       "        <script src=\"https://cdn.plot.ly/plotly-2.12.1.min.js\"></script>                <div id=\"e828a20b-a9eb-4194-879b-574e675f7ccb\" class=\"plotly-graph-div\" style=\"height:100%; width:100%;\"></div>            <script type=\"text/javascript\">                                    window.PLOTLYENV=window.PLOTLYENV || {};                                    if (document.getElementById(\"e828a20b-a9eb-4194-879b-574e675f7ccb\")) {                    Plotly.newPlot(                        \"e828a20b-a9eb-4194-879b-574e675f7ccb\",                        [{\"alignmentgroup\":\"True\",\"hovertemplate\":\"M\\u00eas/Ano=2024-01<br>Produto=%{x}<br>Variacao_Mes_Anterior=%{text}<extra></extra>\",\"legendgroup\":\"2024-01\",\"marker\":{\"color\":\"#636efa\",\"pattern\":{\"shape\":\"\"}},\"name\":\"2024-01\",\"offsetgroup\":\"2024-01\",\"orientation\":\"v\",\"showlegend\":true,\"text\":[null,null,null,null,null,null,null,null,null,null,null,null,null,null,null,null,null,null,null,null,null,null,null,null,null,null,null,null,null,null,null,null,null,null,null,null,null,null,null,null,null,null,null,null,null,null,null,null],\"textposition\":\"auto\",\"x\":[\"ABACATE\",\"ABACAXI\",\"ABOBORA\",\"ABOBRINHA\",\"ALFACE\",\"ALHO\",\"BANANA NANICA\",\"BANANA PRATA\",\"BATATA\",\"BATATA DOCE\",\"BERINJELA\",\"BETERRABA\",\"BROCOLO\",\"CARA\",\"CEBOLA\",\"CENOURA\",\"CHUCHU\",\"COCO VERDE\",\"COUVE\",\"COUVE-FLOR\",\"GOIABA\",\"INHAME\",\"JILO\",\"LARANJA PERA\",\"LIMAO TAHITI\",\"MACA\",\"MAMAO FORMOSA\",\"MAMAO HAWAY\",\"MANDIOCA\",\"MANDIOQUINHA\",\"MANGA\",\"MARACUJA AZEDO\",\"MELANCIA\",\"MELAO AMARELO\",\"MILHO VERDE\",\"MORANGO\",\"OVOS\",\"PEPINO\",\"PERA IMPORTADA\",\"PIMENTAO VERDE\",\"QUIABO\",\"REPOLHO\",\"TANGERINA\",\"TOMATE\",\"UVA ITALIA\",\"UVA NIAGARA\",\"UVA RUBI\",\"VAGEM\"],\"xaxis\":\"x\",\"y\":[null,null,null,null,null,null,null,null,null,null,null,null,null,null,null,null,null,null,null,null,null,null,null,null,null,null,null,null,null,null,null,null,null,null,null,null,null,null,null,null,null,null,null,null,null,null,null,null],\"yaxis\":\"y\",\"type\":\"bar\"},{\"alignmentgroup\":\"True\",\"hovertemplate\":\"M\\u00eas/Ano=2024-02<br>Produto=%{x}<br>Variacao_Mes_Anterior=%{text}<extra></extra>\",\"legendgroup\":\"2024-02\",\"marker\":{\"color\":\"#EF553B\",\"pattern\":{\"shape\":\"\"}},\"name\":\"2024-02\",\"offsetgroup\":\"2024-02\",\"orientation\":\"v\",\"showlegend\":true,\"text\":[-0.1643,0.037,0.2091,0.0357,0.1277,0.0015,0.2562,0.0768,-0.0805,0.0724,-0.2228,0.0531,0.0487,0.0063,0.1742,-0.032,0.1126,0.0842,0.1545,0.0446,-0.1157,-0.0092,0.0505,0.1143,-0.0245,-0.01,-0.0618,0.0324,-0.0734,0.0591,0.0513,-0.3066,-0.1513,0.0164,0.0028,0.0386,0.0721,0.0442,-0.0137,0.0038,-0.0552,-0.0927,0.0616,0.0744,-0.0174,-0.026,0.0201,0.073],\"textposition\":\"auto\",\"x\":[\"ABACATE\",\"ABACAXI\",\"ABOBORA\",\"ABOBRINHA\",\"ALFACE\",\"ALHO\",\"BANANA NANICA\",\"BANANA PRATA\",\"BATATA\",\"BATATA DOCE\",\"BERINJELA\",\"BETERRABA\",\"BROCOLO\",\"CARA\",\"CEBOLA\",\"CENOURA\",\"CHUCHU\",\"COCO VERDE\",\"COUVE\",\"COUVE-FLOR\",\"GOIABA\",\"INHAME\",\"JILO\",\"LARANJA PERA\",\"LIMAO TAHITI\",\"MACA\",\"MAMAO FORMOSA\",\"MAMAO HAWAY\",\"MANDIOCA\",\"MANDIOQUINHA\",\"MANGA\",\"MARACUJA AZEDO\",\"MELANCIA\",\"MELAO AMARELO\",\"MILHO VERDE\",\"MORANGO\",\"OVOS\",\"PEPINO\",\"PERA IMPORTADA\",\"PIMENTAO VERDE\",\"QUIABO\",\"REPOLHO\",\"TANGERINA\",\"TOMATE\",\"UVA ITALIA\",\"UVA NIAGARA\",\"UVA RUBI\",\"VAGEM\"],\"xaxis\":\"x\",\"y\":[-0.1643,0.037,0.2091,0.0357,0.1277,0.0015,0.2562,0.0768,-0.0805,0.0724,-0.2228,0.0531,0.0487,0.0063,0.1742,-0.032,0.1126,0.0842,0.1545,0.0446,-0.1157,-0.0092,0.0505,0.1143,-0.0245,-0.01,-0.0618,0.0324,-0.0734,0.0591,0.0513,-0.3066,-0.1513,0.0164,0.0028,0.0386,0.0721,0.0442,-0.0137,0.0038,-0.0552,-0.0927,0.0616,0.0744,-0.0174,-0.026,0.0201,0.073],\"yaxis\":\"y\",\"type\":\"bar\"},{\"alignmentgroup\":\"True\",\"hovertemplate\":\"M\\u00eas/Ano=2024-03<br>Produto=%{x}<br>Variacao_Mes_Anterior=%{text}<extra></extra>\",\"legendgroup\":\"2024-03\",\"marker\":{\"color\":\"#00cc96\",\"pattern\":{\"shape\":\"\"}},\"name\":\"2024-03\",\"offsetgroup\":\"2024-03\",\"orientation\":\"v\",\"showlegend\":true,\"text\":[-0.0388,-0.0343,0.1078,0.092,0.0978,0.1761,-0.0147,0.1115,-0.2285,0.1012,0.0872,0.1557,0.1958,0.0263,0.1734,-0.0393,-0.1905,0.0435,0.2421,-0.027,0.0429,0.0531,0.0789,0.0627,0.1506,-0.0079,0.1241,0.1502,0.0528,0.1079,0.0651,-0.0913,0.1435,0.1425,-0.0247,0.2512,0.0448,0.0814,-0.0304,0.3102,-0.018,-0.0525,-0.0412,0.2115,0.0363,0.0745,0.0229,0.1307],\"textposition\":\"auto\",\"x\":[\"ABACATE\",\"ABACAXI\",\"ABOBORA\",\"ABOBRINHA\",\"ALFACE\",\"ALHO\",\"BANANA NANICA\",\"BANANA PRATA\",\"BATATA\",\"BATATA DOCE\",\"BERINJELA\",\"BETERRABA\",\"BROCOLO\",\"CARA\",\"CEBOLA\",\"CENOURA\",\"CHUCHU\",\"COCO VERDE\",\"COUVE\",\"COUVE-FLOR\",\"GOIABA\",\"INHAME\",\"JILO\",\"LARANJA PERA\",\"LIMAO TAHITI\",\"MACA\",\"MAMAO FORMOSA\",\"MAMAO HAWAY\",\"MANDIOCA\",\"MANDIOQUINHA\",\"MANGA\",\"MARACUJA AZEDO\",\"MELANCIA\",\"MELAO AMARELO\",\"MILHO VERDE\",\"MORANGO\",\"OVOS\",\"PEPINO\",\"PERA IMPORTADA\",\"PIMENTAO VERDE\",\"QUIABO\",\"REPOLHO\",\"TANGERINA\",\"TOMATE\",\"UVA ITALIA\",\"UVA NIAGARA\",\"UVA RUBI\",\"VAGEM\"],\"xaxis\":\"x\",\"y\":[-0.0388,-0.0343,0.1078,0.092,0.0978,0.1761,-0.0147,0.1115,-0.2285,0.1012,0.0872,0.1557,0.1958,0.0263,0.1734,-0.0393,-0.1905,0.0435,0.2421,-0.027,0.0429,0.0531,0.0789,0.0627,0.1506,-0.0079,0.1241,0.1502,0.0528,0.1079,0.0651,-0.0913,0.1435,0.1425,-0.0247,0.2512,0.0448,0.0814,-0.0304,0.3102,-0.018,-0.0525,-0.0412,0.2115,0.0363,0.0745,0.0229,0.1307],\"yaxis\":\"y\",\"type\":\"bar\"},{\"alignmentgroup\":\"True\",\"hovertemplate\":\"M\\u00eas/Ano=2024-04<br>Produto=%{x}<br>Variacao_Mes_Anterior=%{text}<extra></extra>\",\"legendgroup\":\"2024-04\",\"marker\":{\"color\":\"#ab63fa\",\"pattern\":{\"shape\":\"\"}},\"name\":\"2024-04\",\"offsetgroup\":\"2024-04\",\"orientation\":\"v\",\"showlegend\":true,\"text\":[-0.0505,-0.0399,-0.1199,0.0211,0.0478,0.1915,-0.1696,-0.074,-0.0315,-0.0167,0.0372,0.2486,0.0203,-0.0782,0.1872,0.0671,-0.0221,0.0417,0.1077,0.095,0.0882,-0.0504,0.0541,-0.0268,-0.0255,0.0374,0.0383,0.5222,-0.0573,0.1167,-0.1324,-0.0896,0.0076,0.0543,-0.0169,0.1779,-0.0054,-0.0512,-0.0367,0.0588,0.1176,-0.035,-0.1752,0.1048,-0.0432,0.0329,-0.0262,0.0639],\"textposition\":\"auto\",\"x\":[\"ABACATE\",\"ABACAXI\",\"ABOBORA\",\"ABOBRINHA\",\"ALFACE\",\"ALHO\",\"BANANA NANICA\",\"BANANA PRATA\",\"BATATA\",\"BATATA DOCE\",\"BERINJELA\",\"BETERRABA\",\"BROCOLO\",\"CARA\",\"CEBOLA\",\"CENOURA\",\"CHUCHU\",\"COCO VERDE\",\"COUVE\",\"COUVE-FLOR\",\"GOIABA\",\"INHAME\",\"JILO\",\"LARANJA PERA\",\"LIMAO TAHITI\",\"MACA\",\"MAMAO FORMOSA\",\"MAMAO HAWAY\",\"MANDIOCA\",\"MANDIOQUINHA\",\"MANGA\",\"MARACUJA AZEDO\",\"MELANCIA\",\"MELAO AMARELO\",\"MILHO VERDE\",\"MORANGO\",\"OVOS\",\"PEPINO\",\"PERA IMPORTADA\",\"PIMENTAO VERDE\",\"QUIABO\",\"REPOLHO\",\"TANGERINA\",\"TOMATE\",\"UVA ITALIA\",\"UVA NIAGARA\",\"UVA RUBI\",\"VAGEM\"],\"xaxis\":\"x\",\"y\":[-0.0505,-0.0399,-0.1199,0.0211,0.0478,0.1915,-0.1696,-0.074,-0.0315,-0.0167,0.0372,0.2486,0.0203,-0.0782,0.1872,0.0671,-0.0221,0.0417,0.1077,0.095,0.0882,-0.0504,0.0541,-0.0268,-0.0255,0.0374,0.0383,0.5222,-0.0573,0.1167,-0.1324,-0.0896,0.0076,0.0543,-0.0169,0.1779,-0.0054,-0.0512,-0.0367,0.0588,0.1176,-0.035,-0.1752,0.1048,-0.0432,0.0329,-0.0262,0.0639],\"yaxis\":\"y\",\"type\":\"bar\"},{\"alignmentgroup\":\"True\",\"hovertemplate\":\"M\\u00eas/Ano=2024-05<br>Produto=%{x}<br>Variacao_Mes_Anterior=%{text}<extra></extra>\",\"legendgroup\":\"2024-05\",\"marker\":{\"color\":\"#FFA15A\",\"pattern\":{\"shape\":\"\"}},\"name\":\"2024-05\",\"offsetgroup\":\"2024-05\",\"orientation\":\"v\",\"showlegend\":true,\"text\":[0.016,0.0663,-0.1491,-0.0799,-0.0115,0.0054,-0.1592,-0.1208,0.3818,-0.0227,-0.0249,0.0897,-0.0207,-0.0782,-0.0415,0.0307,-0.2306,-0.02,-0.0503,-0.0574,0.0378,0.0013,-0.0377,-0.0771,-0.0634,0.0404,0.0043,-0.1602,0.0342,0.0571,0.184,0.0572,0.0906,0.105,0.0401,0.0003,-0.0687,-0.0381,-0.0269,-0.0854,-0.0464,0.0091,-0.1602,-0.0575,-0.0213,0.0404,-0.0206,0.0292],\"textposition\":\"auto\",\"x\":[\"ABACATE\",\"ABACAXI\",\"ABOBORA\",\"ABOBRINHA\",\"ALFACE\",\"ALHO\",\"BANANA NANICA\",\"BANANA PRATA\",\"BATATA\",\"BATATA DOCE\",\"BERINJELA\",\"BETERRABA\",\"BROCOLO\",\"CARA\",\"CEBOLA\",\"CENOURA\",\"CHUCHU\",\"COCO VERDE\",\"COUVE\",\"COUVE-FLOR\",\"GOIABA\",\"INHAME\",\"JILO\",\"LARANJA PERA\",\"LIMAO TAHITI\",\"MACA\",\"MAMAO FORMOSA\",\"MAMAO HAWAY\",\"MANDIOCA\",\"MANDIOQUINHA\",\"MANGA\",\"MARACUJA AZEDO\",\"MELANCIA\",\"MELAO AMARELO\",\"MILHO VERDE\",\"MORANGO\",\"OVOS\",\"PEPINO\",\"PERA IMPORTADA\",\"PIMENTAO VERDE\",\"QUIABO\",\"REPOLHO\",\"TANGERINA\",\"TOMATE\",\"UVA ITALIA\",\"UVA NIAGARA\",\"UVA RUBI\",\"VAGEM\"],\"xaxis\":\"x\",\"y\":[0.016,0.0663,-0.1491,-0.0799,-0.0115,0.0054,-0.1592,-0.1208,0.3818,-0.0227,-0.0249,0.0897,-0.0207,-0.0782,-0.0415,0.0307,-0.2306,-0.02,-0.0503,-0.0574,0.0378,0.0013,-0.0377,-0.0771,-0.0634,0.0404,0.0043,-0.1602,0.0342,0.0571,0.184,0.0572,0.0906,0.105,0.0401,0.0003,-0.0687,-0.0381,-0.0269,-0.0854,-0.0464,0.0091,-0.1602,-0.0575,-0.0213,0.0404,-0.0206,0.0292],\"yaxis\":\"y\",\"type\":\"bar\"},{\"alignmentgroup\":\"True\",\"hovertemplate\":\"M\\u00eas/Ano=2024-06<br>Produto=%{x}<br>Variacao_Mes_Anterior=%{text}<extra></extra>\",\"legendgroup\":\"2024-06\",\"marker\":{\"color\":\"#19d3f3\",\"pattern\":{\"shape\":\"\"}},\"name\":\"2024-06\",\"offsetgroup\":\"2024-06\",\"orientation\":\"v\",\"showlegend\":true,\"text\":[0.1073,0.0578,-0.0785,0.2129,-0.0825,0.0562,0.0857,-0.0707,0.1852,-0.0261,0.0368,-0.1855,0.1047,0.0158,-0.1039,-0.1161,-0.013,-0.0087,-0.0322,0.0028,0.0347,0.0159,0.1317,-0.006,0.0398,0.0409,-0.0994,-0.2402,-0.0221,0.0683,0.2264,-0.083,-0.1488,0.038,0.1267,0.0,0.0043,0.0627,-0.0086,-0.1556,0.3811,0.0419,0.0092,-0.0076,0.0235,0.0976,0.0299,0.0455],\"textposition\":\"auto\",\"x\":[\"ABACATE\",\"ABACAXI\",\"ABOBORA\",\"ABOBRINHA\",\"ALFACE\",\"ALHO\",\"BANANA NANICA\",\"BANANA PRATA\",\"BATATA\",\"BATATA DOCE\",\"BERINJELA\",\"BETERRABA\",\"BROCOLO\",\"CARA\",\"CEBOLA\",\"CENOURA\",\"CHUCHU\",\"COCO VERDE\",\"COUVE\",\"COUVE-FLOR\",\"GOIABA\",\"INHAME\",\"JILO\",\"LARANJA PERA\",\"LIMAO TAHITI\",\"MACA\",\"MAMAO FORMOSA\",\"MAMAO HAWAY\",\"MANDIOCA\",\"MANDIOQUINHA\",\"MANGA\",\"MARACUJA AZEDO\",\"MELANCIA\",\"MELAO AMARELO\",\"MILHO VERDE\",\"MORANGO\",\"OVOS\",\"PEPINO\",\"PERA IMPORTADA\",\"PIMENTAO VERDE\",\"QUIABO\",\"REPOLHO\",\"TANGERINA\",\"TOMATE\",\"UVA ITALIA\",\"UVA NIAGARA\",\"UVA RUBI\",\"VAGEM\"],\"xaxis\":\"x\",\"y\":[0.1073,0.0578,-0.0785,0.2129,-0.0825,0.0562,0.0857,-0.0707,0.1852,-0.0261,0.0368,-0.1855,0.1047,0.0158,-0.1039,-0.1161,-0.013,-0.0087,-0.0322,0.0028,0.0347,0.0159,0.1317,-0.006,0.0398,0.0409,-0.0994,-0.2402,-0.0221,0.0683,0.2264,-0.083,-0.1488,0.038,0.1267,0.0,0.0043,0.0627,-0.0086,-0.1556,0.3811,0.0419,0.0092,-0.0076,0.0235,0.0976,0.0299,0.0455],\"yaxis\":\"y\",\"type\":\"bar\"}],                        {\"template\":{\"data\":{\"histogram2dcontour\":[{\"type\":\"histogram2dcontour\",\"colorbar\":{\"outlinewidth\":0,\"ticks\":\"\"},\"colorscale\":[[0.0,\"#0d0887\"],[0.1111111111111111,\"#46039f\"],[0.2222222222222222,\"#7201a8\"],[0.3333333333333333,\"#9c179e\"],[0.4444444444444444,\"#bd3786\"],[0.5555555555555556,\"#d8576b\"],[0.6666666666666666,\"#ed7953\"],[0.7777777777777778,\"#fb9f3a\"],[0.8888888888888888,\"#fdca26\"],[1.0,\"#f0f921\"]]}],\"choropleth\":[{\"type\":\"choropleth\",\"colorbar\":{\"outlinewidth\":0,\"ticks\":\"\"}}],\"histogram2d\":[{\"type\":\"histogram2d\",\"colorbar\":{\"outlinewidth\":0,\"ticks\":\"\"},\"colorscale\":[[0.0,\"#0d0887\"],[0.1111111111111111,\"#46039f\"],[0.2222222222222222,\"#7201a8\"],[0.3333333333333333,\"#9c179e\"],[0.4444444444444444,\"#bd3786\"],[0.5555555555555556,\"#d8576b\"],[0.6666666666666666,\"#ed7953\"],[0.7777777777777778,\"#fb9f3a\"],[0.8888888888888888,\"#fdca26\"],[1.0,\"#f0f921\"]]}],\"heatmap\":[{\"type\":\"heatmap\",\"colorbar\":{\"outlinewidth\":0,\"ticks\":\"\"},\"colorscale\":[[0.0,\"#0d0887\"],[0.1111111111111111,\"#46039f\"],[0.2222222222222222,\"#7201a8\"],[0.3333333333333333,\"#9c179e\"],[0.4444444444444444,\"#bd3786\"],[0.5555555555555556,\"#d8576b\"],[0.6666666666666666,\"#ed7953\"],[0.7777777777777778,\"#fb9f3a\"],[0.8888888888888888,\"#fdca26\"],[1.0,\"#f0f921\"]]}],\"heatmapgl\":[{\"type\":\"heatmapgl\",\"colorbar\":{\"outlinewidth\":0,\"ticks\":\"\"},\"colorscale\":[[0.0,\"#0d0887\"],[0.1111111111111111,\"#46039f\"],[0.2222222222222222,\"#7201a8\"],[0.3333333333333333,\"#9c179e\"],[0.4444444444444444,\"#bd3786\"],[0.5555555555555556,\"#d8576b\"],[0.6666666666666666,\"#ed7953\"],[0.7777777777777778,\"#fb9f3a\"],[0.8888888888888888,\"#fdca26\"],[1.0,\"#f0f921\"]]}],\"contourcarpet\":[{\"type\":\"contourcarpet\",\"colorbar\":{\"outlinewidth\":0,\"ticks\":\"\"}}],\"contour\":[{\"type\":\"contour\",\"colorbar\":{\"outlinewidth\":0,\"ticks\":\"\"},\"colorscale\":[[0.0,\"#0d0887\"],[0.1111111111111111,\"#46039f\"],[0.2222222222222222,\"#7201a8\"],[0.3333333333333333,\"#9c179e\"],[0.4444444444444444,\"#bd3786\"],[0.5555555555555556,\"#d8576b\"],[0.6666666666666666,\"#ed7953\"],[0.7777777777777778,\"#fb9f3a\"],[0.8888888888888888,\"#fdca26\"],[1.0,\"#f0f921\"]]}],\"surface\":[{\"type\":\"surface\",\"colorbar\":{\"outlinewidth\":0,\"ticks\":\"\"},\"colorscale\":[[0.0,\"#0d0887\"],[0.1111111111111111,\"#46039f\"],[0.2222222222222222,\"#7201a8\"],[0.3333333333333333,\"#9c179e\"],[0.4444444444444444,\"#bd3786\"],[0.5555555555555556,\"#d8576b\"],[0.6666666666666666,\"#ed7953\"],[0.7777777777777778,\"#fb9f3a\"],[0.8888888888888888,\"#fdca26\"],[1.0,\"#f0f921\"]]}],\"mesh3d\":[{\"type\":\"mesh3d\",\"colorbar\":{\"outlinewidth\":0,\"ticks\":\"\"}}],\"scatter\":[{\"fillpattern\":{\"fillmode\":\"overlay\",\"size\":10,\"solidity\":0.2},\"type\":\"scatter\"}],\"parcoords\":[{\"type\":\"parcoords\",\"line\":{\"colorbar\":{\"outlinewidth\":0,\"ticks\":\"\"}}}],\"scatterpolargl\":[{\"type\":\"scatterpolargl\",\"marker\":{\"colorbar\":{\"outlinewidth\":0,\"ticks\":\"\"}}}],\"bar\":[{\"error_x\":{\"color\":\"#2a3f5f\"},\"error_y\":{\"color\":\"#2a3f5f\"},\"marker\":{\"line\":{\"color\":\"#E5ECF6\",\"width\":0.5},\"pattern\":{\"fillmode\":\"overlay\",\"size\":10,\"solidity\":0.2}},\"type\":\"bar\"}],\"scattergeo\":[{\"type\":\"scattergeo\",\"marker\":{\"colorbar\":{\"outlinewidth\":0,\"ticks\":\"\"}}}],\"scatterpolar\":[{\"type\":\"scatterpolar\",\"marker\":{\"colorbar\":{\"outlinewidth\":0,\"ticks\":\"\"}}}],\"histogram\":[{\"marker\":{\"pattern\":{\"fillmode\":\"overlay\",\"size\":10,\"solidity\":0.2}},\"type\":\"histogram\"}],\"scattergl\":[{\"type\":\"scattergl\",\"marker\":{\"colorbar\":{\"outlinewidth\":0,\"ticks\":\"\"}}}],\"scatter3d\":[{\"type\":\"scatter3d\",\"line\":{\"colorbar\":{\"outlinewidth\":0,\"ticks\":\"\"}},\"marker\":{\"colorbar\":{\"outlinewidth\":0,\"ticks\":\"\"}}}],\"scattermapbox\":[{\"type\":\"scattermapbox\",\"marker\":{\"colorbar\":{\"outlinewidth\":0,\"ticks\":\"\"}}}],\"scatterternary\":[{\"type\":\"scatterternary\",\"marker\":{\"colorbar\":{\"outlinewidth\":0,\"ticks\":\"\"}}}],\"scattercarpet\":[{\"type\":\"scattercarpet\",\"marker\":{\"colorbar\":{\"outlinewidth\":0,\"ticks\":\"\"}}}],\"carpet\":[{\"aaxis\":{\"endlinecolor\":\"#2a3f5f\",\"gridcolor\":\"white\",\"linecolor\":\"white\",\"minorgridcolor\":\"white\",\"startlinecolor\":\"#2a3f5f\"},\"baxis\":{\"endlinecolor\":\"#2a3f5f\",\"gridcolor\":\"white\",\"linecolor\":\"white\",\"minorgridcolor\":\"white\",\"startlinecolor\":\"#2a3f5f\"},\"type\":\"carpet\"}],\"table\":[{\"cells\":{\"fill\":{\"color\":\"#EBF0F8\"},\"line\":{\"color\":\"white\"}},\"header\":{\"fill\":{\"color\":\"#C8D4E3\"},\"line\":{\"color\":\"white\"}},\"type\":\"table\"}],\"barpolar\":[{\"marker\":{\"line\":{\"color\":\"#E5ECF6\",\"width\":0.5},\"pattern\":{\"fillmode\":\"overlay\",\"size\":10,\"solidity\":0.2}},\"type\":\"barpolar\"}],\"pie\":[{\"automargin\":true,\"type\":\"pie\"}]},\"layout\":{\"autotypenumbers\":\"strict\",\"colorway\":[\"#636efa\",\"#EF553B\",\"#00cc96\",\"#ab63fa\",\"#FFA15A\",\"#19d3f3\",\"#FF6692\",\"#B6E880\",\"#FF97FF\",\"#FECB52\"],\"font\":{\"color\":\"#2a3f5f\"},\"hovermode\":\"closest\",\"hoverlabel\":{\"align\":\"left\"},\"paper_bgcolor\":\"white\",\"plot_bgcolor\":\"#E5ECF6\",\"polar\":{\"bgcolor\":\"#E5ECF6\",\"angularaxis\":{\"gridcolor\":\"white\",\"linecolor\":\"white\",\"ticks\":\"\"},\"radialaxis\":{\"gridcolor\":\"white\",\"linecolor\":\"white\",\"ticks\":\"\"}},\"ternary\":{\"bgcolor\":\"#E5ECF6\",\"aaxis\":{\"gridcolor\":\"white\",\"linecolor\":\"white\",\"ticks\":\"\"},\"baxis\":{\"gridcolor\":\"white\",\"linecolor\":\"white\",\"ticks\":\"\"},\"caxis\":{\"gridcolor\":\"white\",\"linecolor\":\"white\",\"ticks\":\"\"}},\"coloraxis\":{\"colorbar\":{\"outlinewidth\":0,\"ticks\":\"\"}},\"colorscale\":{\"sequential\":[[0.0,\"#0d0887\"],[0.1111111111111111,\"#46039f\"],[0.2222222222222222,\"#7201a8\"],[0.3333333333333333,\"#9c179e\"],[0.4444444444444444,\"#bd3786\"],[0.5555555555555556,\"#d8576b\"],[0.6666666666666666,\"#ed7953\"],[0.7777777777777778,\"#fb9f3a\"],[0.8888888888888888,\"#fdca26\"],[1.0,\"#f0f921\"]],\"sequentialminus\":[[0.0,\"#0d0887\"],[0.1111111111111111,\"#46039f\"],[0.2222222222222222,\"#7201a8\"],[0.3333333333333333,\"#9c179e\"],[0.4444444444444444,\"#bd3786\"],[0.5555555555555556,\"#d8576b\"],[0.6666666666666666,\"#ed7953\"],[0.7777777777777778,\"#fb9f3a\"],[0.8888888888888888,\"#fdca26\"],[1.0,\"#f0f921\"]],\"diverging\":[[0,\"#8e0152\"],[0.1,\"#c51b7d\"],[0.2,\"#de77ae\"],[0.3,\"#f1b6da\"],[0.4,\"#fde0ef\"],[0.5,\"#f7f7f7\"],[0.6,\"#e6f5d0\"],[0.7,\"#b8e186\"],[0.8,\"#7fbc41\"],[0.9,\"#4d9221\"],[1,\"#276419\"]]},\"xaxis\":{\"gridcolor\":\"white\",\"linecolor\":\"white\",\"ticks\":\"\",\"title\":{\"standoff\":15},\"zerolinecolor\":\"white\",\"automargin\":true,\"zerolinewidth\":2},\"yaxis\":{\"gridcolor\":\"white\",\"linecolor\":\"white\",\"ticks\":\"\",\"title\":{\"standoff\":15},\"zerolinecolor\":\"white\",\"automargin\":true,\"zerolinewidth\":2},\"scene\":{\"xaxis\":{\"backgroundcolor\":\"#E5ECF6\",\"gridcolor\":\"white\",\"linecolor\":\"white\",\"showbackground\":true,\"ticks\":\"\",\"zerolinecolor\":\"white\",\"gridwidth\":2},\"yaxis\":{\"backgroundcolor\":\"#E5ECF6\",\"gridcolor\":\"white\",\"linecolor\":\"white\",\"showbackground\":true,\"ticks\":\"\",\"zerolinecolor\":\"white\",\"gridwidth\":2},\"zaxis\":{\"backgroundcolor\":\"#E5ECF6\",\"gridcolor\":\"white\",\"linecolor\":\"white\",\"showbackground\":true,\"ticks\":\"\",\"zerolinecolor\":\"white\",\"gridwidth\":2}},\"shapedefaults\":{\"line\":{\"color\":\"#2a3f5f\"}},\"annotationdefaults\":{\"arrowcolor\":\"#2a3f5f\",\"arrowhead\":0,\"arrowwidth\":1},\"geo\":{\"bgcolor\":\"white\",\"landcolor\":\"#E5ECF6\",\"subunitcolor\":\"white\",\"showland\":true,\"showlakes\":true,\"lakecolor\":\"white\"},\"title\":{\"x\":0.05},\"mapbox\":{\"style\":\"light\"}}},\"xaxis\":{\"anchor\":\"y\",\"domain\":[0.0,1.0],\"title\":{\"text\":\"Produto\"}},\"yaxis\":{\"anchor\":\"x\",\"domain\":[0.0,1.0],\"title\":{\"text\":\"Variacao_Mes_Anterior\"}},\"legend\":{\"title\":{\"text\":\"M\\u00eas/Ano\"},\"tracegroupgap\":0},\"title\":{\"text\":\"Evolu\\u00e7\\u00e3o Mensal da Varia\\u00e7\\u00e3o de Pre\\u00e7o M\\u00e9dio dos Produtos\"},\"barmode\":\"group\"},                        {\"responsive\": true}                    )                };                            </script>        </div>\n",
       "</body>\n",
       "</html>"
      ]
     },
     "metadata": {},
     "output_type": "display_data"
    }
   ],
   "source": [
    "import plotly.express as px\n",
    "import pandas as pd\n",
    "\n",
    "\n",
    "\n",
    "# Criar o gráfico de barras interativo\n",
    "fig = px.bar(df_resposta_4_pandas, x='Produto', y='Variacao_Mes_Anterior', color='Ano_Mes', barmode='group',\n",
    "             labels={'Variacao_Mes_Anterior':'Variacao_Mes_Anterior', 'Ano_Mes':'Mês/Ano'},\n",
    "             title='Evolução Mensal da Variação de Preço Médio dos Produtos',\n",
    "              text='Variacao_Mes_Anterior')  # Adiciona os rótulos de dados\n",
    "\n",
    "# Mostrar o gráfico\n",
    "fig.show()"
   ]
  },
  {
   "cell_type": "markdown",
   "metadata": {
    "application/vnd.databricks.v1+cell": {
     "cellMetadata": {},
     "inputWidgets": {},
     "nuid": "569717bc-6084-4d5d-ba35-f5950481cd3b",
     "showTitle": false,
     "title": ""
    }
   },
   "source": [
    "##### 5 - Qual Ceasa com o maior Preço médio dos últimos 6 meses da Maça no brasil"
   ]
  },
  {
   "cell_type": "code",
   "execution_count": 0,
   "metadata": {
    "application/vnd.databricks.v1+cell": {
     "cellMetadata": {
      "byteLimit": 2048000,
      "rowLimit": 10000
     },
     "inputWidgets": {},
     "nuid": "3d60c2e0-a857-4583-b9f9-75a143f32f64",
     "showTitle": false,
     "title": ""
    }
   },
   "outputs": [],
   "source": [
    "#Consultando Tabela totalizadora_hortigrangeiros e salvando na variavel df_resposta_5 via spark Sql\n",
    "\n",
    "df_resposta_5 = spark.sql(\"\"\"\n",
    "SELECT  Fornecedor,\n",
    "        mean(Preco_Medio) as Media_6_meses\n",
    "FROM gold.tables.fato_hortigrangeiros\n",
    "WHERE Produto = 'MACA'\n",
    "GROUP BY Fornecedor\n",
    "ORDER BY\n",
    "Media_6_meses DESC\n",
    "\"\"\")"
   ]
  },
  {
   "cell_type": "code",
   "execution_count": 0,
   "metadata": {
    "application/vnd.databricks.v1+cell": {
     "cellMetadata": {
      "byteLimit": 2048000,
      "rowLimit": 10000
     },
     "inputWidgets": {},
     "nuid": "15043f60-4ecf-4abf-8ba7-b0080d506255",
     "showTitle": false,
     "title": ""
    }
   },
   "outputs": [
    {
     "output_type": "stream",
     "name": "stdout",
     "output_type": "stream",
     "text": [
      "+--------------------+------------------+\n|          Fornecedor|     Media_6_meses|\n+--------------------+------------------+\n| CEASA/MA - SAO LUIZ|13.518346456692923|\n| CEASA/PR - CASCAVEL|10.053658536585365|\n|CEASA/PR - FOZ DO...| 10.03416666666667|\n|CEASAMINAS - UBERABA|10.014000000000003|\n|CEAGESP - SAO JOS...| 9.946470588235293|\n|CEASA/CE - FORTALEZA| 9.588613861386124|\n|CEASA/MS - CAMPO ...|             9.585|\n| CEASA/DF - BRASILIA|  9.56588709677422|\n|CEASAMINAS - BARB...| 9.525882352941176|\n|   CEASA/AL - MACEIO| 9.453142857142868|\n| CEASA/PR - CURITIBA| 9.418173913043468|\n|CEASA/PB - JOAO P...| 9.407638888888885|\n| CEAGESP - ARACATUBA| 9.386086956521734|\n|    CEASA/PA - BELEM| 9.375609756097562|\n|    CEASA/RN - NATAL| 9.282380952380944|\n|CEAGESP - ARARAQUARA|             9.275|\n|  CEASA/CE - TIANGUA|             9.165|\n|  CEASA/PR - MARINGA| 9.103150684931503|\n|CEASA/RJ - RIO DE...| 9.061304347826088|\n| CEASA/SP - CAMPINAS| 8.965999999999998|\n+--------------------+------------------+\nonly showing top 20 rows\n\n"
     ]
    }
   ],
   "source": [
    "# Validando se dataframe df_resposta_5 está funcionando corretamente\n",
    "df_resposta_5.show()"
   ]
  },
  {
   "cell_type": "markdown",
   "metadata": {
    "application/vnd.databricks.v1+cell": {
     "cellMetadata": {},
     "inputWidgets": {},
     "nuid": "b8cfd211-d907-41f9-9f10-31ba46f9ce6f",
     "showTitle": false,
     "title": ""
    }
   },
   "source": [
    "###### RESPOSTA: O Ceasa com o maior preço médio da Maça nos últimos 6 meses é o CEASA/MA - SAO LUIZ com um preço médio de 13,52.  \n",
    " \n",
    "Deixo um gráfico abaixo com o custo médio dos últimos 6 meses em cada Ceasa. Nele podemos observar também que o Ceasa com o menor custo é o CEASA/RS - PORTO ALEGRE"
   ]
  },
  {
   "cell_type": "code",
   "execution_count": 0,
   "metadata": {
    "application/vnd.databricks.v1+cell": {
     "cellMetadata": {
      "byteLimit": 2048000,
      "rowLimit": 10000
     },
     "inputWidgets": {},
     "nuid": "f41e7e28-330d-4971-9a67-4da9efc67021",
     "showTitle": false,
     "title": ""
    }
   },
   "outputs": [],
   "source": [
    "from pyspark.sql import SparkSession\n",
    "import pandas as pd\n",
    "\n",
    "\n",
    "# Converter o resultado para um Pandas DataFrame\n",
    "df_resposta_5_pandas = df_resposta_5.toPandas()"
   ]
  },
  {
   "cell_type": "markdown",
   "metadata": {
    "application/vnd.databricks.v1+cell": {
     "cellMetadata": {},
     "inputWidgets": {},
     "nuid": "0180c0ff-276d-46fa-968b-6fb0bba02a3f",
     "showTitle": false,
     "title": ""
    }
   },
   "source": [
    "**Gráfico no README, pois plotly.express não aparece no repositório do github**"
   ]
  },
  {
   "cell_type": "code",
   "execution_count": 0,
   "metadata": {
    "application/vnd.databricks.v1+cell": {
     "cellMetadata": {
      "byteLimit": 2048000,
      "rowLimit": 10000
     },
     "inputWidgets": {},
     "nuid": "815675ee-597f-4782-88f2-bdc67375f4e5",
     "showTitle": false,
     "title": ""
    }
   },
   "outputs": [
    {
     "output_type": "display_data",
     "data": {
      "text/html": [
       "<html>\n",
       "<head><meta charset=\"utf-8\" /></head>\n",
       "<body>\n",
       "    <div>            <script src=\"https://cdnjs.cloudflare.com/ajax/libs/mathjax/2.7.5/MathJax.js?config=TeX-AMS-MML_SVG\"></script><script type=\"text/javascript\">if (window.MathJax && window.MathJax.Hub && window.MathJax.Hub.Config) {window.MathJax.Hub.Config({SVG: {font: \"STIX-Web\"}});}</script>                <script type=\"text/javascript\">window.PlotlyConfig = {MathJaxConfig: 'local'};</script>\n",
       "        <script src=\"https://cdn.plot.ly/plotly-2.12.1.min.js\"></script>                <div id=\"12eadbee-a570-4bd5-b3b9-693c2cb0ff65\" class=\"plotly-graph-div\" style=\"height:100%; width:100%;\"></div>            <script type=\"text/javascript\">                                    window.PLOTLYENV=window.PLOTLYENV || {};                                    if (document.getElementById(\"12eadbee-a570-4bd5-b3b9-693c2cb0ff65\")) {                    Plotly.newPlot(                        \"12eadbee-a570-4bd5-b3b9-693c2cb0ff65\",                        [{\"alignmentgroup\":\"True\",\"hovertemplate\":\"Fornecedor=%{x}<br>Media_6_meses=%{text}<extra></extra>\",\"legendgroup\":\"\",\"marker\":{\"color\":\"#636efa\",\"pattern\":{\"shape\":\"\"}},\"name\":\"\",\"offsetgroup\":\"\",\"orientation\":\"v\",\"showlegend\":false,\"text\":[13.518346456692923,10.053658536585365,10.03416666666667,10.014000000000003,9.946470588235293,9.588613861386124,9.585,9.56588709677422,9.525882352941176,9.453142857142868,9.418173913043468,9.407638888888885,9.386086956521734,9.375609756097562,9.282380952380944,9.275,9.165,9.103150684931503,9.061304347826088,8.965999999999998,8.908165137614677,8.81361111111111,8.806262626262619,8.754770642201828,8.7501388888889,8.598333333333336,8.597391304347827,8.540277777777776,8.443615384615399,8.438461538461539,8.356249999999992,8.345192307692313,8.29642857142857,8.16807692307692,8.152608695652173,7.804666666666666,7.22,6.915882352941177,5.829999999999999,5.432448979591839],\"textposition\":\"inside\",\"x\":[\"CEASA/MA - SAO LUIZ\",\"CEASA/PR - CASCAVEL\",\"CEASA/PR - FOZ DO IGUACU\",\"CEASAMINAS - UBERABA\",\"CEAGESP - SAO JOSE RIO PRETO\",\"CEASA/CE - FORTALEZA\",\"CEASA/MS - CAMPO GRANDE\",\"CEASA/DF - BRASILIA\",\"CEASAMINAS - BARBACENA\",\"CEASA/AL - MACEIO\",\"CEASA/PR - CURITIBA\",\"CEASA/PB - JOAO PESSOA\",\"CEAGESP - ARACATUBA\",\"CEASA/PA - BELEM\",\"CEASA/RN - NATAL\",\"CEAGESP - ARARAQUARA\",\"CEASA/CE - TIANGUA\",\"CEASA/PR - MARINGA\",\"CEASA/RJ - RIO DE JANEIRO\",\"CEASA/SP - CAMPINAS\",\"CEASA/ES - VITORIA\",\"CEAGESP - FRANCA\",\"AMA/BA - JUAZEIRO\",\"CEASA/PE - RECIFE\",\"CEASAMINAS - BELO HORIZONTE\",\"CEAGESP - S J DOS CAMPOS\",\"CEAGESP - SAO PAULO\",\"CEAGESP - SOROCABA\",\"CEASA/MT - CUIABA\",\"CEASA/RS - CAXIAS DO SUL\",\"CEAGESP - PIRACICABA\",\"CEASA/PB - PATOS\",\"CEAGESP - PRES. PRUDENTE\",\"CEAGESP - BAURU\",\"CEAGESP - RIBEIRAO PRETO\",\"CEAGESP - MARILIA\",\"CEASA/SC - FLORIANOPOLIS\",\"CEASA/TO - PALMAS\",\"CEASA/GO - GOIANIA\",\"CEASA/RS - PORTO ALEGRE\"],\"xaxis\":\"x\",\"y\":[13.518346456692923,10.053658536585365,10.03416666666667,10.014000000000003,9.946470588235293,9.588613861386124,9.585,9.56588709677422,9.525882352941176,9.453142857142868,9.418173913043468,9.407638888888885,9.386086956521734,9.375609756097562,9.282380952380944,9.275,9.165,9.103150684931503,9.061304347826088,8.965999999999998,8.908165137614677,8.81361111111111,8.806262626262619,8.754770642201828,8.7501388888889,8.598333333333336,8.597391304347827,8.540277777777776,8.443615384615399,8.438461538461539,8.356249999999992,8.345192307692313,8.29642857142857,8.16807692307692,8.152608695652173,7.804666666666666,7.22,6.915882352941177,5.829999999999999,5.432448979591839],\"yaxis\":\"y\",\"type\":\"bar\",\"texttemplate\":\"%{text:.2f}\"}],                        {\"template\":{\"data\":{\"histogram2dcontour\":[{\"type\":\"histogram2dcontour\",\"colorbar\":{\"outlinewidth\":0,\"ticks\":\"\"},\"colorscale\":[[0.0,\"#0d0887\"],[0.1111111111111111,\"#46039f\"],[0.2222222222222222,\"#7201a8\"],[0.3333333333333333,\"#9c179e\"],[0.4444444444444444,\"#bd3786\"],[0.5555555555555556,\"#d8576b\"],[0.6666666666666666,\"#ed7953\"],[0.7777777777777778,\"#fb9f3a\"],[0.8888888888888888,\"#fdca26\"],[1.0,\"#f0f921\"]]}],\"choropleth\":[{\"type\":\"choropleth\",\"colorbar\":{\"outlinewidth\":0,\"ticks\":\"\"}}],\"histogram2d\":[{\"type\":\"histogram2d\",\"colorbar\":{\"outlinewidth\":0,\"ticks\":\"\"},\"colorscale\":[[0.0,\"#0d0887\"],[0.1111111111111111,\"#46039f\"],[0.2222222222222222,\"#7201a8\"],[0.3333333333333333,\"#9c179e\"],[0.4444444444444444,\"#bd3786\"],[0.5555555555555556,\"#d8576b\"],[0.6666666666666666,\"#ed7953\"],[0.7777777777777778,\"#fb9f3a\"],[0.8888888888888888,\"#fdca26\"],[1.0,\"#f0f921\"]]}],\"heatmap\":[{\"type\":\"heatmap\",\"colorbar\":{\"outlinewidth\":0,\"ticks\":\"\"},\"colorscale\":[[0.0,\"#0d0887\"],[0.1111111111111111,\"#46039f\"],[0.2222222222222222,\"#7201a8\"],[0.3333333333333333,\"#9c179e\"],[0.4444444444444444,\"#bd3786\"],[0.5555555555555556,\"#d8576b\"],[0.6666666666666666,\"#ed7953\"],[0.7777777777777778,\"#fb9f3a\"],[0.8888888888888888,\"#fdca26\"],[1.0,\"#f0f921\"]]}],\"heatmapgl\":[{\"type\":\"heatmapgl\",\"colorbar\":{\"outlinewidth\":0,\"ticks\":\"\"},\"colorscale\":[[0.0,\"#0d0887\"],[0.1111111111111111,\"#46039f\"],[0.2222222222222222,\"#7201a8\"],[0.3333333333333333,\"#9c179e\"],[0.4444444444444444,\"#bd3786\"],[0.5555555555555556,\"#d8576b\"],[0.6666666666666666,\"#ed7953\"],[0.7777777777777778,\"#fb9f3a\"],[0.8888888888888888,\"#fdca26\"],[1.0,\"#f0f921\"]]}],\"contourcarpet\":[{\"type\":\"contourcarpet\",\"colorbar\":{\"outlinewidth\":0,\"ticks\":\"\"}}],\"contour\":[{\"type\":\"contour\",\"colorbar\":{\"outlinewidth\":0,\"ticks\":\"\"},\"colorscale\":[[0.0,\"#0d0887\"],[0.1111111111111111,\"#46039f\"],[0.2222222222222222,\"#7201a8\"],[0.3333333333333333,\"#9c179e\"],[0.4444444444444444,\"#bd3786\"],[0.5555555555555556,\"#d8576b\"],[0.6666666666666666,\"#ed7953\"],[0.7777777777777778,\"#fb9f3a\"],[0.8888888888888888,\"#fdca26\"],[1.0,\"#f0f921\"]]}],\"surface\":[{\"type\":\"surface\",\"colorbar\":{\"outlinewidth\":0,\"ticks\":\"\"},\"colorscale\":[[0.0,\"#0d0887\"],[0.1111111111111111,\"#46039f\"],[0.2222222222222222,\"#7201a8\"],[0.3333333333333333,\"#9c179e\"],[0.4444444444444444,\"#bd3786\"],[0.5555555555555556,\"#d8576b\"],[0.6666666666666666,\"#ed7953\"],[0.7777777777777778,\"#fb9f3a\"],[0.8888888888888888,\"#fdca26\"],[1.0,\"#f0f921\"]]}],\"mesh3d\":[{\"type\":\"mesh3d\",\"colorbar\":{\"outlinewidth\":0,\"ticks\":\"\"}}],\"scatter\":[{\"fillpattern\":{\"fillmode\":\"overlay\",\"size\":10,\"solidity\":0.2},\"type\":\"scatter\"}],\"parcoords\":[{\"type\":\"parcoords\",\"line\":{\"colorbar\":{\"outlinewidth\":0,\"ticks\":\"\"}}}],\"scatterpolargl\":[{\"type\":\"scatterpolargl\",\"marker\":{\"colorbar\":{\"outlinewidth\":0,\"ticks\":\"\"}}}],\"bar\":[{\"error_x\":{\"color\":\"#2a3f5f\"},\"error_y\":{\"color\":\"#2a3f5f\"},\"marker\":{\"line\":{\"color\":\"#E5ECF6\",\"width\":0.5},\"pattern\":{\"fillmode\":\"overlay\",\"size\":10,\"solidity\":0.2}},\"type\":\"bar\"}],\"scattergeo\":[{\"type\":\"scattergeo\",\"marker\":{\"colorbar\":{\"outlinewidth\":0,\"ticks\":\"\"}}}],\"scatterpolar\":[{\"type\":\"scatterpolar\",\"marker\":{\"colorbar\":{\"outlinewidth\":0,\"ticks\":\"\"}}}],\"histogram\":[{\"marker\":{\"pattern\":{\"fillmode\":\"overlay\",\"size\":10,\"solidity\":0.2}},\"type\":\"histogram\"}],\"scattergl\":[{\"type\":\"scattergl\",\"marker\":{\"colorbar\":{\"outlinewidth\":0,\"ticks\":\"\"}}}],\"scatter3d\":[{\"type\":\"scatter3d\",\"line\":{\"colorbar\":{\"outlinewidth\":0,\"ticks\":\"\"}},\"marker\":{\"colorbar\":{\"outlinewidth\":0,\"ticks\":\"\"}}}],\"scattermapbox\":[{\"type\":\"scattermapbox\",\"marker\":{\"colorbar\":{\"outlinewidth\":0,\"ticks\":\"\"}}}],\"scatterternary\":[{\"type\":\"scatterternary\",\"marker\":{\"colorbar\":{\"outlinewidth\":0,\"ticks\":\"\"}}}],\"scattercarpet\":[{\"type\":\"scattercarpet\",\"marker\":{\"colorbar\":{\"outlinewidth\":0,\"ticks\":\"\"}}}],\"carpet\":[{\"aaxis\":{\"endlinecolor\":\"#2a3f5f\",\"gridcolor\":\"white\",\"linecolor\":\"white\",\"minorgridcolor\":\"white\",\"startlinecolor\":\"#2a3f5f\"},\"baxis\":{\"endlinecolor\":\"#2a3f5f\",\"gridcolor\":\"white\",\"linecolor\":\"white\",\"minorgridcolor\":\"white\",\"startlinecolor\":\"#2a3f5f\"},\"type\":\"carpet\"}],\"table\":[{\"cells\":{\"fill\":{\"color\":\"#EBF0F8\"},\"line\":{\"color\":\"white\"}},\"header\":{\"fill\":{\"color\":\"#C8D4E3\"},\"line\":{\"color\":\"white\"}},\"type\":\"table\"}],\"barpolar\":[{\"marker\":{\"line\":{\"color\":\"#E5ECF6\",\"width\":0.5},\"pattern\":{\"fillmode\":\"overlay\",\"size\":10,\"solidity\":0.2}},\"type\":\"barpolar\"}],\"pie\":[{\"automargin\":true,\"type\":\"pie\"}]},\"layout\":{\"autotypenumbers\":\"strict\",\"colorway\":[\"#636efa\",\"#EF553B\",\"#00cc96\",\"#ab63fa\",\"#FFA15A\",\"#19d3f3\",\"#FF6692\",\"#B6E880\",\"#FF97FF\",\"#FECB52\"],\"font\":{\"color\":\"#2a3f5f\"},\"hovermode\":\"closest\",\"hoverlabel\":{\"align\":\"left\"},\"paper_bgcolor\":\"white\",\"plot_bgcolor\":\"#E5ECF6\",\"polar\":{\"bgcolor\":\"#E5ECF6\",\"angularaxis\":{\"gridcolor\":\"white\",\"linecolor\":\"white\",\"ticks\":\"\"},\"radialaxis\":{\"gridcolor\":\"white\",\"linecolor\":\"white\",\"ticks\":\"\"}},\"ternary\":{\"bgcolor\":\"#E5ECF6\",\"aaxis\":{\"gridcolor\":\"white\",\"linecolor\":\"white\",\"ticks\":\"\"},\"baxis\":{\"gridcolor\":\"white\",\"linecolor\":\"white\",\"ticks\":\"\"},\"caxis\":{\"gridcolor\":\"white\",\"linecolor\":\"white\",\"ticks\":\"\"}},\"coloraxis\":{\"colorbar\":{\"outlinewidth\":0,\"ticks\":\"\"}},\"colorscale\":{\"sequential\":[[0.0,\"#0d0887\"],[0.1111111111111111,\"#46039f\"],[0.2222222222222222,\"#7201a8\"],[0.3333333333333333,\"#9c179e\"],[0.4444444444444444,\"#bd3786\"],[0.5555555555555556,\"#d8576b\"],[0.6666666666666666,\"#ed7953\"],[0.7777777777777778,\"#fb9f3a\"],[0.8888888888888888,\"#fdca26\"],[1.0,\"#f0f921\"]],\"sequentialminus\":[[0.0,\"#0d0887\"],[0.1111111111111111,\"#46039f\"],[0.2222222222222222,\"#7201a8\"],[0.3333333333333333,\"#9c179e\"],[0.4444444444444444,\"#bd3786\"],[0.5555555555555556,\"#d8576b\"],[0.6666666666666666,\"#ed7953\"],[0.7777777777777778,\"#fb9f3a\"],[0.8888888888888888,\"#fdca26\"],[1.0,\"#f0f921\"]],\"diverging\":[[0,\"#8e0152\"],[0.1,\"#c51b7d\"],[0.2,\"#de77ae\"],[0.3,\"#f1b6da\"],[0.4,\"#fde0ef\"],[0.5,\"#f7f7f7\"],[0.6,\"#e6f5d0\"],[0.7,\"#b8e186\"],[0.8,\"#7fbc41\"],[0.9,\"#4d9221\"],[1,\"#276419\"]]},\"xaxis\":{\"gridcolor\":\"white\",\"linecolor\":\"white\",\"ticks\":\"\",\"title\":{\"standoff\":15},\"zerolinecolor\":\"white\",\"automargin\":true,\"zerolinewidth\":2},\"yaxis\":{\"gridcolor\":\"white\",\"linecolor\":\"white\",\"ticks\":\"\",\"title\":{\"standoff\":15},\"zerolinecolor\":\"white\",\"automargin\":true,\"zerolinewidth\":2},\"scene\":{\"xaxis\":{\"backgroundcolor\":\"#E5ECF6\",\"gridcolor\":\"white\",\"linecolor\":\"white\",\"showbackground\":true,\"ticks\":\"\",\"zerolinecolor\":\"white\",\"gridwidth\":2},\"yaxis\":{\"backgroundcolor\":\"#E5ECF6\",\"gridcolor\":\"white\",\"linecolor\":\"white\",\"showbackground\":true,\"ticks\":\"\",\"zerolinecolor\":\"white\",\"gridwidth\":2},\"zaxis\":{\"backgroundcolor\":\"#E5ECF6\",\"gridcolor\":\"white\",\"linecolor\":\"white\",\"showbackground\":true,\"ticks\":\"\",\"zerolinecolor\":\"white\",\"gridwidth\":2}},\"shapedefaults\":{\"line\":{\"color\":\"#2a3f5f\"}},\"annotationdefaults\":{\"arrowcolor\":\"#2a3f5f\",\"arrowhead\":0,\"arrowwidth\":1},\"geo\":{\"bgcolor\":\"white\",\"landcolor\":\"#E5ECF6\",\"subunitcolor\":\"white\",\"showland\":true,\"showlakes\":true,\"lakecolor\":\"white\"},\"title\":{\"x\":0.05},\"mapbox\":{\"style\":\"light\"}}},\"xaxis\":{\"anchor\":\"y\",\"domain\":[0.0,1.0],\"title\":{\"text\":\"Fornecedor\"}},\"yaxis\":{\"anchor\":\"x\",\"domain\":[0.0,1.0],\"title\":{\"text\":\"Media_6_meses\"}},\"legend\":{\"tracegroupgap\":0},\"title\":{\"text\":\"Pre\\u00e7o M\\u00e9dio da Ma\\u00e7a \\u00faltimos 6 Meses em cada Ceasa\"},\"barmode\":\"group\"},                        {\"responsive\": true}                    )                };                            </script>        </div>\n",
       "</body>\n",
       "</html>"
      ]
     },
     "metadata": {},
     "output_type": "display_data"
    }
   ],
   "source": [
    "import plotly.express as px\n",
    "import pandas as pd\n",
    "\n",
    "\n",
    "\n",
    "# Criar o gráfico de barras interativo\n",
    "fig = px.bar(df_resposta_5_pandas, x='Fornecedor', y='Media_6_meses', barmode='group',\n",
    "             labels={'Media_6_meses':'Media_6_meses'},\n",
    "             title='Preço Médio da Maça últimos 6 Meses em cada Ceasa',\n",
    "             text = 'Media_6_meses') # Adiciona os rótulos de dados\n",
    "\n",
    "# Ajustar a posição dos rótulos de dados\n",
    "fig.update_traces(textposition='inside', texttemplate='%{text:.2f}')\n",
    "\n",
    "# Mostrar o gráfico\n",
    "fig.show()"
   ]
  },
  {
   "cell_type": "markdown",
   "metadata": {
    "application/vnd.databricks.v1+cell": {
     "cellMetadata": {},
     "inputWidgets": {},
     "nuid": "19cc0617-434d-4b5b-abbe-a46f3f70ca19",
     "showTitle": false,
     "title": ""
    }
   },
   "source": [
    "##### 6 - Qual o item com maior variação em junho de 2024"
   ]
  },
  {
   "cell_type": "code",
   "execution_count": 0,
   "metadata": {
    "application/vnd.databricks.v1+cell": {
     "cellMetadata": {
      "byteLimit": 2048000,
      "implicitDf": true,
      "rowLimit": 10000
     },
     "inputWidgets": {},
     "nuid": "8ba9035d-0a20-4952-b505-fd0939ddf507",
     "showTitle": false,
     "title": ""
    }
   },
   "outputs": [],
   "source": [
    "#Consultando Tabela totalizadora_hortigrangeiros e salvando na variavel df_resposta_6 via spark Sql\n",
    "\n",
    "df_resposta_6 = spark.sql(\"\"\"SELECT Produto,\n",
    "       Variacao_Mes_Anterior\n",
    "FROM gold.tables.totalizadora_hortigrangeiros\n",
    "WHERE Variacao_Mes_Anterior IN (\n",
    "    SELECT max(Variacao_Mes_Anterior) \n",
    "    FROM gold.tables.totalizadora_hortigrangeiros \n",
    "    WHERE Ano_Mes = '2024-06'\n",
    ")\n",
    "\"\"\")"
   ]
  },
  {
   "cell_type": "markdown",
   "metadata": {
    "application/vnd.databricks.v1+cell": {
     "cellMetadata": {},
     "inputWidgets": {},
     "nuid": "120ed87a-1409-48a3-bd73-70c92867c050",
     "showTitle": false,
     "title": ""
    }
   },
   "source": [
    "###### RESPOSTA: O Produto com o maior variação em Junho é o Quiabo com a variação de 38,11%.  \n",
    " \n",
    "Deixo abaixo a resposta da consulta efetuada na Tabela totalizadora_hortigrangeiros"
   ]
  },
  {
   "cell_type": "code",
   "execution_count": 0,
   "metadata": {
    "application/vnd.databricks.v1+cell": {
     "cellMetadata": {
      "byteLimit": 2048000,
      "rowLimit": 10000
     },
     "inputWidgets": {},
     "nuid": "7682fe76-5b98-410e-bfcd-c0a6ccf154bc",
     "showTitle": false,
     "title": ""
    }
   },
   "outputs": [
    {
     "output_type": "stream",
     "name": "stdout",
     "output_type": "stream",
     "text": [
      "+-------+---------------------+\n|Produto|Variacao_Mes_Anterior|\n+-------+---------------------+\n| QUIABO|               0.3811|\n+-------+---------------------+\n\n"
     ]
    }
   ],
   "source": [
    "df_resposta_6.show()"
   ]
  },
  {
   "cell_type": "markdown",
   "metadata": {
    "application/vnd.databricks.v1+cell": {
     "cellMetadata": {},
     "inputWidgets": {},
     "nuid": "5b751e2f-8bd6-4edd-95b9-2eb736ec36a6",
     "showTitle": false,
     "title": ""
    }
   },
   "source": [
    "## Autoavaliação"
   ]
  },
  {
   "cell_type": "markdown",
   "metadata": {
    "application/vnd.databricks.v1+cell": {
     "cellMetadata": {},
     "inputWidgets": {},
     "nuid": "922cd297-013e-46b0-ba22-b9563fa973db",
     "showTitle": false,
     "title": ""
    }
   },
   "source": [
    "###Resposta no README"
   ]
  }
 ],
 "metadata": {
  "application/vnd.databricks.v1+notebook": {
   "dashboards": [],
   "environmentMetadata": null,
   "language": "python",
   "notebookMetadata": {
    "mostRecentlyExecutedCommandWithImplicitDF": {
     "commandId": 2941571919101700,
     "dataframes": [
      "_sqldf"
     ]
    },
    "pythonIndentUnit": 4
   },
   "notebookName": "MVP",
   "widgets": {}
  }
 },
 "nbformat": 4,
 "nbformat_minor": 0
}
